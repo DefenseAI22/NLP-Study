{
 "cells": [
  {
   "cell_type": "code",
   "execution_count": null,
   "id": "c0a40200-78e2-428e-854c-31934a602310",
   "metadata": {},
   "outputs": [],
   "source": [
    "# 1강 자연어처리 및 AI 모델링 프로세스\n",
    "# 자연어 전처리 > AI 모델링\n",
    "# 1. 자연어 전처리\n",
    "# 1) 토크나이징: 토큰화, 필터링\n",
    "# 2) 벡터 표현: Bag of Words, DTM, TF-IDF\n",
    "# 3) 임베딩: 워드 임베딩, Word2Vec, FastText\n",
    "# 2. AI 모델링\n",
    "# 언어 모델: RNN, LSTM, Seq2Seq, Attention, Transformer, BERT\n",
    "\n",
    "# 언어 용어 이해\n",
    "# 어절 > 형태소 > 음절 > 자소\n",
    "# 어절: 띄어쓰기 단위, 형태소: 어절 단위로 나누어진 것을 어간과 어미로 분류\n",
    "# 음절: 각 글자 하나하나, 자소: 한 개의 글자를 자음, 모음으로 분류\n",
    "# 오렌지는 맛있다\n",
    "# 어절: 오렌지는 / 맛있다\n",
    "# 형태소: 오렌지 / 는 / 맛있 / 다\n",
    "# 음절: 오 / 렌 / 지\n",
    "# 자소: ㅇ / ㅗ / ㄹ / ㅔ / ㄴ / ㅈ / ㅣ\n",
    "\n",
    "# 자연어처리의 문제는 '분류'\n",
    "# 의미 분석기(질문, 요구 등), 구문 분석기, 감성 분석기, 형태소 분석기, 개체명 인식기\n",
    "\n",
    "# 자연어 특징 추출/분류를 위해 전처리 -> 토크나이징 -> 모델링 -> 분류"
   ]
  },
  {
   "cell_type": "code",
   "execution_count": null,
   "id": "da3cbbaf-33da-43f5-a447-028f1e57547d",
   "metadata": {},
   "outputs": [],
   "source": [
    "# 2강\n",
    "# 1) 컴퓨터가 자연어 잘 이해하도록 만들자\n",
    "# 말뭉치 > 띄어쓰기 체크 > 토크나이징 > 태깅 > 필터링\n",
    "# 2) 토크나이징\n",
    "# 말뭉치를 \"토큰\" 단위(문장, 어절, 형태소, 음절 등)로 나누는 작업\n",
    "# 3) 필터링\n",
    "# 불필요한 단어나 특수문자 제거\n",
    "\n",
    "# 토크나이징: 문장을 단어나 형태소 단위로 나누는 작업 -> 컴퓨터가 잘 이해하기 위해서\n",
    "# 토크나이징: 말 뭉치를 토큰 단위로 나누는 것 / 토큰은 목적에 따라 문장, 어절, 형태소, 음절 등으로 될 수 있음\n",
    "# 토큰을 나누는 방법이 학습에 영향을 줌\n",
    "# 보통 한글은 형태소 단위로, 영어는 어절 단위로 나눈다.\n",
    "# 형태소: 의미의 기능을 부여하는, 언어의 형태론적 수준에서 가장 작은 단위\n",
    "\n",
    "# PoS 태깅(Part of Speech tagging): 한글의 경우, 말뭉치를 형태소 단위로 나누고 각 형태소의 품사 판별함\n",
    "\n",
    "# 필터링: 문장의 불필요한 단어를 제거\n",
    "# 예를 들어, 1) 거의 등장하지 않는 단어 2) -은, -는과 같은 조사 3) 특수문자\n"
   ]
  },
  {
   "cell_type": "code",
   "execution_count": null,
   "id": "ded42171-22af-4004-8a59-55122cc673a6",
   "metadata": {},
   "outputs": [],
   "source": [
    "# 3강\n",
    "# 토큰화: 주어진 코퍼스에서 토큰이라 불리는 단위로 나누는 작업을 토큰화\n",
    "# 즉, 문장을 주면 문장 단위나 어절 단위나 형태소 단위로 나누게 되는 것을 말하며\n",
    "# 나누어진 토큰을 컴퓨터가 이해할 수 있게 정수로 매핑해야 함"
   ]
  },
  {
   "cell_type": "markdown",
   "id": "c3ea196e-2a3a-427b-8fe9-fdfb565c0964",
   "metadata": {
    "jp-MarkdownHeadingCollapsed": true
   },
   "source": [
    "# 1. 자연어 처리 (1)"
   ]
  },
  {
   "cell_type": "markdown",
   "id": "ab453f12-4d9c-4427-a595-233985d77b85",
   "metadata": {},
   "source": [
    "### 1. 단어 토큰화(Word Tokenization)\n",
    "- NLTK는 영어 코퍼스를 토큰화하기 위한 도구들을 제공: word_tokenize와 WordPunchTokenizer\n",
    "- 입력: \"Time is an illusion. Lunchtime double so\"\n",
    "- 출력: \"Time\", \"is\", \"illusion\", \"Lunchtime\", \"double\", \"so\"\n",
    "\n",
    "- 한국어는 형태소 단위로, 영어는 띄어스기 단위로 나누는 것이 일반적이다."
   ]
  },
  {
   "cell_type": "code",
   "execution_count": null,
   "id": "6cc8a29c-7189-4336-9690-8220dc30ea77",
   "metadata": {},
   "outputs": [],
   "source": [
    "# Word_tokenize uses sent_tokenize internally to split text into sentences\n",
    "# sent_tokenize requires the Punkt sentence boundary model provided by the 'punkt' or 'punkt_tab'resources\n",
    "\n",
    "# First, it uses a sentence-tokenizer (the Punkt model via sent_tokenize) to split the text into sentences\n",
    "# Then it applies a rule-based word tokenizer to each sentence to split it into work tokens\n",
    "# So, word_tokenize: Combines sentence boundary detection and word-level tokenization"
   ]
  },
  {
   "cell_type": "code",
   "execution_count": 33,
   "id": "e07bb168-c142-431c-824c-e7f5858b4547",
   "metadata": {},
   "outputs": [
    {
     "name": "stderr",
     "output_type": "stream",
     "text": [
      "[nltk_data] Downloading package punkt_tab to\n",
      "[nltk_data]     /Users/shinjoohwan/nltk_data...\n",
      "[nltk_data]   Unzipping tokenizers/punkt_tab.zip.\n"
     ]
    },
    {
     "data": {
      "text/plain": [
       "True"
      ]
     },
     "execution_count": 33,
     "metadata": {},
     "output_type": "execute_result"
    }
   ],
   "source": [
    "import nltk\n",
    "\n",
    "# Punkt tokenizer: NLTK's unsupervised sentence boundary detector\n",
    "nltk.download('punkt_tab')"
   ]
  },
  {
   "cell_type": "code",
   "execution_count": 35,
   "id": "a4e336eb-53a0-49c0-9c83-5ef7f8c44d3f",
   "metadata": {},
   "outputs": [
    {
     "name": "stdout",
     "output_type": "stream",
     "text": [
      "['Do', \"n't\", 'be', 'fooled', 'by', 'the', 'dark', 'sounding', 'name', ',', 'Mr.Jone', \"'s\", 'Orphanage', 'is', 'as', 'cheery', 'goes', 'for', 'a', 'pastry', 'shop', '.']\n"
     ]
    }
   ],
   "source": [
    "# word_tokenize uses sent_tokenize internally to split text into sentences\n",
    "from nltk.tokenize import word_tokenize\n",
    "print(word_tokenize(\"Don't be fooled by the dark sounding name, Mr.Jone's Orphanage is as cheery goes for a pastry shop.\"))"
   ]
  },
  {
   "cell_type": "code",
   "execution_count": 39,
   "id": "8e2bd6d6-4518-41b6-8276-ccf3a68956e3",
   "metadata": {},
   "outputs": [
    {
     "name": "stdout",
     "output_type": "stream",
     "text": [
      "['Don', \"'\", 't', 'be', 'fooled', 'by', 'the', 'dark', 'sounding', 'name', ',', 'Mr', '.', 'Jone', \"'\", 's', 'Orphanage', 'is', 'as', 'cheery', 'goes', 'for', 'a', 'pastry', 'shop', '.']\n"
     ]
    }
   ],
   "source": [
    "from nltk.tokenize import WordPunctTokenizer\n",
    "print(WordPunctTokenizer().tokenize(\"Don't be fooled by the dark sounding name, Mr.Jone's Orphanage is as cheery goes for a pastry shop.\"))"
   ]
  },
  {
   "cell_type": "markdown",
   "id": "de0a3606-4873-4105-aad4-40ff331b0e23",
   "metadata": {},
   "source": [
    "### 2. 문장 토큰화(Sentence Tokenization)"
   ]
  },
  {
   "cell_type": "code",
   "execution_count": 57,
   "id": "d5208e6a-f3aa-4e56-b57d-d85043b5d74e",
   "metadata": {},
   "outputs": [
    {
     "name": "stdout",
     "output_type": "stream",
     "text": [
      "['His barber kept his word.', 'But keeping such a huge secret to himself was driving him crazy.', 'Finally, the barber went up a mountain and almost to the edge of a cliff.', 'He dug a hole in the midst of some reeds.', 'He looked about, to make sure no one was near.']\n"
     ]
    }
   ],
   "source": [
    "from nltk.tokenize import sent_tokenize\n",
    "text = \"His barber kept his word. But keeping such a huge secret to himself was driving him crazy. Finally, the barber went up a mountain and almost to the edge of a cliff. He dug a hole in the midst of some reeds. He looked about, to make sure no one was near.\"\n",
    "print(sent_tokenize(text))"
   ]
  },
  {
   "cell_type": "markdown",
   "id": "b04f2a9e-2e10-47f8-a8f6-8a9ba7b5b59d",
   "metadata": {},
   "source": [
    "### 3. NLTK 이용하여 영어 토큰화 및 품사 태깅"
   ]
  },
  {
   "cell_type": "code",
   "execution_count": 63,
   "id": "082d848c-3d63-49b8-91cf-362b06bc8186",
   "metadata": {},
   "outputs": [
    {
     "name": "stdout",
     "output_type": "stream",
     "text": [
      "['I', 'am', 'actively', 'looking', 'for', 'Ph.D.', 'students', '.', 'and', 'you', 'are', 'a', 'Ph.D.', 'student']\n"
     ]
    }
   ],
   "source": [
    "from nltk.tokenize import word_tokenize\n",
    "text = \"I am actively looking for Ph.D. students. and you are a Ph.D. student\"\n",
    "print(word_tokenize(text))"
   ]
  },
  {
   "cell_type": "code",
   "execution_count": 69,
   "id": "2ca051fd-a81f-4a28-9c87-10490c35a31d",
   "metadata": {},
   "outputs": [
    {
     "name": "stderr",
     "output_type": "stream",
     "text": [
      "[nltk_data] Downloading package averaged_perceptron_tagger_eng to\n",
      "[nltk_data]     /Users/shinjoohwan/nltk_data...\n",
      "[nltk_data]   Unzipping taggers/averaged_perceptron_tagger_eng.zip.\n"
     ]
    },
    {
     "data": {
      "text/plain": [
       "[('I', 'PRP'),\n",
       " ('am', 'VBP'),\n",
       " ('actively', 'RB'),\n",
       " ('looking', 'VBG'),\n",
       " ('for', 'IN'),\n",
       " ('Ph.D.', 'NNP'),\n",
       " ('students', 'NNS'),\n",
       " ('.', '.'),\n",
       " ('and', 'CC'),\n",
       " ('you', 'PRP'),\n",
       " ('are', 'VBP'),\n",
       " ('a', 'DT'),\n",
       " ('Ph.D.', 'NNP'),\n",
       " ('student', 'NN')]"
      ]
     },
     "execution_count": 69,
     "metadata": {},
     "output_type": "execute_result"
    }
   ],
   "source": [
    "import nltk\n",
    "nltk.download('averaged_perceptron_tagger_eng')\n",
    "\n",
    "from nltk.tag import pos_tag\n",
    "x = word_tokenize(text)\n",
    "pos_tag(x)"
   ]
  },
  {
   "cell_type": "markdown",
   "id": "d48c1f74-6360-40d8-abfc-53a70e828877",
   "metadata": {},
   "source": [
    "### "
   ]
  },
  {
   "cell_type": "markdown",
   "id": "82e40a67-6a82-4057-b7e9-88d1d95d6e1b",
   "metadata": {},
   "source": [
    "### 4. KoNLPy를 이용하여 한국어 토큰화 및 품사 태깅\n",
    "- KoNLPy: 파이썬 한국어 NLP\n",
    "- 한글 형태소 분류기: Hananum, Kkma, Komoran, Mecab, Okt"
   ]
  },
  {
   "cell_type": "code",
   "execution_count": 73,
   "id": "c109b59d-63e9-475f-940e-f60db071bc7b",
   "metadata": {},
   "outputs": [
    {
     "name": "stdout",
     "output_type": "stream",
     "text": [
      "Collecting konlpy\n",
      "  Downloading konlpy-0.6.0-py2.py3-none-any.whl.metadata (1.9 kB)\n",
      "Collecting JPype1>=0.7.0 (from konlpy)\n",
      "  Downloading jpype1-1.5.2-cp312-cp312-macosx_10_9_universal2.whl.metadata (4.9 kB)\n",
      "Collecting lxml>=4.1.0 (from konlpy)\n",
      "  Downloading lxml-5.4.0-cp312-cp312-macosx_10_9_universal2.whl.metadata (3.5 kB)\n",
      "Requirement already satisfied: numpy>=1.6 in /Users/shinjoohwan/miniconda3/lib/python3.12/site-packages (from konlpy) (2.2.6)\n",
      "Requirement already satisfied: packaging in /Users/shinjoohwan/miniconda3/lib/python3.12/site-packages (from JPype1>=0.7.0->konlpy) (24.1)\n",
      "Downloading konlpy-0.6.0-py2.py3-none-any.whl (19.4 MB)\n",
      "\u001b[2K   \u001b[90m━━━━━━━━━━━━━━━━━━━━━━━━━━━━━━━━━━━━━━━━\u001b[0m \u001b[32m19.4/19.4 MB\u001b[0m \u001b[31m41.5 MB/s\u001b[0m eta \u001b[36m0:00:00\u001b[0ma \u001b[36m0:00:01\u001b[0m\n",
      "\u001b[?25hDownloading jpype1-1.5.2-cp312-cp312-macosx_10_9_universal2.whl (583 kB)\n",
      "\u001b[2K   \u001b[90m━━━━━━━━━━━━━━━━━━━━━━━━━━━━━━━━━━━━━━━━\u001b[0m \u001b[32m583.4/583.4 kB\u001b[0m \u001b[31m6.6 MB/s\u001b[0m eta \u001b[36m0:00:00\u001b[0m\n",
      "\u001b[?25hDownloading lxml-5.4.0-cp312-cp312-macosx_10_9_universal2.whl (8.1 MB)\n",
      "\u001b[2K   \u001b[90m━━━━━━━━━━━━━━━━━━━━━━━━━━━━━━━━━━━━━━━━\u001b[0m \u001b[32m8.1/8.1 MB\u001b[0m \u001b[31m19.4 MB/s\u001b[0m eta \u001b[36m0:00:00\u001b[0ma \u001b[36m0:00:01\u001b[0m\n",
      "Installing collected packages: lxml, JPype1, konlpy\n",
      "Successfully installed JPype1-1.5.2 konlpy-0.6.0 lxml-5.4.0\n"
     ]
    }
   ],
   "source": [
    "# 한글어를 토큰화나 형태소 분리하기 위해 konlpy 설치 필요\n",
    "!pip install konlpy"
   ]
  },
  {
   "cell_type": "markdown",
   "id": "b3db5fd9-a30f-4c0f-bb15-dab9d1bf57ff",
   "metadata": {},
   "source": [
    "### OKT 형태소 분석기"
   ]
  },
  {
   "cell_type": "code",
   "execution_count": 76,
   "id": "b605fe87-9f2f-4b15-b113-347994326c6a",
   "metadata": {},
   "outputs": [],
   "source": [
    "# okt import\n",
    "from konlpy.tag import Okt\n",
    "okt = Okt()"
   ]
  },
  {
   "cell_type": "code",
   "execution_count": 78,
   "id": "70ca26ef-9f06-43c7-aa27-34f71f5cfb32",
   "metadata": {},
   "outputs": [
    {
     "name": "stdout",
     "output_type": "stream",
     "text": [
      "['열심히', '코딩', '한', '당신', ',', '연휴', '에는', '여행', '을', '가봐요']\n"
     ]
    }
   ],
   "source": [
    "# morphs: 형태소 추출\n",
    "print(okt.morphs(\"열심히 코딩한 당신, 연휴에는 여행을 가봐요\"))"
   ]
  },
  {
   "cell_type": "code",
   "execution_count": 80,
   "id": "2b96c8a8-5484-4bc1-9b91-39891ef9fb54",
   "metadata": {},
   "outputs": [
    {
     "name": "stdout",
     "output_type": "stream",
     "text": [
      "[('열심히', 'Adverb'), ('코딩', 'Noun'), ('한', 'Josa'), ('당신', 'Noun'), (',', 'Punctuation'), ('연휴', 'Noun'), ('에는', 'Josa'), ('여행', 'Noun'), ('을', 'Josa'), ('가봐요', 'Verb')]\n"
     ]
    }
   ],
   "source": [
    "# pos: 품사 태깅(Part-of-speech tagging)\n",
    "print(okt.pos(\"열심히 코딩한 당신, 연휴에는 여행을 가봐요\"))"
   ]
  },
  {
   "cell_type": "code",
   "execution_count": 82,
   "id": "642babd7-9af9-4eb2-9da0-3e544b186e64",
   "metadata": {},
   "outputs": [
    {
     "name": "stdout",
     "output_type": "stream",
     "text": [
      "['코딩', '당신', '연휴', '여행']\n"
     ]
    }
   ],
   "source": [
    "# nouns : 명사 추출\n",
    "print(okt.nouns(\"열심히 코딩한 당신, 연휴에는 여행을 가봐요\"))"
   ]
  },
  {
   "cell_type": "markdown",
   "id": "833a0f25-9213-4163-a584-418984403324",
   "metadata": {},
   "source": [
    "### 꼬꼬마 형태소 분석기(Kkma)"
   ]
  },
  {
   "cell_type": "code",
   "execution_count": 87,
   "id": "8396e168-3cc0-4438-8696-6b6d0d17695d",
   "metadata": {},
   "outputs": [],
   "source": [
    "# kkma import\n",
    "from konlpy.tag import Kkma\n",
    "kkma = Kkma()"
   ]
  },
  {
   "cell_type": "code",
   "execution_count": 89,
   "id": "df961d0e-5bde-4c9f-95ac-1e41996a0de9",
   "metadata": {},
   "outputs": [
    {
     "name": "stdout",
     "output_type": "stream",
     "text": [
      "['열심히', '코딩', '하', 'ㄴ', '당신', ',', '연휴', '에', '는', '여행', '을', '가보', '아요']\n"
     ]
    }
   ],
   "source": [
    "# morphs: 형태소 추출\n",
    "print(kkma.morphs(\"열심히 코딩한 당신, 연휴에는 여행을 가봐요\"))"
   ]
  },
  {
   "cell_type": "code",
   "execution_count": 91,
   "id": "383e1e9a-1806-4fb9-8e7b-933c6a486b75",
   "metadata": {},
   "outputs": [
    {
     "name": "stdout",
     "output_type": "stream",
     "text": [
      "[('열심히', 'MAG'), ('코딩', 'NNG'), ('하', 'XSV'), ('ㄴ', 'ETD'), ('당신', 'NP'), (',', 'SP'), ('연휴', 'NNG'), ('에', 'JKM'), ('는', 'JX'), ('여행', 'NNG'), ('을', 'JKO'), ('가보', 'VV'), ('아요', 'EFN')]\n"
     ]
    }
   ],
   "source": [
    "# pos: 품사 태깅(Part-of-speech tagging)\n",
    "print(kkma.pos(\"열심히 코딩한 당신, 연휴에는 여행을 가봐요\"))"
   ]
  },
  {
   "cell_type": "code",
   "execution_count": 93,
   "id": "2d6bfc67-3b8e-4baf-bd01-66bebda53160",
   "metadata": {},
   "outputs": [
    {
     "name": "stdout",
     "output_type": "stream",
     "text": [
      "['코딩', '당신', '연휴', '여행']\n"
     ]
    }
   ],
   "source": [
    "# nouns : 명사 추출\n",
    "print(kkma.nouns(\"열심히 코딩한 당신, 연휴에는 여행을 가봐요\"))"
   ]
  },
  {
   "cell_type": "markdown",
   "id": "68ef2421-8f32-407c-aa3a-ac3c401b0f6c",
   "metadata": {},
   "source": [
    "### 배운 내용 정리\n",
    "- 1. 문장을 주로 어절이나 형태소 단위(단어)로 나누는 것을 '토큰화'라고 한다\n",
    "  2. 영어 토큰화는 ntlk 라이브러리의 word_tokenize 사용한다\n",
    "  3. 한글 토큰화는 KoNLPy 라이블러리의 OKT, KKMA 사용한다\n",
    "  4. 필요할 때 라이브러리 가져다가 사용해서 토큰화하면 된다"
   ]
  },
  {
   "cell_type": "code",
   "execution_count": null,
   "id": "5787a520-feab-4168-86d3-e818988a8811",
   "metadata": {},
   "outputs": [],
   "source": []
  },
  {
   "cell_type": "code",
   "execution_count": null,
   "id": "8b66f261-b230-4513-a009-29635d6e3927",
   "metadata": {},
   "outputs": [],
   "source": []
  },
  {
   "cell_type": "markdown",
   "id": "94c74ff6-4e6a-4480-bfa3-9df277e7d14b",
   "metadata": {
    "jp-MarkdownHeadingCollapsed": true
   },
   "source": [
    "# 2. 자연어 처리(2) - 토크나이징(토큰화, 필터링)\n",
    "## 한글 전처리 및 Tokenization\n",
    "- 본 과정에서는 한글 문장에 대해 불필요한 특수문자, 이메일, 다수 공백 등을 제거하는 전처리 수행 후에 토큰화하겠습니다.\n",
    "- 읽어들인 문장들을 전처리: 한글, 영문, 숫자, 공백 이외는 제거\n",
    "- 전처리된 문장들을 한글 형태소 분석기 이용하여 Tokenize\n",
    "\n",
    "[학습 목차]\n",
    "1. 한글 토크나이징 Konlpy 설치\n",
    "2. A 방송사 댓글 파일 읽어오기\n",
    "3. 한글 전처리: 특수문자, 이메일, URL 제거하고 한글, 영문, 숫자, 공백 이외는 제거\n",
    "4. KoNLPy 형태소 분석기 사용하여 단어 토큰화\n",
    "5. kss 사용하여 문장 단위 토큰화"
   ]
  },
  {
   "cell_type": "markdown",
   "id": "a07abb20-66aa-4821-850b-6b0b6d0668b0",
   "metadata": {},
   "source": [
    "### 1. 한글 토크나이징 Konlpy 설치"
   ]
  },
  {
   "cell_type": "code",
   "execution_count": 99,
   "id": "c1e924dc-b33d-461b-aeab-1ab5dcfaffa9",
   "metadata": {},
   "outputs": [
    {
     "name": "stdout",
     "output_type": "stream",
     "text": [
      "Requirement already satisfied: konlpy in /Users/shinjoohwan/miniconda3/lib/python3.12/site-packages (0.6.0)\n",
      "Requirement already satisfied: JPype1>=0.7.0 in /Users/shinjoohwan/miniconda3/lib/python3.12/site-packages (from konlpy) (1.5.2)\n",
      "Requirement already satisfied: lxml>=4.1.0 in /Users/shinjoohwan/miniconda3/lib/python3.12/site-packages (from konlpy) (5.4.0)\n",
      "Requirement already satisfied: numpy>=1.6 in /Users/shinjoohwan/miniconda3/lib/python3.12/site-packages (from konlpy) (2.2.6)\n",
      "Requirement already satisfied: packaging in /Users/shinjoohwan/miniconda3/lib/python3.12/site-packages (from JPype1>=0.7.0->konlpy) (24.1)\n"
     ]
    }
   ],
   "source": [
    "# Konlpy: 한국어 정보 처리를 위한 파이썬 패키지, 형태소 기반 토크나이징\n",
    "# Konlpy: 패키지 안에 Hannanum, Kkma, Komoran, Oky 형태소 분류가 있다\n",
    "\n",
    "!pip install konlpy"
   ]
  },
  {
   "cell_type": "markdown",
   "id": "e18250ce-23d9-46ba-a237-520bea701536",
   "metadata": {},
   "source": [
    "### 2. A 방송사 댓글 파일 읽어오기"
   ]
  },
  {
   "cell_type": "code",
   "execution_count": 102,
   "id": "5459ad29-7874-49e4-95ab-327cfc6f77de",
   "metadata": {},
   "outputs": [
    {
     "name": "stdout",
     "output_type": "stream",
     "text": [
      "Collecting openpyxl\n",
      "  Downloading openpyxl-3.1.5-py2.py3-none-any.whl.metadata (2.5 kB)\n",
      "Collecting et-xmlfile (from openpyxl)\n",
      "  Downloading et_xmlfile-2.0.0-py3-none-any.whl.metadata (2.7 kB)\n",
      "Downloading openpyxl-3.1.5-py2.py3-none-any.whl (250 kB)\n",
      "Downloading et_xmlfile-2.0.0-py3-none-any.whl (18 kB)\n",
      "Installing collected packages: et-xmlfile, openpyxl\n",
      "Successfully installed et-xmlfile-2.0.0 openpyxl-3.1.5\n"
     ]
    }
   ],
   "source": [
    "# pandas read_excel 사용 시 필요 라이브러리\n",
    "! pip install openpyxl # Pandas에서 excel 파일 읽어올 때 필요한 라이브러리\n",
    "\n",
    "import os\n",
    "import re\n",
    "import pandas as pd"
   ]
  },
  {
   "cell_type": "code",
   "execution_count": 104,
   "id": "3f61e400-3dad-4294-81ed-175b90b3d5ac",
   "metadata": {},
   "outputs": [
    {
     "data": {
      "text/html": [
       "<div>\n",
       "<style scoped>\n",
       "    .dataframe tbody tr th:only-of-type {\n",
       "        vertical-align: middle;\n",
       "    }\n",
       "\n",
       "    .dataframe tbody tr th {\n",
       "        vertical-align: top;\n",
       "    }\n",
       "\n",
       "    .dataframe thead th {\n",
       "        text-align: right;\n",
       "    }\n",
       "</style>\n",
       "<table border=\"1\" class=\"dataframe\">\n",
       "  <thead>\n",
       "    <tr style=\"text-align: right;\">\n",
       "      <th></th>\n",
       "      <th>Unnamed: 0</th>\n",
       "      <th>data</th>\n",
       "      <th>label</th>\n",
       "    </tr>\n",
       "  </thead>\n",
       "  <tbody>\n",
       "    <tr>\n",
       "      <th>246</th>\n",
       "      <td>246</td>\n",
       "      <td>영상F서비스로 간편하게 설치!좋아요\\n우리 회사화이팅!</td>\n",
       "      <td>긍정</td>\n",
       "    </tr>\n",
       "    <tr>\n",
       "      <th>247</th>\n",
       "      <td>247</td>\n",
       "      <td>모든 업무에서 맡은바 업무에 서 최선을 다하는 모습이 좋습니다! 화이팅 입니다.</td>\n",
       "      <td>긍정</td>\n",
       "    </tr>\n",
       "    <tr>\n",
       "      <th>248</th>\n",
       "      <td>248</td>\n",
       "      <td>사내방송 특성상 최근 이슈화 되거나, 언급이 자주되는 '키워드'를 중심으로 뉴스를 ...</td>\n",
       "      <td>부정</td>\n",
       "    </tr>\n",
       "    <tr>\n",
       "      <th>249</th>\n",
       "      <td>249</td>\n",
       "      <td>방송 시간이 너무 길어요.</td>\n",
       "      <td>부정</td>\n",
       "    </tr>\n",
       "    <tr>\n",
       "      <th>250</th>\n",
       "      <td>250</td>\n",
       "      <td>처음 들어보는 말들이 많은데,, 설명이 없어서 힘드네요.</td>\n",
       "      <td>부정</td>\n",
       "    </tr>\n",
       "  </tbody>\n",
       "</table>\n",
       "</div>"
      ],
      "text/plain": [
       "     Unnamed: 0                                               data label\n",
       "246         246                     영상F서비스로 간편하게 설치!좋아요\\n우리 회사화이팅!    긍정\n",
       "247         247       모든 업무에서 맡은바 업무에 서 최선을 다하는 모습이 좋습니다! 화이팅 입니다.    긍정\n",
       "248         248  사내방송 특성상 최근 이슈화 되거나, 언급이 자주되는 '키워드'를 중심으로 뉴스를 ...    부정\n",
       "249         249                                     방송 시간이 너무 길어요.    부정\n",
       "250         250                   처음 들어보는 말들이 많은데,, 설명이 없어서 힘드네요.     부정"
      ]
     },
     "execution_count": 104,
     "metadata": {},
     "output_type": "execute_result"
    }
   ],
   "source": [
    "# A_comment_train.xlsx A 방송사 댓글 다운로드 및 Pandas read_excel() 함수 활용하여 읽어오기\n",
    "# engine: In pd.read_excel, the engine parameters tells pandas which underlying library to use for reading the Excel file.\n",
    "commnet = pd.read_excel('https://github.com/gzone2000/TEMP_TEST/raw/master/A_comment_train.xlsx', engine = 'openpyxl')\n",
    "commnet.tail()"
   ]
  },
  {
   "cell_type": "code",
   "execution_count": 114,
   "id": "d28fc6a8-84f6-4ae3-8984-a413e871eb30",
   "metadata": {},
   "outputs": [
    {
     "data": {
      "text/plain": [
       "['재미는 있는데 시간이 짧은게 아쉽네요~', 'OO 관련 내용은 우리 직원과는 거리가 멀었음, 특히, 사내에 홍보할 내용은 아니라고 봄']"
      ]
     },
     "execution_count": 114,
     "metadata": {},
     "output_type": "execute_result"
    }
   ],
   "source": [
    "# 리스트 형태로 데이터 만들기\n",
    "\n",
    "sent_list = list(commnet.data[:100].values)\n",
    "sent_list[:2]"
   ]
  },
  {
   "cell_type": "markdown",
   "id": "574cc3a2-2f83-4c1a-b358-343c0f700b71",
   "metadata": {},
   "source": [
    "### 3. 한글 전처리\n",
    "- 특수문자, 이메일, URL 제거\n",
    "- 많은 공백은 1개의 공백으로\n",
    "- 숫자는 'NUM' 표현\n",
    "- 한글, 영문, 숫자, 공백 이외는 제거"
   ]
  },
  {
   "cell_type": "code",
   "execution_count": 154,
   "id": "d0c96582-12a6-4ad7-bd57-93afa68c2f82",
   "metadata": {},
   "outputs": [],
   "source": [
    "# 're' module: Provide support for working with regular expressions-patterns used to match text\n",
    "# Regular expressions(정규표현식): Sequences of characters that define search patterns for matching text\n",
    "# re.compile(pattern): Python takes your text pattern (the string) and \"prepares\" it \n",
    "\n",
    "# List of characters to remove\n",
    "removal_list = r\"\"\"‘, ’, ◇, ‘’, ’’, ’’, ’’, \\“, ’, △, ●, •, ■, (, ), \\\", »›, `, /, -, ~, =, ·, <, >, . .?, !, [, ], …, ◆, %\"\"\"\n",
    "\n",
    "\n",
    "# Email-matching pattern\n",
    "EMAIL_PATTERN = re.compile(r'''(([a-zA-Z0-9._%+-]+)@([a-zA-Z0-9.-]+)(\\.[a-zA-Z]{2,4}))''')\n",
    "\n",
    "# URL-matching pattern\n",
    "URL_PATTERN = re.compile(\"((ftp|http|https)?://(?:[a-zA-Z]|[0-9]|[$-_@.&+]|[!*\\\\(\\\\),]|(?:%[0-9a-fA-F][0-9a-fA-F]))+)\")\n",
    "\n",
    "# Pattern to collapse multiple spaces into one\n",
    "MULTIPLE_SPACES = re.compile(' +', re.UNICODE)\n"
   ]
  },
  {
   "cell_type": "code",
   "execution_count": 156,
   "id": "0c6fd315-9729-4f21-afb9-ec723781e1fd",
   "metadata": {},
   "outputs": [],
   "source": [
    "# re.sub: A function in Python's 're' module that replaces occurrences of a pattern in text \n",
    "\n",
    "def cleansing_other(sentence):\n",
    "    \"\"\"\n",
    "    # 문장을 전처리 (이메일, URL, 공백 등 제거) 하는 함수\n",
    "    : param sentence: 전처리 대상 문장\n",
    "    : return: 전처리 완료된 문장\n",
    "    \"\"\"\n",
    "    sentence = re.sub(EMAIL_PATTERN, ' ', sentence)\n",
    "    sentence = re.sub(URL_PATTERN, ' ', sentence)\n",
    "    sentence = re.sub(MULTIPLE_SPACES, ' ', sentence)\n",
    "    sentence = sentence.replace(\", )\", \"\")\n",
    "\n",
    "    return sentence"
   ]
  },
  {
   "cell_type": "code",
   "execution_count": 158,
   "id": "99a000c4-5b1e-4e1a-9097-910d3e89865d",
   "metadata": {},
   "outputs": [],
   "source": [
    "# /s: whitespace character(spaces, tabs, newlines, etc)\n",
    "\n",
    "def cleansing_numbers(sentence):\n",
    "    \"\"\"\n",
    "    # 숫자를 전처리 (이메일, URL, 공백 등 제거) 하는 함수\n",
    "    : param sentence: 전처리 대상 문장\n",
    "    : return: 전처리 완료된 문장\n",
    "    \"\"\"\n",
    "    sentence = re.sub('[0-9]+', 'NUM', sentence)\n",
    "    sentence = re.sub(r'NUM\\s+', \"NUM\", sentence)\n",
    "    sentence = re.sub(r'[NUM]+', \"NUM\", sentence)\n",
    "\n",
    "    return sentence"
   ]
  },
  {
   "cell_type": "code",
   "execution_count": 160,
   "id": "21068345-921b-4e85-becb-c1c2f8ded1cb",
   "metadata": {},
   "outputs": [],
   "source": [
    "# str.maketrans(from_str, to_str): 첫 번째 인자의 각 문자(from_str)를 두 번째 인자의 같은 위치 문자(to_str)로 매핑하는 변환 테이블을 생성한다\n",
    "# sentence.translate(table): 위에서 만든 변환 테이블을 사용해 sentence 내의 키(즉, removal_list에 있던 문자)들을 모두 대응값(공백)으로 바꾼다\n",
    "\n",
    "def cleansing_special(sentence):\n",
    "    \"\"\"\n",
    "    # 특수문자를 전처리를 하는 함수\n",
    "    :param sentence: 전처리 대상 문장\n",
    "    :return: 전처리 완료된 문장\n",
    "    \"\"\"\n",
    "    sentence = re.sub(\"[.,\\'\\\"“”!?]\", \"\", sentence)\n",
    "    sentence = re.sub(r\"[^가-힣0-9a-zA-Z\\\\s]\", \" \", sentence)\n",
    "    sentence = re.sub(r\"\\s+\", \" \", sentence)\n",
    "\n",
    "    # removal_list에 정의된 특수문자를 모두 공백으로 바꾸기\n",
    "    sentence = sentence.translate(str.maketrans(removal_list, ' ' * len(removal_list)))\n",
    "    # 양끝 공백 제거\n",
    "    sentence = sentence.strip()\n",
    "\n",
    "    return sentence"
   ]
  },
  {
   "cell_type": "code",
   "execution_count": 164,
   "id": "8840b7e8-1cce-4fe0-b613-6106979b4e35",
   "metadata": {},
   "outputs": [],
   "source": [
    "def preprocess_sent(sentence) :\n",
    "    \"\"\"\n",
    "    # 모든 전처리를 수행하는 함수\n",
    "    : param sentence: 전처리 대상 문장\n",
    "    : return: 전처리 완료된 문장\n",
    "    \"\"\"\n",
    "    sent_clean = sentence\n",
    "    sent_clean = cleansing_other(sent_clean)\n",
    "    sent_clean = cleansing_special(sent_clean)\n",
    "    sent_clean = cleansing_numbers(sent_clean)\n",
    "    sent_clean = re.sub(r'\\s+', ' ', sent_clean)\n",
    "\n",
    "    return sent_clean"
   ]
  },
  {
   "cell_type": "code",
   "execution_count": 166,
   "id": "4f7c7f66-e500-4c2e-bef0-0e3d9fedf4cd",
   "metadata": {},
   "outputs": [
    {
     "name": "stdout",
     "output_type": "stream",
     "text": [
      "너무 재밌게 잘봤습니다~! ㅋㅋ\n",
      "송OO씨가 출근하자마자 안마의자 앉아서 쉬는게 부럽기도(?) 했네요\n",
      "쇼호스트분들의 진행솜씨또한 감탄하고 갑니다. 다음은 어디 외부 탐방 예정인가요?!\n"
     ]
    }
   ],
   "source": [
    "# 한글 샘플 내용을 1개 가져와 전처리 수행\n",
    "\n",
    "sample_sentence = sent_list[5]\n",
    "print(sample_sentence)"
   ]
  },
  {
   "cell_type": "code",
   "execution_count": 168,
   "id": "0af5aed4-26da-402d-9780-dc57e51de293",
   "metadata": {},
   "outputs": [
    {
     "data": {
      "text/plain": [
       "'너무 재밌게 잘봤습니다 송OO씨가 출근하자마자 안마의자 앉아서 쉬는게 부럽기도 했네요 쇼호스트분들의 진행솜씨또한 감탄하고 갑니다 다음은 어디 외부 탐방 예정인가요'"
      ]
     },
     "execution_count": 168,
     "metadata": {},
     "output_type": "execute_result"
    }
   ],
   "source": [
    "clean_sentence = preprocess_sent(sample_sentence)\n",
    "clean_sentence"
   ]
  },
  {
   "cell_type": "code",
   "execution_count": 174,
   "id": "477ff34d-f56b-44ea-96be-cebd30d72689",
   "metadata": {},
   "outputs": [
    {
     "data": {
      "text/plain": [
       "['재미는 있는데 시간이 짧은게 아쉽네요',\n",
       " 'OO 관련 내용은 우리 직원과는 거리가 멀었음 특히 사내에 홍보할 내용은 아니라고 봄',\n",
       " '스토리가 너무 딱딱해서 별로였음',\n",
       " '프로그램A 화이팅하세요',\n",
       " '높은 곳에 올라가는 모습이 너무 위험해 보여요']"
      ]
     },
     "execution_count": 174,
     "metadata": {},
     "output_type": "execute_result"
    }
   ],
   "source": [
    "# 여러 개의 한글 샘플 전처리 수행\n",
    "\n",
    "clean_sentences = []\n",
    "for sample_sentence in sent_list:\n",
    "    clean_sentence = preprocess_sent(sample_sentence)\n",
    "    clean_sentences.append(clean_sentence)\n",
    "\n",
    "clean_sentences[:5]"
   ]
  },
  {
   "cell_type": "markdown",
   "id": "e8e487f9-c21c-45c8-944a-07b89ee39fc0",
   "metadata": {},
   "source": [
    "### 4. KoNLPy 형태소 분석기 사용하여 단어 토큰화\n",
    "- 종류: Okt, Komoran, Hannanum, Kkma"
   ]
  },
  {
   "cell_type": "code",
   "execution_count": 178,
   "id": "23ae9ea6-1825-448f-a949-b29d6c9d9c43",
   "metadata": {},
   "outputs": [],
   "source": [
    "from konlpy.tag import Okt, Komoran, Hannanum, Kkma"
   ]
  },
  {
   "cell_type": "code",
   "execution_count": 180,
   "id": "9b8e8ed6-0940-4c6e-a0c1-21fcbb02e429",
   "metadata": {},
   "outputs": [],
   "source": [
    "# 여러가지 형태소 분석기 중에서 선택할 수 있도록 하는 함수\n",
    "\n",
    "def get_tokenizer(tokenizer_name):\n",
    "    if tokenizer_name == \"komoran\":\n",
    "        tokenizer = Komoran()\n",
    "    elif tokenizer_name == \"okt\":\n",
    "        tokenizer = Okt()\n",
    "    elif tokenizer_name == \"hannanum\":\n",
    "        tokenizer = Hannanum()\n",
    "    else:\n",
    "        # \"kkma\":\n",
    "        tokenizer = Kkma()\n",
    "\n",
    "    return tokenizer"
   ]
  },
  {
   "cell_type": "code",
   "execution_count": 182,
   "id": "428846e8-c515-4c93-950d-ac6781583efb",
   "metadata": {},
   "outputs": [],
   "source": [
    "# 선택한 형태소 분석기로 형태소 분석 및 품사 태깅을 선택적으로 수행함\n",
    "\n",
    "def tokenize(tokenizer_name, original_sent, pos = False):\n",
    "    tokenizer = get_tokenizer(tokenizer_name)\n",
    "    sentence = original_sent.replace('\\n', '').strip()\n",
    "    if pos:\n",
    "        tokens = tokenizer.pos(sentence)\n",
    "        tokens = [morph + \"/\" + tag for morph, tag in tokens]\n",
    "    else:\n",
    "        tokens = tokenizer.morphs(sentence)\n",
    "\n",
    "    # The expression ' '.join(tokens) calls the string method .join() on a single space (' ')\n",
    "    # .join(tokens): concatenates all elements of the tokens list into one string, inserting the separator (' ') between each token\n",
    "    tokenized_sent = ' '.join(tokens)\n",
    "\n",
    "    return tokenized_sent"
   ]
  },
  {
   "cell_type": "code",
   "execution_count": 184,
   "id": "aa908a28-dc1f-4bf1-ba46-70fcac379a9e",
   "metadata": {},
   "outputs": [
    {
     "name": "stdout",
     "output_type": "stream",
     "text": [
      "아버지/NNG 가방/NNP 에/JKB 들어가/VV 시/EP ㄴ다/EC\n",
      "아버지 가방 에 들어가 시 ㄴ다\n"
     ]
    }
   ],
   "source": [
    "text = '아버지가방에들어가신다'\n",
    "\n",
    "print(tokenize(\"komoran\", text , pos=True))\n",
    "print(tokenize(\"komoran\", text, pos = False))"
   ]
  },
  {
   "cell_type": "code",
   "execution_count": 186,
   "id": "5f9a46c7-560f-4477-b15a-6585bf579a6a",
   "metadata": {},
   "outputs": [
    {
     "name": "stdout",
     "output_type": "stream",
     "text": [
      "아버지/Noun 가방/Noun 에/Josa 들어가신다/Verb\n",
      "아버지 가방 에 들어가신다\n"
     ]
    }
   ],
   "source": [
    "text = '아버지가방에들어가신다'\n",
    "\n",
    "print(tokenize(\"okt\", text , pos=True))\n",
    "print(tokenize(\"okt\", text, pos = False))"
   ]
  },
  {
   "cell_type": "code",
   "execution_count": 188,
   "id": "e37561f5-a115-4f1a-81b7-a55067835ef7",
   "metadata": {},
   "outputs": [
    {
     "name": "stdout",
     "output_type": "stream",
     "text": [
      "실제로 있을수있는 내용이네요 고객 니즈가 잘소통되었네요\n",
      "--------------------------------------------------------------------------------------------------------------------------------------------\n",
      "실제/Noun 로/Josa 있을수있는/Adjective 내/Determiner 용이/Noun 네/Suffix 요/Josa 고객/Noun 니즈/Noun 가/Josa 잘/Verb 소통/Noun 되었네요/Verb\n"
     ]
    }
   ],
   "source": [
    "# 전처리된 한글 샘플들 OKT 형태소 분석기로 토큰화함\n",
    "\n",
    "print(clean_sentence)\n",
    "print('-'* 140)\n",
    "print(tokenize(\"okt\", clean_sentence, pos = True))"
   ]
  },
  {
   "cell_type": "code",
   "execution_count": 190,
   "id": "9e7e502d-4c6a-4eeb-8c8e-16031c9a0508",
   "metadata": {},
   "outputs": [
    {
     "name": "stdout",
     "output_type": "stream",
     "text": [
      "OKT 형태소 분석 : ['열심히', '코딩', '한', '당신', ',', '연휴', '에는', '여행', '을', '가봐요']\n",
      "OKT 품사 태깅 : [('열심히', 'Adverb'), ('코딩', 'Noun'), ('한', 'Josa'), ('당신', 'Noun'), (',', 'Punctuation'), ('연휴', 'Noun'), ('에는', 'Josa'), ('여행', 'Noun'), ('을', 'Josa'), ('가봐요', 'Verb')]\n",
      "OKT 명사 추출 : ['코딩', '당신', '연휴', '여행']\n"
     ]
    }
   ],
   "source": [
    "# 위의 함수를 사용하지 않고 자체 Okt 형태소 분석기 사용하기\n",
    "\n",
    "okt = Okt()\n",
    "\n",
    "print('OKT 형태소 분석 :', okt.morphs('열심히 코딩한 당신, 연휴에는 여행을 가봐요')) # 형태소 분류\n",
    "print('OKT 품사 태깅 :', okt.pos('열심히 코딩한 당신, 연휴에는 여행을 가봐요')) # POS 분류\n",
    "print('OKT 명사 추출 :', okt.nouns('열심히 코딩한 당신, 연휴에는 여행을 가봐요')) # 명사 분류"
   ]
  },
  {
   "cell_type": "markdown",
   "id": "b5f7e954-28dc-42c7-a545-7d280dc0b98b",
   "metadata": {},
   "source": [
    "### 배운 내용 정리\n",
    "- 1. A방송사 댓글 데이터 가져와 전처리 수행\n",
    "  2. 전처리된 한글 데이터를 KoNLPy OKT 형태소 분석기를 통해 토큰화함\n",
    "  3. 전처리 함수를 필요할 때 가져다 쓰면 된다."
   ]
  },
  {
   "cell_type": "code",
   "execution_count": null,
   "id": "5f2ba0dc-ce98-457f-8fdb-2fda4bd3fe02",
   "metadata": {},
   "outputs": [],
   "source": []
  },
  {
   "cell_type": "code",
   "execution_count": null,
   "id": "d178c384-a6d5-48d9-9ea2-6a5e8dfcef55",
   "metadata": {},
   "outputs": [],
   "source": []
  },
  {
   "cell_type": "markdown",
   "id": "a6a53b45-c7f2-4d12-a938-62ae801f1ac5",
   "metadata": {
    "jp-MarkdownHeadingCollapsed": true
   },
   "source": [
    "# 3. 자연어 처리 (3) 벡터 표현\n",
    "### (Bag of Words, DTM, TF-IDF, one-hot encoding, 코사인 유사도)\n",
    "\n",
    "- 컴퓨터는 0과 1만 이해할 수 있으며, 문자열을 0과 1 형태로 변경해주어야 한다.\n",
    "- 벡터 표현: 컴퓨터가 자연어를 잘 이해하기 위해 숫자 형태로 변환 필요\n",
    "    - 즉, 토큰화된 단어를 숫자 형태의 벡터로 변경\n",
    " \n",
    "- 단어 벡터 표현\n",
    "    - 1. BoW(Bag of Words): 단어 빈도(개수)만 포커스 맞추고 단어 순서 고려하지 않음\n",
    "      2. DTM(Document-Term Matrix): BOW 활용하여 문서에 등장하는 각 단어들의 빈도를 나타낸 행렬\n",
    "         - 각 문장은 숫자로 이루어진 벡터 표현\n",
    "      3. TF-IDF(Term Frequency-Inverse Document Frequency)\n",
    "         - DTM 내에 있는 각 단어의 빈도수가 아니라 단어의 중요도를 계산하여 표현\n",
    "         - TF: 특정 문서에서의 특정 단어의 등장 횟수. TF 높을수록 단어의 가중치 높음\n",
    "         - DF: 특정 단어가 등장한 문서의 수\n",
    "            - the, am, that, -은, -는, 이... 문장에서 자주 등장하는 단어로 DF가 높음\n",
    "            - DF가 높은 단어일수록, 흔한 단어이므로 단어의 가중치가 낮음\n",
    "         - TF-IDF(w,d) = TF(w) x log(N/DF(w))\n",
    "      4. One-hot 표현: 각 단어를 원-핫 인코딩 함으로써, 개별 독립적인 벡터로 표현\n",
    "         - One-hot-encoding된 단어는 개별 다른 벡터여서 단어 간 유사성 표현 X\n",
    "      5. 밀집/분산 표현(Dense/Distributed representation)\n",
    "         - 단어를 Word2Vec 등으로 N차원 공간의 벡터로 표현\n",
    "         - 단어의 '의미적 유사성'을 벡터 공간에 표현\n",
    "         - 단어를 밀집 벡터의 형태로 표현하는 방법을 워드 임베딩(Word embedding) -> 특정 공간에 꾸겨넣겠다\n",
    "         - 각 임베딩 벡터는 '의미 공간'애서 좌표 역할\n",
    "         - 벡터 간 거리와 유사도 측정\n",
    " \n",
    "- 코사인 유사도\n",
    "    - DTM, TF-IDM, 밀집/분산 벡터로 단어 표현했다면\n",
    "    - 코사인 유사도를 이용하여 문서의 유사도를 구할 수 있음"
   ]
  },
  {
   "cell_type": "markdown",
   "id": "ededa3e3-e1b1-4567-ac99-b1f7478e211a",
   "metadata": {},
   "source": [
    "### Key point\n",
    "- 1. 컴퓨터가 단어를 이해하도록 숫자 벡터로 표현하자\n",
    "     - BOW, TF-IDF, One-hot 표현, 밀집/분산 표현(워드임베딩)\n",
    "  2. 단어 벡터 표현(Term Vector Representation)\n",
    "     - 벡터로 표현된 단어는 단어간의 거리 및 유사도 측정 가능\n",
    "  3. 코사인 유사도\n",
    "     - 벡터로 표현된 문서 간의 유사도 측정 \n",
    "\n"
   ]
  },
  {
   "cell_type": "code",
   "execution_count": null,
   "id": "09c5cdba-ea51-4612-aea3-2d3df9697a0a",
   "metadata": {},
   "outputs": [],
   "source": []
  },
  {
   "cell_type": "markdown",
   "id": "f59f8a9a-39c5-4998-8ba7-131635826ea3",
   "metadata": {},
   "source": [
    "### BOW(Bag of Words)\n",
    "- Bag of Words: 단어들의 순서는 전혀 고려하지 않고, 단어들의 출현 빈도에만 집중하는 텍스트 데이터의 수치화 표현 방법\n",
    "- 즉, 문장을 토큰화하고 각 단어의 빈도수를 나타낸 것\n",
    "- 문서를 분류하기 위한 방법으로 사용\n",
    "- 글에 포함된 단어들의 분포를 보고 이 문서가 어떤 종류의 문서인지를 판단하는 기법으로 사용\n",
    "- 결국, 컴퓨터가 문장을 이해하도록 단어의 빈도수로 문장을 벡터 표현한다.\n",
    "\n",
    "- 1. CountVectorizer 이용하여 BoW 만들기\n",
    "  2. 불용어(\"the\", \"a\", \"an\", \"is\", \"not\")를 제거한 BoW 만들기"
   ]
  },
  {
   "cell_type": "markdown",
   "id": "8d4c2682-0667-486a-a254-eb6c3ba6c0ee",
   "metadata": {},
   "source": [
    "### 1. CountVectorizer 이용하여 BoW 만들기"
   ]
  },
  {
   "cell_type": "code",
   "execution_count": 20,
   "id": "210ba2e5-7321-4584-8302-a5f7f1deb416",
   "metadata": {},
   "outputs": [],
   "source": [
    "from sklearn.feature_extraction.text import CountVectorizer"
   ]
  },
  {
   "cell_type": "code",
   "execution_count": 22,
   "id": "445c6e8a-e400-4b90-b34b-aca753a6692c",
   "metadata": {},
   "outputs": [],
   "source": [
    "corpus = ['you know I want your love. because I love you']"
   ]
  },
  {
   "cell_type": "code",
   "execution_count": 24,
   "id": "bc6a73e5-18a6-4f4c-8c6c-bb48e1fdf499",
   "metadata": {},
   "outputs": [
    {
     "data": {
      "text/html": [
       "<style>#sk-container-id-1 {\n",
       "  /* Definition of color scheme common for light and dark mode */\n",
       "  --sklearn-color-text: #000;\n",
       "  --sklearn-color-text-muted: #666;\n",
       "  --sklearn-color-line: gray;\n",
       "  /* Definition of color scheme for unfitted estimators */\n",
       "  --sklearn-color-unfitted-level-0: #fff5e6;\n",
       "  --sklearn-color-unfitted-level-1: #f6e4d2;\n",
       "  --sklearn-color-unfitted-level-2: #ffe0b3;\n",
       "  --sklearn-color-unfitted-level-3: chocolate;\n",
       "  /* Definition of color scheme for fitted estimators */\n",
       "  --sklearn-color-fitted-level-0: #f0f8ff;\n",
       "  --sklearn-color-fitted-level-1: #d4ebff;\n",
       "  --sklearn-color-fitted-level-2: #b3dbfd;\n",
       "  --sklearn-color-fitted-level-3: cornflowerblue;\n",
       "\n",
       "  /* Specific color for light theme */\n",
       "  --sklearn-color-text-on-default-background: var(--sg-text-color, var(--theme-code-foreground, var(--jp-content-font-color1, black)));\n",
       "  --sklearn-color-background: var(--sg-background-color, var(--theme-background, var(--jp-layout-color0, white)));\n",
       "  --sklearn-color-border-box: var(--sg-text-color, var(--theme-code-foreground, var(--jp-content-font-color1, black)));\n",
       "  --sklearn-color-icon: #696969;\n",
       "\n",
       "  @media (prefers-color-scheme: dark) {\n",
       "    /* Redefinition of color scheme for dark theme */\n",
       "    --sklearn-color-text-on-default-background: var(--sg-text-color, var(--theme-code-foreground, var(--jp-content-font-color1, white)));\n",
       "    --sklearn-color-background: var(--sg-background-color, var(--theme-background, var(--jp-layout-color0, #111)));\n",
       "    --sklearn-color-border-box: var(--sg-text-color, var(--theme-code-foreground, var(--jp-content-font-color1, white)));\n",
       "    --sklearn-color-icon: #878787;\n",
       "  }\n",
       "}\n",
       "\n",
       "#sk-container-id-1 {\n",
       "  color: var(--sklearn-color-text);\n",
       "}\n",
       "\n",
       "#sk-container-id-1 pre {\n",
       "  padding: 0;\n",
       "}\n",
       "\n",
       "#sk-container-id-1 input.sk-hidden--visually {\n",
       "  border: 0;\n",
       "  clip: rect(1px 1px 1px 1px);\n",
       "  clip: rect(1px, 1px, 1px, 1px);\n",
       "  height: 1px;\n",
       "  margin: -1px;\n",
       "  overflow: hidden;\n",
       "  padding: 0;\n",
       "  position: absolute;\n",
       "  width: 1px;\n",
       "}\n",
       "\n",
       "#sk-container-id-1 div.sk-dashed-wrapped {\n",
       "  border: 1px dashed var(--sklearn-color-line);\n",
       "  margin: 0 0.4em 0.5em 0.4em;\n",
       "  box-sizing: border-box;\n",
       "  padding-bottom: 0.4em;\n",
       "  background-color: var(--sklearn-color-background);\n",
       "}\n",
       "\n",
       "#sk-container-id-1 div.sk-container {\n",
       "  /* jupyter's `normalize.less` sets `[hidden] { display: none; }`\n",
       "     but bootstrap.min.css set `[hidden] { display: none !important; }`\n",
       "     so we also need the `!important` here to be able to override the\n",
       "     default hidden behavior on the sphinx rendered scikit-learn.org.\n",
       "     See: https://github.com/scikit-learn/scikit-learn/issues/21755 */\n",
       "  display: inline-block !important;\n",
       "  position: relative;\n",
       "}\n",
       "\n",
       "#sk-container-id-1 div.sk-text-repr-fallback {\n",
       "  display: none;\n",
       "}\n",
       "\n",
       "div.sk-parallel-item,\n",
       "div.sk-serial,\n",
       "div.sk-item {\n",
       "  /* draw centered vertical line to link estimators */\n",
       "  background-image: linear-gradient(var(--sklearn-color-text-on-default-background), var(--sklearn-color-text-on-default-background));\n",
       "  background-size: 2px 100%;\n",
       "  background-repeat: no-repeat;\n",
       "  background-position: center center;\n",
       "}\n",
       "\n",
       "/* Parallel-specific style estimator block */\n",
       "\n",
       "#sk-container-id-1 div.sk-parallel-item::after {\n",
       "  content: \"\";\n",
       "  width: 100%;\n",
       "  border-bottom: 2px solid var(--sklearn-color-text-on-default-background);\n",
       "  flex-grow: 1;\n",
       "}\n",
       "\n",
       "#sk-container-id-1 div.sk-parallel {\n",
       "  display: flex;\n",
       "  align-items: stretch;\n",
       "  justify-content: center;\n",
       "  background-color: var(--sklearn-color-background);\n",
       "  position: relative;\n",
       "}\n",
       "\n",
       "#sk-container-id-1 div.sk-parallel-item {\n",
       "  display: flex;\n",
       "  flex-direction: column;\n",
       "}\n",
       "\n",
       "#sk-container-id-1 div.sk-parallel-item:first-child::after {\n",
       "  align-self: flex-end;\n",
       "  width: 50%;\n",
       "}\n",
       "\n",
       "#sk-container-id-1 div.sk-parallel-item:last-child::after {\n",
       "  align-self: flex-start;\n",
       "  width: 50%;\n",
       "}\n",
       "\n",
       "#sk-container-id-1 div.sk-parallel-item:only-child::after {\n",
       "  width: 0;\n",
       "}\n",
       "\n",
       "/* Serial-specific style estimator block */\n",
       "\n",
       "#sk-container-id-1 div.sk-serial {\n",
       "  display: flex;\n",
       "  flex-direction: column;\n",
       "  align-items: center;\n",
       "  background-color: var(--sklearn-color-background);\n",
       "  padding-right: 1em;\n",
       "  padding-left: 1em;\n",
       "}\n",
       "\n",
       "\n",
       "/* Toggleable style: style used for estimator/Pipeline/ColumnTransformer box that is\n",
       "clickable and can be expanded/collapsed.\n",
       "- Pipeline and ColumnTransformer use this feature and define the default style\n",
       "- Estimators will overwrite some part of the style using the `sk-estimator` class\n",
       "*/\n",
       "\n",
       "/* Pipeline and ColumnTransformer style (default) */\n",
       "\n",
       "#sk-container-id-1 div.sk-toggleable {\n",
       "  /* Default theme specific background. It is overwritten whether we have a\n",
       "  specific estimator or a Pipeline/ColumnTransformer */\n",
       "  background-color: var(--sklearn-color-background);\n",
       "}\n",
       "\n",
       "/* Toggleable label */\n",
       "#sk-container-id-1 label.sk-toggleable__label {\n",
       "  cursor: pointer;\n",
       "  display: flex;\n",
       "  width: 100%;\n",
       "  margin-bottom: 0;\n",
       "  padding: 0.5em;\n",
       "  box-sizing: border-box;\n",
       "  text-align: center;\n",
       "  align-items: start;\n",
       "  justify-content: space-between;\n",
       "  gap: 0.5em;\n",
       "}\n",
       "\n",
       "#sk-container-id-1 label.sk-toggleable__label .caption {\n",
       "  font-size: 0.6rem;\n",
       "  font-weight: lighter;\n",
       "  color: var(--sklearn-color-text-muted);\n",
       "}\n",
       "\n",
       "#sk-container-id-1 label.sk-toggleable__label-arrow:before {\n",
       "  /* Arrow on the left of the label */\n",
       "  content: \"▸\";\n",
       "  float: left;\n",
       "  margin-right: 0.25em;\n",
       "  color: var(--sklearn-color-icon);\n",
       "}\n",
       "\n",
       "#sk-container-id-1 label.sk-toggleable__label-arrow:hover:before {\n",
       "  color: var(--sklearn-color-text);\n",
       "}\n",
       "\n",
       "/* Toggleable content - dropdown */\n",
       "\n",
       "#sk-container-id-1 div.sk-toggleable__content {\n",
       "  max-height: 0;\n",
       "  max-width: 0;\n",
       "  overflow: hidden;\n",
       "  text-align: left;\n",
       "  /* unfitted */\n",
       "  background-color: var(--sklearn-color-unfitted-level-0);\n",
       "}\n",
       "\n",
       "#sk-container-id-1 div.sk-toggleable__content.fitted {\n",
       "  /* fitted */\n",
       "  background-color: var(--sklearn-color-fitted-level-0);\n",
       "}\n",
       "\n",
       "#sk-container-id-1 div.sk-toggleable__content pre {\n",
       "  margin: 0.2em;\n",
       "  border-radius: 0.25em;\n",
       "  color: var(--sklearn-color-text);\n",
       "  /* unfitted */\n",
       "  background-color: var(--sklearn-color-unfitted-level-0);\n",
       "}\n",
       "\n",
       "#sk-container-id-1 div.sk-toggleable__content.fitted pre {\n",
       "  /* unfitted */\n",
       "  background-color: var(--sklearn-color-fitted-level-0);\n",
       "}\n",
       "\n",
       "#sk-container-id-1 input.sk-toggleable__control:checked~div.sk-toggleable__content {\n",
       "  /* Expand drop-down */\n",
       "  max-height: 200px;\n",
       "  max-width: 100%;\n",
       "  overflow: auto;\n",
       "}\n",
       "\n",
       "#sk-container-id-1 input.sk-toggleable__control:checked~label.sk-toggleable__label-arrow:before {\n",
       "  content: \"▾\";\n",
       "}\n",
       "\n",
       "/* Pipeline/ColumnTransformer-specific style */\n",
       "\n",
       "#sk-container-id-1 div.sk-label input.sk-toggleable__control:checked~label.sk-toggleable__label {\n",
       "  color: var(--sklearn-color-text);\n",
       "  background-color: var(--sklearn-color-unfitted-level-2);\n",
       "}\n",
       "\n",
       "#sk-container-id-1 div.sk-label.fitted input.sk-toggleable__control:checked~label.sk-toggleable__label {\n",
       "  background-color: var(--sklearn-color-fitted-level-2);\n",
       "}\n",
       "\n",
       "/* Estimator-specific style */\n",
       "\n",
       "/* Colorize estimator box */\n",
       "#sk-container-id-1 div.sk-estimator input.sk-toggleable__control:checked~label.sk-toggleable__label {\n",
       "  /* unfitted */\n",
       "  background-color: var(--sklearn-color-unfitted-level-2);\n",
       "}\n",
       "\n",
       "#sk-container-id-1 div.sk-estimator.fitted input.sk-toggleable__control:checked~label.sk-toggleable__label {\n",
       "  /* fitted */\n",
       "  background-color: var(--sklearn-color-fitted-level-2);\n",
       "}\n",
       "\n",
       "#sk-container-id-1 div.sk-label label.sk-toggleable__label,\n",
       "#sk-container-id-1 div.sk-label label {\n",
       "  /* The background is the default theme color */\n",
       "  color: var(--sklearn-color-text-on-default-background);\n",
       "}\n",
       "\n",
       "/* On hover, darken the color of the background */\n",
       "#sk-container-id-1 div.sk-label:hover label.sk-toggleable__label {\n",
       "  color: var(--sklearn-color-text);\n",
       "  background-color: var(--sklearn-color-unfitted-level-2);\n",
       "}\n",
       "\n",
       "/* Label box, darken color on hover, fitted */\n",
       "#sk-container-id-1 div.sk-label.fitted:hover label.sk-toggleable__label.fitted {\n",
       "  color: var(--sklearn-color-text);\n",
       "  background-color: var(--sklearn-color-fitted-level-2);\n",
       "}\n",
       "\n",
       "/* Estimator label */\n",
       "\n",
       "#sk-container-id-1 div.sk-label label {\n",
       "  font-family: monospace;\n",
       "  font-weight: bold;\n",
       "  display: inline-block;\n",
       "  line-height: 1.2em;\n",
       "}\n",
       "\n",
       "#sk-container-id-1 div.sk-label-container {\n",
       "  text-align: center;\n",
       "}\n",
       "\n",
       "/* Estimator-specific */\n",
       "#sk-container-id-1 div.sk-estimator {\n",
       "  font-family: monospace;\n",
       "  border: 1px dotted var(--sklearn-color-border-box);\n",
       "  border-radius: 0.25em;\n",
       "  box-sizing: border-box;\n",
       "  margin-bottom: 0.5em;\n",
       "  /* unfitted */\n",
       "  background-color: var(--sklearn-color-unfitted-level-0);\n",
       "}\n",
       "\n",
       "#sk-container-id-1 div.sk-estimator.fitted {\n",
       "  /* fitted */\n",
       "  background-color: var(--sklearn-color-fitted-level-0);\n",
       "}\n",
       "\n",
       "/* on hover */\n",
       "#sk-container-id-1 div.sk-estimator:hover {\n",
       "  /* unfitted */\n",
       "  background-color: var(--sklearn-color-unfitted-level-2);\n",
       "}\n",
       "\n",
       "#sk-container-id-1 div.sk-estimator.fitted:hover {\n",
       "  /* fitted */\n",
       "  background-color: var(--sklearn-color-fitted-level-2);\n",
       "}\n",
       "\n",
       "/* Specification for estimator info (e.g. \"i\" and \"?\") */\n",
       "\n",
       "/* Common style for \"i\" and \"?\" */\n",
       "\n",
       ".sk-estimator-doc-link,\n",
       "a:link.sk-estimator-doc-link,\n",
       "a:visited.sk-estimator-doc-link {\n",
       "  float: right;\n",
       "  font-size: smaller;\n",
       "  line-height: 1em;\n",
       "  font-family: monospace;\n",
       "  background-color: var(--sklearn-color-background);\n",
       "  border-radius: 1em;\n",
       "  height: 1em;\n",
       "  width: 1em;\n",
       "  text-decoration: none !important;\n",
       "  margin-left: 0.5em;\n",
       "  text-align: center;\n",
       "  /* unfitted */\n",
       "  border: var(--sklearn-color-unfitted-level-1) 1pt solid;\n",
       "  color: var(--sklearn-color-unfitted-level-1);\n",
       "}\n",
       "\n",
       ".sk-estimator-doc-link.fitted,\n",
       "a:link.sk-estimator-doc-link.fitted,\n",
       "a:visited.sk-estimator-doc-link.fitted {\n",
       "  /* fitted */\n",
       "  border: var(--sklearn-color-fitted-level-1) 1pt solid;\n",
       "  color: var(--sklearn-color-fitted-level-1);\n",
       "}\n",
       "\n",
       "/* On hover */\n",
       "div.sk-estimator:hover .sk-estimator-doc-link:hover,\n",
       ".sk-estimator-doc-link:hover,\n",
       "div.sk-label-container:hover .sk-estimator-doc-link:hover,\n",
       ".sk-estimator-doc-link:hover {\n",
       "  /* unfitted */\n",
       "  background-color: var(--sklearn-color-unfitted-level-3);\n",
       "  color: var(--sklearn-color-background);\n",
       "  text-decoration: none;\n",
       "}\n",
       "\n",
       "div.sk-estimator.fitted:hover .sk-estimator-doc-link.fitted:hover,\n",
       ".sk-estimator-doc-link.fitted:hover,\n",
       "div.sk-label-container:hover .sk-estimator-doc-link.fitted:hover,\n",
       ".sk-estimator-doc-link.fitted:hover {\n",
       "  /* fitted */\n",
       "  background-color: var(--sklearn-color-fitted-level-3);\n",
       "  color: var(--sklearn-color-background);\n",
       "  text-decoration: none;\n",
       "}\n",
       "\n",
       "/* Span, style for the box shown on hovering the info icon */\n",
       ".sk-estimator-doc-link span {\n",
       "  display: none;\n",
       "  z-index: 9999;\n",
       "  position: relative;\n",
       "  font-weight: normal;\n",
       "  right: .2ex;\n",
       "  padding: .5ex;\n",
       "  margin: .5ex;\n",
       "  width: min-content;\n",
       "  min-width: 20ex;\n",
       "  max-width: 50ex;\n",
       "  color: var(--sklearn-color-text);\n",
       "  box-shadow: 2pt 2pt 4pt #999;\n",
       "  /* unfitted */\n",
       "  background: var(--sklearn-color-unfitted-level-0);\n",
       "  border: .5pt solid var(--sklearn-color-unfitted-level-3);\n",
       "}\n",
       "\n",
       ".sk-estimator-doc-link.fitted span {\n",
       "  /* fitted */\n",
       "  background: var(--sklearn-color-fitted-level-0);\n",
       "  border: var(--sklearn-color-fitted-level-3);\n",
       "}\n",
       "\n",
       ".sk-estimator-doc-link:hover span {\n",
       "  display: block;\n",
       "}\n",
       "\n",
       "/* \"?\"-specific style due to the `<a>` HTML tag */\n",
       "\n",
       "#sk-container-id-1 a.estimator_doc_link {\n",
       "  float: right;\n",
       "  font-size: 1rem;\n",
       "  line-height: 1em;\n",
       "  font-family: monospace;\n",
       "  background-color: var(--sklearn-color-background);\n",
       "  border-radius: 1rem;\n",
       "  height: 1rem;\n",
       "  width: 1rem;\n",
       "  text-decoration: none;\n",
       "  /* unfitted */\n",
       "  color: var(--sklearn-color-unfitted-level-1);\n",
       "  border: var(--sklearn-color-unfitted-level-1) 1pt solid;\n",
       "}\n",
       "\n",
       "#sk-container-id-1 a.estimator_doc_link.fitted {\n",
       "  /* fitted */\n",
       "  border: var(--sklearn-color-fitted-level-1) 1pt solid;\n",
       "  color: var(--sklearn-color-fitted-level-1);\n",
       "}\n",
       "\n",
       "/* On hover */\n",
       "#sk-container-id-1 a.estimator_doc_link:hover {\n",
       "  /* unfitted */\n",
       "  background-color: var(--sklearn-color-unfitted-level-3);\n",
       "  color: var(--sklearn-color-background);\n",
       "  text-decoration: none;\n",
       "}\n",
       "\n",
       "#sk-container-id-1 a.estimator_doc_link.fitted:hover {\n",
       "  /* fitted */\n",
       "  background-color: var(--sklearn-color-fitted-level-3);\n",
       "}\n",
       "</style><div id=\"sk-container-id-1\" class=\"sk-top-container\"><div class=\"sk-text-repr-fallback\"><pre>CountVectorizer()</pre><b>In a Jupyter environment, please rerun this cell to show the HTML representation or trust the notebook. <br />On GitHub, the HTML representation is unable to render, please try loading this page with nbviewer.org.</b></div><div class=\"sk-container\" hidden><div class=\"sk-item\"><div class=\"sk-estimator fitted sk-toggleable\"><input class=\"sk-toggleable__control sk-hidden--visually\" id=\"sk-estimator-id-1\" type=\"checkbox\" checked><label for=\"sk-estimator-id-1\" class=\"sk-toggleable__label fitted sk-toggleable__label-arrow\"><div><div>CountVectorizer</div></div><div><a class=\"sk-estimator-doc-link fitted\" rel=\"noreferrer\" target=\"_blank\" href=\"https://scikit-learn.org/1.6/modules/generated/sklearn.feature_extraction.text.CountVectorizer.html\">?<span>Documentation for CountVectorizer</span></a><span class=\"sk-estimator-doc-link fitted\">i<span>Fitted</span></span></div></label><div class=\"sk-toggleable__content fitted\"><pre>CountVectorizer()</pre></div> </div></div></div></div>"
      ],
      "text/plain": [
       "CountVectorizer()"
      ]
     },
     "execution_count": 24,
     "metadata": {},
     "output_type": "execute_result"
    }
   ],
   "source": [
    "# 말뭉치를 단어 토큰화 > 각 단어에 정수 매핑 > 단어 사전 만들기\n",
    "vector = CountVectorizer()\n",
    "vector.fit(corpus)"
   ]
  },
  {
   "cell_type": "code",
   "execution_count": 26,
   "id": "5c390f56-512d-45e4-867d-bfd3680e97da",
   "metadata": {},
   "outputs": [
    {
     "name": "stdout",
     "output_type": "stream",
     "text": [
      "{'you': 4, 'know': 1, 'want': 3, 'your': 5, 'love': 2, 'because': 0}\n"
     ]
    }
   ],
   "source": [
    "# 단어 사전 보여주기\n",
    "print(vector.vocabulary_)"
   ]
  },
  {
   "cell_type": "code",
   "execution_count": 30,
   "id": "eef837e4-1a20-482c-88b8-c7d315ca3aa4",
   "metadata": {},
   "outputs": [
    {
     "data": {
      "text/plain": [
       "dict"
      ]
     },
     "execution_count": 30,
     "metadata": {},
     "output_type": "execute_result"
    }
   ],
   "source": [
    "# type 확인\n",
    "type(vector.vocabulary_)"
   ]
  },
  {
   "cell_type": "code",
   "execution_count": 36,
   "id": "1789a051-fdc7-4f54-b93e-91fcc43940c7",
   "metadata": {},
   "outputs": [
    {
     "data": {
      "text/plain": [
       "[('because', 0),\n",
       " ('know', 1),\n",
       " ('love', 2),\n",
       " ('want', 3),\n",
       " ('you', 4),\n",
       " ('your', 5)]"
      ]
     },
     "execution_count": 36,
     "metadata": {},
     "output_type": "execute_result"
    }
   ],
   "source": [
    "# value 값으로 정렬\n",
    "# sorted():\n",
    "# .items(): Returns a view of all key-value pairs in the dictionary\n",
    "    # Each item is a tuple of the form (term, index), where term is a vocabulary word and index is its assigned integer feature index\n",
    "# key = lambda x : x[1] -> Tells sorted to use the second element of each tuple (x[1]) as the sort key\n",
    "# sorted: By default, sorted arragnes the items in ascending order of their keys, so this produces a list sorted by feature index\n",
    "# The result is a list of (term, index) tuples ordered by incresing index value\n",
    "\n",
    "sorted(vector.vocabulary_.items(), key = lambda x : x[1])"
   ]
  },
  {
   "cell_type": "code",
   "execution_count": 38,
   "id": "1a85b2e8-a9b6-4c72-a060-8b9892b27559",
   "metadata": {},
   "outputs": [
    {
     "name": "stdout",
     "output_type": "stream",
     "text": [
      "<Compressed Sparse Row sparse matrix of dtype 'int64'\n",
      "\twith 6 stored elements and shape (1, 6)>\n",
      "  Coords\tValues\n",
      "  (0, 0)\t1\n",
      "  (0, 1)\t1\n",
      "  (0, 2)\t2\n",
      "  (0, 3)\t1\n",
      "  (0, 4)\t2\n",
      "  (0, 5)\t1\n"
     ]
    }
   ],
   "source": [
    "# transform 함수를 통해 코퍼스로부터 각 단어의 빈도 수를 계산한다\n",
    "# 2번(Love), 4번(you) 인덱스가 2번 발생\n",
    "\n",
    "print(vector.transform(corpus))"
   ]
  },
  {
   "cell_type": "markdown",
   "id": "aa2c43bf-0969-40c8-8e99-c74a96a1f08d",
   "metadata": {},
   "source": [
    "### 2. 불용어를 제거한 BoW 만들기"
   ]
  },
  {
   "cell_type": "markdown",
   "id": "0b4eaa4b-511e-43f9-8bbf-7235e6bb56cb",
   "metadata": {},
   "source": [
    "#### 1) 사용자가 직접 정의한 불용어 사용"
   ]
  },
  {
   "cell_type": "code",
   "execution_count": 51,
   "id": "2d681bd7-b636-49b8-acdb-dc4e0449ab29",
   "metadata": {},
   "outputs": [
    {
     "name": "stdout",
     "output_type": "stream",
     "text": [
      "{'family': 1, 'important': 2, 'thing': 4, 'it': 3, 'everything': 0}\n",
      "<Compressed Sparse Row sparse matrix of dtype 'int64'\n",
      "\twith 5 stored elements and shape (1, 5)>\n",
      "  Coords\tValues\n",
      "  (0, 0)\t1\n",
      "  (0, 1)\t1\n",
      "  (0, 2)\t1\n",
      "  (0, 3)\t1\n",
      "  (0, 4)\t1\n"
     ]
    }
   ],
   "source": [
    "from sklearn.feature_extraction.text import CountVectorizer\n",
    "\n",
    "text = [\"Family is not an important thing. It's everything.\"]\n",
    "vect = CountVectorizer(stop_words = [\"the\", \"a\", \"an\", \"is\", \"not\"])\n",
    "vect.fit(text)\n",
    "\n",
    "print(vect.vocabulary_)\n",
    "print(vect.transform(text))"
   ]
  },
  {
   "cell_type": "markdown",
   "id": "3b4d5912-9319-4ea7-9cba-debb1b87bae1",
   "metadata": {},
   "source": [
    "#### 2) nltk에서 제공하는 자체 불용어 사용"
   ]
  },
  {
   "cell_type": "code",
   "execution_count": 58,
   "id": "bb430974-035d-41e8-9eba-9bfe66b1e029",
   "metadata": {},
   "outputs": [
    {
     "name": "stderr",
     "output_type": "stream",
     "text": [
      "[nltk_data] Downloading package stopwords to\n",
      "[nltk_data]     /Users/shinjoohwan/nltk_data...\n",
      "[nltk_data]   Unzipping corpora/stopwords.zip.\n"
     ]
    },
    {
     "data": {
      "text/plain": [
       "True"
      ]
     },
     "execution_count": 58,
     "metadata": {},
     "output_type": "execute_result"
    }
   ],
   "source": [
    "# !pip install nltk\n",
    "import nltk\n",
    "nltk.download('stopwords')"
   ]
  },
  {
   "cell_type": "code",
   "execution_count": 61,
   "id": "0c7e0bce-f9a2-4b64-8a8c-cbfeebe7a1b6",
   "metadata": {},
   "outputs": [
    {
     "name": "stdout",
     "output_type": "stream",
     "text": [
      "{'family': 1, 'important': 2, 'thing': 3, 'everything': 0}\n",
      "<Compressed Sparse Row sparse matrix of dtype 'int64'\n",
      "\twith 4 stored elements and shape (1, 4)>\n",
      "  Coords\tValues\n",
      "  (0, 0)\t1\n",
      "  (0, 1)\t1\n",
      "  (0, 2)\t1\n",
      "  (0, 3)\t1\n"
     ]
    }
   ],
   "source": [
    "from sklearn.feature_extraction.text import CountVectorizer\n",
    "from nltk.corpus import stopwords\n",
    "\n",
    "text = [\"Family is not an important thing. It's everything\"]\n",
    "sw = stopwords.words(\"english\")\n",
    "vect = CountVectorizer(stop_words = sw)\n",
    "vect.fit(text)\n",
    "\n",
    "print(vect.vocabulary_)\n",
    "print(vect.transform(text))"
   ]
  },
  {
   "cell_type": "code",
   "execution_count": 63,
   "id": "6139de29-20fc-4349-b13a-1c9b1db5af2d",
   "metadata": {},
   "outputs": [
    {
     "data": {
      "text/plain": [
       "['a', 'about', 'above', 'after', 'again', 'against', 'ain', 'all', 'am', 'an']"
      ]
     },
     "execution_count": 63,
     "metadata": {},
     "output_type": "execute_result"
    }
   ],
   "source": [
    "# stop word 리스트\n",
    "sw[:10]"
   ]
  },
  {
   "cell_type": "code",
   "execution_count": null,
   "id": "e6bd022f-16f1-4da1-9899-eaa456f92ba0",
   "metadata": {},
   "outputs": [],
   "source": []
  },
  {
   "cell_type": "markdown",
   "id": "e78b938e-982e-427d-b70a-c2fa247f8142",
   "metadata": {},
   "source": [
    "#### 배운 내용 정리\n",
    "- 1. BOW(Bag of Words): 문장을 토큰화하고 각 단어의 빈도 수를 수치화\n",
    "  2. 문서 분류 방법 중의 하나로, 단어들의 분포를 보고 이 문서가 어떤 종류의 문서인지를 판단하는 기법으로 사용\n",
    "  3. CountVectorize 이용하여 BoW 구현\n",
    "  4. CountVectorize 사용 시 불용어(stopword)을 자체적으로 정의하거나 nltk stopword를 활용"
   ]
  },
  {
   "cell_type": "code",
   "execution_count": null,
   "id": "0aa65d7a-1bdb-4492-9057-0e8806292b62",
   "metadata": {},
   "outputs": [],
   "source": []
  },
  {
   "cell_type": "markdown",
   "id": "b641148b-b657-46b4-a2f6-3ae40b0c3006",
   "metadata": {},
   "source": [
    "### TF-IDF(Term Frequency-Inverse Document Frequency)\n",
    "- BoW에서 CountVectorizer 사용하여 단어의 빈도 수를 수치 표현했는데, 과연 단어의 빈도 수가 높다고 중요한 단어인가?에 대해 생각 필요\n",
    "    - ex) 불용어(the, an, is)에 해당하는 단어는 자주 보여지지만, 중요 x\n",
    "- 그래서 TF-IDF는 단어의 빈도(TF)와 역문서 빈도(IDF)를 사용\n",
    "- 즉, 각 문서에서 특정 단어가 많이 등장할수록, 그리고 특정 단어가 등장한 문서의 수가 작을수록 높은 가중치를 부여한다.\n",
    "- TF-IDF는 주로 문서의 유사도를 구하는 작업, 검색 시스템에서 검색 결과의 중요도를 정하는 작업, 문서 내에서 특정 단어의 중요도를 구하는 작업 등에 쓰일 수 있다\n",
    "- 결국, 컴퓨터가 문장을 잘 이해하도록 단어 중요도에 가중치를 매겨서 문장을 벡터 표현한다\n",
    "\n",
    "TF-IDF(w,d) = TF(w) x log(N/DF(w))"
   ]
  },
  {
   "cell_type": "markdown",
   "id": "2b35805f-f293-4aae-b2d1-7be61881f285",
   "metadata": {},
   "source": [
    "#### 학습 목차\n",
    "1. CountVectorizer 사용하면 DTM(BoW) 생성\n",
    "2. TfidVectorizer 사용하여 TF-IDF 생성\n",
    "3. 보기 좋게 TF-IDF를 데이터프레임으로 표현하기"
   ]
  },
  {
   "cell_type": "markdown",
   "id": "8cd20a4d-e9b5-4b32-bee8-8f0e62a5fd24",
   "metadata": {},
   "source": [
    "#### 1. CountVectorizer를 사용하면 DTM(BoW) 생성"
   ]
  },
  {
   "cell_type": "code",
   "execution_count": 74,
   "id": "e9a42bc7-5784-4a71-90bc-e121406dc377",
   "metadata": {},
   "outputs": [],
   "source": [
    "from sklearn.feature_extraction.text import CountVectorizer"
   ]
  },
  {
   "cell_type": "code",
   "execution_count": 76,
   "id": "33bf950f-0174-4929-a439-7505128bb105",
   "metadata": {},
   "outputs": [],
   "source": [
    "corpus = [\n",
    "    'you know I want your love',\n",
    "    'I like you',\n",
    "    'what should I do ',\n",
    "]"
   ]
  },
  {
   "cell_type": "code",
   "execution_count": 78,
   "id": "c480d37e-584b-4ff7-bf9d-cd72f8a2ec8c",
   "metadata": {},
   "outputs": [],
   "source": [
    "# CounterVectorizer 정의\n",
    "vector = CountVectorizer()"
   ]
  },
  {
   "cell_type": "code",
   "execution_count": 84,
   "id": "827a0020-2f0d-4c26-8871-7e8b1d143608",
   "metadata": {},
   "outputs": [
    {
     "name": "stdout",
     "output_type": "stream",
     "text": [
      "{'you': 7, 'know': 1, 'want': 5, 'your': 8, 'love': 3, 'like': 2, 'what': 6, 'should': 4, 'do': 0}\n",
      "[('do', 0), ('know', 1), ('like', 2), ('love', 3), ('should', 4), ('want', 5), ('what', 6), ('you', 7), ('your', 8)]\n",
      "[[0 1 0 1 0 1 0 1 1]\n",
      " [0 0 1 0 0 0 0 1 0]\n",
      " [1 0 0 0 1 0 1 0 0]]\n"
     ]
    }
   ],
   "source": [
    "# DTM 생성: 문서 x 단어 행렬\n",
    "vector.fit(corpus)\n",
    "\n",
    "print(vector.vocabulary_) # 단어사전 확인\n",
    "print(sorted(vector.vocabulary_.items(), key = lambda x: x[1])) # 단어 사전에서 value 값으로 정렬\n",
    "print(vector.fit_transform(corpus).toarray()) # 코퍼스로부터 각 단어의 빈도 수를 기록"
   ]
  },
  {
   "cell_type": "markdown",
   "id": "b1a34d90-a14c-49ec-a4b4-e5a11035dc1b",
   "metadata": {},
   "source": [
    "#### 2. TfidfVectorizer 사용하여 TF-IDF 생성"
   ]
  },
  {
   "cell_type": "code",
   "execution_count": 90,
   "id": "e4342b9c-a77b-44dd-80a6-524a1f5b4166",
   "metadata": {},
   "outputs": [],
   "source": [
    "from sklearn.feature_extraction.text import TfidfVectorizer"
   ]
  },
  {
   "cell_type": "code",
   "execution_count": 92,
   "id": "2244676d-2836-491b-b124-d336104e918b",
   "metadata": {},
   "outputs": [],
   "source": [
    "corpus = [\n",
    "    'you know I want your love',\n",
    "    'I like you',\n",
    "    'what should I do ',\n",
    "]"
   ]
  },
  {
   "cell_type": "code",
   "execution_count": 94,
   "id": "e6715dea-fd5a-47fb-a130-c40cbb7603b7",
   "metadata": {},
   "outputs": [
    {
     "name": "stdout",
     "output_type": "stream",
     "text": [
      "{'you': 7, 'know': 1, 'want': 5, 'your': 8, 'love': 3, 'like': 2, 'what': 6, 'should': 4, 'do': 0}\n"
     ]
    }
   ],
   "source": [
    "# 문서 내에서 단어에 대해 단어 사전 생성\n",
    "tfidf = TfidfVectorizer().fit(corpus)\n",
    "print(tfidf.vocabulary_)"
   ]
  },
  {
   "cell_type": "code",
   "execution_count": 96,
   "id": "a31ae5b5-0994-425d-9177-32606629ff4e",
   "metadata": {},
   "outputs": [
    {
     "name": "stdout",
     "output_type": "stream",
     "text": [
      "[[0.         0.46735098 0.         0.46735098 0.         0.46735098\n",
      "  0.         0.35543247 0.46735098]\n",
      " [0.         0.         0.79596054 0.         0.         0.\n",
      "  0.         0.60534851 0.        ]\n",
      " [0.57735027 0.         0.         0.         0.57735027 0.\n",
      "  0.57735027 0.         0.        ]]\n"
     ]
    }
   ],
   "source": [
    "# 문서 내에서 단어에 대해 TF-IDF 중요도 가중치 부여\n",
    "tfidf_matrix = tfidf.transform(corpus).toarray()\n",
    "print(tfidf_matrix)"
   ]
  },
  {
   "cell_type": "markdown",
   "id": "b75e16ce-c3b3-49cc-b58b-57b3f68a7be1",
   "metadata": {},
   "source": [
    "#### 3. 보기좋게 TF-IDF를 데이터프레임으로 표현하기"
   ]
  },
  {
   "cell_type": "code",
   "execution_count": 100,
   "id": "9c242cd2-76f2-4664-a9af-d0d8f4a19e81",
   "metadata": {},
   "outputs": [
    {
     "data": {
      "text/plain": [
       "{'do': 0,\n",
       " 'know': 1,\n",
       " 'like': 2,\n",
       " 'love': 3,\n",
       " 'should': 4,\n",
       " 'want': 5,\n",
       " 'what': 6,\n",
       " 'you': 7,\n",
       " 'your': 8}"
      ]
     },
     "execution_count": 100,
     "metadata": {},
     "output_type": "execute_result"
    }
   ],
   "source": [
    "# tfidf 단어사전에서 단어의 인덱스로 정렬\n",
    "sort_tfidf = dict(sorted(tfidf.vocabulary_.items(), key = lambda x: x[1]))\n",
    "sort_tfidf"
   ]
  },
  {
   "cell_type": "code",
   "execution_count": 102,
   "id": "ec3a040f-ef6f-48e2-bc3e-8b624e12e33c",
   "metadata": {},
   "outputs": [
    {
     "data": {
      "text/plain": [
       "dict_keys(['do', 'know', 'like', 'love', 'should', 'want', 'what', 'you', 'your'])"
      ]
     },
     "execution_count": 102,
     "metadata": {},
     "output_type": "execute_result"
    }
   ],
   "source": [
    "# 단어의 인덱스 순으로 정렬 상태에서 단어 리스트 가져오기\n",
    "tfidf_sort_word = sort_tfidf.keys()\n",
    "tfidf_sort_word"
   ]
  },
  {
   "cell_type": "code",
   "execution_count": 106,
   "id": "9faa56fd-8b15-42b5-ae69-7fbef39e270b",
   "metadata": {},
   "outputs": [
    {
     "data": {
      "text/html": [
       "<div>\n",
       "<style scoped>\n",
       "    .dataframe tbody tr th:only-of-type {\n",
       "        vertical-align: middle;\n",
       "    }\n",
       "\n",
       "    .dataframe tbody tr th {\n",
       "        vertical-align: top;\n",
       "    }\n",
       "\n",
       "    .dataframe thead th {\n",
       "        text-align: right;\n",
       "    }\n",
       "</style>\n",
       "<table border=\"1\" class=\"dataframe\">\n",
       "  <thead>\n",
       "    <tr style=\"text-align: right;\">\n",
       "      <th></th>\n",
       "      <th>do</th>\n",
       "      <th>know</th>\n",
       "      <th>like</th>\n",
       "      <th>love</th>\n",
       "      <th>should</th>\n",
       "      <th>want</th>\n",
       "      <th>what</th>\n",
       "      <th>you</th>\n",
       "      <th>your</th>\n",
       "    </tr>\n",
       "  </thead>\n",
       "  <tbody>\n",
       "    <tr>\n",
       "      <th>0</th>\n",
       "      <td>0.00000</td>\n",
       "      <td>0.467351</td>\n",
       "      <td>0.000000</td>\n",
       "      <td>0.467351</td>\n",
       "      <td>0.00000</td>\n",
       "      <td>0.467351</td>\n",
       "      <td>0.00000</td>\n",
       "      <td>0.355432</td>\n",
       "      <td>0.467351</td>\n",
       "    </tr>\n",
       "    <tr>\n",
       "      <th>1</th>\n",
       "      <td>0.00000</td>\n",
       "      <td>0.000000</td>\n",
       "      <td>0.795961</td>\n",
       "      <td>0.000000</td>\n",
       "      <td>0.00000</td>\n",
       "      <td>0.000000</td>\n",
       "      <td>0.00000</td>\n",
       "      <td>0.605349</td>\n",
       "      <td>0.000000</td>\n",
       "    </tr>\n",
       "    <tr>\n",
       "      <th>2</th>\n",
       "      <td>0.57735</td>\n",
       "      <td>0.000000</td>\n",
       "      <td>0.000000</td>\n",
       "      <td>0.000000</td>\n",
       "      <td>0.57735</td>\n",
       "      <td>0.000000</td>\n",
       "      <td>0.57735</td>\n",
       "      <td>0.000000</td>\n",
       "      <td>0.000000</td>\n",
       "    </tr>\n",
       "  </tbody>\n",
       "</table>\n",
       "</div>"
      ],
      "text/plain": [
       "        do      know      like      love   should      want     what  \\\n",
       "0  0.00000  0.467351  0.000000  0.467351  0.00000  0.467351  0.00000   \n",
       "1  0.00000  0.000000  0.795961  0.000000  0.00000  0.000000  0.00000   \n",
       "2  0.57735  0.000000  0.000000  0.000000  0.57735  0.000000  0.57735   \n",
       "\n",
       "        you      your  \n",
       "0  0.355432  0.467351  \n",
       "1  0.605349  0.000000  \n",
       "2  0.000000  0.000000  "
      ]
     },
     "execution_count": 106,
     "metadata": {},
     "output_type": "execute_result"
    }
   ],
   "source": [
    "# TF-IDF 보기 좋게 데이터프레임 형식으로 표현\n",
    "\n",
    "import pandas as pd\n",
    "\n",
    "pd.DataFrame(tfidf_matrix, columns = tfidf_sort_word)"
   ]
  },
  {
   "cell_type": "markdown",
   "id": "9afccf78-71f8-476f-8918-1b75c39f9449",
   "metadata": {},
   "source": [
    "#### 배운 내용 정리\n",
    "1. TF-IDF: 단어의 빈도(TF)와 역 문서 빈도(IDF)를 사용하여 단어에 가중치 부여\n",
    "2. ConutVectorizer처럼 단어의 빈도수 표현하는 것보다 단어 중요도에 가중치를 표현한 TF-IDF가 합리적이다.\n",
    "3. 문서 유사도 구하거나, 분류 모델의 전처리 데이터로 TF-IDF 수행된 데이터를 사용한다."
   ]
  },
  {
   "cell_type": "code",
   "execution_count": null,
   "id": "4d63cf02-0340-4a15-aaa9-0f9ca8cbaeee",
   "metadata": {},
   "outputs": [],
   "source": []
  },
  {
   "cell_type": "code",
   "execution_count": null,
   "id": "df2ef639-9741-4290-bb7f-ed26e84c156a",
   "metadata": {},
   "outputs": [],
   "source": []
  },
  {
   "cell_type": "markdown",
   "id": "55e6e0bd-eb80-4a01-a468-0f3a1b68320f",
   "metadata": {},
   "source": [
    "### Cosine 유사도(linear kernel)\n",
    "- Cosine 유사도(linear_kernel)을 이용하여 단어나 문장이 얼마나 유사한지, 아니면 관련이 없는지를 확인할 수 있다\n",
    "- 먼저, 샘플 문장을 추려내고 해당 문장들에 대해 TF-IDF 구한다\n",
    "- 그런 다음, linear_kernel(Cosine 유사도)을 사용해서 각 문장들끼리의 얼마나 가까운지 먼지를 계산하여 수치화한다\n",
    "- 결과값이 문장 수 x 문장 수 매트릭스 형태로 나오게 되며\n",
    "- 각 매트릭스 안에는 문장 별로 다른 문장에 대한 유사도 값이 들어 있게 되고, 유사도 값이 크면 클수록 비슷한 문장이라고 판단할 수 있다\n",
    "\n",
    "#### 학습 목차\n",
    "- 1. A방송사 댓글 데이터 불러오기\n",
    "  2. 5개 댓글 문장에 대해 TF-IDF 만들고 linear_kernel 이용하여 Cosine 유사도 확인하기\n",
    "- 첫 번째 문장이 어느 다른 문장과 제일 유사도가 높은지 찾아보자"
   ]
  },
  {
   "cell_type": "markdown",
   "id": "83c56773-95bf-47f0-96fb-0caf52b75052",
   "metadata": {},
   "source": [
    "#### 1. A방송사 댓글 데이터 불러오기"
   ]
  },
  {
   "cell_type": "code",
   "execution_count": 115,
   "id": "5185028f-1a28-4a27-b708-3d48fe5e9332",
   "metadata": {},
   "outputs": [
    {
     "name": "stdout",
     "output_type": "stream",
     "text": [
      "Requirement already satisfied: openpyxl in /Users/shinjoohwan/miniconda3/lib/python3.12/site-packages (3.1.5)\n",
      "Requirement already satisfied: et-xmlfile in /Users/shinjoohwan/miniconda3/lib/python3.12/site-packages (from openpyxl) (2.0.0)\n"
     ]
    }
   ],
   "source": [
    "# 라이브러리 import\n",
    "\n",
    "# pandas read_excel\n",
    "!pip install openpyxl\n",
    "\n",
    "import os\n",
    "import re\n",
    "import pandas as pd"
   ]
  },
  {
   "cell_type": "code",
   "execution_count": 117,
   "id": "5048291a-654a-4729-af9e-3a7e782678fc",
   "metadata": {},
   "outputs": [
    {
     "data": {
      "text/html": [
       "<div>\n",
       "<style scoped>\n",
       "    .dataframe tbody tr th:only-of-type {\n",
       "        vertical-align: middle;\n",
       "    }\n",
       "\n",
       "    .dataframe tbody tr th {\n",
       "        vertical-align: top;\n",
       "    }\n",
       "\n",
       "    .dataframe thead th {\n",
       "        text-align: right;\n",
       "    }\n",
       "</style>\n",
       "<table border=\"1\" class=\"dataframe\">\n",
       "  <thead>\n",
       "    <tr style=\"text-align: right;\">\n",
       "      <th></th>\n",
       "      <th>Unnamed: 0</th>\n",
       "      <th>data</th>\n",
       "      <th>label</th>\n",
       "    </tr>\n",
       "  </thead>\n",
       "  <tbody>\n",
       "    <tr>\n",
       "      <th>246</th>\n",
       "      <td>246</td>\n",
       "      <td>영상F서비스로 간편하게 설치!좋아요\\n우리 회사화이팅!</td>\n",
       "      <td>긍정</td>\n",
       "    </tr>\n",
       "    <tr>\n",
       "      <th>247</th>\n",
       "      <td>247</td>\n",
       "      <td>모든 업무에서 맡은바 업무에 서 최선을 다하는 모습이 좋습니다! 화이팅 입니다.</td>\n",
       "      <td>긍정</td>\n",
       "    </tr>\n",
       "    <tr>\n",
       "      <th>248</th>\n",
       "      <td>248</td>\n",
       "      <td>사내방송 특성상 최근 이슈화 되거나, 언급이 자주되는 '키워드'를 중심으로 뉴스를 ...</td>\n",
       "      <td>부정</td>\n",
       "    </tr>\n",
       "    <tr>\n",
       "      <th>249</th>\n",
       "      <td>249</td>\n",
       "      <td>방송 시간이 너무 길어요.</td>\n",
       "      <td>부정</td>\n",
       "    </tr>\n",
       "    <tr>\n",
       "      <th>250</th>\n",
       "      <td>250</td>\n",
       "      <td>처음 들어보는 말들이 많은데,, 설명이 없어서 힘드네요.</td>\n",
       "      <td>부정</td>\n",
       "    </tr>\n",
       "  </tbody>\n",
       "</table>\n",
       "</div>"
      ],
      "text/plain": [
       "     Unnamed: 0                                               data label\n",
       "246         246                     영상F서비스로 간편하게 설치!좋아요\\n우리 회사화이팅!    긍정\n",
       "247         247       모든 업무에서 맡은바 업무에 서 최선을 다하는 모습이 좋습니다! 화이팅 입니다.    긍정\n",
       "248         248  사내방송 특성상 최근 이슈화 되거나, 언급이 자주되는 '키워드'를 중심으로 뉴스를 ...    부정\n",
       "249         249                                     방송 시간이 너무 길어요.    부정\n",
       "250         250                   처음 들어보는 말들이 많은데,, 설명이 없어서 힘드네요.     부정"
      ]
     },
     "execution_count": 117,
     "metadata": {},
     "output_type": "execute_result"
    }
   ],
   "source": [
    "# A_comment_train.xlsx A방송사 댓글 다운로드 및 Pandas read_excel() 함수 활용하여 읽어오기\n",
    "comment = pd.read_excel('https://github.com/gzone2000/TEMP_TEST/raw/master/A_comment_train.xlsx', engine = 'openpyxl')\n",
    "comment.tail()"
   ]
  },
  {
   "cell_type": "markdown",
   "id": "9f8e1213-3aa8-4b32-9988-b73b328a5d6b",
   "metadata": {},
   "source": [
    "#### 2. 5개 댓글 문장에 대해 TF-IDF 만들고 linear_kernel 이용하여 Cosine 유사도 확인해보자\n",
    "- 5개 문장 선택"
   ]
  },
  {
   "cell_type": "code",
   "execution_count": 125,
   "id": "350bc417-07f7-4372-b4ba-6c2d9e2da044",
   "metadata": {},
   "outputs": [
    {
     "data": {
      "text/html": [
       "<div>\n",
       "<style scoped>\n",
       "    .dataframe tbody tr th:only-of-type {\n",
       "        vertical-align: middle;\n",
       "    }\n",
       "\n",
       "    .dataframe tbody tr th {\n",
       "        vertical-align: top;\n",
       "    }\n",
       "\n",
       "    .dataframe thead th {\n",
       "        text-align: right;\n",
       "    }\n",
       "</style>\n",
       "<table border=\"1\" class=\"dataframe\">\n",
       "  <thead>\n",
       "    <tr style=\"text-align: right;\">\n",
       "      <th></th>\n",
       "      <th>Unnamed: 0</th>\n",
       "      <th>data</th>\n",
       "      <th>label</th>\n",
       "    </tr>\n",
       "  </thead>\n",
       "  <tbody>\n",
       "    <tr>\n",
       "      <th>0</th>\n",
       "      <td>0</td>\n",
       "      <td>재미는 있는데 시간이 짧은게 아쉽네요~</td>\n",
       "      <td>긍정</td>\n",
       "    </tr>\n",
       "    <tr>\n",
       "      <th>1</th>\n",
       "      <td>1</td>\n",
       "      <td>OO 관련 내용은 우리 직원과는 거리가 멀었음, 특히, 사내에 홍보할 내용은 아니라고 봄</td>\n",
       "      <td>부정</td>\n",
       "    </tr>\n",
       "    <tr>\n",
       "      <th>2</th>\n",
       "      <td>2</td>\n",
       "      <td>스토리가 너무 딱딱해서 별로였음</td>\n",
       "      <td>부정</td>\n",
       "    </tr>\n",
       "    <tr>\n",
       "      <th>3</th>\n",
       "      <td>3</td>\n",
       "      <td>프로그램A 화이팅하세요!!</td>\n",
       "      <td>긍정</td>\n",
       "    </tr>\n",
       "    <tr>\n",
       "      <th>4</th>\n",
       "      <td>4</td>\n",
       "      <td>높은 곳에 올라가는 모습이 너무 위험해 보여요.</td>\n",
       "      <td>부정</td>\n",
       "    </tr>\n",
       "  </tbody>\n",
       "</table>\n",
       "</div>"
      ],
      "text/plain": [
       "   Unnamed: 0                                               data label\n",
       "0           0                              재미는 있는데 시간이 짧은게 아쉽네요~    긍정\n",
       "1           1  OO 관련 내용은 우리 직원과는 거리가 멀었음, 특히, 사내에 홍보할 내용은 아니라고 봄    부정\n",
       "2           2                                  스토리가 너무 딱딱해서 별로였음    부정\n",
       "3           3                                     프로그램A 화이팅하세요!!    긍정\n",
       "4           4                         높은 곳에 올라가는 모습이 너무 위험해 보여요.    부정"
      ]
     },
     "execution_count": 125,
     "metadata": {},
     "output_type": "execute_result"
    }
   ],
   "source": [
    "# 5개 샘플\n",
    "data_t = comment.head(5)\n",
    "data_t"
   ]
  },
  {
   "cell_type": "code",
   "execution_count": 129,
   "id": "5d0f37b6-574f-4376-93dc-88e65b9f2ccf",
   "metadata": {},
   "outputs": [
    {
     "name": "stdout",
     "output_type": "stream",
     "text": [
      "0\n"
     ]
    }
   ],
   "source": [
    "# null 확인\n",
    "print(data_t['data'].isnull().sum())"
   ]
  },
  {
   "cell_type": "code",
   "execution_count": 131,
   "id": "b712dcea-8b93-4498-907a-68356195f1e2",
   "metadata": {},
   "outputs": [
    {
     "data": {
      "text/plain": [
       "0                                재미는 있는데 시간이 짧은게 아쉽네요~\n",
       "1    OO 관련 내용은 우리 직원과는 거리가 멀었음, 특히, 사내에 홍보할 내용은 아니라고 봄\n",
       "2                                    스토리가 너무 딱딱해서 별로였음\n",
       "3                                       프로그램A 화이팅하세요!!\n",
       "4                           높은 곳에 올라가는 모습이 너무 위험해 보여요.\n",
       "Name: data, dtype: object"
      ]
     },
     "execution_count": 131,
     "metadata": {},
     "output_type": "execute_result"
    }
   ],
   "source": [
    "data_t['data'][:5]"
   ]
  },
  {
   "cell_type": "code",
   "execution_count": 133,
   "id": "6bba0173-106f-42c6-a601-efdc16f9196f",
   "metadata": {},
   "outputs": [
    {
     "name": "stdout",
     "output_type": "stream",
     "text": [
      "{'재미는': 21, '있는데': 20, '시간이': 14, '짧은게': 23, '아쉽네요': 16, 'oo': 0, '관련': 3, '내용은': 4, '우리': 18, '직원과는': 22, '거리가': 1, '멀었음': 8, '특히': 24, '사내에': 12, '홍보할': 26, '아니라고': 15, '스토리가': 13, '너무': 5, '딱딱해서': 7, '별로였음': 10, '프로그램a': 25, '화이팅하세요': 27, '높은': 6, '곳에': 2, '올라가는': 17, '모습이': 9, '위험해': 19, '보여요': 11}\n"
     ]
    }
   ],
   "source": [
    "# 5개 댓글 문장에 대해 tf-idf 수행하여 전체 단어 사전 생성: 28개 단어\n",
    "\n",
    "from sklearn.feature_extraction.text import TfidfVectorizer\n",
    "\n",
    "tfidf = TfidfVectorizer(stop_words = 'english').fit(data_t['data'])\n",
    "print(tfidf.vocabulary_)"
   ]
  },
  {
   "cell_type": "code",
   "execution_count": 135,
   "id": "eb30d36b-d8fc-40bf-9e17-cd91b361af2e",
   "metadata": {},
   "outputs": [
    {
     "name": "stdout",
     "output_type": "stream",
     "text": [
      "(5, 28)\n",
      "[[0.         0.         0.         0.         0.         0.\n",
      "  0.         0.         0.         0.         0.         0.\n",
      "  0.         0.         0.4472136  0.         0.4472136  0.\n",
      "  0.         0.         0.4472136  0.4472136  0.         0.4472136\n",
      "  0.         0.         0.         0.        ]\n",
      " [0.26726124 0.26726124 0.         0.26726124 0.53452248 0.\n",
      "  0.         0.         0.26726124 0.         0.         0.\n",
      "  0.26726124 0.         0.         0.26726124 0.         0.\n",
      "  0.26726124 0.         0.         0.         0.26726124 0.\n",
      "  0.26726124 0.         0.26726124 0.        ]\n",
      " [0.         0.         0.         0.         0.         0.42224214\n",
      "  0.         0.52335825 0.         0.         0.52335825 0.\n",
      "  0.         0.52335825 0.         0.         0.         0.\n",
      "  0.         0.         0.         0.         0.         0.\n",
      "  0.         0.         0.         0.        ]\n",
      " [0.         0.         0.         0.         0.         0.\n",
      "  0.         0.         0.         0.         0.         0.\n",
      "  0.         0.         0.         0.         0.         0.\n",
      "  0.         0.         0.         0.         0.         0.\n",
      "  0.         0.70710678 0.         0.70710678]\n",
      " [0.         0.         0.38775666 0.         0.         0.31283963\n",
      "  0.38775666 0.         0.         0.38775666 0.         0.38775666\n",
      "  0.         0.         0.         0.         0.         0.38775666\n",
      "  0.         0.38775666 0.         0.         0.         0.\n",
      "  0.         0.         0.         0.        ]]\n"
     ]
    }
   ],
   "source": [
    "# 5개 댓글 문장에 대해 tf-idf 수행하여 5 x 28 형태로 만듦: 5개 문장 x 28개 단어\n",
    "\n",
    "tfidf_matrix = tfidf.transform(data_t['data']).toarray()\n",
    "print(tfidf_matrix.shape)\n",
    "print(tfidf_matrix)"
   ]
  },
  {
   "cell_type": "markdown",
   "id": "a05e5bbf-d0e3-433e-ab75-0a5127bdb4f1",
   "metadata": {},
   "source": [
    "#### 보기 좋게 TF-IDF를 데이터 프레임으로 표현하기"
   ]
  },
  {
   "cell_type": "code",
   "execution_count": 141,
   "id": "14b81f89-675e-4703-85e5-9e4c08a479ba",
   "metadata": {},
   "outputs": [
    {
     "data": {
      "text/plain": [
       "{'oo': 0,\n",
       " '거리가': 1,\n",
       " '곳에': 2,\n",
       " '관련': 3,\n",
       " '내용은': 4,\n",
       " '너무': 5,\n",
       " '높은': 6,\n",
       " '딱딱해서': 7,\n",
       " '멀었음': 8,\n",
       " '모습이': 9,\n",
       " '별로였음': 10,\n",
       " '보여요': 11,\n",
       " '사내에': 12,\n",
       " '스토리가': 13,\n",
       " '시간이': 14,\n",
       " '아니라고': 15,\n",
       " '아쉽네요': 16,\n",
       " '올라가는': 17,\n",
       " '우리': 18,\n",
       " '위험해': 19,\n",
       " '있는데': 20,\n",
       " '재미는': 21,\n",
       " '직원과는': 22,\n",
       " '짧은게': 23,\n",
       " '특히': 24,\n",
       " '프로그램a': 25,\n",
       " '홍보할': 26,\n",
       " '화이팅하세요': 27}"
      ]
     },
     "execution_count": 141,
     "metadata": {},
     "output_type": "execute_result"
    }
   ],
   "source": [
    "# 단어 인덱스로 정렬\n",
    "sort_tfidf = dict(sorted(tfidf.vocabulary_.items(), key= lambda x: x[1]))\n",
    "sort_tfidf"
   ]
  },
  {
   "cell_type": "code",
   "execution_count": 145,
   "id": "0f714875-909e-427b-8959-475cce3328cc",
   "metadata": {},
   "outputs": [
    {
     "data": {
      "text/plain": [
       "dict_keys(['oo', '거리가', '곳에', '관련', '내용은', '너무', '높은', '딱딱해서', '멀었음', '모습이', '별로였음', '보여요', '사내에', '스토리가', '시간이', '아니라고', '아쉽네요', '올라가는', '우리', '위험해', '있는데', '재미는', '직원과는', '짧은게', '특히', '프로그램a', '홍보할', '화이팅하세요'])"
      ]
     },
     "execution_count": 145,
     "metadata": {},
     "output_type": "execute_result"
    }
   ],
   "source": [
    "# 단어 인덱스 순으로 단어 정렬\n",
    "tfidf_sort_word = sort_tfidf.keys()\n",
    "tfidf_sort_word"
   ]
  },
  {
   "cell_type": "code",
   "execution_count": 149,
   "id": "5f6005c2-8887-4f0b-b49c-24506c9328f9",
   "metadata": {},
   "outputs": [
    {
     "data": {
      "text/html": [
       "<div>\n",
       "<style scoped>\n",
       "    .dataframe tbody tr th:only-of-type {\n",
       "        vertical-align: middle;\n",
       "    }\n",
       "\n",
       "    .dataframe tbody tr th {\n",
       "        vertical-align: top;\n",
       "    }\n",
       "\n",
       "    .dataframe thead th {\n",
       "        text-align: right;\n",
       "    }\n",
       "</style>\n",
       "<table border=\"1\" class=\"dataframe\">\n",
       "  <thead>\n",
       "    <tr style=\"text-align: right;\">\n",
       "      <th></th>\n",
       "      <th>oo</th>\n",
       "      <th>거리가</th>\n",
       "      <th>곳에</th>\n",
       "      <th>관련</th>\n",
       "      <th>내용은</th>\n",
       "      <th>너무</th>\n",
       "      <th>높은</th>\n",
       "      <th>딱딱해서</th>\n",
       "      <th>멀었음</th>\n",
       "      <th>모습이</th>\n",
       "      <th>...</th>\n",
       "      <th>우리</th>\n",
       "      <th>위험해</th>\n",
       "      <th>있는데</th>\n",
       "      <th>재미는</th>\n",
       "      <th>직원과는</th>\n",
       "      <th>짧은게</th>\n",
       "      <th>특히</th>\n",
       "      <th>프로그램a</th>\n",
       "      <th>홍보할</th>\n",
       "      <th>화이팅하세요</th>\n",
       "    </tr>\n",
       "  </thead>\n",
       "  <tbody>\n",
       "    <tr>\n",
       "      <th>0</th>\n",
       "      <td>0.000000</td>\n",
       "      <td>0.000000</td>\n",
       "      <td>0.000000</td>\n",
       "      <td>0.000000</td>\n",
       "      <td>0.000000</td>\n",
       "      <td>0.000000</td>\n",
       "      <td>0.000000</td>\n",
       "      <td>0.000000</td>\n",
       "      <td>0.000000</td>\n",
       "      <td>0.000000</td>\n",
       "      <td>...</td>\n",
       "      <td>0.000000</td>\n",
       "      <td>0.000000</td>\n",
       "      <td>0.447214</td>\n",
       "      <td>0.447214</td>\n",
       "      <td>0.000000</td>\n",
       "      <td>0.447214</td>\n",
       "      <td>0.000000</td>\n",
       "      <td>0.000000</td>\n",
       "      <td>0.000000</td>\n",
       "      <td>0.000000</td>\n",
       "    </tr>\n",
       "    <tr>\n",
       "      <th>1</th>\n",
       "      <td>0.267261</td>\n",
       "      <td>0.267261</td>\n",
       "      <td>0.000000</td>\n",
       "      <td>0.267261</td>\n",
       "      <td>0.534522</td>\n",
       "      <td>0.000000</td>\n",
       "      <td>0.000000</td>\n",
       "      <td>0.000000</td>\n",
       "      <td>0.267261</td>\n",
       "      <td>0.000000</td>\n",
       "      <td>...</td>\n",
       "      <td>0.267261</td>\n",
       "      <td>0.000000</td>\n",
       "      <td>0.000000</td>\n",
       "      <td>0.000000</td>\n",
       "      <td>0.267261</td>\n",
       "      <td>0.000000</td>\n",
       "      <td>0.267261</td>\n",
       "      <td>0.000000</td>\n",
       "      <td>0.267261</td>\n",
       "      <td>0.000000</td>\n",
       "    </tr>\n",
       "    <tr>\n",
       "      <th>2</th>\n",
       "      <td>0.000000</td>\n",
       "      <td>0.000000</td>\n",
       "      <td>0.000000</td>\n",
       "      <td>0.000000</td>\n",
       "      <td>0.000000</td>\n",
       "      <td>0.422242</td>\n",
       "      <td>0.000000</td>\n",
       "      <td>0.523358</td>\n",
       "      <td>0.000000</td>\n",
       "      <td>0.000000</td>\n",
       "      <td>...</td>\n",
       "      <td>0.000000</td>\n",
       "      <td>0.000000</td>\n",
       "      <td>0.000000</td>\n",
       "      <td>0.000000</td>\n",
       "      <td>0.000000</td>\n",
       "      <td>0.000000</td>\n",
       "      <td>0.000000</td>\n",
       "      <td>0.000000</td>\n",
       "      <td>0.000000</td>\n",
       "      <td>0.000000</td>\n",
       "    </tr>\n",
       "    <tr>\n",
       "      <th>3</th>\n",
       "      <td>0.000000</td>\n",
       "      <td>0.000000</td>\n",
       "      <td>0.000000</td>\n",
       "      <td>0.000000</td>\n",
       "      <td>0.000000</td>\n",
       "      <td>0.000000</td>\n",
       "      <td>0.000000</td>\n",
       "      <td>0.000000</td>\n",
       "      <td>0.000000</td>\n",
       "      <td>0.000000</td>\n",
       "      <td>...</td>\n",
       "      <td>0.000000</td>\n",
       "      <td>0.000000</td>\n",
       "      <td>0.000000</td>\n",
       "      <td>0.000000</td>\n",
       "      <td>0.000000</td>\n",
       "      <td>0.000000</td>\n",
       "      <td>0.000000</td>\n",
       "      <td>0.707107</td>\n",
       "      <td>0.000000</td>\n",
       "      <td>0.707107</td>\n",
       "    </tr>\n",
       "    <tr>\n",
       "      <th>4</th>\n",
       "      <td>0.000000</td>\n",
       "      <td>0.000000</td>\n",
       "      <td>0.387757</td>\n",
       "      <td>0.000000</td>\n",
       "      <td>0.000000</td>\n",
       "      <td>0.312840</td>\n",
       "      <td>0.387757</td>\n",
       "      <td>0.000000</td>\n",
       "      <td>0.000000</td>\n",
       "      <td>0.387757</td>\n",
       "      <td>...</td>\n",
       "      <td>0.000000</td>\n",
       "      <td>0.387757</td>\n",
       "      <td>0.000000</td>\n",
       "      <td>0.000000</td>\n",
       "      <td>0.000000</td>\n",
       "      <td>0.000000</td>\n",
       "      <td>0.000000</td>\n",
       "      <td>0.000000</td>\n",
       "      <td>0.000000</td>\n",
       "      <td>0.000000</td>\n",
       "    </tr>\n",
       "  </tbody>\n",
       "</table>\n",
       "<p>5 rows × 28 columns</p>\n",
       "</div>"
      ],
      "text/plain": [
       "         oo       거리가        곳에        관련       내용은        너무        높은  \\\n",
       "0  0.000000  0.000000  0.000000  0.000000  0.000000  0.000000  0.000000   \n",
       "1  0.267261  0.267261  0.000000  0.267261  0.534522  0.000000  0.000000   \n",
       "2  0.000000  0.000000  0.000000  0.000000  0.000000  0.422242  0.000000   \n",
       "3  0.000000  0.000000  0.000000  0.000000  0.000000  0.000000  0.000000   \n",
       "4  0.000000  0.000000  0.387757  0.000000  0.000000  0.312840  0.387757   \n",
       "\n",
       "       딱딱해서       멀었음       모습이  ...        우리       위험해       있는데       재미는  \\\n",
       "0  0.000000  0.000000  0.000000  ...  0.000000  0.000000  0.447214  0.447214   \n",
       "1  0.000000  0.267261  0.000000  ...  0.267261  0.000000  0.000000  0.000000   \n",
       "2  0.523358  0.000000  0.000000  ...  0.000000  0.000000  0.000000  0.000000   \n",
       "3  0.000000  0.000000  0.000000  ...  0.000000  0.000000  0.000000  0.000000   \n",
       "4  0.000000  0.000000  0.387757  ...  0.000000  0.387757  0.000000  0.000000   \n",
       "\n",
       "       직원과는       짧은게        특히     프로그램a       홍보할    화이팅하세요  \n",
       "0  0.000000  0.447214  0.000000  0.000000  0.000000  0.000000  \n",
       "1  0.267261  0.000000  0.267261  0.000000  0.267261  0.000000  \n",
       "2  0.000000  0.000000  0.000000  0.000000  0.000000  0.000000  \n",
       "3  0.000000  0.000000  0.000000  0.707107  0.000000  0.707107  \n",
       "4  0.000000  0.000000  0.000000  0.000000  0.000000  0.000000  \n",
       "\n",
       "[5 rows x 28 columns]"
      ]
     },
     "execution_count": 149,
     "metadata": {},
     "output_type": "execute_result"
    }
   ],
   "source": [
    "# TF-IDF 보기 좋게 데이터 프레임 형식으로 표현\n",
    "\n",
    "import pandas as pd\n",
    "\n",
    "pd.DataFrame(tfidf_matrix, columns =tfidf_sort_word)"
   ]
  },
  {
   "cell_type": "code",
   "execution_count": 152,
   "id": "52d29506-9df5-4b24-97e1-60b651a70415",
   "metadata": {},
   "outputs": [
    {
     "name": "stdout",
     "output_type": "stream",
     "text": [
      "첫번째 문서:  재미는 있는데 시간이 짧은게 아쉽네요~\n"
     ]
    }
   ],
   "source": [
    "# 첫번째 문서 내용 출력\n",
    "print('첫번째 문서: ', data_t['data'][0])"
   ]
  },
  {
   "cell_type": "code",
   "execution_count": 154,
   "id": "8ee02f48-fd54-498e-ae14-ed12f3e14266",
   "metadata": {},
   "outputs": [
    {
     "data": {
      "text/html": [
       "<div>\n",
       "<style scoped>\n",
       "    .dataframe tbody tr th:only-of-type {\n",
       "        vertical-align: middle;\n",
       "    }\n",
       "\n",
       "    .dataframe tbody tr th {\n",
       "        vertical-align: top;\n",
       "    }\n",
       "\n",
       "    .dataframe thead th {\n",
       "        text-align: right;\n",
       "    }\n",
       "</style>\n",
       "<table border=\"1\" class=\"dataframe\">\n",
       "  <thead>\n",
       "    <tr style=\"text-align: right;\">\n",
       "      <th></th>\n",
       "      <th>oo</th>\n",
       "      <th>거리가</th>\n",
       "      <th>곳에</th>\n",
       "      <th>관련</th>\n",
       "      <th>내용은</th>\n",
       "      <th>너무</th>\n",
       "      <th>높은</th>\n",
       "      <th>딱딱해서</th>\n",
       "      <th>멀었음</th>\n",
       "      <th>모습이</th>\n",
       "      <th>...</th>\n",
       "      <th>우리</th>\n",
       "      <th>위험해</th>\n",
       "      <th>있는데</th>\n",
       "      <th>재미는</th>\n",
       "      <th>직원과는</th>\n",
       "      <th>짧은게</th>\n",
       "      <th>특히</th>\n",
       "      <th>프로그램a</th>\n",
       "      <th>홍보할</th>\n",
       "      <th>화이팅하세요</th>\n",
       "    </tr>\n",
       "  </thead>\n",
       "  <tbody>\n",
       "    <tr>\n",
       "      <th>0</th>\n",
       "      <td>0.0</td>\n",
       "      <td>0.0</td>\n",
       "      <td>0.0</td>\n",
       "      <td>0.0</td>\n",
       "      <td>0.0</td>\n",
       "      <td>0.0</td>\n",
       "      <td>0.0</td>\n",
       "      <td>0.0</td>\n",
       "      <td>0.0</td>\n",
       "      <td>0.0</td>\n",
       "      <td>...</td>\n",
       "      <td>0.0</td>\n",
       "      <td>0.0</td>\n",
       "      <td>0.447214</td>\n",
       "      <td>0.447214</td>\n",
       "      <td>0.0</td>\n",
       "      <td>0.447214</td>\n",
       "      <td>0.0</td>\n",
       "      <td>0.0</td>\n",
       "      <td>0.0</td>\n",
       "      <td>0.0</td>\n",
       "    </tr>\n",
       "  </tbody>\n",
       "</table>\n",
       "<p>1 rows × 28 columns</p>\n",
       "</div>"
      ],
      "text/plain": [
       "    oo  거리가   곳에   관련  내용은   너무   높은  딱딱해서  멀었음  모습이  ...   우리  위험해       있는데  \\\n",
       "0  0.0  0.0  0.0  0.0  0.0  0.0  0.0   0.0  0.0  0.0  ...  0.0  0.0  0.447214   \n",
       "\n",
       "        재미는  직원과는       짧은게   특히  프로그램a  홍보할  화이팅하세요  \n",
       "0  0.447214   0.0  0.447214  0.0    0.0  0.0     0.0  \n",
       "\n",
       "[1 rows x 28 columns]"
      ]
     },
     "execution_count": 154,
     "metadata": {},
     "output_type": "execute_result"
    }
   ],
   "source": [
    "# 첫번째 문서에 대한 TF-IDF 내용 출력\n",
    "# 첫번째 문서의 단어가 TF-IDF에서 가중치 숫자로 변경됨 확인\n",
    "\n",
    "pd.DataFrame(tfidf_matrix[:1], columns = tfidf_sort_word)"
   ]
  },
  {
   "cell_type": "markdown",
   "id": "724e4d4a-5f67-4aac-a159-016eca07ba4e",
   "metadata": {},
   "source": [
    "#### linear_kernel 사용하여 유사도 측정하기"
   ]
  },
  {
   "cell_type": "code",
   "execution_count": 157,
   "id": "ee48023d-2c82-4928-96e7-df7cf5ca76ec",
   "metadata": {},
   "outputs": [
    {
     "data": {
      "text/plain": [
       "array([[1.        , 0.        , 0.        , 0.        , 0.        ],\n",
       "       [0.        , 1.        , 0.        , 0.        , 0.        ],\n",
       "       [0.        , 0.        , 1.        , 0.        , 0.13209408],\n",
       "       [0.        , 0.        , 0.        , 1.        , 0.        ],\n",
       "       [0.        , 0.        , 0.13209408, 0.        , 1.        ]])"
      ]
     },
     "execution_count": 157,
     "metadata": {},
     "output_type": "execute_result"
    }
   ],
   "source": [
    "# linear_kernel 이용하여 코사인 유사도 구한다\n",
    "# TF-IDF된 5개 문장에 대해 5문서 x 5문서 매트릭스 형태의 유사도를 만든다\n",
    "# 즉, 첫번째 문장과 나머지 4문장과 관계가 가까운지 멀리 있는지 등을 파악할 수 있다\n",
    "# +1에 가까우면 양의 상관관계가 있고 0이면 아무 관계가 없고, -1이면 음의 상관관계가 있다고 볼 수 있다\n",
    "\n",
    "from sklearn.metrics.pairwise import linear_kernel\n",
    "cosine_sim = linear_kernel(tfidf_matrix, tfidf_matrix)\n",
    "cosine_sim"
   ]
  },
  {
   "cell_type": "code",
   "execution_count": 161,
   "id": "68893ee9-eca8-4f12-b4f7-2e7c7b2bc545",
   "metadata": {},
   "outputs": [
    {
     "data": {
      "text/html": [
       "<div>\n",
       "<style scoped>\n",
       "    .dataframe tbody tr th:only-of-type {\n",
       "        vertical-align: middle;\n",
       "    }\n",
       "\n",
       "    .dataframe tbody tr th {\n",
       "        vertical-align: top;\n",
       "    }\n",
       "\n",
       "    .dataframe thead th {\n",
       "        text-align: right;\n",
       "    }\n",
       "</style>\n",
       "<table border=\"1\" class=\"dataframe\">\n",
       "  <thead>\n",
       "    <tr style=\"text-align: right;\">\n",
       "      <th></th>\n",
       "      <th>1문장</th>\n",
       "      <th>2문장</th>\n",
       "      <th>3문장</th>\n",
       "      <th>4문장</th>\n",
       "      <th>5문장</th>\n",
       "    </tr>\n",
       "  </thead>\n",
       "  <tbody>\n",
       "    <tr>\n",
       "      <th>1문장</th>\n",
       "      <td>1.0</td>\n",
       "      <td>0.0</td>\n",
       "      <td>0.000000</td>\n",
       "      <td>0.0</td>\n",
       "      <td>0.000000</td>\n",
       "    </tr>\n",
       "    <tr>\n",
       "      <th>2문장</th>\n",
       "      <td>0.0</td>\n",
       "      <td>1.0</td>\n",
       "      <td>0.000000</td>\n",
       "      <td>0.0</td>\n",
       "      <td>0.000000</td>\n",
       "    </tr>\n",
       "    <tr>\n",
       "      <th>3문장</th>\n",
       "      <td>0.0</td>\n",
       "      <td>0.0</td>\n",
       "      <td>1.000000</td>\n",
       "      <td>0.0</td>\n",
       "      <td>0.132094</td>\n",
       "    </tr>\n",
       "    <tr>\n",
       "      <th>4문장</th>\n",
       "      <td>0.0</td>\n",
       "      <td>0.0</td>\n",
       "      <td>0.000000</td>\n",
       "      <td>1.0</td>\n",
       "      <td>0.000000</td>\n",
       "    </tr>\n",
       "    <tr>\n",
       "      <th>5문장</th>\n",
       "      <td>0.0</td>\n",
       "      <td>0.0</td>\n",
       "      <td>0.132094</td>\n",
       "      <td>0.0</td>\n",
       "      <td>1.000000</td>\n",
       "    </tr>\n",
       "  </tbody>\n",
       "</table>\n",
       "</div>"
      ],
      "text/plain": [
       "     1문장  2문장       3문장  4문장       5문장\n",
       "1문장  1.0  0.0  0.000000  0.0  0.000000\n",
       "2문장  0.0  1.0  0.000000  0.0  0.000000\n",
       "3문장  0.0  0.0  1.000000  0.0  0.132094\n",
       "4문장  0.0  0.0  0.000000  1.0  0.000000\n",
       "5문장  0.0  0.0  0.132094  0.0  1.000000"
      ]
     },
     "execution_count": 161,
     "metadata": {},
     "output_type": "execute_result"
    }
   ],
   "source": [
    "# 코사인 유사도를 데이터프레임 형식으로 표현하기\n",
    "# 3번 문장과 5번 문장과의 10% 유사도 있음 확인\n",
    "\n",
    "cols = [ str(i) + \"문장\" for i in range(1,6)]\n",
    "ind = [str(i) + \"문장\" for i in range(1,6)]\n",
    "\n",
    "pd.DataFrame(cosine_sim, columns = cols, index = ind)"
   ]
  },
  {
   "cell_type": "markdown",
   "id": "74a14fa6-59b2-4dba-9133-ac7f432d74aa",
   "metadata": {},
   "source": [
    "#### 배운 내용 정리\n",
    "- 1. Cosine 유사도(linear_kernel) 사용하여 문장 간의 유사성을 측정\n",
    "  2. Cosine 유사도(linear_kernel) 하기 전에 TF-IDF 이용하여 각 문장 내의 단어들에 대해 가중치를 부여했고\n",
    "  3. Cosine 유사도(linear_kernel) 이용하여 각 문장별로 다른 문장과의 유사도를 계산하여 매트릭스 형태로 수치 표현\n",
    "  4. 예를 들어, 첫 번째 문장을 보면 다른 문장과의 유사성이 수치화되어 있어, 첫 번째 문장과 다른 문장과 밀접한지, 아닌지 판단할 수 있다\n",
    "  5. 그래서, 코사인 유사도를 이용하여 유사도가 높은 몇 개의 상품을 추천할 수 있다"
   ]
  },
  {
   "cell_type": "code",
   "execution_count": null,
   "id": "1edeaa6a-bbb5-4471-b173-b8b54817dce6",
   "metadata": {},
   "outputs": [],
   "source": []
  },
  {
   "cell_type": "markdown",
   "id": "e9f1c2c7-5816-4de0-8350-cc3486239476",
   "metadata": {
    "jp-MarkdownHeadingCollapsed": true
   },
   "source": [
    "# 4. 자연어 처리(4) 임베딩(Word2Vec, FastText)"
   ]
  },
  {
   "cell_type": "markdown",
   "id": "4938f7bd-7248-4645-b404-605b34547837",
   "metadata": {},
   "source": [
    "- 워드 임베딩: 자연어를 어떻게 좌표평면 위에 표현할 수 있을까?\n",
    "    - (1) Sparse Representation\n",
    "        - 가장 단순한 표현 방법은 one-hot encoding 방식 -> Sparse representation\n",
    "        - 단어 벡터가 sparse해서 단어가 가지는 '의미'를 벡터 공간에 표현 불가능\n",
    "    - (2) Dense representation\n",
    "        - 워드 임베딩(Word embedding): 단어를 의미 있는 밀집 벡터 표현\n",
    "        - 한정된 차원으로 표현 가능\n",
    "        - 의미 관계 유추 가능, 벡터 간 유사성 및 계산 가능\n",
    "\n",
    "- 워드 임베딩\n",
    "    - Word2vec(word to vector), FastText 알고리즘\n",
    "        - 단어를 n차원 벡터 공간에 임베딩(단어를 의미 있는 벡터로 표현)\n",
    "    - 한 단어의 주변 단어들을 통해, 그 단어의 의미를 파악\n",
    "\n",
    "- Word2Vec 학습방식\n",
    "    - 주어진 단어에 대해 앞뒤로 몇 개의 단어를 Input으로 사용하여 주어진 단어를 유추(CBOW 방식)\n",
    "    - 현재 주어진 단어 하나를 가지고 주위에 등장하는 몇 개의 단어들을 유추(Skip-gram 방식)\n",
    "    - 단어에 대한 밀집 벡터를 얻을 수 있음\n",
    "    - (장단점)\n",
    "    - 단어가 가지는 의미 자체를 다차원 공간에 '벡터화'하는 것\n",
    "    - Skip-gram, CBOW 방식으로 밀집벡터를 얻음\n",
    "    - 장점: 단어 간의 유사도 측정, 계산 가능\n",
    "    - 단점: 서울 vs 서울시 -> 의미상 같은 단어이지만, 단어의 subword information 무시, 다른 단어로 인식함\n",
    "\n",
    "- FastText\n",
    "    - 한국어는 다양한 용언(어간 + 어미) 형태를 가짐\n",
    "        - ex) 동사 원형 '모르다'\n",
    "            - 모르네, 모르지, 모르더라, 모르는구나, 모르잖아, 모르니    \n",
    "    - Word2Vec의 경우, 다양한 용언 표현들이 서로 독립된 vocab으로 관리\n",
    "    - 같은 의미지만, 다른 단어로 판단 -> 그래서 나온 것이 FastText\n",
    "      \n",
    "    - Word2Vec는 단어를 쪼개질 수 없는 단위로 생각한다면,\n",
    "    - FastText는 내부 단어(subword)를 고려하여 학습함\n",
    "    - 학습은 word2vec과 유사하나, 단어를 n-gram으로 나누어 학습을 수행\n",
    "    \n",
    "    - FastText는 단어를 n-gram으로 분리를 한 후,\n",
    "    - 모든 n-gram을 vector화 하고 합산을 통해 단어 벡터를 획득\n",
    "    - 유사한 단어(Orange vs Oranges) 학습 시, 각 단어들 간의 유사한 n-gram들이 많아, 비슷한 단어임을 유추 가능\n",
    "    - 오탈자, 모르는 단어(OOV(Out Of Vocabulary)), 희귀 단어에 강세\n",
    "\n",
    "- Keras 임베딩\n",
    "  - 단어 사전(단어: 숫자) 입력 -> N 크기 밀집 벡터 변환\n",
    "  - Embedding(vocab_size, output_dim, input_length=input_length)\n",
    "\n",
    "- Word embedding 방식의 한계점\n",
    "    - 워드 임베딩(Word2Vec, FastText)은 동형어, 다의어 등에 대해 embedding 성능 안 좋음\n",
    "    - 즉, 문맥(Context)을 고려하지 않음\n",
    "        - 'Bank'란 단어를 [0.2 0.8 -1,2] 임베딩 벡터로 임베딩하였다고 하면,\n",
    "          이 단어는 Bank Account와 River Bank에서의 Bank는 전혀 다른 의미임에도\n",
    "          불구하고 두 가지 상황 모두에서 [0.2 0.8 -1,2]의 벡터가 사용됨. 즉, 문맥을 고려할 숭 ㅓㅂㅅ음\n",
    "    - 문맥을 이해할 수 있는 문장 수준 임베딩 필요: ELMO, BERT, GPT"
   ]
  },
  {
   "cell_type": "markdown",
   "id": "3c2c63a1-734f-44db-83ea-fa8a1dcd35dd",
   "metadata": {},
   "source": [
    "### Key point\n",
    "- 1. 워드 임베딩\n",
    "  - 단어를 의미 있는 밀집 벡터 표현. 벡터 간의 연산, 유사성 측정\n",
    "  - 워드 임베딩 방법으로는 Word2Vec, FastText, Keras Embedding\n",
    "- 2. Word2Vec\n",
    "  - 주변 단어를 보고 단어 유추. 밀집 벡터 얻음\n",
    "  - Subword 무시로 '서울', '서울시' 단어를 다른 단어 취급\n",
    "- 3. FastText\n",
    "  - 단어를 n-gram 분리/ vector화 / 합산 통해 단어 벡터를 획득\n",
    "  - 오탈자, 모르는 단어(OOV), 희귀 단어에 강세\n",
    "  - 위드임베딩 방식은 문백 이해 X -> Elmo, BERT, GPT 나옴"
   ]
  },
  {
   "cell_type": "markdown",
   "id": "2ede0d6f-ef12-42b1-8f0d-53959e98b40e",
   "metadata": {
    "jp-MarkdownHeadingCollapsed": true
   },
   "source": [
    "## (1) 한국어 Word2Vec 실습\n",
    "- Word Embedding: 단어를 n차원 벡터로 표현\n",
    "    - 토큰(단어)를 의미 있는 밀집 벡터로 표현\n",
    "\n",
    "- BOW, TF-IDF 경우 매트릭스 안에 많은 0으로 채워진 것을 볼 수 있다 -> Sparse Vector\n",
    "    - 말뭉치에 단어가 많아질수록 문서의 벡터 길이도 길어지게 된(차원의 저주)\n",
    "    - 이 문제를 해결하기 위해, Word Embedding을 통해 단어를 n차원의 밀집벡터로 표현\n",
    "\n",
    "- Word Embedding: Word2Vec, FastText, keras 임베딩\n",
    "    - Word2Vec된 단어는 단어끼리의 거리 측정이나 단어 간 계산이 가능하며 단어가 비슷한지 유사도 측정 가능\n",
    "\n",
    " \n",
    "####  학습 목차\n",
    "- 1. 필요한 라이브러리 설치 및 import\n",
    "  2. 훈련 데이터 불러오기: A 방송사 댓글 데이터\n",
    "  3. 훈련 데이터 전처리: null, 특수 문자 제거\n",
    "  4. 한글 형태소 분석기 OKT 이용하여 토크나이즈\n",
    "  5. Word2Vec 훈련시키고 유사도 측정 "
   ]
  },
  {
   "cell_type": "markdown",
   "id": "56765827-52e2-419b-b574-288772bef79a",
   "metadata": {},
   "source": [
    "### 1. 필요한 라이브러리 설치 및 import"
   ]
  },
  {
   "cell_type": "code",
   "execution_count": 1,
   "id": "74196cb3-b3e9-4899-9ede-c735df09cd88",
   "metadata": {
    "scrolled": true
   },
   "outputs": [
    {
     "name": "stdout",
     "output_type": "stream",
     "text": [
      "Requirement already satisfied: openpyxl in /Users/shinjoohwan/miniconda3/lib/python3.12/site-packages (3.1.5)\n",
      "Requirement already satisfied: et-xmlfile in /Users/shinjoohwan/miniconda3/lib/python3.12/site-packages (from openpyxl) (2.0.0)\n",
      "Requirement already satisfied: gensim in /Users/shinjoohwan/miniconda3/lib/python3.12/site-packages (4.3.3)\n",
      "Requirement already satisfied: numpy<2.0,>=1.18.5 in /Users/shinjoohwan/miniconda3/lib/python3.12/site-packages (from gensim) (1.26.4)\n",
      "Requirement already satisfied: scipy<1.14.0,>=1.7.0 in /Users/shinjoohwan/miniconda3/lib/python3.12/site-packages (from gensim) (1.13.1)\n",
      "Requirement already satisfied: smart-open>=1.8.1 in /Users/shinjoohwan/miniconda3/lib/python3.12/site-packages (from gensim) (7.1.0)\n",
      "Requirement already satisfied: wrapt in /Users/shinjoohwan/miniconda3/lib/python3.12/site-packages (from smart-open>=1.8.1->gensim) (1.17.2)\n",
      "Requirement already satisfied: konlpy in /Users/shinjoohwan/miniconda3/lib/python3.12/site-packages (0.6.0)\n",
      "Requirement already satisfied: JPype1>=0.7.0 in /Users/shinjoohwan/miniconda3/lib/python3.12/site-packages (from konlpy) (1.5.2)\n",
      "Requirement already satisfied: lxml>=4.1.0 in /Users/shinjoohwan/miniconda3/lib/python3.12/site-packages (from konlpy) (5.4.0)\n",
      "Requirement already satisfied: numpy>=1.6 in /Users/shinjoohwan/miniconda3/lib/python3.12/site-packages (from konlpy) (1.26.4)\n",
      "Requirement already satisfied: packaging in /Users/shinjoohwan/miniconda3/lib/python3.12/site-packages (from JPype1>=0.7.0->konlpy) (24.1)\n",
      "Requirement already satisfied: matplotlib in /Users/shinjoohwan/miniconda3/lib/python3.12/site-packages (3.10.3)\n",
      "Requirement already satisfied: contourpy>=1.0.1 in /Users/shinjoohwan/miniconda3/lib/python3.12/site-packages (from matplotlib) (1.3.2)\n",
      "Requirement already satisfied: cycler>=0.10 in /Users/shinjoohwan/miniconda3/lib/python3.12/site-packages (from matplotlib) (0.12.1)\n",
      "Requirement already satisfied: fonttools>=4.22.0 in /Users/shinjoohwan/miniconda3/lib/python3.12/site-packages (from matplotlib) (4.58.1)\n",
      "Requirement already satisfied: kiwisolver>=1.3.1 in /Users/shinjoohwan/miniconda3/lib/python3.12/site-packages (from matplotlib) (1.4.8)\n",
      "Requirement already satisfied: numpy>=1.23 in /Users/shinjoohwan/miniconda3/lib/python3.12/site-packages (from matplotlib) (1.26.4)\n",
      "Requirement already satisfied: packaging>=20.0 in /Users/shinjoohwan/miniconda3/lib/python3.12/site-packages (from matplotlib) (24.1)\n",
      "Requirement already satisfied: pillow>=8 in /Users/shinjoohwan/miniconda3/lib/python3.12/site-packages (from matplotlib) (11.2.1)\n",
      "Requirement already satisfied: pyparsing>=2.3.1 in /Users/shinjoohwan/miniconda3/lib/python3.12/site-packages (from matplotlib) (3.2.3)\n",
      "Requirement already satisfied: python-dateutil>=2.7 in /Users/shinjoohwan/miniconda3/lib/python3.12/site-packages (from matplotlib) (2.9.0.post0)\n",
      "Requirement already satisfied: six>=1.5 in /Users/shinjoohwan/miniconda3/lib/python3.12/site-packages (from python-dateutil>=2.7->matplotlib) (1.17.0)\n"
     ]
    }
   ],
   "source": [
    "# openpyxl: 엑셀 파일 읽기 위한 라이브러리\n",
    "!pip install openpyxl\n",
    "\n",
    "# gensim: 단어를 의미 있는 밀집 vector로 변환하는 Word2Vec 포함하는 라이브러리\n",
    "!pip install gensim\n",
    "\n",
    "# konlpy: 한글 자연어 처리 패키지 설치\n",
    "!python3 -m pip install konlpy\n",
    "\n",
    "!pip install matplotlib"
   ]
  },
  {
   "cell_type": "code",
   "execution_count": 86,
   "id": "d62aa09d-d435-4771-af83-08862db4cbed",
   "metadata": {},
   "outputs": [],
   "source": [
    "import pandas as pd\n",
    "import matplotlib.pyplot as plt\n",
    "\n",
    "from gensim.models.word2vec import Word2Vec\n",
    "from konlpy.tag import Okt"
   ]
  },
  {
   "cell_type": "markdown",
   "id": "a906dbf7-b31a-4a33-98d9-bc99c8f40f39",
   "metadata": {},
   "source": [
    "### 2. 훈련 데이터 불러오기: A 방송사 댓글 데이터"
   ]
  },
  {
   "cell_type": "code",
   "execution_count": 89,
   "id": "76a3f86e-ebd6-47a6-8575-56f9a6f19d8d",
   "metadata": {},
   "outputs": [
    {
     "data": {
      "text/html": [
       "<div>\n",
       "<style scoped>\n",
       "    .dataframe tbody tr th:only-of-type {\n",
       "        vertical-align: middle;\n",
       "    }\n",
       "\n",
       "    .dataframe tbody tr th {\n",
       "        vertical-align: top;\n",
       "    }\n",
       "\n",
       "    .dataframe thead th {\n",
       "        text-align: right;\n",
       "    }\n",
       "</style>\n",
       "<table border=\"1\" class=\"dataframe\">\n",
       "  <thead>\n",
       "    <tr style=\"text-align: right;\">\n",
       "      <th></th>\n",
       "      <th>Unnamed: 0</th>\n",
       "      <th>data</th>\n",
       "      <th>label</th>\n",
       "    </tr>\n",
       "  </thead>\n",
       "  <tbody>\n",
       "    <tr>\n",
       "      <th>246</th>\n",
       "      <td>246</td>\n",
       "      <td>영상F서비스로 간편하게 설치!좋아요\\n우리 회사화이팅!</td>\n",
       "      <td>긍정</td>\n",
       "    </tr>\n",
       "    <tr>\n",
       "      <th>247</th>\n",
       "      <td>247</td>\n",
       "      <td>모든 업무에서 맡은바 업무에 서 최선을 다하는 모습이 좋습니다! 화이팅 입니다.</td>\n",
       "      <td>긍정</td>\n",
       "    </tr>\n",
       "    <tr>\n",
       "      <th>248</th>\n",
       "      <td>248</td>\n",
       "      <td>사내방송 특성상 최근 이슈화 되거나, 언급이 자주되는 '키워드'를 중심으로 뉴스를 ...</td>\n",
       "      <td>부정</td>\n",
       "    </tr>\n",
       "    <tr>\n",
       "      <th>249</th>\n",
       "      <td>249</td>\n",
       "      <td>방송 시간이 너무 길어요.</td>\n",
       "      <td>부정</td>\n",
       "    </tr>\n",
       "    <tr>\n",
       "      <th>250</th>\n",
       "      <td>250</td>\n",
       "      <td>처음 들어보는 말들이 많은데,, 설명이 없어서 힘드네요.</td>\n",
       "      <td>부정</td>\n",
       "    </tr>\n",
       "  </tbody>\n",
       "</table>\n",
       "</div>"
      ],
      "text/plain": [
       "     Unnamed: 0                                               data label\n",
       "246         246                     영상F서비스로 간편하게 설치!좋아요\\n우리 회사화이팅!    긍정\n",
       "247         247       모든 업무에서 맡은바 업무에 서 최선을 다하는 모습이 좋습니다! 화이팅 입니다.    긍정\n",
       "248         248  사내방송 특성상 최근 이슈화 되거나, 언급이 자주되는 '키워드'를 중심으로 뉴스를 ...    부정\n",
       "249         249                                     방송 시간이 너무 길어요.    부정\n",
       "250         250                   처음 들어보는 말들이 많은데,, 설명이 없어서 힘드네요.     부정"
      ]
     },
     "execution_count": 89,
     "metadata": {},
     "output_type": "execute_result"
    }
   ],
   "source": [
    "# A_comment_train.xlsx A방송사 댓글 다운로드 및 Pandas read_excel() 함수 활용하여 읽어오기\n",
    "\n",
    "train_data = pd.read_excel('https://github.com/gzone2000/TEMP_TEST/raw/master/A_comment_train.xlsx', engine = 'openpyxl')\n",
    "train_data.tail()"
   ]
  },
  {
   "cell_type": "code",
   "execution_count": 90,
   "id": "4ba89ecd-110d-41db-8eff-29a0df7d8281",
   "metadata": {},
   "outputs": [
    {
     "data": {
      "text/html": [
       "<div>\n",
       "<style scoped>\n",
       "    .dataframe tbody tr th:only-of-type {\n",
       "        vertical-align: middle;\n",
       "    }\n",
       "\n",
       "    .dataframe tbody tr th {\n",
       "        vertical-align: top;\n",
       "    }\n",
       "\n",
       "    .dataframe thead th {\n",
       "        text-align: right;\n",
       "    }\n",
       "</style>\n",
       "<table border=\"1\" class=\"dataframe\">\n",
       "  <thead>\n",
       "    <tr style=\"text-align: right;\">\n",
       "      <th></th>\n",
       "      <th>Unnamed: 0</th>\n",
       "      <th>data</th>\n",
       "      <th>label</th>\n",
       "    </tr>\n",
       "  </thead>\n",
       "  <tbody>\n",
       "    <tr>\n",
       "      <th>0</th>\n",
       "      <td>0</td>\n",
       "      <td>재미는 있는데 시간이 짧은게 아쉽네요~</td>\n",
       "      <td>긍정</td>\n",
       "    </tr>\n",
       "    <tr>\n",
       "      <th>1</th>\n",
       "      <td>1</td>\n",
       "      <td>OO 관련 내용은 우리 직원과는 거리가 멀었음, 특히, 사내에 홍보할 내용은 아니라고 봄</td>\n",
       "      <td>부정</td>\n",
       "    </tr>\n",
       "    <tr>\n",
       "      <th>2</th>\n",
       "      <td>2</td>\n",
       "      <td>스토리가 너무 딱딱해서 별로였음</td>\n",
       "      <td>부정</td>\n",
       "    </tr>\n",
       "    <tr>\n",
       "      <th>3</th>\n",
       "      <td>3</td>\n",
       "      <td>프로그램A 화이팅하세요!!</td>\n",
       "      <td>긍정</td>\n",
       "    </tr>\n",
       "    <tr>\n",
       "      <th>4</th>\n",
       "      <td>4</td>\n",
       "      <td>높은 곳에 올라가는 모습이 너무 위험해 보여요.</td>\n",
       "      <td>부정</td>\n",
       "    </tr>\n",
       "  </tbody>\n",
       "</table>\n",
       "</div>"
      ],
      "text/plain": [
       "   Unnamed: 0                                               data label\n",
       "0           0                              재미는 있는데 시간이 짧은게 아쉽네요~    긍정\n",
       "1           1  OO 관련 내용은 우리 직원과는 거리가 멀었음, 특히, 사내에 홍보할 내용은 아니라고 봄    부정\n",
       "2           2                                  스토리가 너무 딱딱해서 별로였음    부정\n",
       "3           3                                     프로그램A 화이팅하세요!!    긍정\n",
       "4           4                         높은 곳에 올라가는 모습이 너무 위험해 보여요.    부정"
      ]
     },
     "execution_count": 90,
     "metadata": {},
     "output_type": "execute_result"
    }
   ],
   "source": [
    "train_data[:5] # 상위 5개 출력"
   ]
  },
  {
   "cell_type": "code",
   "execution_count": 91,
   "id": "4ce579fe-d633-40ba-ba9a-0cc4754788f4",
   "metadata": {},
   "outputs": [
    {
     "name": "stdout",
     "output_type": "stream",
     "text": [
      "251\n"
     ]
    }
   ],
   "source": [
    "print(len(train_data)) # 리뷰 개수 출력"
   ]
  },
  {
   "cell_type": "markdown",
   "id": "68e76efe-7ddb-4ab3-9f96-91a1b68f88ab",
   "metadata": {},
   "source": [
    "### 3. 훈련 데이터 전처리\n",
    "- null 제거\n",
    "- 불필요한 특수 문자, 숫자 등 제거"
   ]
  },
  {
   "cell_type": "code",
   "execution_count": 96,
   "id": "c3a61719-4885-4c2c-84c8-ab7498205f64",
   "metadata": {},
   "outputs": [
    {
     "name": "stdout",
     "output_type": "stream",
     "text": [
      "Unnamed: 0    0\n",
      "data          0\n",
      "label         0\n",
      "dtype: int64\n"
     ]
    }
   ],
   "source": [
    "# NULL 값 존재 유무\n",
    "print(train_data.isnull().sum())"
   ]
  },
  {
   "cell_type": "code",
   "execution_count": 100,
   "id": "8bb20b55-bb24-4b4a-b43f-0bfa3636c4ce",
   "metadata": {},
   "outputs": [],
   "source": [
    "# 'data' 컬럼에 대해 한글 외 문자 제거\n",
    "train_data['data'] = train_data['data'].str.replace(r\"[^ㄱ-ㅎㅏ-ㅣ가-힣 ]\",\"\", regex = True)"
   ]
  },
  {
   "cell_type": "code",
   "execution_count": 102,
   "id": "f95a605d-571a-4fa4-8a0b-5b23e1a72139",
   "metadata": {},
   "outputs": [
    {
     "data": {
      "text/html": [
       "<div>\n",
       "<style scoped>\n",
       "    .dataframe tbody tr th:only-of-type {\n",
       "        vertical-align: middle;\n",
       "    }\n",
       "\n",
       "    .dataframe tbody tr th {\n",
       "        vertical-align: top;\n",
       "    }\n",
       "\n",
       "    .dataframe thead th {\n",
       "        text-align: right;\n",
       "    }\n",
       "</style>\n",
       "<table border=\"1\" class=\"dataframe\">\n",
       "  <thead>\n",
       "    <tr style=\"text-align: right;\">\n",
       "      <th></th>\n",
       "      <th>Unnamed: 0</th>\n",
       "      <th>data</th>\n",
       "      <th>label</th>\n",
       "    </tr>\n",
       "  </thead>\n",
       "  <tbody>\n",
       "    <tr>\n",
       "      <th>0</th>\n",
       "      <td>0</td>\n",
       "      <td>재미는 있는데 시간이 짧은게 아쉽네요</td>\n",
       "      <td>긍정</td>\n",
       "    </tr>\n",
       "    <tr>\n",
       "      <th>1</th>\n",
       "      <td>1</td>\n",
       "      <td>관련 내용은 우리 직원과는 거리가 멀었음 특히 사내에 홍보할 내용은 아니라고 봄</td>\n",
       "      <td>부정</td>\n",
       "    </tr>\n",
       "    <tr>\n",
       "      <th>2</th>\n",
       "      <td>2</td>\n",
       "      <td>스토리가 너무 딱딱해서 별로였음</td>\n",
       "      <td>부정</td>\n",
       "    </tr>\n",
       "    <tr>\n",
       "      <th>3</th>\n",
       "      <td>3</td>\n",
       "      <td>프로그램 화이팅하세요</td>\n",
       "      <td>긍정</td>\n",
       "    </tr>\n",
       "    <tr>\n",
       "      <th>4</th>\n",
       "      <td>4</td>\n",
       "      <td>높은 곳에 올라가는 모습이 너무 위험해 보여요</td>\n",
       "      <td>부정</td>\n",
       "    </tr>\n",
       "  </tbody>\n",
       "</table>\n",
       "</div>"
      ],
      "text/plain": [
       "   Unnamed: 0                                           data label\n",
       "0           0                           재미는 있는데 시간이 짧은게 아쉽네요    긍정\n",
       "1           1   관련 내용은 우리 직원과는 거리가 멀었음 특히 사내에 홍보할 내용은 아니라고 봄    부정\n",
       "2           2                              스토리가 너무 딱딱해서 별로였음    부정\n",
       "3           3                                    프로그램 화이팅하세요    긍정\n",
       "4           4                      높은 곳에 올라가는 모습이 너무 위험해 보여요    부정"
      ]
     },
     "execution_count": 102,
     "metadata": {},
     "output_type": "execute_result"
    }
   ],
   "source": [
    "train_data[:5] # 상위 5개 출력"
   ]
  },
  {
   "cell_type": "markdown",
   "id": "310fec7b-7da6-462b-acb1-1738eb7f0836",
   "metadata": {},
   "source": [
    "### 4. 한글 형태소 분석기 OKT 이용하여 토크나이즈"
   ]
  },
  {
   "cell_type": "code",
   "execution_count": 106,
   "id": "dced6c33-5595-4614-a2a9-513ecf225bbb",
   "metadata": {},
   "outputs": [],
   "source": [
    "# 불용어 정의\n",
    "stopwords = ['의', '가', '이','은','들','는','좀','잘','걍','과','도','를','으로','자','에','와','한','하다']"
   ]
  },
  {
   "cell_type": "code",
   "execution_count": 118,
   "id": "71c24b01-459e-4259-9694-e81c65bf8cb2",
   "metadata": {},
   "outputs": [],
   "source": [
    "# 형태소 분석기 OKT를 사용한 토큰화 작업\n",
    "# 251개 문장 사용하여 금방 수행함\n",
    "\n",
    "okt = Okt()\n",
    "tokenized_data = []\n",
    "for sentence in train_data['data']:\n",
    "    temp_X = okt.morphs(sentence, stem = True) # 형태소 분류하여 토큰화, stem = True 어간만 추출하겠다. 어미는 버림\n",
    "    temp_X = [word for word in temp_X if not word in stopwords] # 불용어 제거\n",
    "    tokenized_data.append(temp_X)"
   ]
  },
  {
   "cell_type": "code",
   "execution_count": 122,
   "id": "69beb14a-271c-4b69-85b8-a65471ab27c2",
   "metadata": {},
   "outputs": [
    {
     "name": "stdout",
     "output_type": "stream",
     "text": [
      "[['재미', '있다', '시간', '짧다', '아쉽다'], ['관련', '내용', '우리', '직원', '과는', '거리', '멀다', '특히', '사내', '홍보', '내용', '아니다', '봄'], ['스토리', '너무', '딱딱하다', '별로', '이다']]\n"
     ]
    }
   ],
   "source": [
    "print(tokenized_data[:3])"
   ]
  },
  {
   "cell_type": "code",
   "execution_count": 124,
   "id": "447f5cf5-9445-4e2e-aa7c-495f61a2ade6",
   "metadata": {},
   "outputs": [
    {
     "data": {
      "text/plain": [
       "1039"
      ]
     },
     "execution_count": 124,
     "metadata": {},
     "output_type": "execute_result"
    }
   ],
   "source": [
    "# 단어 개수 세기\n",
    "data_dict = set() # 중복 허용 x\n",
    "for line in tokenized_data:\n",
    "    for word in line:\n",
    "        data_dict.add(word)\n",
    "\n",
    "len(data_dict)"
   ]
  },
  {
   "cell_type": "code",
   "execution_count": 134,
   "id": "ac256463-3a50-4365-91be-85fbdf6e7dfd",
   "metadata": {},
   "outputs": [
    {
     "name": "stdout",
     "output_type": "stream",
     "text": [
      "리뷰의 최대 길이 : 55\n",
      "리뷰의 평균 길이 : 13.354581673306773\n"
     ]
    },
    {
     "data": {
      "image/png": "[encoded data removed]",
      "text/plain": [
       "<Figure size 640x480 with 1 Axes>"
      ]
     },
     "metadata": {},
     "output_type": "display_data"
    }
   ],
   "source": [
    "# 리뷰 길이 분포 확인\n",
    "# map(function, iterable): Applies a given function to each item of an iterable and returns an iterator of the results\n",
    "print('리뷰의 최대 길이 :', max((len(l) for l in tokenized_data)))\n",
    "print('리뷰의 평균 길이 :', sum(map(len, tokenized_data)) / len(tokenized_data))\n",
    "plt.hist([len(s) for s in tokenized_data], bins = 50) # bins: Specifies how many intervals you want to divide your data into.\n",
    "plt.xlabel('length of samples')\n",
    "plt.ylabel('number of samples')\n",
    "plt.show()"
   ]
  },
  {
   "cell_type": "markdown",
   "id": "13846c40-44e0-422e-9a77-a9824c891c23",
   "metadata": {},
   "source": [
    "### 5. Word2Vec 훈련시키고 유사도 측정\n",
    "- gensim의 word2vec을 이용하여 토큰(단어)을 의미 있는 Vector로 만듦\n",
    "- wv(word2vec)의 most_similar 이용하여 유사도 측정\n",
    "\n",
    "- CBOW, Skip-gram -> 이 두개를 통해 밀집벡터 얻을 수 있다\n",
    "    - CBOW: 주변 단어를 보고 중간 단어를 예측하게 하는 것\n",
    "    - Skip-gram: 한 단어를 보고 중간 단어를 예측하게 하는 것"
   ]
  },
  {
   "cell_type": "code",
   "execution_count": 144,
   "id": "bc5facf8-82eb-49f8-ab52-81fb32d36901",
   "metadata": {},
   "outputs": [],
   "source": [
    "# Word2Vec의 하이퍼파라미터 값은 다음과 같습니다.\n",
    "# size = 워드 벡터의 특징 값. 즉, 워드 임베딩된 벡터의 차원\n",
    "# window = 컨텍스트 윈도우 크기\n",
    "# min_count = 단어 최소 빈도 수 제한(빈도가 적은 단어들은 학습하지 않는다.). 데이터 적어 0으로 지정\n",
    "# workers = 학습을 위한 프로세스 수\n",
    "# sg = 0은 CBOW, 1은 Skip-gram\n",
    "\n",
    "# Word2Vec 수행하게 되면 A방송사 댓글 데이터의 단어를 50차원의 밀집벡터로 변환하게 된다\n",
    "\n",
    "# workers: Specifies how many worker threads (parallel processes) are used to train the model\n",
    "\n",
    "from gensim.models import Word2Vec\n",
    "model = Word2Vec(sentences = tokenized_data, vector_size = 50, window = 5, min_count = 0, workers = 4, sg = 0)"
   ]
  },
  {
   "cell_type": "code",
   "execution_count": 146,
   "id": "48799807-a144-4406-b3cb-0bd5f7851387",
   "metadata": {},
   "outputs": [
    {
     "data": {
      "text/plain": [
       "<gensim.models.word2vec.Word2Vec at 0x319e6a6c0>"
      ]
     },
     "execution_count": 146,
     "metadata": {},
     "output_type": "execute_result"
    }
   ],
   "source": [
    "model"
   ]
  },
  {
   "cell_type": "code",
   "execution_count": 148,
   "id": "7b904432-54e2-4a71-a5ca-7ac1e8f776d5",
   "metadata": {},
   "outputs": [
    {
     "data": {
      "text/plain": [
       "(1039, 50)"
      ]
     },
     "execution_count": 148,
     "metadata": {},
     "output_type": "execute_result"
    }
   ],
   "source": [
    "# 완성된 임베딩 매트릭스의 크기 확인\n",
    "# 1039개 단어를 50차원 Vector 표현\n",
    "\n",
    "model.wv.vectors.shape"
   ]
  },
  {
   "cell_type": "code",
   "execution_count": 156,
   "id": "e1d543a6-1b9f-47d0-9edc-b85fe48f2e5f",
   "metadata": {},
   "outputs": [
    {
     "data": {
      "text/plain": [
       "1039"
      ]
     },
     "execution_count": 156,
     "metadata": {},
     "output_type": "execute_result"
    }
   ],
   "source": [
    "# 단어 개수: 1039\n",
    "len(model.wv.key_to_index)"
   ]
  },
  {
   "cell_type": "code",
   "execution_count": 158,
   "id": "4824a8df-7eb7-4c73-87c5-f8fec844391d",
   "metadata": {
    "scrolled": true
   },
   "outputs": [
    {
     "data": {
      "text/plain": [
       "{'을': 0,\n",
       " '있다': 1,\n",
       " '좋다': 2,\n",
       " '같다': 3,\n",
       " '되다': 4,\n",
       " '우리': 5,\n",
       " '것': 6,\n",
       " '방송': 7,\n",
       " '회사': 8,\n",
       " '너무': 9,\n",
       " '보다': 10,\n",
       " '고객': 11,\n",
       " '이다': 12,\n",
       " '자다': 13,\n",
       " '되어다': 14,\n",
       " '더': 15,\n",
       " '내용': 16,\n",
       " '않다': 17,\n",
       " '적': 18,\n",
       " '에서': 19,\n",
       " '어떻다': 20,\n",
       " '없다': 21,\n",
       " '아쉽다': 22,\n",
       " '재미있다': 23,\n",
       " '수': 24,\n",
       " '기업': 25,\n",
       " '서비스': 26,\n",
       " '감사하다': 27,\n",
       " '많다': 28,\n",
       " '화이팅': 29,\n",
       " '부분': 30,\n",
       " '대한': 31,\n",
       " '프로그램': 32,\n",
       " '로': 33,\n",
       " '인': 34,\n",
       " '기대': 35,\n",
       " '업무': 36,\n",
       " '쇼핑': 37,\n",
       " '생각': 38,\n",
       " '설명': 39,\n",
       " '시간': 40,\n",
       " '앞': 41,\n",
       " '재밌다': 42,\n",
       " '화': 43,\n",
       " '요': 44,\n",
       " '에게': 45,\n",
       " '들다': 46,\n",
       " '나오다': 47,\n",
       " '짧다': 48,\n",
       " '어렵다': 49,\n",
       " '점': 50,\n",
       " '이미지': 51,\n",
       " '조금': 52,\n",
       " '새롭다': 53,\n",
       " '다음': 54,\n",
       " '가다': 55,\n",
       " '자막': 56,\n",
       " '많이': 57,\n",
       " '부족하다': 58,\n",
       " '보이다': 59,\n",
       " '이해': 60,\n",
       " '다양하다': 61,\n",
       " '고': 62,\n",
       " '직원': 63,\n",
       " '말': 64,\n",
       " '사내': 65,\n",
       " '모습': 66,\n",
       " '상품': 67,\n",
       " '인데': 68,\n",
       " '해주다': 69,\n",
       " '항상': 70,\n",
       " '으로도': 71,\n",
       " '만': 72,\n",
       " '픽': 73,\n",
       " '소개': 74,\n",
       " '모르다': 75,\n",
       " '보고': 76,\n",
       " '제': 77,\n",
       " '필요하다': 78,\n",
       " '정말': 79,\n",
       " '트렌드': 80,\n",
       " '보여주다': 81,\n",
       " '등': 82,\n",
       " '기술': 83,\n",
       " '활용': 84,\n",
       " '일': 85,\n",
       " '더욱': 86,\n",
       " '응원': 87,\n",
       " '통해': 88,\n",
       " '도움': 89,\n",
       " '개통': 90,\n",
       " '코로나': 91,\n",
       " '다': 92,\n",
       " '유익하다': 93,\n",
       " '활동': 94,\n",
       " '중심': 95,\n",
       " '마케팅': 96,\n",
       " '재미': 97,\n",
       " '사례': 98,\n",
       " '진행': 99,\n",
       " '지점': 100,\n",
       " '신입사원': 101,\n",
       " '구성': 102,\n",
       " '오다': 103,\n",
       " '인지': 104,\n",
       " '성': 105,\n",
       " '네': 106,\n",
       " '마음': 107,\n",
       " '방식': 108,\n",
       " '이네': 109,\n",
       " '신선하다': 110,\n",
       " '거': 111,\n",
       " '정보': 112,\n",
       " '주다': 113,\n",
       " '쉬다': 114,\n",
       " '싶다': 115,\n",
       " '발전': 116,\n",
       " '알': 117,\n",
       " '불편하다': 118,\n",
       " '영상': 119,\n",
       " 'ㅎㅎ': 120,\n",
       " '때': 121,\n",
       " '분들': 122,\n",
       " '처리': 123,\n",
       " '게': 124,\n",
       " '저': 125,\n",
       " '셀프': 126,\n",
       " '내': 127,\n",
       " '확인': 128,\n",
       " '그룹': 129,\n",
       " '기획': 130,\n",
       " '하고': 131,\n",
       " '싹': 132,\n",
       " '분': 133,\n",
       " '닿다': 134,\n",
       " '전달': 135,\n",
       " '사람': 136,\n",
       " '솔루션': 137,\n",
       " '소리': 138,\n",
       " '산만하다': 139,\n",
       " '최근': 140,\n",
       " '중': 141,\n",
       " '미숙': 142,\n",
       " '데이터': 143,\n",
       " '차별': 144,\n",
       " '가장': 145,\n",
       " '약간': 146,\n",
       " '해보다': 147,\n",
       " '즐겁다': 148,\n",
       " '들이다': 149,\n",
       " '느끼다': 150,\n",
       " '아니다': 151,\n",
       " '서': 152,\n",
       " '느낌': 153,\n",
       " '역시': 154,\n",
       " 'ㅎ': 155,\n",
       " '아침': 156,\n",
       " '파악': 157,\n",
       " '사항': 158,\n",
       " '나다': 159,\n",
       " '보기': 160,\n",
       " '이나': 161,\n",
       " '기억': 162,\n",
       " '타': 163,\n",
       " '오늘': 164,\n",
       " '인상': 165,\n",
       " '시장': 166,\n",
       " '구체': 167,\n",
       " '생기다': 168,\n",
       " '판매': 169,\n",
       " '간단하다': 170,\n",
       " '기': 171,\n",
       " '국민': 172,\n",
       " '위해': 173,\n",
       " '현장': 174,\n",
       " '노력': 175,\n",
       " '매출': 176,\n",
       " '실수': 177,\n",
       " '파이팅': 178,\n",
       " '영향': 179,\n",
       " '실제': 180,\n",
       " '영업': 181,\n",
       " '표현': 182,\n",
       " '장면': 183,\n",
       " '쓰다': 184,\n",
       " '대해': 185,\n",
       " '계속': 186,\n",
       " '듯': 187,\n",
       " '금일': 188,\n",
       " '관련': 189,\n",
       " '사': 190,\n",
       " '다소': 191,\n",
       " '아쉬움': 192,\n",
       " '케어': 193,\n",
       " '공감': 194,\n",
       " '드리다': 195,\n",
       " '분야': 196,\n",
       " '매우': 197,\n",
       " '수고': 198,\n",
       " '필요': 199,\n",
       " '홍보': 200,\n",
       " '편': 201,\n",
       " '가볍다': 202,\n",
       " '소': 203,\n",
       " '추가': 204,\n",
       " '홈쇼핑': 205,\n",
       " '연관': 206,\n",
       " '체험': 207,\n",
       " '최고': 208,\n",
       " '스토리': 209,\n",
       " '찾다': 210,\n",
       " '모두': 211,\n",
       " '돼다': 212,\n",
       " '컨텐츠': 213,\n",
       " '주제': 214,\n",
       " '좌충우돌': 215,\n",
       " '못': 216,\n",
       " '매장': 217,\n",
       " '위': 218,\n",
       " '적용': 219,\n",
       " '함께': 220,\n",
       " '대비': 221,\n",
       " '인터뷰': 222,\n",
       " '한번': 223,\n",
       " '보완': 224,\n",
       " '다시': 225,\n",
       " '반영': 226,\n",
       " '니': 227,\n",
       " '즈': 228,\n",
       " '정확하다': 229,\n",
       " '시대': 230,\n",
       " '맞다': 231,\n",
       " '비교': 232,\n",
       " '담다': 233,\n",
       " '여러': 234,\n",
       " '민원': 235,\n",
       " '처음': 236,\n",
       " '에피소드': 237,\n",
       " '문제': 238,\n",
       " '이슈': 239,\n",
       " '시도': 240,\n",
       " '이번': 241,\n",
       " '부가': 242,\n",
       " '무엇': 243,\n",
       " '개선': 244,\n",
       " '알다': 245,\n",
       " '정신': 246,\n",
       " '유쾌하다': 247,\n",
       " '에요': 248,\n",
       " '번': 249,\n",
       " '이야기': 250,\n",
       " '김씨': 251,\n",
       " '현실': 252,\n",
       " '부탁드리다': 253,\n",
       " '근무': 254,\n",
       " '온라인': 255,\n",
       " '가지': 256,\n",
       " '쓰리다': 257,\n",
       " '화면': 258,\n",
       " '점점': 259,\n",
       " '목소리': 260,\n",
       " '방안': 261,\n",
       " '아이디어': 262,\n",
       " '마다': 263,\n",
       " '건지다': 264,\n",
       " '에도': 265,\n",
       " '면': 266,\n",
       " '이에요': 267,\n",
       " '기회': 268,\n",
       " '광고': 269,\n",
       " '볼': 270,\n",
       " '향상': 271,\n",
       " '다루다': 272,\n",
       " '줄': 273,\n",
       " '임': 274,\n",
       " '장바구니': 275,\n",
       " '전혀': 276,\n",
       " '전개': 277,\n",
       " '부터': 278,\n",
       " '콘텐츠': 279,\n",
       " '집중': 280,\n",
       " '크다': 281,\n",
       " '하': 282,\n",
       " '이고': 283,\n",
       " '지다': 284,\n",
       " '없이': 285,\n",
       " '사업': 286,\n",
       " '힘': 287,\n",
       " '기본': 288,\n",
       " '무슨': 289,\n",
       " '어울리다': 290,\n",
       " '전': 291,\n",
       " '소식': 292,\n",
       " '덕후': 293,\n",
       " '차다': 294,\n",
       " '에서의': 295,\n",
       " '노멀': 296,\n",
       " '갈다': 297,\n",
       " '뉴': 298,\n",
       " '부정': 299,\n",
       " '트랜드': 300,\n",
       " '깊다': 301,\n",
       " '힘들다': 302,\n",
       " '알아보다': 303,\n",
       " '아': 304,\n",
       " '편성': 305,\n",
       " '같이': 306,\n",
       " '찜': 307,\n",
       " '이태원': 308,\n",
       " '이점': 309,\n",
       " '공략': 310,\n",
       " '젊다': 311,\n",
       " '라는': 312,\n",
       " '저희': 313,\n",
       " '참신하다': 314,\n",
       " '사용': 315,\n",
       " '간편하다': 316,\n",
       " '어색하다': 317,\n",
       " '이상': 318,\n",
       " '코너': 319,\n",
       " '아이템': 320,\n",
       " '좀더': 321,\n",
       " '늘다': 322,\n",
       " '최선': 323,\n",
       " '경쟁력': 324,\n",
       " '매': 325,\n",
       " '뉴스': 326,\n",
       " '멘트': 327,\n",
       " '포인트': 328,\n",
       " '회': 329,\n",
       " '중요하다': 330,\n",
       " '간편': 331,\n",
       " '납부': 332,\n",
       " '설치': 333,\n",
       " '이루다': 334,\n",
       " '쓰이다': 335,\n",
       " '세대': 336,\n",
       " '자존감': 337,\n",
       " '시작': 338,\n",
       " '하루': 339,\n",
       " '전체': 340,\n",
       " '그': 341,\n",
       " '소신': 342,\n",
       " '아무래도': 343,\n",
       " '마스크': 344,\n",
       " '대감': 345,\n",
       " '섭외': 346,\n",
       " '맡다': 347,\n",
       " '작다': 348,\n",
       " '찰떡': 349,\n",
       " '로밍': 350,\n",
       " '입장': 351,\n",
       " '비유': 352,\n",
       " '외부': 353,\n",
       " '재다': 354,\n",
       " '바라다': 355,\n",
       " '또한': 356,\n",
       " '이렇다': 357,\n",
       " '의견': 358,\n",
       " '업체': 359,\n",
       " '남다': 360,\n",
       " '형식': 361,\n",
       " '딱딱하다': 362,\n",
       " '시청': 363,\n",
       " '기대하다': 364,\n",
       " '진짜': 365,\n",
       " '따다': 366,\n",
       " '차이점': 367,\n",
       " '적다': 368,\n",
       " '별로': 369,\n",
       " '갓': 370,\n",
       " '자리': 371,\n",
       " '인하다': 372,\n",
       " 'ㅋㅋ': 373,\n",
       " '송씨': 374,\n",
       " '모델': 375,\n",
       " '때문': 376,\n",
       " '인질': 377,\n",
       " '봄': 378,\n",
       " '이어지다': 379,\n",
       " '극': 380,\n",
       " '성과': 381,\n",
       " '풀다': 382,\n",
       " '서도': 383,\n",
       " '눈물': 384,\n",
       " '전략': 385,\n",
       " '티르': 386,\n",
       " '극복': 387,\n",
       " '상': 388,\n",
       " '눈': 389,\n",
       " '따뜻하다': 390,\n",
       " '받다': 391,\n",
       " '들어오다': 392,\n",
       " '사회': 393,\n",
       " '비': 394,\n",
       " '적극': 395,\n",
       " '바뀌다': 396,\n",
       " '편도': 397,\n",
       " '핵심': 398,\n",
       " '하나': 399,\n",
       " '떨어지다': 400,\n",
       " '환경': 401,\n",
       " '처럼': 402,\n",
       " '위로': 403,\n",
       " '제일': 404,\n",
       " '이래저래': 405,\n",
       " '마무리': 406,\n",
       " '방향성': 407,\n",
       " '만들다': 408,\n",
       " '꼼꼼하다': 409,\n",
       " '끝나다': 410,\n",
       " '꿇다': 411,\n",
       " '무릅': 412,\n",
       " '나가다': 413,\n",
       " '신뢰': 414,\n",
       " '세': 415,\n",
       " '모든': 416,\n",
       " '괜찮다': 417,\n",
       " '직접': 418,\n",
       " '정리': 419,\n",
       " '타다': 420,\n",
       " '자주': 421,\n",
       " '간략하다': 422,\n",
       " '염려': 423,\n",
       " '혁신': 424,\n",
       " '자기': 425,\n",
       " '발': 426,\n",
       " '지금': 427,\n",
       " '측면': 428,\n",
       " '까지': 429,\n",
       " '시키다': 430,\n",
       " '정돈': 431,\n",
       " '맞추다': 432,\n",
       " '편의': 433,\n",
       " '서다': 434,\n",
       " '그리고': 435,\n",
       " '놀라다': 436,\n",
       " '안되다': 437,\n",
       " '수도': 438,\n",
       " '라': 439,\n",
       " '이지만': 440,\n",
       " '지르다': 441,\n",
       " '계기': 442,\n",
       " '경우': 443,\n",
       " '의도': 444,\n",
       " '나': 445,\n",
       " '먹다': 446,\n",
       " '삼': 447,\n",
       " '상황': 448,\n",
       " '달다': 449,\n",
       " '감': 450,\n",
       " '바라보다': 451,\n",
       " '근': 452,\n",
       " '글씨': 453,\n",
       " '지': 454,\n",
       " '이제': 455,\n",
       " '소통': 456,\n",
       " '뭔': 457,\n",
       " '다니다': 458,\n",
       " '형': 459,\n",
       " '맞춤': 460,\n",
       " '인식': 461,\n",
       " '컨설턴트': 462,\n",
       " '돈쭐': 463,\n",
       " '흥미롭다': 464,\n",
       " '어떠하다': 465,\n",
       " '니즈': 466,\n",
       " '첫': 467,\n",
       " '대박': 468,\n",
       " '아주': 469,\n",
       " '감사': 470,\n",
       " '방문': 471,\n",
       " '편리하다': 472,\n",
       " '다른': 473,\n",
       " '멋지다': 474,\n",
       " '친': 475,\n",
       " '로그인': 476,\n",
       " '듭니': 477,\n",
       " '시청각': 478,\n",
       " '전기': 479,\n",
       " '단단하다': 480,\n",
       " '인터넷': 481,\n",
       " '기르다': 482,\n",
       " '일어서다': 483,\n",
       " '포기': 484,\n",
       " '수가': 485,\n",
       " '부탁': 486,\n",
       " '편집': 487,\n",
       " '오히려': 488,\n",
       " '뭐': 489,\n",
       " '얼마나': 490,\n",
       " '실패하다': 491,\n",
       " '편이': 492,\n",
       " '든': 493,\n",
       " '당당하다': 494,\n",
       " '예시': 495,\n",
       " '으론': 496,\n",
       " '그나마': 497,\n",
       " '빠르다': 498,\n",
       " '위안': 499,\n",
       " '버리다': 500,\n",
       " '갑자기': 501,\n",
       " '하이트': 502,\n",
       " '스럽다': 503,\n",
       " '주류': 504,\n",
       " '마음껏': 505,\n",
       " '파다': 506,\n",
       " '이용': 507,\n",
       " '숨기': 508,\n",
       " '통신비': 509,\n",
       " '독자': 510,\n",
       " '브랜드': 511,\n",
       " '여행': 512,\n",
       " '노선': 513,\n",
       " '성공하다': 514,\n",
       " '시즌': 515,\n",
       " '떠오르다': 516,\n",
       " '탄탄하다': 517,\n",
       " '콜라보': 518,\n",
       " '건승': 519,\n",
       " '적절하다': 520,\n",
       " '트렌디': 521,\n",
       " '당황': 522,\n",
       " '빠지다': 523,\n",
       " '발화': 524,\n",
       " '지루하다': 525,\n",
       " '대면': 526,\n",
       " '절감': 527,\n",
       " '무료컨설팅': 528,\n",
       " '게임': 529,\n",
       " '불만': 530,\n",
       " '컬래버': 531,\n",
       " '출동': 532,\n",
       " '시': 533,\n",
       " '진열': 534,\n",
       " '본질': 535,\n",
       " '전문성': 536,\n",
       " '악': 537,\n",
       " '부서': 538,\n",
       " '유치하다': 539,\n",
       " '전화': 540,\n",
       " '센터': 541,\n",
       " '안': 542,\n",
       " '흐름': 543,\n",
       " '사건': 544,\n",
       " '선도': 545,\n",
       " '안남다': 546,\n",
       " '분량': 547,\n",
       " '유행': 548,\n",
       " '도입': 549,\n",
       " '위트': 550,\n",
       " '부담': 551,\n",
       " '순삭': 552,\n",
       " '화가': 553,\n",
       " '에서는': 554,\n",
       " '가치': 555,\n",
       " '부': 556,\n",
       " '후반': 557,\n",
       " '굿굿': 558,\n",
       " '화사': 559,\n",
       " '치우치다': 560,\n",
       " '실천': 561,\n",
       " '바램': 562,\n",
       " '충분하다': 563,\n",
       " '공': 564,\n",
       " '부각': 565,\n",
       " '아나운서': 566,\n",
       " '추진': 567,\n",
       " '이러하다': 568,\n",
       " '차별성': 569,\n",
       " '변화': 570,\n",
       " '거치다': 571,\n",
       " '크게': 572,\n",
       " '대': 573,\n",
       " '월요일': 574,\n",
       " '싸우다': 575,\n",
       " '전파': 576,\n",
       " '활성화': 577,\n",
       " '한편': 578,\n",
       " '통한': 579,\n",
       " '참고자료': 580,\n",
       " '내외': 581,\n",
       " '가전': 582,\n",
       " '거기': 583,\n",
       " '주부': 584,\n",
       " '유의': 585,\n",
       " '여기': 586,\n",
       " '들어서다': 587,\n",
       " '보탬': 588,\n",
       " '인것': 589,\n",
       " '주인': 590,\n",
       " '충족': 591,\n",
       " '나은': 592,\n",
       " '네로': 593,\n",
       " '하리': 594,\n",
       " '성장하다': 595,\n",
       " '콘셉트': 596,\n",
       " '매번': 597,\n",
       " '자료': 598,\n",
       " '래야': 599,\n",
       " '유행어': 600,\n",
       " '해당': 601,\n",
       " '여기다': 602,\n",
       " '기존': 603,\n",
       " '업계': 604,\n",
       " '감탄': 605,\n",
       " '사오다': 606,\n",
       " '솜씨': 607,\n",
       " '현황': 608,\n",
       " '인지도': 609,\n",
       " '호스트': 610,\n",
       " '쇼': 611,\n",
       " '기도': 612,\n",
       " '부럽다': 613,\n",
       " '이라': 614,\n",
       " '앉다': 615,\n",
       " '의자': 616,\n",
       " '어디': 617,\n",
       " '탐방': 618,\n",
       " '명확하다': 619,\n",
       " '예정': 620,\n",
       " '갓뚜기': 621,\n",
       " '달': 622,\n",
       " '오동통면': 623,\n",
       " '너구리': 624,\n",
       " '뒷전': 625,\n",
       " '라면': 626,\n",
       " '이랑': 627,\n",
       " '맛있다': 628,\n",
       " '일도': 629,\n",
       " '석조': 630,\n",
       " '드라마': 631,\n",
       " '신기하다': 632,\n",
       " '짱': 633,\n",
       " '롤러코스터': 634,\n",
       " '인가요': 635,\n",
       " '안마': 636,\n",
       " '자마자': 637,\n",
       " '는걸': 638,\n",
       " '출근': 639,\n",
       " '에서도': 640,\n",
       " '앵글': 641,\n",
       " '특성': 642,\n",
       " '특히': 643,\n",
       " '멀다': 644,\n",
       " '거리': 645,\n",
       " '과는': 646,\n",
       " '언급': 647,\n",
       " '키': 648,\n",
       " '워드': 649,\n",
       " '전문용어': 650,\n",
       " '밍': 651,\n",
       " '빈번': 652,\n",
       " '노출': 653,\n",
       " '주의': 654,\n",
       " '위험': 655,\n",
       " '기원': 656,\n",
       " '동향': 657,\n",
       " '세심': 658,\n",
       " '교육청': 659,\n",
       " '에그': 660,\n",
       " '굉장하다': 661,\n",
       " '관심': 662,\n",
       " '일어나지': 663,\n",
       " '위험하다': 664,\n",
       " '올라가다': 665,\n",
       " '해외': 666,\n",
       " '곳': 667,\n",
       " '높다': 668,\n",
       " '동': 669,\n",
       " '객관': 670,\n",
       " '수준': 671,\n",
       " '유사': 672,\n",
       " '다루어지다': 673,\n",
       " '요즘': 674,\n",
       " '등장': 675,\n",
       " '늘': 676,\n",
       " '능숙하다': 677,\n",
       " '담기다': 678,\n",
       " '음성합성': 679,\n",
       " '꾸다': 680,\n",
       " '볼때': 681,\n",
       " '내내': 682,\n",
       " '워': 683,\n",
       " '끄다': 684,\n",
       " '찡하다': 685,\n",
       " '상당하다': 686,\n",
       " '감동': 687,\n",
       " '호흡': 688,\n",
       " '녹화': 689,\n",
       " '들리다': 690,\n",
       " '만을': 691,\n",
       " '핫': 692,\n",
       " '축하': 693,\n",
       " '의문': 694,\n",
       " '방': 695,\n",
       " '주석': 696,\n",
       " '제작': 697,\n",
       " '방법': 698,\n",
       " '주제가': 699,\n",
       " '아직': 700,\n",
       " '보강': 701,\n",
       " '연결하다': 702,\n",
       " '소비자': 703,\n",
       " '초반': 704,\n",
       " '경향': 705,\n",
       " '상단': 706,\n",
       " '회상': 707,\n",
       " '중간': 708,\n",
       " '위주': 709,\n",
       " '찾아오다': 710,\n",
       " '선택': 711,\n",
       " '요강': 712,\n",
       " '갈수록': 713,\n",
       " '부당하다': 714,\n",
       " '숲': 715,\n",
       " '관점': 716,\n",
       " '완벽하다': 717,\n",
       " '또는': 718,\n",
       " '대본': 719,\n",
       " '고증': 720,\n",
       " 'ㅋㅋㅋ': 721,\n",
       " '매니저': 722,\n",
       " '리액션': 723,\n",
       " '빵터지다': 724,\n",
       " '폰트': 725,\n",
       " '읽다': 726,\n",
       " '통일': 727,\n",
       " '사진': 728,\n",
       " '모으다': 729,\n",
       " '특색': 730,\n",
       " '재치': 731,\n",
       " '관성': 732,\n",
       " '용법': 733,\n",
       " '안치': 734,\n",
       " '실적': 735,\n",
       " '을를': 736,\n",
       " '천': 737,\n",
       " '이라도': 738,\n",
       " '알아차리다': 739,\n",
       " '요약': 740,\n",
       " '올리다': 741,\n",
       " '지루함': 742,\n",
       " '및': 743,\n",
       " '요란': 744,\n",
       " '잠시': 745,\n",
       " '잊다': 746,\n",
       " '유투브': 747,\n",
       " '민감하다': 748,\n",
       " '프로': 749,\n",
       " '가끔': 750,\n",
       " '애로': 751,\n",
       " '입사': 752,\n",
       " '미화': 753,\n",
       " '이라고': 754,\n",
       " '부합': 755,\n",
       " '슬로건': 756,\n",
       " '기승': 757,\n",
       " '전결': 758,\n",
       " '뚜렷하다': 759,\n",
       " '각광': 760,\n",
       " '하나로': 761,\n",
       " '경영': 762,\n",
       " '책임': 763,\n",
       " '미치다': 764,\n",
       " '긍정': 765,\n",
       " '조직': 766,\n",
       " '개월': 767,\n",
       " '지난': 768,\n",
       " '대의': 769,\n",
       " '꾸준하다': 770,\n",
       " '엔': 771,\n",
       " '검토': 772,\n",
       " '원하다': 773,\n",
       " '요구사항': 774,\n",
       " '해': 775,\n",
       " '챙기다': 776,\n",
       " '당연하다': 777,\n",
       " '으로써': 778,\n",
       " '결과물': 779,\n",
       " '왜': 780,\n",
       " '이리': 781,\n",
       " '기다': 782,\n",
       " '완전': 783,\n",
       " '현시': 784,\n",
       " '이지': 785,\n",
       " '유튜브': 786,\n",
       " '실패': 787,\n",
       " '편하다': 788,\n",
       " '해도': 789,\n",
       " '이후': 790,\n",
       " '증대': 791,\n",
       " '신분': 792,\n",
       " '운영': 793,\n",
       " '드': 794,\n",
       " '구매': 795,\n",
       " '동료': 796,\n",
       " '발달': 797,\n",
       " '감추다': 798,\n",
       " '갈수': 799,\n",
       " '헬스': 800,\n",
       " '좋아하다': 801,\n",
       " '각': 802,\n",
       " '옆': 803,\n",
       " '패인': 804,\n",
       " '어떤': 805,\n",
       " '송님': 806,\n",
       " '후': 807,\n",
       " '가지다': 808,\n",
       " '강점': 809,\n",
       " '코느중': 810,\n",
       " '기다리다': 811,\n",
       " '로만': 812,\n",
       " '낮다': 813,\n",
       " '캠': 814,\n",
       " '자체': 815,\n",
       " '그렇다고': 816,\n",
       " '첫출근': 817,\n",
       " '어쩌다': 818,\n",
       " '배우다': 819,\n",
       " '퇴사': 820,\n",
       " '훨씬': 821,\n",
       " '짦': 822,\n",
       " '아마': 823,\n",
       " '회차': 824,\n",
       " '결혼식': 825,\n",
       " '일목요연하다': 826,\n",
       " '나누다': 827,\n",
       " '느겨': 828,\n",
       " '궁금하다': 829,\n",
       " '에는': 830,\n",
       " '지는': 831,\n",
       " '계시다': 832,\n",
       " '우연찮': 833,\n",
       " '방영': 834,\n",
       " '적히다': 835,\n",
       " '방해': 836,\n",
       " '몰입': 837,\n",
       " '책': 838,\n",
       " '저렇게': 839,\n",
       " '현재': 840,\n",
       " '즐거움': 841,\n",
       " '비추다': 842,\n",
       " '줄이다': 843,\n",
       " '사실': 844,\n",
       " '차지': 845,\n",
       " '절반': 846,\n",
       " '보다는': 847,\n",
       " '라기': 848,\n",
       " '결론': 849,\n",
       " '와의': 850,\n",
       " '성급하다': 851,\n",
       " '잡음': 852,\n",
       " '양가': 853,\n",
       " '고려': 854,\n",
       " '부모님': 855,\n",
       " '대구': 856,\n",
       " '주기': 857,\n",
       " '스스로': 858,\n",
       " '빨리': 859,\n",
       " '발굴': 860,\n",
       " '단골': 861,\n",
       " '돌리다': 862,\n",
       " '유치': 863,\n",
       " '코로': 864,\n",
       " '전세계': 865,\n",
       " '확신': 866,\n",
       " '내다': 867,\n",
       " '한발': 868,\n",
       " '친구': 869,\n",
       " '확실하다': 870,\n",
       " '개발': 871,\n",
       " '개인': 872,\n",
       " '갖은': 873,\n",
       " '지나가다': 874,\n",
       " '슬기롭다': 875,\n",
       " '앞서': 876,\n",
       " '주': 877,\n",
       " '정책': 878,\n",
       " '제공': 879,\n",
       " '고민': 880,\n",
       " '만의': 881,\n",
       " '자부심': 882,\n",
       " '살펴보다': 883,\n",
       " '브리핑': 884,\n",
       " '나서다': 885,\n",
       " '딱': 886,\n",
       " '뷰': 887,\n",
       " '순간': 888,\n",
       " '바로': 889,\n",
       " '해주시': 890,\n",
       " '티핑': 891,\n",
       " '제목': 892,\n",
       " '상담': 893,\n",
       " '따라가다': 894,\n",
       " '업적': 895,\n",
       " '웃다': 896,\n",
       " '보이지': 897,\n",
       " '가독성': 898,\n",
       " '공인': 899,\n",
       " '소상': 900,\n",
       " '예능': 901,\n",
       " 'ㅜㅜ': 902,\n",
       " '길': 903,\n",
       " '대세': 904,\n",
       " '번창': 905,\n",
       " '배우': 906,\n",
       " '힘쓰다': 907,\n",
       " '곱다': 908,\n",
       " '분투': 909,\n",
       " '어려움': 910,\n",
       " '방기': 911,\n",
       " '남고': 912,\n",
       " '제대로': 913,\n",
       " '본부': 914,\n",
       " '뚜': 915,\n",
       " '접근': 916,\n",
       " '향': 917,\n",
       " '박하다': 918,\n",
       " '평이': 919,\n",
       " '사용자': 920,\n",
       " '기보': 921,\n",
       " '사장': 922,\n",
       " '부별': 923,\n",
       " '님': 924,\n",
       " '오래': 925,\n",
       " '경험': 926,\n",
       " '반응': 927,\n",
       " '실감': 928,\n",
       " '본': 929,\n",
       " '디지털': 930,\n",
       " '선두': 931,\n",
       " '주자': 932,\n",
       " '우회': 933,\n",
       " '한다는': 934,\n",
       " '어리다': 935,\n",
       " '제시': 936,\n",
       " '메시지': 937,\n",
       " '능력': 938,\n",
       " '의미': 939,\n",
       " '휼륭하다': 940,\n",
       " '수치화': 941,\n",
       " '화략': 942,\n",
       " '국내': 943,\n",
       " '하단': 944,\n",
       " '제품': 945,\n",
       " '출시': 946,\n",
       " '기념비': 947,\n",
       " '역할': 948,\n",
       " '이익': 949,\n",
       " '단일': 950,\n",
       " '이미': 951,\n",
       " '도출': 952,\n",
       " '좌층': 953,\n",
       " '우': 954,\n",
       " '돌': 955,\n",
       " '잃다': 956,\n",
       " '저만': 957,\n",
       " '오디오': 958,\n",
       " '비문': 959,\n",
       " '침체': 960,\n",
       " '느껴지다': 961,\n",
       " '스럽게': 962,\n",
       " '장난': 963,\n",
       " '지표': 964,\n",
       " '정량': 965,\n",
       " '라서': 966,\n",
       " '잡다': 967,\n",
       " '빨': 968,\n",
       " '뭘': 969,\n",
       " '넘다': 970,\n",
       " '초코파이': 971,\n",
       " '등등': 972,\n",
       " '청춘': 973,\n",
       " '합동': 974,\n",
       " '라이브': 975,\n",
       " '남아': 976,\n",
       " '두': 977,\n",
       " '인용': 978,\n",
       " '시절': 979,\n",
       " '생각나다': 980,\n",
       " '거듭': 981,\n",
       " '드네': 982,\n",
       " '연기': 983,\n",
       " '케미': 984,\n",
       " '용이': 985,\n",
       " '확산': 986,\n",
       " '멋있다': 987,\n",
       " '움직이다': 988,\n",
       " '죠': 989,\n",
       " '그러니까': 990,\n",
       " '거지': 991,\n",
       " '야회': 992,\n",
       " '물론': 993,\n",
       " '점장님': 994,\n",
       " '그로': 995,\n",
       " '그런': 996,\n",
       " '과의': 997,\n",
       " '관계': 998,\n",
       " '여야': 999,\n",
       " ...}"
      ]
     },
     "execution_count": 158,
     "metadata": {},
     "output_type": "execute_result"
    }
   ],
   "source": [
    "model.wv.key_to_index"
   ]
  },
  {
   "cell_type": "code",
   "execution_count": 162,
   "id": "e54bc2bb-cd87-46cf-be9e-f2e0d1081225",
   "metadata": {},
   "outputs": [
    {
     "name": "stdout",
     "output_type": "stream",
     "text": [
      "(50,)\n"
     ]
    },
    {
     "data": {
      "text/plain": [
       "array([ 7.4872286e-03,  2.6143298e-03,  5.7536215e-03,  1.5866246e-02,\n",
       "        1.2880995e-02,  6.2428890e-03,  1.7228292e-02, -1.3639927e-02,\n",
       "        1.3916835e-02,  6.9111544e-03, -1.2417872e-02, -1.0107938e-02,\n",
       "        1.3468661e-02,  1.2154038e-02, -2.1277932e-02,  2.9955714e-03,\n",
       "        2.6870575e-05,  2.1426766e-03,  1.1906430e-02, -1.5509950e-02,\n",
       "        1.9578593e-02, -1.8128742e-02,  1.4347110e-02,  1.8829504e-02,\n",
       "       -7.3501915e-03, -1.8526400e-02,  1.1786505e-02, -1.8414449e-02,\n",
       "       -1.8793903e-02, -6.2294351e-04, -1.2680339e-02,  1.7346868e-02,\n",
       "        1.5501482e-02,  2.0399573e-03,  1.5006168e-02,  2.0758813e-02,\n",
       "        1.1196631e-02,  9.2556281e-03,  1.0868018e-02,  1.1762902e-02,\n",
       "        1.1727095e-02,  1.2515043e-02, -1.5744429e-02,  1.7884798e-02,\n",
       "        1.9706674e-02,  1.8544257e-02, -1.8361542e-02, -7.6981336e-03,\n",
       "        6.2050077e-04,  8.3568338e-03], dtype=float32)"
      ]
     },
     "execution_count": 162,
     "metadata": {},
     "output_type": "execute_result"
    }
   ],
   "source": [
    "# 응원 단어에 대한 Word2Vec 변환된 Vector 출력: 1개 단어를 50차원 표현\n",
    "\n",
    "print(model.wv.get_vector('응원').shape)\n",
    "model.wv.get_vector('응원')"
   ]
  },
  {
   "cell_type": "code",
   "execution_count": 164,
   "id": "c6b66236-9d44-48c9-9a8b-8e5353e4318f",
   "metadata": {},
   "outputs": [
    {
     "name": "stdout",
     "output_type": "stream",
     "text": [
      "[('본부', 0.4776908755302429), ('일어나지', 0.4480215013027191), ('좋다', 0.36190661787986755), ('위로', 0.3484272360801697), ('천', 0.34047698974609375), ('싸우다', 0.33427873253822327), ('주제가', 0.33345985412597656), ('지나가다', 0.3307112157344818), ('능력', 0.3299713432788849), ('자주', 0.32911962270736694)]\n"
     ]
    }
   ],
   "source": [
    "# 노력 키워드 유사도 조회\n",
    "print(model.wv.most_similar(\"노력\"))"
   ]
  },
  {
   "cell_type": "code",
   "execution_count": 166,
   "id": "c397fa91-359c-4719-b9ce-8d7605d3da8b",
   "metadata": {},
   "outputs": [
    {
     "name": "stdout",
     "output_type": "stream",
     "text": [
      "[('극', 0.5728501677513123), ('시도', 0.43056005239486694), ('바라다', 0.4267127811908722), ('문제', 0.4191444516181946), ('시키다', 0.3923543393611908), ('검토', 0.38317981362342834), ('함께', 0.3809696435928345), ('로만', 0.3791075050830841), ('어쩌다', 0.3757895827293396), ('합동', 0.36594462394714355)]\n"
     ]
    }
   ],
   "source": [
    "# 코로나 키워드 유사도 조회\n",
    "print(model.wv.most_similar(\"코로나\"))"
   ]
  },
  {
   "cell_type": "code",
   "execution_count": 168,
   "id": "3ee4d16f-b49e-43bb-ac8b-a1ba9a355df3",
   "metadata": {},
   "outputs": [
    {
     "name": "stdout",
     "output_type": "stream",
     "text": [
      "[('아무래도', 0.45863640308380127), ('타', 0.38790959119796753), ('조금', 0.3857957422733307), ('나', 0.3811718225479126), ('하단', 0.3621708154678345), ('보다', 0.36174526810646057), ('서비스', 0.3563868999481201), ('콘셉트', 0.35310181975364685), ('성', 0.3474140167236328), ('중', 0.3471275568008423)]\n"
     ]
    }
   ],
   "source": [
    "# 회사 키워드 유사도 조회\n",
    "print(model.wv.most_similar(\"회사\"))"
   ]
  },
  {
   "cell_type": "code",
   "execution_count": null,
   "id": "b1642376-fb8a-43dc-8b83-d67c6f81b0f1",
   "metadata": {},
   "outputs": [],
   "source": []
  },
  {
   "cell_type": "markdown",
   "id": "5b7a8db1-a6e5-4e60-a1fc-7f0cb5692ea8",
   "metadata": {},
   "source": [
    "### 배운 내용 정리\n",
    "- 1. Word Embedding: 단어를 의미 있는 밀집 벡터로 표현하기\n",
    "  2. Word Embedding 방법에는 Word2Vec, FastText 등이 있다\n",
    "  3. Word2Vec도 단어를 밀집 벡터로 표현하는 방법이며\n",
    "  4. Word2Vec 사용하여 단어를 밀집 벡터로 만들면, Cosine 유사도처럼 벡터 간의 유사성을 측정할 수 있어, 다른 단어와의 유사성을 측정할 수 있다"
   ]
  },
  {
   "cell_type": "code",
   "execution_count": null,
   "id": "725930a5-2cea-4873-a72d-9a623849c6a3",
   "metadata": {},
   "outputs": [],
   "source": []
  },
  {
   "cell_type": "markdown",
   "id": "b3bb3c89-94fa-4326-95b9-c287e532a5d7",
   "metadata": {},
   "source": [
    "## (2) FastText\n",
    "- FastText: Word Embedding 종류 중 하나로 토큰(단어)를 의미 있는 n차원 밀집 벡터 만드는 것\n",
    "- Word2Vec은 단어를 쪼개질 수 없는 단위로 생각한다면\n",
    "- FastText는 하나의 단어 안에도 여러 단어들이 존재하는 것으로 간주하여 subword를 고려하여 학습한다.\n",
    "- 즉, 단어를 n-gram으로 나누고 나눠진 n-gram의 밀집벡터를 구하고 모두 합산해서 단어 벡터를 만든다\n",
    "- 모르는 단어(Out of Vocabulary, OOV)에 대해서도 subword를 통해 유사도가 비슷한 다른 단어를 찾을 수 있다\n",
    "\n",
    "- Word2Vec: Produces one fixed vector per word type(token)\n",
    "- FastText: Gives you one fixed vector \"per word\", but it's built from subword (n-gram) components"
   ]
  },
  {
   "cell_type": "markdown",
   "id": "7a75af7a-e2a3-49be-8634-f0d843be0953",
   "metadata": {},
   "source": [
    "### 학습 목차\n",
    "A. Word2Vec\n",
    "- 1. KoNLPy 설치 및 필요한 라이브러리 임포트\n",
    "  2. 훈련 데이터 불러오기: A 방송사 댓글 데이터\n",
    "  3. 훈련 데이터 전처리: null, 특수문자 제거 및 Okt로 토큰화\n",
    "  4. OKT 이용하여 토크나이즈\n",
    "  5. Word2Vec 훈련시키고 유사도 측정\n",
    "\n",
    "B. FastText (if n: 2 ~ 5 -> 2-gram, 3-gram, 4-gram, 5-gram 모두 합산해서 하나의 Vector로 만든다)\n",
    "- 1. FastText 훈련시키고 유사도 측정"
   ]
  },
  {
   "cell_type": "markdown",
   "id": "d93d749f-18e9-44ee-b2cd-ee39e8c9dd18",
   "metadata": {},
   "source": [
    "### 실습으로 비교하는 Word2Vec vs FastText"
   ]
  },
  {
   "cell_type": "markdown",
   "id": "211a1e21-8ed9-4a55-a165-9028a78538b9",
   "metadata": {},
   "source": [
    "### A. Word2Vec"
   ]
  },
  {
   "cell_type": "markdown",
   "id": "49f2924f-61aa-43bc-b3ba-713171837f40",
   "metadata": {},
   "source": [
    "### 1. KoNLPy 설치 및 라이브러리 임포트"
   ]
  },
  {
   "cell_type": "code",
   "execution_count": 184,
   "id": "9d20c404-620c-4200-8924-950330b725d1",
   "metadata": {},
   "outputs": [
    {
     "name": "stderr",
     "output_type": "stream",
     "text": [
      "python(7279) MallocStackLogging: can't turn off malloc stack logging because it was not enabled.\n"
     ]
    },
    {
     "name": "stdout",
     "output_type": "stream",
     "text": [
      "Requirement already satisfied: openpyxl in /Users/shinjoohwan/miniconda3/lib/python3.12/site-packages (3.1.5)\n",
      "Requirement already satisfied: et-xmlfile in /Users/shinjoohwan/miniconda3/lib/python3.12/site-packages (from openpyxl) (2.0.0)\n"
     ]
    },
    {
     "name": "stderr",
     "output_type": "stream",
     "text": [
      "python(7280) MallocStackLogging: can't turn off malloc stack logging because it was not enabled.\n"
     ]
    },
    {
     "name": "stdout",
     "output_type": "stream",
     "text": [
      "Requirement already satisfied: konlpy in /Users/shinjoohwan/miniconda3/lib/python3.12/site-packages (0.6.0)\n",
      "Requirement already satisfied: JPype1>=0.7.0 in /Users/shinjoohwan/miniconda3/lib/python3.12/site-packages (from konlpy) (1.5.2)\n",
      "Requirement already satisfied: lxml>=4.1.0 in /Users/shinjoohwan/miniconda3/lib/python3.12/site-packages (from konlpy) (5.4.0)\n",
      "Requirement already satisfied: numpy>=1.6 in /Users/shinjoohwan/miniconda3/lib/python3.12/site-packages (from konlpy) (1.26.4)\n",
      "Requirement already satisfied: packaging in /Users/shinjoohwan/miniconda3/lib/python3.12/site-packages (from JPype1>=0.7.0->konlpy) (24.1)\n"
     ]
    }
   ],
   "source": [
    "!pip install openpyxl\n",
    "\n",
    "import pandas as pd\n",
    "import matplotlib.pyplot as plt\n",
    "import urllib.request\n",
    "from gensim.models.word2vec import Word2Vec\n",
    "\n",
    "!python3 -m pip install konlpy\n",
    "from konlpy.tag import Okt"
   ]
  },
  {
   "cell_type": "markdown",
   "id": "7420544c-1a5e-4b08-8e3c-9b5911cb18d8",
   "metadata": {},
   "source": [
    "### 2. 훈련 데이터 불러오기: A방송사 댓글 데이터"
   ]
  },
  {
   "cell_type": "code",
   "execution_count": 187,
   "id": "2155aa6b-6cd6-4736-ac9a-04d11716564e",
   "metadata": {},
   "outputs": [],
   "source": [
    "# kbn_train.xlsw, kbn_test.xlsw KBN 댓글 다운로드 및 Pandas read_excel() 함수 활용하여 읽고 합치기\n",
    "\n",
    "kbn_train = pd.read_excel('https://github.com/gzone2000/TEMP_TEST/raw/master/A_comment_train.xlsx', engine = 'openpyxl')\n",
    "kbn_test = pd.read_excel('https://github.com/gzone2000/TEMP_TEST/raw/master/A_comment_test.xlsx', engine = 'openpyxl')\n",
    "\n",
    "train_data = pd.concat([kbn_train, kbn_test])"
   ]
  },
  {
   "cell_type": "code",
   "execution_count": 189,
   "id": "505e7ae2-c7d7-4e97-9148-ebd4cb5e042d",
   "metadata": {},
   "outputs": [
    {
     "data": {
      "text/html": [
       "<div>\n",
       "<style scoped>\n",
       "    .dataframe tbody tr th:only-of-type {\n",
       "        vertical-align: middle;\n",
       "    }\n",
       "\n",
       "    .dataframe tbody tr th {\n",
       "        vertical-align: top;\n",
       "    }\n",
       "\n",
       "    .dataframe thead th {\n",
       "        text-align: right;\n",
       "    }\n",
       "</style>\n",
       "<table border=\"1\" class=\"dataframe\">\n",
       "  <thead>\n",
       "    <tr style=\"text-align: right;\">\n",
       "      <th></th>\n",
       "      <th>Unnamed: 0</th>\n",
       "      <th>data</th>\n",
       "      <th>label</th>\n",
       "    </tr>\n",
       "  </thead>\n",
       "  <tbody>\n",
       "    <tr>\n",
       "      <th>0</th>\n",
       "      <td>0</td>\n",
       "      <td>재미는 있는데 시간이 짧은게 아쉽네요~</td>\n",
       "      <td>긍정</td>\n",
       "    </tr>\n",
       "    <tr>\n",
       "      <th>1</th>\n",
       "      <td>1</td>\n",
       "      <td>OO 관련 내용은 우리 직원과는 거리가 멀었음, 특히, 사내에 홍보할 내용은 아니라고 봄</td>\n",
       "      <td>부정</td>\n",
       "    </tr>\n",
       "    <tr>\n",
       "      <th>2</th>\n",
       "      <td>2</td>\n",
       "      <td>스토리가 너무 딱딱해서 별로였음</td>\n",
       "      <td>부정</td>\n",
       "    </tr>\n",
       "    <tr>\n",
       "      <th>3</th>\n",
       "      <td>3</td>\n",
       "      <td>프로그램A 화이팅하세요!!</td>\n",
       "      <td>긍정</td>\n",
       "    </tr>\n",
       "    <tr>\n",
       "      <th>4</th>\n",
       "      <td>4</td>\n",
       "      <td>높은 곳에 올라가는 모습이 너무 위험해 보여요.</td>\n",
       "      <td>부정</td>\n",
       "    </tr>\n",
       "  </tbody>\n",
       "</table>\n",
       "</div>"
      ],
      "text/plain": [
       "   Unnamed: 0                                               data label\n",
       "0           0                              재미는 있는데 시간이 짧은게 아쉽네요~    긍정\n",
       "1           1  OO 관련 내용은 우리 직원과는 거리가 멀었음, 특히, 사내에 홍보할 내용은 아니라고 봄    부정\n",
       "2           2                                  스토리가 너무 딱딱해서 별로였음    부정\n",
       "3           3                                     프로그램A 화이팅하세요!!    긍정\n",
       "4           4                         높은 곳에 올라가는 모습이 너무 위험해 보여요.    부정"
      ]
     },
     "execution_count": 189,
     "metadata": {},
     "output_type": "execute_result"
    }
   ],
   "source": [
    "train_data[:5]"
   ]
  },
  {
   "cell_type": "code",
   "execution_count": 191,
   "id": "5fb33511-ee26-4cfb-8698-3f2e91f9102a",
   "metadata": {},
   "outputs": [
    {
     "name": "stdout",
     "output_type": "stream",
     "text": [
      "352\n"
     ]
    }
   ],
   "source": [
    "print(len(train_data)) # 리뷰 개수 출력"
   ]
  },
  {
   "cell_type": "markdown",
   "id": "9959ecfc-3d4c-4d09-9055-e05491169b32",
   "metadata": {},
   "source": [
    "### 3. 훈련 데이터 전처리\n",
    "- null 제거\n",
    "- 불필요 특수문자, 숫자 등 제거"
   ]
  },
  {
   "cell_type": "code",
   "execution_count": 197,
   "id": "9fa1d5d1-026e-4c28-8145-cc4d9c9bda93",
   "metadata": {},
   "outputs": [
    {
     "name": "stdout",
     "output_type": "stream",
     "text": [
      "Unnamed: 0    0\n",
      "data          0\n",
      "label         0\n",
      "dtype: int64\n"
     ]
    }
   ],
   "source": [
    "# NULL 값 존재 유무\n",
    "print(train_data.isnull().sum())"
   ]
  },
  {
   "cell_type": "code",
   "execution_count": 200,
   "id": "89a6c9db-bc59-4f57-8ab5-b09f7f0b7d31",
   "metadata": {},
   "outputs": [],
   "source": [
    "# 'data' 컬럼에 대해 한글 외 문자 제거\n",
    "train_data['data'] = train_data['data'].str.replace(r\"[^ㄱ-ㅎㅏ-ㅣ가-힣 ]\", \"\", regex = True)"
   ]
  },
  {
   "cell_type": "code",
   "execution_count": 202,
   "id": "bda3232f-fe7f-4545-be27-a0f02c4dbdc8",
   "metadata": {},
   "outputs": [
    {
     "data": {
      "text/html": [
       "<div>\n",
       "<style scoped>\n",
       "    .dataframe tbody tr th:only-of-type {\n",
       "        vertical-align: middle;\n",
       "    }\n",
       "\n",
       "    .dataframe tbody tr th {\n",
       "        vertical-align: top;\n",
       "    }\n",
       "\n",
       "    .dataframe thead th {\n",
       "        text-align: right;\n",
       "    }\n",
       "</style>\n",
       "<table border=\"1\" class=\"dataframe\">\n",
       "  <thead>\n",
       "    <tr style=\"text-align: right;\">\n",
       "      <th></th>\n",
       "      <th>Unnamed: 0</th>\n",
       "      <th>data</th>\n",
       "      <th>label</th>\n",
       "    </tr>\n",
       "  </thead>\n",
       "  <tbody>\n",
       "    <tr>\n",
       "      <th>0</th>\n",
       "      <td>0</td>\n",
       "      <td>재미는 있는데 시간이 짧은게 아쉽네요</td>\n",
       "      <td>긍정</td>\n",
       "    </tr>\n",
       "    <tr>\n",
       "      <th>1</th>\n",
       "      <td>1</td>\n",
       "      <td>관련 내용은 우리 직원과는 거리가 멀었음 특히 사내에 홍보할 내용은 아니라고 봄</td>\n",
       "      <td>부정</td>\n",
       "    </tr>\n",
       "    <tr>\n",
       "      <th>2</th>\n",
       "      <td>2</td>\n",
       "      <td>스토리가 너무 딱딱해서 별로였음</td>\n",
       "      <td>부정</td>\n",
       "    </tr>\n",
       "    <tr>\n",
       "      <th>3</th>\n",
       "      <td>3</td>\n",
       "      <td>프로그램 화이팅하세요</td>\n",
       "      <td>긍정</td>\n",
       "    </tr>\n",
       "    <tr>\n",
       "      <th>4</th>\n",
       "      <td>4</td>\n",
       "      <td>높은 곳에 올라가는 모습이 너무 위험해 보여요</td>\n",
       "      <td>부정</td>\n",
       "    </tr>\n",
       "  </tbody>\n",
       "</table>\n",
       "</div>"
      ],
      "text/plain": [
       "   Unnamed: 0                                           data label\n",
       "0           0                           재미는 있는데 시간이 짧은게 아쉽네요    긍정\n",
       "1           1   관련 내용은 우리 직원과는 거리가 멀었음 특히 사내에 홍보할 내용은 아니라고 봄    부정\n",
       "2           2                              스토리가 너무 딱딱해서 별로였음    부정\n",
       "3           3                                    프로그램 화이팅하세요    긍정\n",
       "4           4                      높은 곳에 올라가는 모습이 너무 위험해 보여요    부정"
      ]
     },
     "execution_count": 202,
     "metadata": {},
     "output_type": "execute_result"
    }
   ],
   "source": [
    "train_data[:5]"
   ]
  },
  {
   "cell_type": "code",
   "execution_count": 204,
   "id": "7841b7d7-e35d-44ef-81f9-7f7a8e62e55c",
   "metadata": {},
   "outputs": [
    {
     "data": {
      "text/html": [
       "<div>\n",
       "<style scoped>\n",
       "    .dataframe tbody tr th:only-of-type {\n",
       "        vertical-align: middle;\n",
       "    }\n",
       "\n",
       "    .dataframe tbody tr th {\n",
       "        vertical-align: top;\n",
       "    }\n",
       "\n",
       "    .dataframe thead th {\n",
       "        text-align: right;\n",
       "    }\n",
       "</style>\n",
       "<table border=\"1\" class=\"dataframe\">\n",
       "  <thead>\n",
       "    <tr style=\"text-align: right;\">\n",
       "      <th></th>\n",
       "      <th>Unnamed: 0</th>\n",
       "      <th>data</th>\n",
       "      <th>label</th>\n",
       "    </tr>\n",
       "  </thead>\n",
       "  <tbody>\n",
       "    <tr>\n",
       "      <th>96</th>\n",
       "      <td>96</td>\n",
       "      <td>작년에 프로그램를 재밋게 봤던 시청자로서 올해의 미니드라마도 매우 기대가 됩니다 올...</td>\n",
       "      <td>긍정</td>\n",
       "    </tr>\n",
       "    <tr>\n",
       "      <th>97</th>\n",
       "      <td>97</td>\n",
       "      <td>프로그램 잘 보았습니다 모든일의 바탕은 안전인것 같습니다 모두를 보호하는 최고의 기...</td>\n",
       "      <td>긍정</td>\n",
       "    </tr>\n",
       "    <tr>\n",
       "      <th>98</th>\n",
       "      <td>98</td>\n",
       "      <td>위험한 시설에 대한 설명도 부탁드립니다</td>\n",
       "      <td>부정</td>\n",
       "    </tr>\n",
       "    <tr>\n",
       "      <th>99</th>\n",
       "      <td>99</td>\n",
       "      <td>구체적으로 어떤 활동을 해왔었고 앞으로 어떤활동을 할건지 잘 설명해줬으면 좋았을 것...</td>\n",
       "      <td>부정</td>\n",
       "    </tr>\n",
       "    <tr>\n",
       "      <th>100</th>\n",
       "      <td>100</td>\n",
       "      <td>우리 회사가 잘되면 나라도 잘된다 회사 화이팅 나라 화이팅</td>\n",
       "      <td>긍정</td>\n",
       "    </tr>\n",
       "  </tbody>\n",
       "</table>\n",
       "</div>"
      ],
      "text/plain": [
       "     Unnamed: 0                                               data label\n",
       "96           96  작년에 프로그램를 재밋게 봤던 시청자로서 올해의 미니드라마도 매우 기대가 됩니다 올...    긍정\n",
       "97           97  프로그램 잘 보았습니다 모든일의 바탕은 안전인것 같습니다 모두를 보호하는 최고의 기...    긍정\n",
       "98           98                              위험한 시설에 대한 설명도 부탁드립니다    부정\n",
       "99           99  구체적으로 어떤 활동을 해왔었고 앞으로 어떤활동을 할건지 잘 설명해줬으면 좋았을 것...    부정\n",
       "100         100                   우리 회사가 잘되면 나라도 잘된다 회사 화이팅 나라 화이팅    긍정"
      ]
     },
     "execution_count": 204,
     "metadata": {},
     "output_type": "execute_result"
    }
   ],
   "source": [
    "train_data[-5:]"
   ]
  },
  {
   "cell_type": "markdown",
   "id": "c3528e52-f375-4d49-8cc5-f1ce25ef7d83",
   "metadata": {},
   "source": [
    "### 4. OKT 이용하여 토크나이즈"
   ]
  },
  {
   "cell_type": "code",
   "execution_count": 206,
   "id": "613fa236-b7a5-475d-b718-468a7201098e",
   "metadata": {},
   "outputs": [],
   "source": [
    "# 불용어 정의\n",
    "stopwords = ['의', '가', '이','은','들','는','좀','잘','걍','과','도','를','으로','자','에','와','한','하다']"
   ]
  },
  {
   "cell_type": "code",
   "execution_count": 209,
   "id": "e7eead39-52cc-4188-b6e3-7280b95c3c1d",
   "metadata": {},
   "outputs": [],
   "source": [
    "# 형태소 분석기 OKT를 사용한 토큰화 작업\n",
    "# 352개 문장 사용하여 금방 수행함\n",
    "\n",
    "okt = Okt()\n",
    "tokenized_data = []\n",
    "for sentence in train_data['data']:\n",
    "    temp_X = okt.morphs(sentence, stem=True) # 형태소 분류하여 토큰화, stem=True 어간만 추출\n",
    "    temp_X = [word for word in temp_X if not word in stopwords] #불용어 제거\n",
    "    tokenized_data.append(temp_X)"
   ]
  },
  {
   "cell_type": "code",
   "execution_count": 211,
   "id": "fab0f8d4-c1d8-4cc6-b914-5d0d37e67ebb",
   "metadata": {},
   "outputs": [
    {
     "name": "stdout",
     "output_type": "stream",
     "text": [
      "['재미', '있다', '시간', '짧다', '아쉽다']\n",
      "['관련', '내용', '우리', '직원', '과는', '거리', '멀다', '특히', '사내', '홍보', '내용', '아니다', '봄']\n",
      "[['위험하다', '시설', '대한', '설명', '부탁드리다'], ['구체', '적', '어떻다', '활동', '을', '해오다', '앞', '어떤', '활동', '을', '건지다', '자다', '설명', '해주다', '좋다', '것', '같다'], ['우리', '회사', '되다', '나라', '되다', '회사', '화이팅', '나라', '화이팅']]\n"
     ]
    }
   ],
   "source": [
    "print(tokenized_data[0])\n",
    "print(tokenized_data[1])\n",
    "print(tokenized_data[-3:])"
   ]
  },
  {
   "cell_type": "markdown",
   "id": "2987edee-9a86-497e-b605-01c55b317c61",
   "metadata": {},
   "source": [
    "### 5. Word2Vec 훈련시키고 유사도 측정\n",
    "- gensim의 Word2Vec을 이용하여 토큰(단어)을 의미 있는 Vector로 만듦\n",
    "- wv(워드투벡터)의 most_similar 이용하여 유사도 측정"
   ]
  },
  {
   "cell_type": "code",
   "execution_count": 218,
   "id": "1d5f78af-f7d9-4e26-918c-384814c9b6db",
   "metadata": {},
   "outputs": [],
   "source": [
    "# size = 워드 임베딩된 벡터의 차원\n",
    "# window = 컨택스트 윈도우 크기\n",
    "# min_count = 단어 최소 빈도 수 제한(빈도가 적은 단어들은 학습하지 않는다.) 데이터 적어 0으로 지정\n",
    "# worker = 학습을 위한 프로세스 수\n",
    "# sg = 0은 CBOW, 1은 Skip-gram\n",
    "\n",
    "\n",
    "from gensim.models import Word2Vec\n",
    "model = Word2Vec(sentences = tokenized_data, vector_size = 50, window = 50, min_count = 0, workers = 4, sg = 0)"
   ]
  },
  {
   "cell_type": "code",
   "execution_count": 222,
   "id": "54291bd1-5f3c-468e-8c4e-d0b16de027dc",
   "metadata": {},
   "outputs": [
    {
     "data": {
      "text/plain": [
       "(1240, 50)"
      ]
     },
     "execution_count": 222,
     "metadata": {},
     "output_type": "execute_result"
    }
   ],
   "source": [
    "model.wv.vectors.shape"
   ]
  },
  {
   "cell_type": "code",
   "execution_count": 226,
   "id": "c9bb8c07-fabf-4d18-affa-c5a32151b90f",
   "metadata": {},
   "outputs": [
    {
     "data": {
      "text/plain": [
       "1240"
      ]
     },
     "execution_count": 226,
     "metadata": {},
     "output_type": "execute_result"
    }
   ],
   "source": [
    "len(model.wv.key_to_index)"
   ]
  },
  {
   "cell_type": "code",
   "execution_count": 228,
   "id": "6def0fd1-97ee-482d-bb61-d8cd1dcc3a19",
   "metadata": {
    "scrolled": true
   },
   "outputs": [
    {
     "data": {
      "text/plain": [
       "{'을': 0,\n",
       " '있다': 1,\n",
       " '좋다': 2,\n",
       " '같다': 3,\n",
       " '되다': 4,\n",
       " '우리': 5,\n",
       " '것': 6,\n",
       " '방송': 7,\n",
       " '회사': 8,\n",
       " '보다': 9,\n",
       " '너무': 10,\n",
       " '자다': 11,\n",
       " '이다': 12,\n",
       " '고객': 13,\n",
       " '되어다': 14,\n",
       " '더': 15,\n",
       " '내용': 16,\n",
       " '서비스': 17,\n",
       " '않다': 18,\n",
       " '로': 19,\n",
       " '적': 20,\n",
       " '프로그램': 21,\n",
       " '수': 22,\n",
       " '에서': 23,\n",
       " '없다': 24,\n",
       " '어떻다': 25,\n",
       " '감사하다': 26,\n",
       " '화이팅': 27,\n",
       " '재미있다': 28,\n",
       " '기대': 29,\n",
       " '항상': 30,\n",
       " '앞': 31,\n",
       " '부분': 32,\n",
       " '인': 33,\n",
       " '기업': 34,\n",
       " '업무': 35,\n",
       " '아쉽다': 36,\n",
       " '대한': 37,\n",
       " '화': 38,\n",
       " '생각': 39,\n",
       " '설명': 40,\n",
       " '점': 41,\n",
       " '많다': 42,\n",
       " '새롭다': 43,\n",
       " '하고': 44,\n",
       " '들다': 45,\n",
       " '모습': 46,\n",
       " '요': 47,\n",
       " '해주다': 48,\n",
       " '일': 49,\n",
       " '다음': 50,\n",
       " '정말': 51,\n",
       " '에게': 52,\n",
       " '쇼핑': 53,\n",
       " '다양하다': 54,\n",
       " '부족하다': 55,\n",
       " '시간': 56,\n",
       " '나오다': 57,\n",
       " '기술': 58,\n",
       " '많이': 59,\n",
       " '으로도': 60,\n",
       " '가다': 61,\n",
       " '재밌다': 62,\n",
       " '모르다': 63,\n",
       " '활동': 64,\n",
       " '사내': 65,\n",
       " '소개': 66,\n",
       " '보이다': 67,\n",
       " '이미지': 68,\n",
       " '더욱': 69,\n",
       " '정보': 70,\n",
       " '짧다': 71,\n",
       " '보고': 72,\n",
       " '직원': 73,\n",
       " '응원': 74,\n",
       " '조금': 75,\n",
       " '분': 76,\n",
       " '말': 77,\n",
       " '자막': 78,\n",
       " '어렵다': 79,\n",
       " '구성': 80,\n",
       " '유익하다': 81,\n",
       " '등': 82,\n",
       " '지점': 83,\n",
       " '활용': 84,\n",
       " '만': 85,\n",
       " '발전': 86,\n",
       " '이해': 87,\n",
       " '싶다': 88,\n",
       " '인데': 89,\n",
       " '다': 90,\n",
       " '주제': 91,\n",
       " '진행': 92,\n",
       " '게': 93,\n",
       " '상품': 94,\n",
       " '보여주다': 95,\n",
       " '아니다': 96,\n",
       " '드리다': 97,\n",
       " '대해': 98,\n",
       " '알': 99,\n",
       " '계속': 100,\n",
       " '픽': 101,\n",
       " '제': 102,\n",
       " '필요하다': 103,\n",
       " '고': 104,\n",
       " '사례': 105,\n",
       " '마케팅': 106,\n",
       " '도움': 107,\n",
       " '재미': 108,\n",
       " '영상': 109,\n",
       " '트렌드': 110,\n",
       " '네': 111,\n",
       " '차별': 112,\n",
       " '중심': 113,\n",
       " '듯': 114,\n",
       " '산만하다': 115,\n",
       " '기획': 116,\n",
       " '거': 117,\n",
       " '최고': 118,\n",
       " '코로나': 119,\n",
       " '멋지다': 120,\n",
       " '기대하다': 121,\n",
       " '분들': 122,\n",
       " '아이디어': 123,\n",
       " '신선하다': 124,\n",
       " '광고': 125,\n",
       " '목소리': 126,\n",
       " '방식': 127,\n",
       " '개통': 128,\n",
       " '느낌': 129,\n",
       " '바다': 130,\n",
       " '서': 131,\n",
       " '사': 132,\n",
       " '통해': 133,\n",
       " '까지': 134,\n",
       " '가장': 135,\n",
       " '주다': 136,\n",
       " '없이': 137,\n",
       " '솔루션': 138,\n",
       " '마음': 139,\n",
       " '편': 140,\n",
       " '내': 141,\n",
       " '불편하다': 142,\n",
       " '인지': 143,\n",
       " '오다': 144,\n",
       " '신입사원': 145,\n",
       " '감사': 146,\n",
       " '시장': 147,\n",
       " '매우': 148,\n",
       " 'ㅎㅎ': 149,\n",
       " '쉬다': 150,\n",
       " '저': 151,\n",
       " '건지다': 152,\n",
       " '미숙': 153,\n",
       " '사람': 154,\n",
       " '성': 155,\n",
       " '처리': 156,\n",
       " '파이팅': 157,\n",
       " '최근': 158,\n",
       " '그룹': 159,\n",
       " '윤': 160,\n",
       " '수고': 161,\n",
       " '파악': 162,\n",
       " '배우': 163,\n",
       " '에서도': 164,\n",
       " '들이다': 165,\n",
       " '이네': 166,\n",
       " '인상': 167,\n",
       " '구체': 168,\n",
       " '소리': 169,\n",
       " '만들다': 170,\n",
       " '이렇다': 171,\n",
       " '전달': 172,\n",
       " '때': 173,\n",
       " '확인': 174,\n",
       " '함께': 175,\n",
       " '현장': 176,\n",
       " '님': 177,\n",
       " '부탁드리다': 178,\n",
       " '영업': 179,\n",
       " '이야기': 180,\n",
       " '나가다': 181,\n",
       " '사용': 182,\n",
       " '다소': 183,\n",
       " '관련': 184,\n",
       " '홍보': 185,\n",
       " '약간': 186,\n",
       " '맞다': 187,\n",
       " '전개': 188,\n",
       " '정확하다': 189,\n",
       " '개인': 190,\n",
       " '민원': 191,\n",
       " '케어': 192,\n",
       " '공감': 193,\n",
       " '역시': 194,\n",
       " '이나': 195,\n",
       " '오늘': 196,\n",
       " '모두': 197,\n",
       " '즐겁다': 198,\n",
       " '콘텐츠': 199,\n",
       " '나다': 200,\n",
       " '중': 201,\n",
       " '안전': 202,\n",
       " '닿다': 203,\n",
       " '데이터': 204,\n",
       " '해보다': 205,\n",
       " '에도': 206,\n",
       " '매출': 207,\n",
       " '차다': 208,\n",
       " '실제': 209,\n",
       " '싹': 210,\n",
       " '국민': 211,\n",
       " '느끼다': 212,\n",
       " '셀프': 213,\n",
       " '가능하다': 214,\n",
       " '통화': 215,\n",
       " '멀다': 216,\n",
       " '다루다': 217,\n",
       " '표현': 218,\n",
       " '지루하다': 219,\n",
       " '아쉬움': 220,\n",
       " '실수': 221,\n",
       " '크다': 222,\n",
       " '이번': 223,\n",
       " '쓰다': 224,\n",
       " '위해': 225,\n",
       " '담다': 226,\n",
       " '들어오다': 227,\n",
       " '컨텐츠': 228,\n",
       " '적용': 229,\n",
       " '노력': 230,\n",
       " '화면': 231,\n",
       " '재미없다': 232,\n",
       " '분야': 233,\n",
       " '영향': 234,\n",
       " '집중': 235,\n",
       " '바라다': 236,\n",
       " '부터': 237,\n",
       " '전': 238,\n",
       " '기억': 239,\n",
       " '요즘': 240,\n",
       " 'ㅎ': 241,\n",
       " '모든': 242,\n",
       " '판매': 243,\n",
       " '금일': 244,\n",
       " '방안': 245,\n",
       " '이제': 246,\n",
       " '보기': 247,\n",
       " '섭외': 248,\n",
       " '사업': 249,\n",
       " '인터뷰': 250,\n",
       " '간단하다': 251,\n",
       " '처음': 252,\n",
       " '무슨': 253,\n",
       " '근무': 254,\n",
       " '에요': 255,\n",
       " '비교': 256,\n",
       " '좋아하다': 257,\n",
       " '웃다': 258,\n",
       " '타': 259,\n",
       " '떨어지다': 260,\n",
       " '점점': 261,\n",
       " '이슈': 262,\n",
       " '눈': 263,\n",
       " '사항': 264,\n",
       " '이에요': 265,\n",
       " '반영': 266,\n",
       " '아침': 267,\n",
       " '현실': 268,\n",
       " '스럽다': 269,\n",
       " '시도': 270,\n",
       " '생기다': 271,\n",
       " '혁신': 272,\n",
       " '필요': 273,\n",
       " '장면': 274,\n",
       " '찾다': 275,\n",
       " '기': 276,\n",
       " '시키다': 277,\n",
       " '확실하다': 278,\n",
       " '에피소드': 279,\n",
       " '상황': 280,\n",
       " '안': 281,\n",
       " '환경': 282,\n",
       " '같이': 283,\n",
       " '보완': 284,\n",
       " '폰': 285,\n",
       " '풀다': 286,\n",
       " '덕후': 287,\n",
       " '이어지다': 288,\n",
       " '유쾌하다': 289,\n",
       " '매장': 290,\n",
       " '어떤': 291,\n",
       " '시': 292,\n",
       " '부탁': 293,\n",
       " '줄': 294,\n",
       " '최선': 295,\n",
       " '니': 296,\n",
       " '중요하다': 297,\n",
       " '다른': 298,\n",
       " '깊다': 299,\n",
       " '가볍다': 300,\n",
       " '개선': 301,\n",
       " '지금': 302,\n",
       " '발': 303,\n",
       " '자기': 304,\n",
       " '한번': 305,\n",
       " '친구': 306,\n",
       " '시작': 307,\n",
       " '감': 308,\n",
       " '다시': 309,\n",
       " '좌충우돌': 310,\n",
       " '그리고': 311,\n",
       " '전체': 312,\n",
       " '문제': 313,\n",
       " '안되다': 314,\n",
       " '번': 315,\n",
       " '가지': 316,\n",
       " '참신하다': 317,\n",
       " '즈': 318,\n",
       " '아주': 319,\n",
       " '이고': 320,\n",
       " '시대': 321,\n",
       " '에서의': 322,\n",
       " '그': 323,\n",
       " '대비': 324,\n",
       " '위': 325,\n",
       " '여러': 326,\n",
       " '무엇': 327,\n",
       " '정신': 328,\n",
       " '연관': 329,\n",
       " '기본': 330,\n",
       " '부가': 331,\n",
       " '돼다': 332,\n",
       " '뉴스': 333,\n",
       " '늘': 334,\n",
       " '임': 335,\n",
       " '경쟁력': 336,\n",
       " '알다': 337,\n",
       " '온라인': 338,\n",
       " '바뀌다': 339,\n",
       " '진짜': 340,\n",
       " '주제가': 341,\n",
       " '맡다': 342,\n",
       " '볼': 343,\n",
       " '쓰리다': 344,\n",
       " '향상': 345,\n",
       " '축하': 346,\n",
       " '기회': 347,\n",
       " '핫': 348,\n",
       " '체험': 349,\n",
       " '홈쇼핑': 350,\n",
       " '면': 351,\n",
       " '사고': 352,\n",
       " '올라가다': 353,\n",
       " '마다': 354,\n",
       " '소': 355,\n",
       " '위험하다': 356,\n",
       " '장바구니': 357,\n",
       " '김씨': 358,\n",
       " '또한': 359,\n",
       " '극복': 360,\n",
       " '자리': 361,\n",
       " '전혀': 362,\n",
       " '길': 363,\n",
       " '하': 364,\n",
       " '열심히': 365,\n",
       " '소식': 366,\n",
       " '상': 367,\n",
       " '스토리': 368,\n",
       " '빠르다': 369,\n",
       " '못': 370,\n",
       " '힘': 371,\n",
       " '밝다': 372,\n",
       " '력': 373,\n",
       " '지다': 374,\n",
       " '어울리다': 375,\n",
       " '처럼': 376,\n",
       " '추가': 377,\n",
       " '자주': 378,\n",
       " '바탕': 379,\n",
       " '편리하다': 380,\n",
       " '나': 381,\n",
       " '제공': 382,\n",
       " '입장': 383,\n",
       " '적극': 384,\n",
       " '마스크': 385,\n",
       " '로그인': 386,\n",
       " '간편': 387,\n",
       " '자존감': 388,\n",
       " '납부': 389,\n",
       " '인식': 390,\n",
       " '소통': 391,\n",
       " '핵심': 392,\n",
       " '니즈': 393,\n",
       " '소신': 394,\n",
       " '번창': 395,\n",
       " '비': 396,\n",
       " '거리': 397,\n",
       " '듭니': 398,\n",
       " '또는': 399,\n",
       " '글씨': 400,\n",
       " '의견': 401,\n",
       " '남다': 402,\n",
       " '신뢰': 403,\n",
       " '외부': 404,\n",
       " '극': 405,\n",
       " '인질': 406,\n",
       " '내다': 407,\n",
       " '계기': 408,\n",
       " '아무래도': 409,\n",
       " '모델': 410,\n",
       " '왜': 411,\n",
       " '의도': 412,\n",
       " '놀라다': 413,\n",
       " '삼': 414,\n",
       " '찰떡': 415,\n",
       " '비유': 416,\n",
       " '티르': 417,\n",
       " '전략': 418,\n",
       " '형식': 419,\n",
       " '늘다': 420,\n",
       " '세': 421,\n",
       " '느껴지다': 422,\n",
       " '눈물': 423,\n",
       " '작다': 424,\n",
       " '마무리': 425,\n",
       " '해주시': 426,\n",
       " '정리': 427,\n",
       " '끝나다': 428,\n",
       " '에서는': 429,\n",
       " '어색하다': 430,\n",
       " '간략하다': 431,\n",
       " '하루': 432,\n",
       " '이래저래': 433,\n",
       " '워': 434,\n",
       " '산': 435,\n",
       " '서도': 436,\n",
       " '대': 437,\n",
       " '성과': 438,\n",
       " '업체': 439,\n",
       " '읽다': 440,\n",
       " '이점': 441,\n",
       " '편성': 442,\n",
       " '뭘': 443,\n",
       " '아': 444,\n",
       " '알아보다': 445,\n",
       " '힘들다': 446,\n",
       " '딱딱하다': 447,\n",
       " '별로': 448,\n",
       " '시청': 449,\n",
       " '재다': 450,\n",
       " '로밍': 451,\n",
       " '간편하다': 452,\n",
       " '때문': 453,\n",
       " '위로': 454,\n",
       " '크게': 455,\n",
       " '방향성': 456,\n",
       " '봄': 457,\n",
       " '하나': 458,\n",
       " '편도': 459,\n",
       " '대감': 460,\n",
       " '꼼꼼하다': 461,\n",
       " '죠': 462,\n",
       " '사회': 463,\n",
       " '받다': 464,\n",
       " '따뜻하다': 465,\n",
       " '점장님': 466,\n",
       " '부정': 467,\n",
       " '공략': 468,\n",
       " '트랜드': 469,\n",
       " '따다': 470,\n",
       " '제일': 471,\n",
       " '에는': 472,\n",
       " '멘트': 473,\n",
       " '접근': 474,\n",
       " 'ㅋㅋ': 475,\n",
       " '갓': 476,\n",
       " '송씨': 477,\n",
       " '현재': 478,\n",
       " '차이점': 479,\n",
       " '매': 480,\n",
       " '좀더': 481,\n",
       " '아이템': 482,\n",
       " '코너': 483,\n",
       " '이상': 484,\n",
       " '이태원': 485,\n",
       " '위기': 486,\n",
       " '설치': 487,\n",
       " '이루다': 488,\n",
       " '주': 489,\n",
       " '쓰이다': 490,\n",
       " '세대': 491,\n",
       " '젊다': 492,\n",
       " '갈다': 493,\n",
       " '고민': 494,\n",
       " '저희': 495,\n",
       " '인하다': 496,\n",
       " '찜': 497,\n",
       " '포인트': 498,\n",
       " '라는': 499,\n",
       " '노멀': 500,\n",
       " '뉴': 501,\n",
       " '적다': 502,\n",
       " '회': 503,\n",
       " '나라': 504,\n",
       " '리액션': 505,\n",
       " '친': 506,\n",
       " '혼란': 507,\n",
       " '발화': 508,\n",
       " '위험': 509,\n",
       " '기원': 510,\n",
       " '경우': 511,\n",
       " '첫': 512,\n",
       " '맘껏': 513,\n",
       " '편의': 514,\n",
       " '지르다': 515,\n",
       " '철탑': 516,\n",
       " '라': 517,\n",
       " '이지만': 518,\n",
       " '컨셉': 519,\n",
       " '맞추다': 520,\n",
       " '우울하다': 521,\n",
       " '시설': 522,\n",
       " '점검': 523,\n",
       " '무릅': 524,\n",
       " '괜찮다': 525,\n",
       " '꿇다': 526,\n",
       " '수도': 527,\n",
       " '초반': 528,\n",
       " '지': 529,\n",
       " '뭔': 530,\n",
       " '찍다': 531,\n",
       " '유용하다': 532,\n",
       " '정돈': 533,\n",
       " '다니다': 534,\n",
       " '미소': 535,\n",
       " '맞이': 536,\n",
       " '언제나': 537,\n",
       " '얼굴': 538,\n",
       " '타다': 539,\n",
       " '어려움': 540,\n",
       " '변하다': 541,\n",
       " '달다': 542,\n",
       " '힘드다': 543,\n",
       " '지키다': 544,\n",
       " '마지막': 545,\n",
       " '직접': 546,\n",
       " '어떠하다': 547,\n",
       " '이용': 548,\n",
       " '맞춤': 549,\n",
       " '형': 550,\n",
       " '흥미롭다': 551,\n",
       " '근': 552,\n",
       " '선택': 553,\n",
       " '께': 554,\n",
       " '및': 555,\n",
       " '풍요롭': 556,\n",
       " '흐름': 557,\n",
       " '삶': 558,\n",
       " '걱정': 559,\n",
       " '과의': 560,\n",
       " '짱': 561,\n",
       " '먹다': 562,\n",
       " '서다': 563,\n",
       " '측면': 564,\n",
       " '드라마': 565,\n",
       " '돈쭐': 566,\n",
       " '알차다': 567,\n",
       " '성장하다': 568,\n",
       " '염려': 569,\n",
       " '해당': 570,\n",
       " '컨설턴트': 571,\n",
       " '완벽하다': 572,\n",
       " '대박': 573,\n",
       " '방문': 574,\n",
       " '매니저': 575,\n",
       " '바라보다': 576,\n",
       " '고증': 577,\n",
       " 'ㅋㅋㅋ': 578,\n",
       " '대본': 579,\n",
       " '활약': 580,\n",
       " '잘못': 581,\n",
       " '트렌디': 582,\n",
       " '당당하다': 583,\n",
       " '적절하다': 584,\n",
       " '인정': 585,\n",
       " '활력소': 586,\n",
       " '팟팅': 587,\n",
       " '만족하다': 588,\n",
       " '문자': 589,\n",
       " '기르다': 590,\n",
       " '건강하다': 591,\n",
       " '단단하다': 592,\n",
       " '원활하다': 593,\n",
       " '연': 594,\n",
       " '빛': 595,\n",
       " '공': 596,\n",
       " '개념': 597,\n",
       " '부지': 598,\n",
       " '유의': 599,\n",
       " '진심': 600,\n",
       " '무료컨설팅': 601,\n",
       " '사과': 602,\n",
       " '짜증나다': 603,\n",
       " '경찰': 604,\n",
       " '예시': 605,\n",
       " '개': 606,\n",
       " '길다': 607,\n",
       " '오히려': 608,\n",
       " '이외': 609,\n",
       " '뿐': 610,\n",
       " '구체성': 611,\n",
       " '단점': 612,\n",
       " '어민': 613,\n",
       " '전기': 614,\n",
       " '활성화': 615,\n",
       " '통신비': 616,\n",
       " '절감': 617,\n",
       " '건': 618,\n",
       " '부각': 619,\n",
       " '뒤': 620,\n",
       " '변화': 621,\n",
       " '아무': 622,\n",
       " '대하': 623,\n",
       " '통한': 624,\n",
       " '피싱': 625,\n",
       " '태도': 626,\n",
       " '견': 627,\n",
       " '내외': 628,\n",
       " '없스비': 629,\n",
       " '수긍': 630,\n",
       " '보이스': 631,\n",
       " '조금씩': 632,\n",
       " '추진': 633,\n",
       " '어필': 634,\n",
       " '주가': 635,\n",
       " '낚시': 636,\n",
       " '콘셉트': 637,\n",
       " '밍': 638,\n",
       " '청원': 639,\n",
       " '스럽게': 640,\n",
       " '지표': 641,\n",
       " '정량': 642,\n",
       " '프로': 643,\n",
       " '여기다': 644,\n",
       " '기존': 645,\n",
       " '업계': 646,\n",
       " '사오다': 647,\n",
       " '현황': 648,\n",
       " '인지도': 649,\n",
       " '역할': 650,\n",
       " '이라': 651,\n",
       " '어리다': 652,\n",
       " '는걸': 653,\n",
       " '메시지': 654,\n",
       " '교육청': 655,\n",
       " '에그': 656,\n",
       " '의미': 657,\n",
       " '장난': 658,\n",
       " '롤러코스터': 659,\n",
       " '센터': 660,\n",
       " '오디오': 661,\n",
       " '통일': 662,\n",
       " '모으다': 663,\n",
       " '의문': 664,\n",
       " '명확하다': 665,\n",
       " '다루어지다': 666,\n",
       " '갓뚜기': 667,\n",
       " '오동통면': 668,\n",
       " '너구리': 669,\n",
       " '뒷전': 670,\n",
       " '라면': 671,\n",
       " '단일': 672,\n",
       " '도출': 673,\n",
       " '맛있다': 674,\n",
       " '일도': 675,\n",
       " '석조': 676,\n",
       " '저만': 677,\n",
       " '신기하다': 678,\n",
       " '우회': 679,\n",
       " '굉장하다': 680,\n",
       " '관심': 681,\n",
       " '일어나지': 682,\n",
       " '실천': 683,\n",
       " '가치': 684,\n",
       " '전문용어': 685,\n",
       " '탄탄하다': 686,\n",
       " '선도': 687,\n",
       " '빈번': 688,\n",
       " '노출': 689,\n",
       " '불만': 690,\n",
       " '주의': 691,\n",
       " '출동': 692,\n",
       " '기다': 693,\n",
       " '취미': 694,\n",
       " '영': 695,\n",
       " '입': 696,\n",
       " '부서': 697,\n",
       " '유치하다': 698,\n",
       " '전화': 699,\n",
       " '워드': 700,\n",
       " '화사': 701,\n",
       " '굿굿': 702,\n",
       " '해외': 703,\n",
       " '하단': 704,\n",
       " '세심': 705,\n",
       " '동': 706,\n",
       " '객관': 707,\n",
       " '수준': 708,\n",
       " '유사': 709,\n",
       " '가끔': 710,\n",
       " '민감하다': 711,\n",
       " '후반': 712,\n",
       " '유행': 713,\n",
       " '동향': 714,\n",
       " '앵글': 715,\n",
       " '특성': 716,\n",
       " '언급': 717,\n",
       " '키': 718,\n",
       " '부': 719,\n",
       " '발견': 720,\n",
       " '신분': 721,\n",
       " '떠오르다': 722,\n",
       " '무료': 723,\n",
       " '즐기다': 724,\n",
       " '귀': 725,\n",
       " '이랑': 726,\n",
       " '쏙쏙': 727,\n",
       " '핫이슈': 728,\n",
       " '만들어지다': 729,\n",
       " '이윤': 730,\n",
       " '내야': 731,\n",
       " '이유': 732,\n",
       " '전환': 733,\n",
       " '인가요': 734,\n",
       " '예정': 735,\n",
       " '탐방': 736,\n",
       " '어디': 737,\n",
       " '구현': 738,\n",
       " '솔직하다': 739,\n",
       " '감탄': 740,\n",
       " '사의': 741,\n",
       " '발상': 742,\n",
       " '달': 743,\n",
       " '화도': 744,\n",
       " '작업': 745,\n",
       " '고맙다': 746,\n",
       " '지나치다': 747,\n",
       " '산소': 748,\n",
       " '속': 749,\n",
       " '청원경찰': 750,\n",
       " '요소': 751,\n",
       " '제거': 752,\n",
       " '안전하다': 753,\n",
       " '장식': 754,\n",
       " '길이': 755,\n",
       " '중구': 756,\n",
       " '난방': 757,\n",
       " '사진': 758,\n",
       " '한결같다': 759,\n",
       " '출퇴근': 760,\n",
       " '배웅': 761,\n",
       " '달려오다': 762,\n",
       " '달려가다': 763,\n",
       " '솜씨': 764,\n",
       " '자유롭다': 765,\n",
       " '시즌': 766,\n",
       " '시청자': 767,\n",
       " '위급': 768,\n",
       " '여러분': 769,\n",
       " '매일': 770,\n",
       " '미리': 771,\n",
       " '인간': 772,\n",
       " '작년': 773,\n",
       " '특히': 774,\n",
       " '재밋': 775,\n",
       " '과는': 776,\n",
       " '조업': 777,\n",
       " '로서': 778,\n",
       " '올해': 779,\n",
       " '미니': 780,\n",
       " '올': 781,\n",
       " '한해': 782,\n",
       " '필수': 783,\n",
       " '만나다': 784,\n",
       " '보호': 785,\n",
       " '한테': 786,\n",
       " '장비': 787,\n",
       " '호스트': 788,\n",
       " '구': 789,\n",
       " '쇼': 790,\n",
       " '기도': 791,\n",
       " '부럽다': 792,\n",
       " '긴급': 793,\n",
       " '앉다': 794,\n",
       " '의자': 795,\n",
       " '안마': 796,\n",
       " '자마자': 797,\n",
       " '출근': 798,\n",
       " '높다': 799,\n",
       " '조': 800,\n",
       " '요청': 801,\n",
       " '유사하다': 802,\n",
       " '반복': 803,\n",
       " '노출하다': 804,\n",
       " '희생': 805,\n",
       " '봉사': 806,\n",
       " '곳': 807,\n",
       " '주위': 808,\n",
       " '더없이': 809,\n",
       " '더하다': 810,\n",
       " '교훈': 811,\n",
       " '얼마나': 812,\n",
       " '윈윈': 813,\n",
       " '시나리오': 814,\n",
       " '누가': 815,\n",
       " '쓸다': 816,\n",
       " '이러하다': 817,\n",
       " '벌어지다': 818,\n",
       " '또': 819,\n",
       " '시기': 820,\n",
       " '터지다': 821,\n",
       " '희망': 822,\n",
       " '찬': 823,\n",
       " '전주': 824,\n",
       " '아직': 825,\n",
       " '보강': 826,\n",
       " '연결하다': 827,\n",
       " '소비자': 828,\n",
       " '위태': 829,\n",
       " '둘': 830,\n",
       " '빵': 831,\n",
       " '산업': 832,\n",
       " '리얼': 833,\n",
       " '성공하다': 834,\n",
       " '노선': 835,\n",
       " '브랜드': 836,\n",
       " '독자': 837,\n",
       " '화두': 838,\n",
       " '숨기': 839,\n",
       " '예방': 840,\n",
       " '하이트': 841,\n",
       " '연속': 842,\n",
       " '대리점': 843,\n",
       " '연재': 844,\n",
       " '타겟': 845,\n",
       " '주류': 846,\n",
       " '신경': 847,\n",
       " '폰트': 848,\n",
       " '시너지': 849,\n",
       " '기여': 850,\n",
       " '빠지다': 851,\n",
       " '경향': 852,\n",
       " '점도': 853,\n",
       " '짚다': 854,\n",
       " '화려하다': 855,\n",
       " '갈수록': 856,\n",
       " '으로의': 857,\n",
       " '시점': 858,\n",
       " '성큼': 859,\n",
       " '실적': 860,\n",
       " '다가서다': 861,\n",
       " '이신': 862,\n",
       " '데': 863,\n",
       " '친근하다': 864,\n",
       " '훌륭하다': 865,\n",
       " '지루함': 866,\n",
       " '절묘하다': 867,\n",
       " '조화': 868,\n",
       " '대사': 869,\n",
       " '든든하다': 870,\n",
       " '경쟁': 871,\n",
       " '자사': 872,\n",
       " '위치': 873,\n",
       " '행복하다': 874,\n",
       " '가득하다': 875,\n",
       " '인사': 876,\n",
       " '호흡': 877,\n",
       " '위주': 878,\n",
       " '승승장구': 879,\n",
       " '달인': 880,\n",
       " '일요일': 881,\n",
       " '편향': 882,\n",
       " '되게': 883,\n",
       " '능숙하다': 884,\n",
       " '노고': 885,\n",
       " '유난히': 886,\n",
       " '꾸다': 887,\n",
       " '추다': 888,\n",
       " '내내': 889,\n",
       " '겨울': 890,\n",
       " '끄다': 891,\n",
       " '날씨': 892,\n",
       " '상당하다': 893,\n",
       " '불구': 894,\n",
       " '써주다': 895,\n",
       " '평이': 896,\n",
       " '빵터지다': 897,\n",
       " '나누다': 898,\n",
       " '디지털': 899,\n",
       " '와의': 900,\n",
       " '선두': 901,\n",
       " '주자': 902,\n",
       " '좌층': 903,\n",
       " '우': 904,\n",
       " '돌': 905,\n",
       " '잃다': 906,\n",
       " '궁금하다': 907,\n",
       " '이익': 908,\n",
       " '이미': 909,\n",
       " '회차': 910,\n",
       " '침체': 911,\n",
       " '우연찮': 912,\n",
       " '방영': 913,\n",
       " '적히다': 914,\n",
       " '비문': 915,\n",
       " '방해': 916,\n",
       " '방기': 917,\n",
       " '고려': 918,\n",
       " '잡음': 919,\n",
       " '성급하다': 920,\n",
       " '부별': 921,\n",
       " '본부': 922,\n",
       " '줄이다': 923,\n",
       " '제대로': 924,\n",
       " '보이지': 925,\n",
       " '가독성': 926,\n",
       " '예능': 927,\n",
       " '대세': 928,\n",
       " '힘쓰다': 929,\n",
       " '곱다': 930,\n",
       " '분투': 931,\n",
       " '차지': 932,\n",
       " '해오다': 933,\n",
       " '보다는': 934,\n",
       " '라기': 935,\n",
       " '비추다': 936,\n",
       " '결론': 937,\n",
       " '몰입': 938,\n",
       " '주기': 939,\n",
       " '실감': 940,\n",
       " '전세계': 941,\n",
       " '앞서': 942,\n",
       " '한발': 943,\n",
       " '도입': 944,\n",
       " '위트': 945,\n",
       " '부담': 946,\n",
       " '순삭': 947,\n",
       " '화가': 948,\n",
       " '코로': 949,\n",
       " '확신': 950,\n",
       " '즐거움': 951,\n",
       " '발굴': 952,\n",
       " '분량': 953,\n",
       " '치우치다': 954,\n",
       " '안남다': 955,\n",
       " '사건': 956,\n",
       " '개발': 957,\n",
       " '게임': 958,\n",
       " '컬래버': 959,\n",
       " '회상': 960,\n",
       " '제목': 961,\n",
       " '티핑': 962,\n",
       " '업적': 963,\n",
       " '수치화': 964,\n",
       " '한다는': 965,\n",
       " '제시': 966,\n",
       " '능력': 967,\n",
       " '휼륭하다': 968,\n",
       " '화략': 969,\n",
       " '만의': 970,\n",
       " '국내': 971,\n",
       " '자부심': 972,\n",
       " '살펴보다': 973,\n",
       " '제품': 974,\n",
       " '정책': 975,\n",
       " '출시': 976,\n",
       " '뷰': 977,\n",
       " '순간': 978,\n",
       " '기념비': 979,\n",
       " '바로': 980,\n",
       " '본': 981,\n",
       " '반응': 982,\n",
       " '본질': 983,\n",
       " '해': 984,\n",
       " '움직이다': 985,\n",
       " '대의': 986,\n",
       " '현시': 987,\n",
       " '야회': 988,\n",
       " '이리': 989,\n",
       " '그런': 990,\n",
       " '결과물': 991,\n",
       " '당연하다': 992,\n",
       " '요구사항': 993,\n",
       " '생각나다': 994,\n",
       " '원하다': 995,\n",
       " '관계': 996,\n",
       " '여야': 997,\n",
       " '두': 998,\n",
       " '케미': 999,\n",
       " ...}"
      ]
     },
     "execution_count": 228,
     "metadata": {},
     "output_type": "execute_result"
    }
   ],
   "source": [
    "model.wv.key_to_index"
   ]
  },
  {
   "cell_type": "code",
   "execution_count": 230,
   "id": "7220d932-145d-4034-86a8-91b665c9a093",
   "metadata": {},
   "outputs": [
    {
     "name": "stdout",
     "output_type": "stream",
     "text": [
      "(50,)\n",
      "[ 0.01338262 -0.0020234  -0.00030202 -0.00504923 -0.05961359 -0.06264377\n",
      "  0.04981148  0.08890024 -0.11745052 -0.04404685  0.01965791 -0.07654399\n",
      "  0.04139161  0.01255119 -0.07258711  0.02211571  0.07934754  0.02890834\n",
      " -0.09772889 -0.02541128  0.0150612   0.0528612   0.08101416 -0.02478107\n",
      "  0.03633468  0.04360081 -0.01447952 -0.01093593 -0.07437438  0.04732362\n",
      "  0.01200753 -0.01122215 -0.02666172 -0.01511144 -0.06661499  0.05068859\n",
      "  0.01688502  0.00297857  0.04838132 -0.07771023  0.05894678 -0.01738761\n",
      "  0.00829257  0.00639978  0.12129708  0.0206754   0.00244234 -0.05623551\n",
      "  0.0401266   0.01066603]\n"
     ]
    }
   ],
   "source": [
    "print(model.wv.get_vector('우리').shape)\n",
    "print(model.wv.get_vector('우리'))"
   ]
  },
  {
   "cell_type": "code",
   "execution_count": 232,
   "id": "d115eb12-13ef-4090-a970-fe52d8ca38cd",
   "metadata": {},
   "outputs": [
    {
     "ename": "KeyError",
     "evalue": "\"Key '우리나라' not present in vocabulary\"",
     "output_type": "error",
     "traceback": [
      "\u001b[31m---------------------------------------------------------------------------\u001b[39m",
      "\u001b[31mKeyError\u001b[39m                                  Traceback (most recent call last)",
      "\u001b[36mCell\u001b[39m\u001b[36m \u001b[39m\u001b[32mIn[232]\u001b[39m\u001b[32m, line 2\u001b[39m\n\u001b[32m      1\u001b[39m \u001b[38;5;66;03m# 우리나라 키워드 유사도 조회: 단어 집합(Vocabulary)에 존재하지 않는 단어 입력으로 OOV 에러 발생\u001b[39;00m\n\u001b[32m----> \u001b[39m\u001b[32m2\u001b[39m \u001b[38;5;28mprint\u001b[39m(model.wv.most_similar(\u001b[33m\"\u001b[39m\u001b[33m우리나라\u001b[39m\u001b[33m\"\u001b[39m))\n",
      "\u001b[36mFile \u001b[39m\u001b[32m~/miniconda3/lib/python3.12/site-packages/gensim/models/keyedvectors.py:841\u001b[39m, in \u001b[36mKeyedVectors.most_similar\u001b[39m\u001b[34m(self, positive, negative, topn, clip_start, clip_end, restrict_vocab, indexer)\u001b[39m\n\u001b[32m    838\u001b[39m         weight[idx] = item[\u001b[32m1\u001b[39m]\n\u001b[32m    840\u001b[39m \u001b[38;5;66;03m# compute the weighted average of all keys\u001b[39;00m\n\u001b[32m--> \u001b[39m\u001b[32m841\u001b[39m mean = \u001b[38;5;28mself\u001b[39m.get_mean_vector(keys, weight, pre_normalize=\u001b[38;5;28;01mTrue\u001b[39;00m, post_normalize=\u001b[38;5;28;01mTrue\u001b[39;00m, ignore_missing=\u001b[38;5;28;01mFalse\u001b[39;00m)\n\u001b[32m    842\u001b[39m all_keys = [\n\u001b[32m    843\u001b[39m     \u001b[38;5;28mself\u001b[39m.get_index(key) \u001b[38;5;28;01mfor\u001b[39;00m key \u001b[38;5;129;01min\u001b[39;00m keys \u001b[38;5;28;01mif\u001b[39;00m \u001b[38;5;28misinstance\u001b[39m(key, _KEY_TYPES) \u001b[38;5;129;01mand\u001b[39;00m \u001b[38;5;28mself\u001b[39m.has_index_for(key)\n\u001b[32m    844\u001b[39m ]\n\u001b[32m    846\u001b[39m \u001b[38;5;28;01mif\u001b[39;00m indexer \u001b[38;5;129;01mis\u001b[39;00m \u001b[38;5;129;01mnot\u001b[39;00m \u001b[38;5;28;01mNone\u001b[39;00m \u001b[38;5;129;01mand\u001b[39;00m \u001b[38;5;28misinstance\u001b[39m(topn, \u001b[38;5;28mint\u001b[39m):\n",
      "\u001b[36mFile \u001b[39m\u001b[32m~/miniconda3/lib/python3.12/site-packages/gensim/models/keyedvectors.py:518\u001b[39m, in \u001b[36mKeyedVectors.get_mean_vector\u001b[39m\u001b[34m(self, keys, weights, pre_normalize, post_normalize, ignore_missing)\u001b[39m\n\u001b[32m    516\u001b[39m         total_weight += \u001b[38;5;28mabs\u001b[39m(weights[idx])\n\u001b[32m    517\u001b[39m     \u001b[38;5;28;01melif\u001b[39;00m \u001b[38;5;129;01mnot\u001b[39;00m ignore_missing:\n\u001b[32m--> \u001b[39m\u001b[32m518\u001b[39m         \u001b[38;5;28;01mraise\u001b[39;00m \u001b[38;5;167;01mKeyError\u001b[39;00m(\u001b[33mf\u001b[39m\u001b[33m\"\u001b[39m\u001b[33mKey \u001b[39m\u001b[33m'\u001b[39m\u001b[38;5;132;01m{\u001b[39;00mkey\u001b[38;5;132;01m}\u001b[39;00m\u001b[33m'\u001b[39m\u001b[33m not present in vocabulary\u001b[39m\u001b[33m\"\u001b[39m)\n\u001b[32m    520\u001b[39m \u001b[38;5;28;01mif\u001b[39;00m total_weight > \u001b[32m0\u001b[39m:\n\u001b[32m    521\u001b[39m     mean = mean / total_weight\n",
      "\u001b[31mKeyError\u001b[39m: \"Key '우리나라' not present in vocabulary\""
     ]
    }
   ],
   "source": [
    "# 우리나라 키워드 유사도 조회: 단어 집합(Vocabulary)에 존재하지 않는 단어 입력으로 OOV 에러 발생\n",
    "print(model.wv.most_similar(\"우리나라\"))"
   ]
  },
  {
   "cell_type": "code",
   "execution_count": null,
   "id": "f2ff7cc3-f74c-4723-802a-9857b24adc5d",
   "metadata": {},
   "outputs": [],
   "source": []
  },
  {
   "cell_type": "code",
   "execution_count": null,
   "id": "b5f8a78d-60ca-49cd-bbfb-849d9ed3e0d1",
   "metadata": {},
   "outputs": [],
   "source": []
  },
  {
   "cell_type": "code",
   "execution_count": null,
   "id": "fb193fbb-d09a-493e-8e91-a4804ffebb78",
   "metadata": {},
   "outputs": [],
   "source": []
  },
  {
   "cell_type": "code",
   "execution_count": null,
   "id": "e9bbbafe-2db9-4608-acb3-281968bc78d8",
   "metadata": {},
   "outputs": [],
   "source": []
  },
  {
   "cell_type": "markdown",
   "id": "92c8a9a3-a836-4b59-9506-47515074befe",
   "metadata": {},
   "source": [
    "### B. FastText\n",
    "\n",
    "#### FastText 훈련시키고 유사도 측정\n",
    "- gensim의 FastText을 이용하여 토큰(단어)을 의미 있는 Vector로 만듦\n",
    "- FastText wv(Word2vec)의 most_similar 이용하여 유사도 측정"
   ]
  },
  {
   "cell_type": "code",
   "execution_count": null,
   "id": "5f8f3261-dada-45f7-8566-f4ebda4f12f3",
   "metadata": {},
   "outputs": [],
   "source": []
  },
  {
   "cell_type": "code",
   "execution_count": 237,
   "id": "6d81589c-2e7f-49fd-9286-025dee348a2c",
   "metadata": {},
   "outputs": [],
   "source": [
    "# FastText 이용하여 토큰(단어)를 의미 있는 Vector 만들기\n",
    "\n",
    "# size = 워드 임베딩된 벡터의 차원\n",
    "# window = 컨택스트 윈도우 크기\n",
    "# min_count = 단어 최소 빈도 수 제한(빈도가 적은 단어들은 학습하지 않는다.) 데이터 적어 0으로 지정\n",
    "# worker = 학습을 위한 프로세스 수\n",
    "# sg = 0은 CBOW, 1은 Skip-gram\n",
    "\n",
    "from gensim.models import FastText\n",
    "FT_model = FastText(sentences = tokenized_data, vector_size = 50, window = 5, min_count = 0, workers = 4, sg = 0)"
   ]
  },
  {
   "cell_type": "code",
   "execution_count": 239,
   "id": "efafbcf0-4133-4781-8afe-3b72efab7908",
   "metadata": {},
   "outputs": [
    {
     "data": {
      "text/plain": [
       "(1240, 50)"
      ]
     },
     "execution_count": 239,
     "metadata": {},
     "output_type": "execute_result"
    }
   ],
   "source": [
    "FT_model.wv.vectors.shape"
   ]
  },
  {
   "cell_type": "code",
   "execution_count": null,
   "id": "5dd37cee-01a8-4b1b-9ce0-8c99c3cf5107",
   "metadata": {},
   "outputs": [],
   "source": []
  },
  {
   "cell_type": "code",
   "execution_count": 243,
   "id": "17cf2057-56c5-4062-b4af-ce0ba1561c73",
   "metadata": {
    "scrolled": true
   },
   "outputs": [
    {
     "data": {
      "text/plain": [
       "{'을': 0,\n",
       " '있다': 1,\n",
       " '좋다': 2,\n",
       " '같다': 3,\n",
       " '되다': 4,\n",
       " '우리': 5,\n",
       " '것': 6,\n",
       " '방송': 7,\n",
       " '회사': 8,\n",
       " '보다': 9,\n",
       " '너무': 10,\n",
       " '자다': 11,\n",
       " '이다': 12,\n",
       " '고객': 13,\n",
       " '되어다': 14,\n",
       " '더': 15,\n",
       " '내용': 16,\n",
       " '서비스': 17,\n",
       " '않다': 18,\n",
       " '로': 19,\n",
       " '적': 20,\n",
       " '프로그램': 21,\n",
       " '수': 22,\n",
       " '에서': 23,\n",
       " '없다': 24,\n",
       " '어떻다': 25,\n",
       " '감사하다': 26,\n",
       " '화이팅': 27,\n",
       " '재미있다': 28,\n",
       " '기대': 29,\n",
       " '항상': 30,\n",
       " '앞': 31,\n",
       " '부분': 32,\n",
       " '인': 33,\n",
       " '기업': 34,\n",
       " '업무': 35,\n",
       " '아쉽다': 36,\n",
       " '대한': 37,\n",
       " '화': 38,\n",
       " '생각': 39,\n",
       " '설명': 40,\n",
       " '점': 41,\n",
       " '많다': 42,\n",
       " '새롭다': 43,\n",
       " '하고': 44,\n",
       " '들다': 45,\n",
       " '모습': 46,\n",
       " '요': 47,\n",
       " '해주다': 48,\n",
       " '일': 49,\n",
       " '다음': 50,\n",
       " '정말': 51,\n",
       " '에게': 52,\n",
       " '쇼핑': 53,\n",
       " '다양하다': 54,\n",
       " '부족하다': 55,\n",
       " '시간': 56,\n",
       " '나오다': 57,\n",
       " '기술': 58,\n",
       " '많이': 59,\n",
       " '으로도': 60,\n",
       " '가다': 61,\n",
       " '재밌다': 62,\n",
       " '모르다': 63,\n",
       " '활동': 64,\n",
       " '사내': 65,\n",
       " '소개': 66,\n",
       " '보이다': 67,\n",
       " '이미지': 68,\n",
       " '더욱': 69,\n",
       " '정보': 70,\n",
       " '짧다': 71,\n",
       " '보고': 72,\n",
       " '직원': 73,\n",
       " '응원': 74,\n",
       " '조금': 75,\n",
       " '분': 76,\n",
       " '말': 77,\n",
       " '자막': 78,\n",
       " '어렵다': 79,\n",
       " '구성': 80,\n",
       " '유익하다': 81,\n",
       " '등': 82,\n",
       " '지점': 83,\n",
       " '활용': 84,\n",
       " '만': 85,\n",
       " '발전': 86,\n",
       " '이해': 87,\n",
       " '싶다': 88,\n",
       " '인데': 89,\n",
       " '다': 90,\n",
       " '주제': 91,\n",
       " '진행': 92,\n",
       " '게': 93,\n",
       " '상품': 94,\n",
       " '보여주다': 95,\n",
       " '아니다': 96,\n",
       " '드리다': 97,\n",
       " '대해': 98,\n",
       " '알': 99,\n",
       " '계속': 100,\n",
       " '픽': 101,\n",
       " '제': 102,\n",
       " '필요하다': 103,\n",
       " '고': 104,\n",
       " '사례': 105,\n",
       " '마케팅': 106,\n",
       " '도움': 107,\n",
       " '재미': 108,\n",
       " '영상': 109,\n",
       " '트렌드': 110,\n",
       " '네': 111,\n",
       " '차별': 112,\n",
       " '중심': 113,\n",
       " '듯': 114,\n",
       " '산만하다': 115,\n",
       " '기획': 116,\n",
       " '거': 117,\n",
       " '최고': 118,\n",
       " '코로나': 119,\n",
       " '멋지다': 120,\n",
       " '기대하다': 121,\n",
       " '분들': 122,\n",
       " '아이디어': 123,\n",
       " '신선하다': 124,\n",
       " '광고': 125,\n",
       " '목소리': 126,\n",
       " '방식': 127,\n",
       " '개통': 128,\n",
       " '느낌': 129,\n",
       " '바다': 130,\n",
       " '서': 131,\n",
       " '사': 132,\n",
       " '통해': 133,\n",
       " '까지': 134,\n",
       " '가장': 135,\n",
       " '주다': 136,\n",
       " '없이': 137,\n",
       " '솔루션': 138,\n",
       " '마음': 139,\n",
       " '편': 140,\n",
       " '내': 141,\n",
       " '불편하다': 142,\n",
       " '인지': 143,\n",
       " '오다': 144,\n",
       " '신입사원': 145,\n",
       " '감사': 146,\n",
       " '시장': 147,\n",
       " '매우': 148,\n",
       " 'ㅎㅎ': 149,\n",
       " '쉬다': 150,\n",
       " '저': 151,\n",
       " '건지다': 152,\n",
       " '미숙': 153,\n",
       " '사람': 154,\n",
       " '성': 155,\n",
       " '처리': 156,\n",
       " '파이팅': 157,\n",
       " '최근': 158,\n",
       " '그룹': 159,\n",
       " '윤': 160,\n",
       " '수고': 161,\n",
       " '파악': 162,\n",
       " '배우': 163,\n",
       " '에서도': 164,\n",
       " '들이다': 165,\n",
       " '이네': 166,\n",
       " '인상': 167,\n",
       " '구체': 168,\n",
       " '소리': 169,\n",
       " '만들다': 170,\n",
       " '이렇다': 171,\n",
       " '전달': 172,\n",
       " '때': 173,\n",
       " '확인': 174,\n",
       " '함께': 175,\n",
       " '현장': 176,\n",
       " '님': 177,\n",
       " '부탁드리다': 178,\n",
       " '영업': 179,\n",
       " '이야기': 180,\n",
       " '나가다': 181,\n",
       " '사용': 182,\n",
       " '다소': 183,\n",
       " '관련': 184,\n",
       " '홍보': 185,\n",
       " '약간': 186,\n",
       " '맞다': 187,\n",
       " '전개': 188,\n",
       " '정확하다': 189,\n",
       " '개인': 190,\n",
       " '민원': 191,\n",
       " '케어': 192,\n",
       " '공감': 193,\n",
       " '역시': 194,\n",
       " '이나': 195,\n",
       " '오늘': 196,\n",
       " '모두': 197,\n",
       " '즐겁다': 198,\n",
       " '콘텐츠': 199,\n",
       " '나다': 200,\n",
       " '중': 201,\n",
       " '안전': 202,\n",
       " '닿다': 203,\n",
       " '데이터': 204,\n",
       " '해보다': 205,\n",
       " '에도': 206,\n",
       " '매출': 207,\n",
       " '차다': 208,\n",
       " '실제': 209,\n",
       " '싹': 210,\n",
       " '국민': 211,\n",
       " '느끼다': 212,\n",
       " '셀프': 213,\n",
       " '가능하다': 214,\n",
       " '통화': 215,\n",
       " '멀다': 216,\n",
       " '다루다': 217,\n",
       " '표현': 218,\n",
       " '지루하다': 219,\n",
       " '아쉬움': 220,\n",
       " '실수': 221,\n",
       " '크다': 222,\n",
       " '이번': 223,\n",
       " '쓰다': 224,\n",
       " '위해': 225,\n",
       " '담다': 226,\n",
       " '들어오다': 227,\n",
       " '컨텐츠': 228,\n",
       " '적용': 229,\n",
       " '노력': 230,\n",
       " '화면': 231,\n",
       " '재미없다': 232,\n",
       " '분야': 233,\n",
       " '영향': 234,\n",
       " '집중': 235,\n",
       " '바라다': 236,\n",
       " '부터': 237,\n",
       " '전': 238,\n",
       " '기억': 239,\n",
       " '요즘': 240,\n",
       " 'ㅎ': 241,\n",
       " '모든': 242,\n",
       " '판매': 243,\n",
       " '금일': 244,\n",
       " '방안': 245,\n",
       " '이제': 246,\n",
       " '보기': 247,\n",
       " '섭외': 248,\n",
       " '사업': 249,\n",
       " '인터뷰': 250,\n",
       " '간단하다': 251,\n",
       " '처음': 252,\n",
       " '무슨': 253,\n",
       " '근무': 254,\n",
       " '에요': 255,\n",
       " '비교': 256,\n",
       " '좋아하다': 257,\n",
       " '웃다': 258,\n",
       " '타': 259,\n",
       " '떨어지다': 260,\n",
       " '점점': 261,\n",
       " '이슈': 262,\n",
       " '눈': 263,\n",
       " '사항': 264,\n",
       " '이에요': 265,\n",
       " '반영': 266,\n",
       " '아침': 267,\n",
       " '현실': 268,\n",
       " '스럽다': 269,\n",
       " '시도': 270,\n",
       " '생기다': 271,\n",
       " '혁신': 272,\n",
       " '필요': 273,\n",
       " '장면': 274,\n",
       " '찾다': 275,\n",
       " '기': 276,\n",
       " '시키다': 277,\n",
       " '확실하다': 278,\n",
       " '에피소드': 279,\n",
       " '상황': 280,\n",
       " '안': 281,\n",
       " '환경': 282,\n",
       " '같이': 283,\n",
       " '보완': 284,\n",
       " '폰': 285,\n",
       " '풀다': 286,\n",
       " '덕후': 287,\n",
       " '이어지다': 288,\n",
       " '유쾌하다': 289,\n",
       " '매장': 290,\n",
       " '어떤': 291,\n",
       " '시': 292,\n",
       " '부탁': 293,\n",
       " '줄': 294,\n",
       " '최선': 295,\n",
       " '니': 296,\n",
       " '중요하다': 297,\n",
       " '다른': 298,\n",
       " '깊다': 299,\n",
       " '가볍다': 300,\n",
       " '개선': 301,\n",
       " '지금': 302,\n",
       " '발': 303,\n",
       " '자기': 304,\n",
       " '한번': 305,\n",
       " '친구': 306,\n",
       " '시작': 307,\n",
       " '감': 308,\n",
       " '다시': 309,\n",
       " '좌충우돌': 310,\n",
       " '그리고': 311,\n",
       " '전체': 312,\n",
       " '문제': 313,\n",
       " '안되다': 314,\n",
       " '번': 315,\n",
       " '가지': 316,\n",
       " '참신하다': 317,\n",
       " '즈': 318,\n",
       " '아주': 319,\n",
       " '이고': 320,\n",
       " '시대': 321,\n",
       " '에서의': 322,\n",
       " '그': 323,\n",
       " '대비': 324,\n",
       " '위': 325,\n",
       " '여러': 326,\n",
       " '무엇': 327,\n",
       " '정신': 328,\n",
       " '연관': 329,\n",
       " '기본': 330,\n",
       " '부가': 331,\n",
       " '돼다': 332,\n",
       " '뉴스': 333,\n",
       " '늘': 334,\n",
       " '임': 335,\n",
       " '경쟁력': 336,\n",
       " '알다': 337,\n",
       " '온라인': 338,\n",
       " '바뀌다': 339,\n",
       " '진짜': 340,\n",
       " '주제가': 341,\n",
       " '맡다': 342,\n",
       " '볼': 343,\n",
       " '쓰리다': 344,\n",
       " '향상': 345,\n",
       " '축하': 346,\n",
       " '기회': 347,\n",
       " '핫': 348,\n",
       " '체험': 349,\n",
       " '홈쇼핑': 350,\n",
       " '면': 351,\n",
       " '사고': 352,\n",
       " '올라가다': 353,\n",
       " '마다': 354,\n",
       " '소': 355,\n",
       " '위험하다': 356,\n",
       " '장바구니': 357,\n",
       " '김씨': 358,\n",
       " '또한': 359,\n",
       " '극복': 360,\n",
       " '자리': 361,\n",
       " '전혀': 362,\n",
       " '길': 363,\n",
       " '하': 364,\n",
       " '열심히': 365,\n",
       " '소식': 366,\n",
       " '상': 367,\n",
       " '스토리': 368,\n",
       " '빠르다': 369,\n",
       " '못': 370,\n",
       " '힘': 371,\n",
       " '밝다': 372,\n",
       " '력': 373,\n",
       " '지다': 374,\n",
       " '어울리다': 375,\n",
       " '처럼': 376,\n",
       " '추가': 377,\n",
       " '자주': 378,\n",
       " '바탕': 379,\n",
       " '편리하다': 380,\n",
       " '나': 381,\n",
       " '제공': 382,\n",
       " '입장': 383,\n",
       " '적극': 384,\n",
       " '마스크': 385,\n",
       " '로그인': 386,\n",
       " '간편': 387,\n",
       " '자존감': 388,\n",
       " '납부': 389,\n",
       " '인식': 390,\n",
       " '소통': 391,\n",
       " '핵심': 392,\n",
       " '니즈': 393,\n",
       " '소신': 394,\n",
       " '번창': 395,\n",
       " '비': 396,\n",
       " '거리': 397,\n",
       " '듭니': 398,\n",
       " '또는': 399,\n",
       " '글씨': 400,\n",
       " '의견': 401,\n",
       " '남다': 402,\n",
       " '신뢰': 403,\n",
       " '외부': 404,\n",
       " '극': 405,\n",
       " '인질': 406,\n",
       " '내다': 407,\n",
       " '계기': 408,\n",
       " '아무래도': 409,\n",
       " '모델': 410,\n",
       " '왜': 411,\n",
       " '의도': 412,\n",
       " '놀라다': 413,\n",
       " '삼': 414,\n",
       " '찰떡': 415,\n",
       " '비유': 416,\n",
       " '티르': 417,\n",
       " '전략': 418,\n",
       " '형식': 419,\n",
       " '늘다': 420,\n",
       " '세': 421,\n",
       " '느껴지다': 422,\n",
       " '눈물': 423,\n",
       " '작다': 424,\n",
       " '마무리': 425,\n",
       " '해주시': 426,\n",
       " '정리': 427,\n",
       " '끝나다': 428,\n",
       " '에서는': 429,\n",
       " '어색하다': 430,\n",
       " '간략하다': 431,\n",
       " '하루': 432,\n",
       " '이래저래': 433,\n",
       " '워': 434,\n",
       " '산': 435,\n",
       " '서도': 436,\n",
       " '대': 437,\n",
       " '성과': 438,\n",
       " '업체': 439,\n",
       " '읽다': 440,\n",
       " '이점': 441,\n",
       " '편성': 442,\n",
       " '뭘': 443,\n",
       " '아': 444,\n",
       " '알아보다': 445,\n",
       " '힘들다': 446,\n",
       " '딱딱하다': 447,\n",
       " '별로': 448,\n",
       " '시청': 449,\n",
       " '재다': 450,\n",
       " '로밍': 451,\n",
       " '간편하다': 452,\n",
       " '때문': 453,\n",
       " '위로': 454,\n",
       " '크게': 455,\n",
       " '방향성': 456,\n",
       " '봄': 457,\n",
       " '하나': 458,\n",
       " '편도': 459,\n",
       " '대감': 460,\n",
       " '꼼꼼하다': 461,\n",
       " '죠': 462,\n",
       " '사회': 463,\n",
       " '받다': 464,\n",
       " '따뜻하다': 465,\n",
       " '점장님': 466,\n",
       " '부정': 467,\n",
       " '공략': 468,\n",
       " '트랜드': 469,\n",
       " '따다': 470,\n",
       " '제일': 471,\n",
       " '에는': 472,\n",
       " '멘트': 473,\n",
       " '접근': 474,\n",
       " 'ㅋㅋ': 475,\n",
       " '갓': 476,\n",
       " '송씨': 477,\n",
       " '현재': 478,\n",
       " '차이점': 479,\n",
       " '매': 480,\n",
       " '좀더': 481,\n",
       " '아이템': 482,\n",
       " '코너': 483,\n",
       " '이상': 484,\n",
       " '이태원': 485,\n",
       " '위기': 486,\n",
       " '설치': 487,\n",
       " '이루다': 488,\n",
       " '주': 489,\n",
       " '쓰이다': 490,\n",
       " '세대': 491,\n",
       " '젊다': 492,\n",
       " '갈다': 493,\n",
       " '고민': 494,\n",
       " '저희': 495,\n",
       " '인하다': 496,\n",
       " '찜': 497,\n",
       " '포인트': 498,\n",
       " '라는': 499,\n",
       " '노멀': 500,\n",
       " '뉴': 501,\n",
       " '적다': 502,\n",
       " '회': 503,\n",
       " '나라': 504,\n",
       " '리액션': 505,\n",
       " '친': 506,\n",
       " '혼란': 507,\n",
       " '발화': 508,\n",
       " '위험': 509,\n",
       " '기원': 510,\n",
       " '경우': 511,\n",
       " '첫': 512,\n",
       " '맘껏': 513,\n",
       " '편의': 514,\n",
       " '지르다': 515,\n",
       " '철탑': 516,\n",
       " '라': 517,\n",
       " '이지만': 518,\n",
       " '컨셉': 519,\n",
       " '맞추다': 520,\n",
       " '우울하다': 521,\n",
       " '시설': 522,\n",
       " '점검': 523,\n",
       " '무릅': 524,\n",
       " '괜찮다': 525,\n",
       " '꿇다': 526,\n",
       " '수도': 527,\n",
       " '초반': 528,\n",
       " '지': 529,\n",
       " '뭔': 530,\n",
       " '찍다': 531,\n",
       " '유용하다': 532,\n",
       " '정돈': 533,\n",
       " '다니다': 534,\n",
       " '미소': 535,\n",
       " '맞이': 536,\n",
       " '언제나': 537,\n",
       " '얼굴': 538,\n",
       " '타다': 539,\n",
       " '어려움': 540,\n",
       " '변하다': 541,\n",
       " '달다': 542,\n",
       " '힘드다': 543,\n",
       " '지키다': 544,\n",
       " '마지막': 545,\n",
       " '직접': 546,\n",
       " '어떠하다': 547,\n",
       " '이용': 548,\n",
       " '맞춤': 549,\n",
       " '형': 550,\n",
       " '흥미롭다': 551,\n",
       " '근': 552,\n",
       " '선택': 553,\n",
       " '께': 554,\n",
       " '및': 555,\n",
       " '풍요롭': 556,\n",
       " '흐름': 557,\n",
       " '삶': 558,\n",
       " '걱정': 559,\n",
       " '과의': 560,\n",
       " '짱': 561,\n",
       " '먹다': 562,\n",
       " '서다': 563,\n",
       " '측면': 564,\n",
       " '드라마': 565,\n",
       " '돈쭐': 566,\n",
       " '알차다': 567,\n",
       " '성장하다': 568,\n",
       " '염려': 569,\n",
       " '해당': 570,\n",
       " '컨설턴트': 571,\n",
       " '완벽하다': 572,\n",
       " '대박': 573,\n",
       " '방문': 574,\n",
       " '매니저': 575,\n",
       " '바라보다': 576,\n",
       " '고증': 577,\n",
       " 'ㅋㅋㅋ': 578,\n",
       " '대본': 579,\n",
       " '활약': 580,\n",
       " '잘못': 581,\n",
       " '트렌디': 582,\n",
       " '당당하다': 583,\n",
       " '적절하다': 584,\n",
       " '인정': 585,\n",
       " '활력소': 586,\n",
       " '팟팅': 587,\n",
       " '만족하다': 588,\n",
       " '문자': 589,\n",
       " '기르다': 590,\n",
       " '건강하다': 591,\n",
       " '단단하다': 592,\n",
       " '원활하다': 593,\n",
       " '연': 594,\n",
       " '빛': 595,\n",
       " '공': 596,\n",
       " '개념': 597,\n",
       " '부지': 598,\n",
       " '유의': 599,\n",
       " '진심': 600,\n",
       " '무료컨설팅': 601,\n",
       " '사과': 602,\n",
       " '짜증나다': 603,\n",
       " '경찰': 604,\n",
       " '예시': 605,\n",
       " '개': 606,\n",
       " '길다': 607,\n",
       " '오히려': 608,\n",
       " '이외': 609,\n",
       " '뿐': 610,\n",
       " '구체성': 611,\n",
       " '단점': 612,\n",
       " '어민': 613,\n",
       " '전기': 614,\n",
       " '활성화': 615,\n",
       " '통신비': 616,\n",
       " '절감': 617,\n",
       " '건': 618,\n",
       " '부각': 619,\n",
       " '뒤': 620,\n",
       " '변화': 621,\n",
       " '아무': 622,\n",
       " '대하': 623,\n",
       " '통한': 624,\n",
       " '피싱': 625,\n",
       " '태도': 626,\n",
       " '견': 627,\n",
       " '내외': 628,\n",
       " '없스비': 629,\n",
       " '수긍': 630,\n",
       " '보이스': 631,\n",
       " '조금씩': 632,\n",
       " '추진': 633,\n",
       " '어필': 634,\n",
       " '주가': 635,\n",
       " '낚시': 636,\n",
       " '콘셉트': 637,\n",
       " '밍': 638,\n",
       " '청원': 639,\n",
       " '스럽게': 640,\n",
       " '지표': 641,\n",
       " '정량': 642,\n",
       " '프로': 643,\n",
       " '여기다': 644,\n",
       " '기존': 645,\n",
       " '업계': 646,\n",
       " '사오다': 647,\n",
       " '현황': 648,\n",
       " '인지도': 649,\n",
       " '역할': 650,\n",
       " '이라': 651,\n",
       " '어리다': 652,\n",
       " '는걸': 653,\n",
       " '메시지': 654,\n",
       " '교육청': 655,\n",
       " '에그': 656,\n",
       " '의미': 657,\n",
       " '장난': 658,\n",
       " '롤러코스터': 659,\n",
       " '센터': 660,\n",
       " '오디오': 661,\n",
       " '통일': 662,\n",
       " '모으다': 663,\n",
       " '의문': 664,\n",
       " '명확하다': 665,\n",
       " '다루어지다': 666,\n",
       " '갓뚜기': 667,\n",
       " '오동통면': 668,\n",
       " '너구리': 669,\n",
       " '뒷전': 670,\n",
       " '라면': 671,\n",
       " '단일': 672,\n",
       " '도출': 673,\n",
       " '맛있다': 674,\n",
       " '일도': 675,\n",
       " '석조': 676,\n",
       " '저만': 677,\n",
       " '신기하다': 678,\n",
       " '우회': 679,\n",
       " '굉장하다': 680,\n",
       " '관심': 681,\n",
       " '일어나지': 682,\n",
       " '실천': 683,\n",
       " '가치': 684,\n",
       " '전문용어': 685,\n",
       " '탄탄하다': 686,\n",
       " '선도': 687,\n",
       " '빈번': 688,\n",
       " '노출': 689,\n",
       " '불만': 690,\n",
       " '주의': 691,\n",
       " '출동': 692,\n",
       " '기다': 693,\n",
       " '취미': 694,\n",
       " '영': 695,\n",
       " '입': 696,\n",
       " '부서': 697,\n",
       " '유치하다': 698,\n",
       " '전화': 699,\n",
       " '워드': 700,\n",
       " '화사': 701,\n",
       " '굿굿': 702,\n",
       " '해외': 703,\n",
       " '하단': 704,\n",
       " '세심': 705,\n",
       " '동': 706,\n",
       " '객관': 707,\n",
       " '수준': 708,\n",
       " '유사': 709,\n",
       " '가끔': 710,\n",
       " '민감하다': 711,\n",
       " '후반': 712,\n",
       " '유행': 713,\n",
       " '동향': 714,\n",
       " '앵글': 715,\n",
       " '특성': 716,\n",
       " '언급': 717,\n",
       " '키': 718,\n",
       " '부': 719,\n",
       " '발견': 720,\n",
       " '신분': 721,\n",
       " '떠오르다': 722,\n",
       " '무료': 723,\n",
       " '즐기다': 724,\n",
       " '귀': 725,\n",
       " '이랑': 726,\n",
       " '쏙쏙': 727,\n",
       " '핫이슈': 728,\n",
       " '만들어지다': 729,\n",
       " '이윤': 730,\n",
       " '내야': 731,\n",
       " '이유': 732,\n",
       " '전환': 733,\n",
       " '인가요': 734,\n",
       " '예정': 735,\n",
       " '탐방': 736,\n",
       " '어디': 737,\n",
       " '구현': 738,\n",
       " '솔직하다': 739,\n",
       " '감탄': 740,\n",
       " '사의': 741,\n",
       " '발상': 742,\n",
       " '달': 743,\n",
       " '화도': 744,\n",
       " '작업': 745,\n",
       " '고맙다': 746,\n",
       " '지나치다': 747,\n",
       " '산소': 748,\n",
       " '속': 749,\n",
       " '청원경찰': 750,\n",
       " '요소': 751,\n",
       " '제거': 752,\n",
       " '안전하다': 753,\n",
       " '장식': 754,\n",
       " '길이': 755,\n",
       " '중구': 756,\n",
       " '난방': 757,\n",
       " '사진': 758,\n",
       " '한결같다': 759,\n",
       " '출퇴근': 760,\n",
       " '배웅': 761,\n",
       " '달려오다': 762,\n",
       " '달려가다': 763,\n",
       " '솜씨': 764,\n",
       " '자유롭다': 765,\n",
       " '시즌': 766,\n",
       " '시청자': 767,\n",
       " '위급': 768,\n",
       " '여러분': 769,\n",
       " '매일': 770,\n",
       " '미리': 771,\n",
       " '인간': 772,\n",
       " '작년': 773,\n",
       " '특히': 774,\n",
       " '재밋': 775,\n",
       " '과는': 776,\n",
       " '조업': 777,\n",
       " '로서': 778,\n",
       " '올해': 779,\n",
       " '미니': 780,\n",
       " '올': 781,\n",
       " '한해': 782,\n",
       " '필수': 783,\n",
       " '만나다': 784,\n",
       " '보호': 785,\n",
       " '한테': 786,\n",
       " '장비': 787,\n",
       " '호스트': 788,\n",
       " '구': 789,\n",
       " '쇼': 790,\n",
       " '기도': 791,\n",
       " '부럽다': 792,\n",
       " '긴급': 793,\n",
       " '앉다': 794,\n",
       " '의자': 795,\n",
       " '안마': 796,\n",
       " '자마자': 797,\n",
       " '출근': 798,\n",
       " '높다': 799,\n",
       " '조': 800,\n",
       " '요청': 801,\n",
       " '유사하다': 802,\n",
       " '반복': 803,\n",
       " '노출하다': 804,\n",
       " '희생': 805,\n",
       " '봉사': 806,\n",
       " '곳': 807,\n",
       " '주위': 808,\n",
       " '더없이': 809,\n",
       " '더하다': 810,\n",
       " '교훈': 811,\n",
       " '얼마나': 812,\n",
       " '윈윈': 813,\n",
       " '시나리오': 814,\n",
       " '누가': 815,\n",
       " '쓸다': 816,\n",
       " '이러하다': 817,\n",
       " '벌어지다': 818,\n",
       " '또': 819,\n",
       " '시기': 820,\n",
       " '터지다': 821,\n",
       " '희망': 822,\n",
       " '찬': 823,\n",
       " '전주': 824,\n",
       " '아직': 825,\n",
       " '보강': 826,\n",
       " '연결하다': 827,\n",
       " '소비자': 828,\n",
       " '위태': 829,\n",
       " '둘': 830,\n",
       " '빵': 831,\n",
       " '산업': 832,\n",
       " '리얼': 833,\n",
       " '성공하다': 834,\n",
       " '노선': 835,\n",
       " '브랜드': 836,\n",
       " '독자': 837,\n",
       " '화두': 838,\n",
       " '숨기': 839,\n",
       " '예방': 840,\n",
       " '하이트': 841,\n",
       " '연속': 842,\n",
       " '대리점': 843,\n",
       " '연재': 844,\n",
       " '타겟': 845,\n",
       " '주류': 846,\n",
       " '신경': 847,\n",
       " '폰트': 848,\n",
       " '시너지': 849,\n",
       " '기여': 850,\n",
       " '빠지다': 851,\n",
       " '경향': 852,\n",
       " '점도': 853,\n",
       " '짚다': 854,\n",
       " '화려하다': 855,\n",
       " '갈수록': 856,\n",
       " '으로의': 857,\n",
       " '시점': 858,\n",
       " '성큼': 859,\n",
       " '실적': 860,\n",
       " '다가서다': 861,\n",
       " '이신': 862,\n",
       " '데': 863,\n",
       " '친근하다': 864,\n",
       " '훌륭하다': 865,\n",
       " '지루함': 866,\n",
       " '절묘하다': 867,\n",
       " '조화': 868,\n",
       " '대사': 869,\n",
       " '든든하다': 870,\n",
       " '경쟁': 871,\n",
       " '자사': 872,\n",
       " '위치': 873,\n",
       " '행복하다': 874,\n",
       " '가득하다': 875,\n",
       " '인사': 876,\n",
       " '호흡': 877,\n",
       " '위주': 878,\n",
       " '승승장구': 879,\n",
       " '달인': 880,\n",
       " '일요일': 881,\n",
       " '편향': 882,\n",
       " '되게': 883,\n",
       " '능숙하다': 884,\n",
       " '노고': 885,\n",
       " '유난히': 886,\n",
       " '꾸다': 887,\n",
       " '추다': 888,\n",
       " '내내': 889,\n",
       " '겨울': 890,\n",
       " '끄다': 891,\n",
       " '날씨': 892,\n",
       " '상당하다': 893,\n",
       " '불구': 894,\n",
       " '써주다': 895,\n",
       " '평이': 896,\n",
       " '빵터지다': 897,\n",
       " '나누다': 898,\n",
       " '디지털': 899,\n",
       " '와의': 900,\n",
       " '선두': 901,\n",
       " '주자': 902,\n",
       " '좌층': 903,\n",
       " '우': 904,\n",
       " '돌': 905,\n",
       " '잃다': 906,\n",
       " '궁금하다': 907,\n",
       " '이익': 908,\n",
       " '이미': 909,\n",
       " '회차': 910,\n",
       " '침체': 911,\n",
       " '우연찮': 912,\n",
       " '방영': 913,\n",
       " '적히다': 914,\n",
       " '비문': 915,\n",
       " '방해': 916,\n",
       " '방기': 917,\n",
       " '고려': 918,\n",
       " '잡음': 919,\n",
       " '성급하다': 920,\n",
       " '부별': 921,\n",
       " '본부': 922,\n",
       " '줄이다': 923,\n",
       " '제대로': 924,\n",
       " '보이지': 925,\n",
       " '가독성': 926,\n",
       " '예능': 927,\n",
       " '대세': 928,\n",
       " '힘쓰다': 929,\n",
       " '곱다': 930,\n",
       " '분투': 931,\n",
       " '차지': 932,\n",
       " '해오다': 933,\n",
       " '보다는': 934,\n",
       " '라기': 935,\n",
       " '비추다': 936,\n",
       " '결론': 937,\n",
       " '몰입': 938,\n",
       " '주기': 939,\n",
       " '실감': 940,\n",
       " '전세계': 941,\n",
       " '앞서': 942,\n",
       " '한발': 943,\n",
       " '도입': 944,\n",
       " '위트': 945,\n",
       " '부담': 946,\n",
       " '순삭': 947,\n",
       " '화가': 948,\n",
       " '코로': 949,\n",
       " '확신': 950,\n",
       " '즐거움': 951,\n",
       " '발굴': 952,\n",
       " '분량': 953,\n",
       " '치우치다': 954,\n",
       " '안남다': 955,\n",
       " '사건': 956,\n",
       " '개발': 957,\n",
       " '게임': 958,\n",
       " '컬래버': 959,\n",
       " '회상': 960,\n",
       " '제목': 961,\n",
       " '티핑': 962,\n",
       " '업적': 963,\n",
       " '수치화': 964,\n",
       " '한다는': 965,\n",
       " '제시': 966,\n",
       " '능력': 967,\n",
       " '휼륭하다': 968,\n",
       " '화략': 969,\n",
       " '만의': 970,\n",
       " '국내': 971,\n",
       " '자부심': 972,\n",
       " '살펴보다': 973,\n",
       " '제품': 974,\n",
       " '정책': 975,\n",
       " '출시': 976,\n",
       " '뷰': 977,\n",
       " '순간': 978,\n",
       " '기념비': 979,\n",
       " '바로': 980,\n",
       " '본': 981,\n",
       " '반응': 982,\n",
       " '본질': 983,\n",
       " '해': 984,\n",
       " '움직이다': 985,\n",
       " '대의': 986,\n",
       " '현시': 987,\n",
       " '야회': 988,\n",
       " '이리': 989,\n",
       " '그런': 990,\n",
       " '결과물': 991,\n",
       " '당연하다': 992,\n",
       " '요구사항': 993,\n",
       " '생각나다': 994,\n",
       " '원하다': 995,\n",
       " '관계': 996,\n",
       " '여야': 997,\n",
       " '두': 998,\n",
       " '케미': 999,\n",
       " ...}"
      ]
     },
     "execution_count": 243,
     "metadata": {},
     "output_type": "execute_result"
    }
   ],
   "source": [
    "FT_model.wv.key_to_index"
   ]
  },
  {
   "cell_type": "code",
   "execution_count": null,
   "id": "840c895b-475e-4fbf-b583-e08c316f896c",
   "metadata": {},
   "outputs": [],
   "source": []
  },
  {
   "cell_type": "code",
   "execution_count": 245,
   "id": "be72146e-d492-463a-af88-f8df78cd4566",
   "metadata": {},
   "outputs": [
    {
     "name": "stdout",
     "output_type": "stream",
     "text": [
      "[('화략', 0.4181791841983795), ('짜증나다', 0.4136500060558319), ('싶다', 0.3911409378051758), ('한편', 0.37974488735198975), ('대', 0.36641815304756165), ('화가', 0.3548526167869568), ('우리', 0.33895260095596313), ('와의', 0.33858904242515564), ('고증', 0.3368239104747772), ('움직이다', 0.3366609215736389)]\n"
     ]
    }
   ],
   "source": [
    "# vocab에 없는 단어도 유사도 측정 가능, OOV에러 발생 안함\n",
    "# FastText에서 '우리나라' 단어가 존재하지 않지만 다른 단어 '우리'와 '나라'라는 내부 단어가 있었다면\n",
    "# FastText는 '우리나라' 단어 처리 가능\n",
    "\n",
    "print(FT_model.wv.most_similar(\"우리나라\"))"
   ]
  },
  {
   "cell_type": "code",
   "execution_count": 249,
   "id": "5d93e69c-c21f-4940-ac70-5d475c6991b2",
   "metadata": {
    "scrolled": true
   },
   "outputs": [
    {
     "name": "stdout",
     "output_type": "stream",
     "text": [
      "[-0.0036074  -0.00191003 -0.00246432  0.00195471  0.00063266  0.00695891\n",
      "  0.0006627   0.01411322 -0.00173318 -0.01075992  0.01312685 -0.00810981\n",
      "  0.00788887  0.01133492 -0.00123143  0.01474619 -0.00181972  0.00894544\n",
      " -0.01590903  0.00419086  0.00170656  0.01146377  0.00092112  0.00083378\n",
      " -0.001662    0.00542236  0.00565767 -0.00225916  0.00023023  0.00439124\n",
      " -0.00723911 -0.01320247 -0.00656167  0.00048769 -0.0008562   0.01424387\n",
      " -0.00490174  0.00227658  0.00089839 -0.00538479  0.0042242   0.00862837\n",
      "  0.00847607 -0.00658822  0.01995017  0.00521275 -0.0044144  -0.00881412\n",
      "  0.00506745 -0.0087281 ]\n",
      "[ 5.2157752e-03 -7.3137507e-04 -3.3079006e-03 -4.7933953e-03\n",
      " -2.7157739e-03  7.9197073e-03  2.4900339e-03  9.6534910e-03\n",
      "  6.4341668e-03  4.8257327e-03 -1.1767671e-03 -4.9175140e-03\n",
      "  3.7878305e-03  3.8098209e-03  1.7929473e-04  2.5449554e-04\n",
      "  6.5741460e-03 -2.0796212e-03 -6.0465606e-03  9.9572595e-03\n",
      "  5.0964030e-03  5.9988075e-03 -6.0127527e-03  1.9387609e-03\n",
      " -2.8611906e-03 -5.1766178e-03  7.1181031e-03 -2.2211840e-04\n",
      " -4.9491846e-03 -1.0165416e-03 -4.6043056e-03  5.6626550e-03\n",
      "  2.4873363e-03  4.4870623e-03 -1.0328410e-02  5.0315917e-03\n",
      "  3.3393095e-03  5.8626574e-03  1.0881235e-02  8.7826755e-03\n",
      "  4.0724496e-03  1.0341236e-02 -8.7989261e-05 -4.3029534e-03\n",
      "  6.4594680e-03 -2.1782091e-03 -6.3232747e-03  2.0195765e-03\n",
      "  1.4400235e-03  3.4543031e-03]\n",
      "[ 2.4569691e-03 -5.1603098e-03 -1.5443577e-03  1.1529906e-03\n",
      " -1.4980037e-03  4.9289479e-03 -2.3091472e-04  1.7054767e-03\n",
      "  2.5974114e-03 -2.7650080e-03  5.8386517e-03 -2.5299580e-03\n",
      "  1.6999911e-04  1.5378960e-03 -2.1392852e-03  4.1741523e-04\n",
      " -3.8471517e-05  1.4664904e-03 -3.3607513e-03  2.4835572e-03\n",
      "  1.8532515e-03  1.7039215e-03 -5.6524919e-03  1.0947030e-02\n",
      "  3.4920156e-03 -1.5359442e-03  5.5228309e-03 -1.1457728e-03\n",
      "  7.9461664e-04  1.8040482e-03 -4.8411749e-03  3.8310047e-03\n",
      "  5.8593380e-04 -2.1469276e-03  1.1024431e-03 -2.9724049e-03\n",
      " -4.6050148e-03 -1.4462827e-03  2.0113811e-04  9.8109397e-04\n",
      " -2.2441156e-03 -4.2198002e-03  2.1818434e-03 -2.2553750e-03\n",
      "  5.8167852e-03 -1.9773175e-03 -3.0364890e-03 -2.9981206e-03\n",
      " -3.9802426e-03 -2.6455366e-03]\n"
     ]
    }
   ],
   "source": [
    "print(FT_model.wv.get_vector(\"우리\"))\n",
    "print(FT_model.wv.get_vector(\"나라\"))\n",
    "print(FT_model.wv.get_vector(\"우리나라\"))"
   ]
  },
  {
   "cell_type": "code",
   "execution_count": null,
   "id": "9e3b310a-2b5c-440a-bc82-d5ed2912bb3f",
   "metadata": {},
   "outputs": [],
   "source": []
  },
  {
   "cell_type": "markdown",
   "id": "ecc899a5-1ad6-4453-b3a0-c5213eb79b78",
   "metadata": {},
   "source": [
    "# 5.  자연어 처리 (5) 언어 모델(LSTM, BERT)\n",
    "- 언어 모델\n",
    "    - 이전 단어들로 그 다음에 등장할 단어의 확률을 예측하는 방식으로 학습(이전 state로 미래 state를 예측)\n",
    "    - 다음의 등장할 단어를 잘 예측하는 모델은 그 언어의 특성이 잘 반영된 모델이자, 문맥을 잘 계산하는 좋은 언어 모델"
   ]
  },
  {
   "cell_type": "markdown",
   "id": "a60c899a-6a56-4457-859e-84e5bc2ea1d8",
   "metadata": {},
   "source": [
    "RNN 언어 모델을 이용한 Application\n",
    "- 마지막 출력은 앞선 단어들의 '문맥'을 고려해서 만들어진 최종 출력 벡터: Context 벡터\n",
    "- 출력된 context 벡터 값에 대해 classification layer를 붙이면 문장 분류 모델\n",
    "\n",
    "LSTM: Cell state 이용하여 불필요한 기억을 지우고, 기억해야 할 것들을 기억하도록 함\n",
    "\n",
    "Seq2Seq: 인코더 + 디코더 구성\n",
    "- Encoder layer: RNN 구조를 통해 Context Vector를 획득\n",
    "- Decoder layer: 획득된 Context Vector를 입력으로 받아 다음 출력 예측\n",
    "- 문제점\n",
    "    - 입력 Sequenced의 길이가 매우 긴 경우, 처음에 나온 token에 대한 정보가 희석\n",
    "    - 고정된 context vector 사이즈로 인해 긴 sequence에 대한 정보를 함축하기 어려움"
   ]
  },
  {
   "cell_type": "markdown",
   "id": "ac366076-ae12-4dbe-9a79-e7790b9585ec",
   "metadata": {},
   "source": [
    "[자연어 처리 모델링 Flow]\n",
    "1. 전처리: 중복, Null, 한글 이외 숫자, 특수문자 제거 여부\n",
    "2. 한글 KoNLPy의 Mecab, Okt 통한 형태소 분석 및 불용어 처리\n",
    "3. Tokenizer: 단어를 숫자 변경(단어 사전 만들기)\n",
    "4. Vocab 크기 결정(vocab_size): 전체 단어 중 빈도수 2 이하인 단어 제거 결정\n",
    "5. 한 문장의 최대 길이 결정(max_len)\n",
    "6. 패딩(Padding)\n",
    "7. Embedding Output 크기 결정(output_dim)\n",
    "8. RNN, LSTM, GRU 모델 설계 + DNN"
   ]
  },
  {
   "cell_type": "markdown",
   "id": "7fa528e2-6141-4860-912c-73ca87c47f96",
   "metadata": {},
   "source": [
    "#### A 방송사 댓글 감성 분류\n",
    "- A 방송사 댓글 데이터를 전처리하고, keras 토크나이저를 활용하여 토큰화하고 일정 크기의 문장으로 맞추기 위해 패딩한다.\n",
    "- Embedding layer를 이용해서 단어를 n차원 밀집벡터를 만들고 train 시에 학습되도록 한다\n",
    "- LSTM 언어 모델과 DNN 합쳐서 감성 분류를 수행한다.\n",
    "\n",
    "[자연어 처리 순서]\n",
    "토크나이저(단어를 숫자 매핑, 단어 사전 만들기) -> 문장을 숫자 나열(texts_to_sequences) -> 문장 길이 맞게 Padding\n",
    "-> Embedding(단어를 의미 있는 밀집 Vector 표현) -> 모델링\n",
    "\n",
    "[실습 처리 순서]\n",
    "1. 라이브러리 임포트\n",
    "2. 파일 읽어오기\n",
    "3. 특수 문자 제거: 한글, 특수문자 제거\n",
    "4. 전처리: Null, 중복 제거\n",
    "5. Label(정답) 분포 확인\n",
    "6. Label 숫자로 인코딩\n",
    "7. X, Y 분리\n",
    "8. train_set와 test_set 분리\n",
    "9. 전체 문장에 대해 Tokenizing\n",
    "10. texts_to_sequences: 문장을 숫자로 나열\n",
    "11. padding sequence\n",
    "12. Modeling: Embedding, LSTM"
   ]
  },
  {
   "cell_type": "markdown",
   "id": "54f8e9bb-7d9f-465d-8457-3cae027d64a1",
   "metadata": {},
   "source": [
    "### 1. 라이브러리 import"
   ]
  },
  {
   "cell_type": "code",
   "execution_count": 1,
   "id": "452073a7-d6ad-464b-bfa6-3e64e9bee592",
   "metadata": {},
   "outputs": [
    {
     "name": "stdout",
     "output_type": "stream",
     "text": [
      "Requirement already satisfied: openpyxl in /Users/shinjoohwan/miniconda3/lib/python3.12/site-packages (3.1.5)\n",
      "Requirement already satisfied: et-xmlfile in /Users/shinjoohwan/miniconda3/lib/python3.12/site-packages (from openpyxl) (2.0.0)\n"
     ]
    }
   ],
   "source": [
    "!pip install openpyxl\n",
    "\n",
    "import numpy as np\n",
    "import pandas as pd"
   ]
  },
  {
   "cell_type": "markdown",
   "id": "1bd820b9-33e0-407b-a5d6-52e866066e70",
   "metadata": {},
   "source": [
    "### 2. 파일 읽어오기"
   ]
  },
  {
   "cell_type": "code",
   "execution_count": 4,
   "id": "896bf158-d234-45e9-9853-8f7a7c8d2793",
   "metadata": {},
   "outputs": [],
   "source": [
    "final_data = pd.read_excel(\"https://github.com/gzone2000/TEMP_TEST/raw/master/A_comment_train.xlsx\", engine = 'openpyxl' )"
   ]
  },
  {
   "cell_type": "code",
   "execution_count": 5,
   "id": "9ded8a5b-980e-4129-a1ba-1dc09a75609f",
   "metadata": {},
   "outputs": [
    {
     "data": {
      "text/html": [
       "<div>\n",
       "<style scoped>\n",
       "    .dataframe tbody tr th:only-of-type {\n",
       "        vertical-align: middle;\n",
       "    }\n",
       "\n",
       "    .dataframe tbody tr th {\n",
       "        vertical-align: top;\n",
       "    }\n",
       "\n",
       "    .dataframe thead th {\n",
       "        text-align: right;\n",
       "    }\n",
       "</style>\n",
       "<table border=\"1\" class=\"dataframe\">\n",
       "  <thead>\n",
       "    <tr style=\"text-align: right;\">\n",
       "      <th></th>\n",
       "      <th>Unnamed: 0</th>\n",
       "      <th>data</th>\n",
       "      <th>label</th>\n",
       "    </tr>\n",
       "  </thead>\n",
       "  <tbody>\n",
       "    <tr>\n",
       "      <th>0</th>\n",
       "      <td>0</td>\n",
       "      <td>재미는 있는데 시간이 짧은게 아쉽네요~</td>\n",
       "      <td>긍정</td>\n",
       "    </tr>\n",
       "    <tr>\n",
       "      <th>1</th>\n",
       "      <td>1</td>\n",
       "      <td>OO 관련 내용은 우리 직원과는 거리가 멀었음, 특히, 사내에 홍보할 내용은 아니라고 봄</td>\n",
       "      <td>부정</td>\n",
       "    </tr>\n",
       "    <tr>\n",
       "      <th>2</th>\n",
       "      <td>2</td>\n",
       "      <td>스토리가 너무 딱딱해서 별로였음</td>\n",
       "      <td>부정</td>\n",
       "    </tr>\n",
       "    <tr>\n",
       "      <th>3</th>\n",
       "      <td>3</td>\n",
       "      <td>프로그램A 화이팅하세요!!</td>\n",
       "      <td>긍정</td>\n",
       "    </tr>\n",
       "    <tr>\n",
       "      <th>4</th>\n",
       "      <td>4</td>\n",
       "      <td>높은 곳에 올라가는 모습이 너무 위험해 보여요.</td>\n",
       "      <td>부정</td>\n",
       "    </tr>\n",
       "  </tbody>\n",
       "</table>\n",
       "</div>"
      ],
      "text/plain": [
       "   Unnamed: 0                                               data label\n",
       "0           0                              재미는 있는데 시간이 짧은게 아쉽네요~    긍정\n",
       "1           1  OO 관련 내용은 우리 직원과는 거리가 멀었음, 특히, 사내에 홍보할 내용은 아니라고 봄    부정\n",
       "2           2                                  스토리가 너무 딱딱해서 별로였음    부정\n",
       "3           3                                     프로그램A 화이팅하세요!!    긍정\n",
       "4           4                         높은 곳에 올라가는 모습이 너무 위험해 보여요.    부정"
      ]
     },
     "execution_count": 5,
     "metadata": {},
     "output_type": "execute_result"
    }
   ],
   "source": [
    "final_data.head()"
   ]
  },
  {
   "cell_type": "code",
   "execution_count": 6,
   "id": "bd113d44-6647-4826-908d-126db672a2e5",
   "metadata": {},
   "outputs": [
    {
     "name": "stdout",
     "output_type": "stream",
     "text": [
      "<class 'pandas.core.frame.DataFrame'>\n",
      "RangeIndex: 251 entries, 0 to 250\n",
      "Data columns (total 3 columns):\n",
      " #   Column      Non-Null Count  Dtype \n",
      "---  ------      --------------  ----- \n",
      " 0   Unnamed: 0  251 non-null    int64 \n",
      " 1   data        251 non-null    object\n",
      " 2   label       251 non-null    object\n",
      "dtypes: int64(1), object(2)\n",
      "memory usage: 6.0+ KB\n"
     ]
    }
   ],
   "source": [
    "final_data.info()"
   ]
  },
  {
   "cell_type": "markdown",
   "id": "9ed2a9f1-f3ea-4d51-afa1-cd87ddd8c945",
   "metadata": {},
   "source": [
    "### 3. 특수문자 제거"
   ]
  },
  {
   "cell_type": "code",
   "execution_count": 8,
   "id": "86e6fbec-00b3-49fd-b687-4ddac1241297",
   "metadata": {},
   "outputs": [
    {
     "data": {
      "text/plain": [
       "array([[0, '재미는 있는데 시간이 짧은게 아쉽네요~', '긍정'],\n",
       "       [1, 'OO 관련 내용은 우리 직원과는 거리가 멀었음, 특히, 사내에 홍보할 내용은 아니라고 봄', '부정'],\n",
       "       [3, '프로그램A 화이팅하세요!!', '긍정'],\n",
       "       [4, '높은 곳에 올라가는 모습이 너무 위험해 보여요.', '부정'],\n",
       "       [5,\n",
       "        '너무 재밌게 잘봤습니다~! ㅋㅋ\\n송OO씨가 출근하자마자 안마의자 앉아서 쉬는게 부럽기도(?) 했네요\\n쇼호스트분들의 진행솜씨또한 감탄하고 갑니다. 다음은 어디 외부 탐방 예정인가요?!',\n",
       "        '긍정'],\n",
       "       [6, '비유가 너무 찰떡이에요! ', '긍정'],\n",
       "       [7, '광고가 섭외된 모델이랑 너무 찰떡이네요. 목소리가 너무 잘 어울려요. ', '긍정'],\n",
       "       [8,\n",
       "        '이달의 픽은 재미 싹쓰리입니다. 요즘 온라인에 재밌는 영상과 사진이 너무 많아서 읽다보면 시간 가는 줄 모릅니다.',\n",
       "        '긍정'],\n",
       "       [11, '내용이 와닿지 않아요. 좀 더 실제와 같았으면 하네요..', '부정'],\n",
       "       [12, '미숙한 진행으로 전체적으로 지루함을 느꼈어요.', '부정']], dtype=object)"
      ]
     },
     "execution_count": 8,
     "metadata": {},
     "output_type": "execute_result"
    }
   ],
   "source": [
    "# data 컬럼의 내용 중에 영문, 특수문자 있는지 확인: 영문과 특수문자 존재 확인\n",
    "# .values: Convert the pandas DataFrame into a 2D Numpy array, dropping its index and columns labels\n",
    "final_data[final_data['data'].str.contains('[^가-힣 ]')].values[:10]"
   ]
  },
  {
   "cell_type": "code",
   "execution_count": 13,
   "id": "407c9c32-fc27-408d-b6ad-04c1d3973267",
   "metadata": {},
   "outputs": [],
   "source": [
    "# data 컬럼의 내용에서 숫자, 영문자, 공백 등의 글자는 삭제 처리\n",
    "final_data['data'] = final_data['data'].str.replace(r'[^가-힣 ]', '', regex = True)"
   ]
  },
  {
   "cell_type": "code",
   "execution_count": 15,
   "id": "9126800a-0acf-43be-8cb5-88b580a6e8de",
   "metadata": {},
   "outputs": [
    {
     "data": {
      "text/plain": [
       "0"
      ]
     },
     "execution_count": 15,
     "metadata": {},
     "output_type": "execute_result"
    }
   ],
   "source": [
    "final_data['data'][final_data['data'].str.contains('[^가-힣 ]')].sum()"
   ]
  },
  {
   "cell_type": "markdown",
   "id": "91213536-381e-4e30-ad61-47e5ffc340d8",
   "metadata": {},
   "source": [
    "### 4. 전처리"
   ]
  },
  {
   "cell_type": "code",
   "execution_count": 18,
   "id": "0860ecf2-eb2d-4c49-b58c-a8b817b22249",
   "metadata": {},
   "outputs": [
    {
     "data": {
      "text/html": [
       "<div>\n",
       "<style scoped>\n",
       "    .dataframe tbody tr th:only-of-type {\n",
       "        vertical-align: middle;\n",
       "    }\n",
       "\n",
       "    .dataframe tbody tr th {\n",
       "        vertical-align: top;\n",
       "    }\n",
       "\n",
       "    .dataframe thead th {\n",
       "        text-align: right;\n",
       "    }\n",
       "</style>\n",
       "<table border=\"1\" class=\"dataframe\">\n",
       "  <thead>\n",
       "    <tr style=\"text-align: right;\">\n",
       "      <th></th>\n",
       "      <th>Unnamed: 0</th>\n",
       "      <th>data</th>\n",
       "      <th>label</th>\n",
       "    </tr>\n",
       "  </thead>\n",
       "  <tbody>\n",
       "    <tr>\n",
       "      <th>246</th>\n",
       "      <td>246</td>\n",
       "      <td>영상서비스로 간편하게 설치좋아요우리 회사화이팅</td>\n",
       "      <td>긍정</td>\n",
       "    </tr>\n",
       "    <tr>\n",
       "      <th>247</th>\n",
       "      <td>247</td>\n",
       "      <td>모든 업무에서 맡은바 업무에 서 최선을 다하는 모습이 좋습니다 화이팅 입니다</td>\n",
       "      <td>긍정</td>\n",
       "    </tr>\n",
       "    <tr>\n",
       "      <th>248</th>\n",
       "      <td>248</td>\n",
       "      <td>사내방송 특성상 최근 이슈화 되거나 언급이 자주되는 키워드를 중심으로 뉴스를 구성하...</td>\n",
       "      <td>부정</td>\n",
       "    </tr>\n",
       "    <tr>\n",
       "      <th>249</th>\n",
       "      <td>249</td>\n",
       "      <td>방송 시간이 너무 길어요</td>\n",
       "      <td>부정</td>\n",
       "    </tr>\n",
       "    <tr>\n",
       "      <th>250</th>\n",
       "      <td>250</td>\n",
       "      <td>처음 들어보는 말들이 많은데 설명이 없어서 힘드네요</td>\n",
       "      <td>부정</td>\n",
       "    </tr>\n",
       "  </tbody>\n",
       "</table>\n",
       "</div>"
      ],
      "text/plain": [
       "     Unnamed: 0                                               data label\n",
       "246         246                          영상서비스로 간편하게 설치좋아요우리 회사화이팅    긍정\n",
       "247         247         모든 업무에서 맡은바 업무에 서 최선을 다하는 모습이 좋습니다 화이팅 입니다    긍정\n",
       "248         248  사내방송 특성상 최근 이슈화 되거나 언급이 자주되는 키워드를 중심으로 뉴스를 구성하...    부정\n",
       "249         249                                      방송 시간이 너무 길어요    부정\n",
       "250         250                      처음 들어보는 말들이 많은데 설명이 없어서 힘드네요     부정"
      ]
     },
     "execution_count": 18,
     "metadata": {},
     "output_type": "execute_result"
    }
   ],
   "source": [
    "final_data.tail()"
   ]
  },
  {
   "cell_type": "code",
   "execution_count": 20,
   "id": "59c20389-19d1-4b29-9f90-3d83bfe955c4",
   "metadata": {},
   "outputs": [],
   "source": [
    "# data 컬럼의 내용을 양끝의 빈공간 삭제\n",
    "final_data['data'] = final_data['data'].str.strip()"
   ]
  },
  {
   "cell_type": "code",
   "execution_count": 22,
   "id": "629169c5-d574-4177-a616-0295386e701e",
   "metadata": {},
   "outputs": [
    {
     "data": {
      "text/html": [
       "<div>\n",
       "<style scoped>\n",
       "    .dataframe tbody tr th:only-of-type {\n",
       "        vertical-align: middle;\n",
       "    }\n",
       "\n",
       "    .dataframe tbody tr th {\n",
       "        vertical-align: top;\n",
       "    }\n",
       "\n",
       "    .dataframe thead th {\n",
       "        text-align: right;\n",
       "    }\n",
       "</style>\n",
       "<table border=\"1\" class=\"dataframe\">\n",
       "  <thead>\n",
       "    <tr style=\"text-align: right;\">\n",
       "      <th></th>\n",
       "      <th>Unnamed: 0</th>\n",
       "      <th>data</th>\n",
       "      <th>label</th>\n",
       "    </tr>\n",
       "  </thead>\n",
       "  <tbody>\n",
       "    <tr>\n",
       "      <th>246</th>\n",
       "      <td>246</td>\n",
       "      <td>영상서비스로 간편하게 설치좋아요우리 회사화이팅</td>\n",
       "      <td>긍정</td>\n",
       "    </tr>\n",
       "    <tr>\n",
       "      <th>247</th>\n",
       "      <td>247</td>\n",
       "      <td>모든 업무에서 맡은바 업무에 서 최선을 다하는 모습이 좋습니다 화이팅 입니다</td>\n",
       "      <td>긍정</td>\n",
       "    </tr>\n",
       "    <tr>\n",
       "      <th>248</th>\n",
       "      <td>248</td>\n",
       "      <td>사내방송 특성상 최근 이슈화 되거나 언급이 자주되는 키워드를 중심으로 뉴스를 구성하...</td>\n",
       "      <td>부정</td>\n",
       "    </tr>\n",
       "    <tr>\n",
       "      <th>249</th>\n",
       "      <td>249</td>\n",
       "      <td>방송 시간이 너무 길어요</td>\n",
       "      <td>부정</td>\n",
       "    </tr>\n",
       "    <tr>\n",
       "      <th>250</th>\n",
       "      <td>250</td>\n",
       "      <td>처음 들어보는 말들이 많은데 설명이 없어서 힘드네요</td>\n",
       "      <td>부정</td>\n",
       "    </tr>\n",
       "  </tbody>\n",
       "</table>\n",
       "</div>"
      ],
      "text/plain": [
       "     Unnamed: 0                                               data label\n",
       "246         246                          영상서비스로 간편하게 설치좋아요우리 회사화이팅    긍정\n",
       "247         247         모든 업무에서 맡은바 업무에 서 최선을 다하는 모습이 좋습니다 화이팅 입니다    긍정\n",
       "248         248  사내방송 특성상 최근 이슈화 되거나 언급이 자주되는 키워드를 중심으로 뉴스를 구성하...    부정\n",
       "249         249                                      방송 시간이 너무 길어요    부정\n",
       "250         250                       처음 들어보는 말들이 많은데 설명이 없어서 힘드네요    부정"
      ]
     },
     "execution_count": 22,
     "metadata": {},
     "output_type": "execute_result"
    }
   ],
   "source": [
    "final_data.tail()"
   ]
  },
  {
   "cell_type": "code",
   "execution_count": 24,
   "id": "202b2a1a-623f-4437-973a-6ba1f1157eda",
   "metadata": {},
   "outputs": [],
   "source": [
    "# 필요없는 'Unnamed: 0' 컬럼 삭제\n",
    "final_data = final_data.drop(['Unnamed: 0'], axis = 1)"
   ]
  },
  {
   "cell_type": "code",
   "execution_count": 26,
   "id": "de9993ec-6d5a-4efb-8dd4-7d27e99206ae",
   "metadata": {},
   "outputs": [
    {
     "data": {
      "text/html": [
       "<div>\n",
       "<style scoped>\n",
       "    .dataframe tbody tr th:only-of-type {\n",
       "        vertical-align: middle;\n",
       "    }\n",
       "\n",
       "    .dataframe tbody tr th {\n",
       "        vertical-align: top;\n",
       "    }\n",
       "\n",
       "    .dataframe thead th {\n",
       "        text-align: right;\n",
       "    }\n",
       "</style>\n",
       "<table border=\"1\" class=\"dataframe\">\n",
       "  <thead>\n",
       "    <tr style=\"text-align: right;\">\n",
       "      <th></th>\n",
       "      <th>data</th>\n",
       "      <th>label</th>\n",
       "    </tr>\n",
       "  </thead>\n",
       "  <tbody>\n",
       "    <tr>\n",
       "      <th>246</th>\n",
       "      <td>영상서비스로 간편하게 설치좋아요우리 회사화이팅</td>\n",
       "      <td>긍정</td>\n",
       "    </tr>\n",
       "    <tr>\n",
       "      <th>247</th>\n",
       "      <td>모든 업무에서 맡은바 업무에 서 최선을 다하는 모습이 좋습니다 화이팅 입니다</td>\n",
       "      <td>긍정</td>\n",
       "    </tr>\n",
       "    <tr>\n",
       "      <th>248</th>\n",
       "      <td>사내방송 특성상 최근 이슈화 되거나 언급이 자주되는 키워드를 중심으로 뉴스를 구성하...</td>\n",
       "      <td>부정</td>\n",
       "    </tr>\n",
       "    <tr>\n",
       "      <th>249</th>\n",
       "      <td>방송 시간이 너무 길어요</td>\n",
       "      <td>부정</td>\n",
       "    </tr>\n",
       "    <tr>\n",
       "      <th>250</th>\n",
       "      <td>처음 들어보는 말들이 많은데 설명이 없어서 힘드네요</td>\n",
       "      <td>부정</td>\n",
       "    </tr>\n",
       "  </tbody>\n",
       "</table>\n",
       "</div>"
      ],
      "text/plain": [
       "                                                  data label\n",
       "246                          영상서비스로 간편하게 설치좋아요우리 회사화이팅    긍정\n",
       "247         모든 업무에서 맡은바 업무에 서 최선을 다하는 모습이 좋습니다 화이팅 입니다    긍정\n",
       "248  사내방송 특성상 최근 이슈화 되거나 언급이 자주되는 키워드를 중심으로 뉴스를 구성하...    부정\n",
       "249                                      방송 시간이 너무 길어요    부정\n",
       "250                       처음 들어보는 말들이 많은데 설명이 없어서 힘드네요    부정"
      ]
     },
     "execution_count": 26,
     "metadata": {},
     "output_type": "execute_result"
    }
   ],
   "source": [
    "final_data.tail()"
   ]
  },
  {
   "cell_type": "code",
   "execution_count": 27,
   "id": "23eca083-2209-4254-8db7-df9af1990658",
   "metadata": {},
   "outputs": [
    {
     "data": {
      "text/plain": [
       "data     0\n",
       "label    0\n",
       "dtype: int64"
      ]
     },
     "execution_count": 27,
     "metadata": {},
     "output_type": "execute_result"
    }
   ],
   "source": [
    "# Null 있는지 확인\n",
    "final_data.isnull().sum()"
   ]
  },
  {
   "cell_type": "code",
   "execution_count": 30,
   "id": "7a947cf5-8b0b-416e-a45b-cfd3cfbcaab7",
   "metadata": {},
   "outputs": [
    {
     "data": {
      "text/plain": [
       "2"
      ]
     },
     "execution_count": 30,
     "metadata": {},
     "output_type": "execute_result"
    }
   ],
   "source": [
    "# 중복 데이터 있는지 확인: 2건 중복 존재 확인\n",
    "final_data['data'].duplicated().sum()"
   ]
  },
  {
   "cell_type": "code",
   "execution_count": 32,
   "id": "52a17fa0-45c1-49c3-8ff1-048408d770a6",
   "metadata": {},
   "outputs": [],
   "source": [
    "# inplace = True parameter: Tells pandas to perform the operation directly on the existing DataFrame rather than creating and returning a modified copy\n",
    "# If inplace = False: Pandas would return a new DataFrame with duplicates removed, leaving the original DataFrame unchanged\n",
    "final_data.drop_duplicates(subset = ['data'], inplace = True)"
   ]
  },
  {
   "cell_type": "code",
   "execution_count": 34,
   "id": "1e62a509-4748-4d74-8cd9-b3d6ecb8d52b",
   "metadata": {},
   "outputs": [
    {
     "name": "stdout",
     "output_type": "stream",
     "text": [
      "<class 'pandas.core.frame.DataFrame'>\n",
      "Index: 249 entries, 0 to 250\n",
      "Data columns (total 2 columns):\n",
      " #   Column  Non-Null Count  Dtype \n",
      "---  ------  --------------  ----- \n",
      " 0   data    249 non-null    object\n",
      " 1   label   249 non-null    object\n",
      "dtypes: object(2)\n",
      "memory usage: 5.8+ KB\n"
     ]
    }
   ],
   "source": [
    "# 기존 251 -> 이후 249: 2건 중복 삭제 확인\n",
    "final_data.info()"
   ]
  },
  {
   "cell_type": "markdown",
   "id": "8e19daba-8955-4e40-af74-b29c91de5573",
   "metadata": {},
   "source": [
    "### 5. Label 분포 확인"
   ]
  },
  {
   "cell_type": "code",
   "execution_count": 37,
   "id": "66358058-2344-4103-9b91-32114e534e95",
   "metadata": {},
   "outputs": [],
   "source": [
    "# 한글 그래프 그리기\n",
    "import matplotlib.pyplot as plt"
   ]
  },
  {
   "cell_type": "code",
   "execution_count": 39,
   "id": "98316e60-88a1-4edd-a198-6d6877047220",
   "metadata": {
    "scrolled": true
   },
   "outputs": [
    {
     "data": {
      "text/plain": [
       "<Axes: xlabel='label'>"
      ]
     },
     "execution_count": 39,
     "metadata": {},
     "output_type": "execute_result"
    },
    {
     "name": "stderr",
     "output_type": "stream",
     "text": [
      "/Users/shinjoohwan/miniconda3/lib/python3.12/site-packages/IPython/core/events.py:82: UserWarning: Glyph 48512 (\\N{HANGUL SYLLABLE BU}) missing from font(s) DejaVu Sans.\n",
      "  func(*args, **kwargs)\n",
      "/Users/shinjoohwan/miniconda3/lib/python3.12/site-packages/IPython/core/events.py:82: UserWarning: Glyph 51221 (\\N{HANGUL SYLLABLE JEONG}) missing from font(s) DejaVu Sans.\n",
      "  func(*args, **kwargs)\n",
      "/Users/shinjoohwan/miniconda3/lib/python3.12/site-packages/IPython/core/events.py:82: UserWarning: Glyph 44557 (\\N{HANGUL SYLLABLE GEUNG}) missing from font(s) DejaVu Sans.\n",
      "  func(*args, **kwargs)\n",
      "/Users/shinjoohwan/miniconda3/lib/python3.12/site-packages/IPython/core/pylabtools.py:170: UserWarning: Glyph 48512 (\\N{HANGUL SYLLABLE BU}) missing from font(s) DejaVu Sans.\n",
      "  fig.canvas.print_figure(bytes_io, **kw)\n",
      "/Users/shinjoohwan/miniconda3/lib/python3.12/site-packages/IPython/core/pylabtools.py:170: UserWarning: Glyph 51221 (\\N{HANGUL SYLLABLE JEONG}) missing from font(s) DejaVu Sans.\n",
      "  fig.canvas.print_figure(bytes_io, **kw)\n",
      "/Users/shinjoohwan/miniconda3/lib/python3.12/site-packages/IPython/core/pylabtools.py:170: UserWarning: Glyph 44557 (\\N{HANGUL SYLLABLE GEUNG}) missing from font(s) DejaVu Sans.\n",
      "  fig.canvas.print_figure(bytes_io, **kw)\n"
     ]
    },
    {
     "data": {
      "image/png": "[encoded data removed]",
      "text/plain": [
       "<Figure size 640x480 with 1 Axes>"
      ]
     },
     "metadata": {},
     "output_type": "display_data"
    }
   ],
   "source": [
    "# plot bar 차트 그리기\n",
    "final_data['label'].value_counts().plot(kind = 'bar')"
   ]
  },
  {
   "cell_type": "markdown",
   "id": "aac6bc2d-d0cd-4a70-b5f6-f09a0e2b8ab0",
   "metadata": {},
   "source": [
    "### 6. label 숫자로 인코딩"
   ]
  },
  {
   "cell_type": "code",
   "execution_count": 42,
   "id": "ea2cd438-6afd-4849-8031-f9eea986b2f2",
   "metadata": {},
   "outputs": [],
   "source": [
    "label2class = {'긍정': 0, '부정': 1}\n",
    "class2label = {0: '긍정', 1: '부정'}\n",
    "final_data['label'] = final_data['label'].map(label2class)"
   ]
  },
  {
   "cell_type": "code",
   "execution_count": 44,
   "id": "0f8d67b0-257b-4bca-bd99-24201b870b9f",
   "metadata": {},
   "outputs": [
    {
     "data": {
      "text/html": [
       "<div>\n",
       "<style scoped>\n",
       "    .dataframe tbody tr th:only-of-type {\n",
       "        vertical-align: middle;\n",
       "    }\n",
       "\n",
       "    .dataframe tbody tr th {\n",
       "        vertical-align: top;\n",
       "    }\n",
       "\n",
       "    .dataframe thead th {\n",
       "        text-align: right;\n",
       "    }\n",
       "</style>\n",
       "<table border=\"1\" class=\"dataframe\">\n",
       "  <thead>\n",
       "    <tr style=\"text-align: right;\">\n",
       "      <th></th>\n",
       "      <th>data</th>\n",
       "      <th>label</th>\n",
       "    </tr>\n",
       "  </thead>\n",
       "  <tbody>\n",
       "    <tr>\n",
       "      <th>0</th>\n",
       "      <td>재미는 있는데 시간이 짧은게 아쉽네요</td>\n",
       "      <td>0</td>\n",
       "    </tr>\n",
       "    <tr>\n",
       "      <th>1</th>\n",
       "      <td>관련 내용은 우리 직원과는 거리가 멀었음 특히 사내에 홍보할 내용은 아니라고 봄</td>\n",
       "      <td>1</td>\n",
       "    </tr>\n",
       "    <tr>\n",
       "      <th>2</th>\n",
       "      <td>스토리가 너무 딱딱해서 별로였음</td>\n",
       "      <td>1</td>\n",
       "    </tr>\n",
       "    <tr>\n",
       "      <th>3</th>\n",
       "      <td>프로그램 화이팅하세요</td>\n",
       "      <td>0</td>\n",
       "    </tr>\n",
       "    <tr>\n",
       "      <th>4</th>\n",
       "      <td>높은 곳에 올라가는 모습이 너무 위험해 보여요</td>\n",
       "      <td>1</td>\n",
       "    </tr>\n",
       "  </tbody>\n",
       "</table>\n",
       "</div>"
      ],
      "text/plain": [
       "                                           data  label\n",
       "0                          재미는 있는데 시간이 짧은게 아쉽네요      0\n",
       "1  관련 내용은 우리 직원과는 거리가 멀었음 특히 사내에 홍보할 내용은 아니라고 봄      1\n",
       "2                             스토리가 너무 딱딱해서 별로였음      1\n",
       "3                                   프로그램 화이팅하세요      0\n",
       "4                     높은 곳에 올라가는 모습이 너무 위험해 보여요      1"
      ]
     },
     "execution_count": 44,
     "metadata": {},
     "output_type": "execute_result"
    }
   ],
   "source": [
    "final_data.head()"
   ]
  },
  {
   "cell_type": "code",
   "execution_count": 46,
   "id": "21fccdcb-c4cc-4064-a2c0-73a96ecc0f96",
   "metadata": {},
   "outputs": [],
   "source": [
    "# DataFrame 저장\n",
    "# index = False: Tells pandas not to write the DataFrame's row labels (the index) into the CSV file\n",
    "# By default, pandas includes the index as the first column in the output.\n",
    "# Setting index = False prevents that extra column from appearing\n",
    "final_data.to_csv('A_comment.csv', index = False)"
   ]
  },
  {
   "cell_type": "markdown",
   "id": "683064df-9eb4-43cb-a5e8-c30157081ce5",
   "metadata": {},
   "source": [
    "### 7. X, Y 분리"
   ]
  },
  {
   "cell_type": "code",
   "execution_count": 49,
   "id": "11d69747-7b5f-4685-bffd-e8cc8e213261",
   "metadata": {},
   "outputs": [],
   "source": [
    "# X, Y 분리\n",
    "features = final_data['data'].values\n",
    "labels = final_data['label'].values"
   ]
  },
  {
   "cell_type": "code",
   "execution_count": 51,
   "id": "477e2d69-95c1-463a-b1dd-aec31347e6e3",
   "metadata": {},
   "outputs": [
    {
     "data": {
      "text/plain": [
       "((249,), (249,))"
      ]
     },
     "execution_count": 51,
     "metadata": {},
     "output_type": "execute_result"
    }
   ],
   "source": [
    "features.shape, labels.shape"
   ]
  },
  {
   "cell_type": "code",
   "execution_count": 53,
   "id": "e2faecbd-b871-4590-96e8-941159e706ca",
   "metadata": {},
   "outputs": [
    {
     "data": {
      "text/plain": [
       "array(['재미는 있는데 시간이 짧은게 아쉽네요',\n",
       "       '관련 내용은 우리 직원과는 거리가 멀었음 특히 사내에 홍보할 내용은 아니라고 봄',\n",
       "       '스토리가 너무 딱딱해서 별로였음'], dtype=object)"
      ]
     },
     "execution_count": 53,
     "metadata": {},
     "output_type": "execute_result"
    }
   ],
   "source": [
    "features[:3]"
   ]
  },
  {
   "cell_type": "code",
   "execution_count": 55,
   "id": "751591aa-fd23-4ba5-a4e5-4edcda9b0446",
   "metadata": {},
   "outputs": [
    {
     "name": "stdout",
     "output_type": "stream",
     "text": [
      "이벤트 문자열 최대 길이 : 160\n",
      "이벤트 문자열 평균 길이 : 43.91967871485944\n"
     ]
    }
   ],
   "source": [
    "print('이벤트 문자열 최대 길이 : {}'.format(max(len(l) for l in features)))\n",
    "print('이벤트 문자열 평균 길이 : {}'.format(sum(map(len, features))/len(features)))"
   ]
  },
  {
   "cell_type": "code",
   "execution_count": 57,
   "id": "3a9827f1-10c2-4430-86e8-216318b63a52",
   "metadata": {},
   "outputs": [
    {
     "data": {
      "image/png": "[encoded data removed]",
      "text/plain": [
       "<Figure size 640x480 with 1 Axes>"
      ]
     },
     "metadata": {},
     "output_type": "display_data"
    }
   ],
   "source": [
    "plt.hist([len(s) for s in features], bins = 50)\n",
    "plt.xlabel('length of samples')\n",
    "plt.ylabel('number of samples')\n",
    "plt.show()"
   ]
  },
  {
   "cell_type": "markdown",
   "id": "1a4b1829-10c2-43da-b427-dc05091a8ff7",
   "metadata": {},
   "source": [
    "### 8. train set와 test set 분리"
   ]
  },
  {
   "cell_type": "code",
   "execution_count": 60,
   "id": "b447b8a9-384c-4c7e-8b86-e39f83912d6f",
   "metadata": {},
   "outputs": [
    {
     "data": {
      "text/plain": [
       "((199,), (50,))"
      ]
     },
     "execution_count": 60,
     "metadata": {},
     "output_type": "execute_result"
    }
   ],
   "source": [
    "from sklearn.model_selection import train_test_split\n",
    "\n",
    "# stratify: Ensures that the proportion of each class label in the training and test sets matches the proportion in the original dataset\n",
    "x_train, x_test, y_train, y_test = train_test_split(features, labels, test_size = 0.2, stratify = labels, random_state = 41)\n",
    "x_train.shape, x_test.shape"
   ]
  },
  {
   "cell_type": "code",
   "execution_count": 61,
   "id": "5a9bc3ad-5f7c-4ce0-a061-2ec65bb94bda",
   "metadata": {},
   "outputs": [
    {
     "data": {
      "text/plain": [
       "(array(['저도 입사 개월 갓 지난 신입사원으로써 많이 공감되는 부분이 있고 완전 판매를 위해서 꼼꼼히 케어하여 업무처리해야겠다고 생각되었습니다 매장에서 적용할 부분들에 대해서도 도움이 되고 유쾌하게 풀어내어 이래저래 꾸준히 챙겨보고 있습니다 감사합니다',\n",
       "        '매 방송마다 신선한 아이디어가 많이 도출되는 것 같아요'], dtype=object),\n",
       " array([0, 0]))"
      ]
     },
     "execution_count": 61,
     "metadata": {},
     "output_type": "execute_result"
    }
   ],
   "source": [
    "# 샘플 확인, 0: 긍정, 1: 부정\n",
    "x_train[:2], y_train[:2]"
   ]
  },
  {
   "cell_type": "markdown",
   "id": "b585a5d2-0538-4b91-8bb8-19de016cde3b",
   "metadata": {},
   "source": [
    "### 9. 전체 문장에 대해 Tokenizing\n",
    "- 컴퓨터가 이해하기 위해 모든 단어를 숫자로 변환해야 함"
   ]
  },
  {
   "cell_type": "code",
   "execution_count": 63,
   "id": "378081bb-42c0-4f69-8fe4-4997216c4e2b",
   "metadata": {
    "scrolled": true
   },
   "outputs": [
    {
     "name": "stdout",
     "output_type": "stream",
     "text": [
      "Requirement already satisfied: tensorflow in /Users/shinjoohwan/miniconda3/lib/python3.12/site-packages (2.19.0)\n",
      "Requirement already satisfied: absl-py>=1.0.0 in /Users/shinjoohwan/miniconda3/lib/python3.12/site-packages (from tensorflow) (2.3.0)\n",
      "Requirement already satisfied: astunparse>=1.6.0 in /Users/shinjoohwan/miniconda3/lib/python3.12/site-packages (from tensorflow) (1.6.3)\n",
      "Requirement already satisfied: flatbuffers>=24.3.25 in /Users/shinjoohwan/miniconda3/lib/python3.12/site-packages (from tensorflow) (25.2.10)\n",
      "Requirement already satisfied: gast!=0.5.0,!=0.5.1,!=0.5.2,>=0.2.1 in /Users/shinjoohwan/miniconda3/lib/python3.12/site-packages (from tensorflow) (0.6.0)\n",
      "Requirement already satisfied: google-pasta>=0.1.1 in /Users/shinjoohwan/miniconda3/lib/python3.12/site-packages (from tensorflow) (0.2.0)\n",
      "Requirement already satisfied: libclang>=13.0.0 in /Users/shinjoohwan/miniconda3/lib/python3.12/site-packages (from tensorflow) (18.1.1)\n",
      "Requirement already satisfied: opt-einsum>=2.3.2 in /Users/shinjoohwan/miniconda3/lib/python3.12/site-packages (from tensorflow) (3.4.0)\n",
      "Requirement already satisfied: packaging in /Users/shinjoohwan/miniconda3/lib/python3.12/site-packages (from tensorflow) (24.1)\n",
      "Requirement already satisfied: protobuf!=4.21.0,!=4.21.1,!=4.21.2,!=4.21.3,!=4.21.4,!=4.21.5,<6.0.0dev,>=3.20.3 in /Users/shinjoohwan/miniconda3/lib/python3.12/site-packages (from tensorflow) (5.29.5)\n",
      "Requirement already satisfied: requests<3,>=2.21.0 in /Users/shinjoohwan/miniconda3/lib/python3.12/site-packages (from tensorflow) (2.32.3)\n",
      "Requirement already satisfied: setuptools in /Users/shinjoohwan/miniconda3/lib/python3.12/site-packages (from tensorflow) (75.1.0)\n",
      "Requirement already satisfied: six>=1.12.0 in /Users/shinjoohwan/miniconda3/lib/python3.12/site-packages (from tensorflow) (1.17.0)\n",
      "Requirement already satisfied: termcolor>=1.1.0 in /Users/shinjoohwan/miniconda3/lib/python3.12/site-packages (from tensorflow) (3.1.0)\n",
      "Requirement already satisfied: typing-extensions>=3.6.6 in /Users/shinjoohwan/miniconda3/lib/python3.12/site-packages (from tensorflow) (4.12.2)\n",
      "Requirement already satisfied: wrapt>=1.11.0 in /Users/shinjoohwan/miniconda3/lib/python3.12/site-packages (from tensorflow) (1.17.2)\n",
      "Requirement already satisfied: grpcio<2.0,>=1.24.3 in /Users/shinjoohwan/miniconda3/lib/python3.12/site-packages (from tensorflow) (1.71.0)\n",
      "Requirement already satisfied: tensorboard~=2.19.0 in /Users/shinjoohwan/miniconda3/lib/python3.12/site-packages (from tensorflow) (2.19.0)\n",
      "Requirement already satisfied: keras>=3.5.0 in /Users/shinjoohwan/miniconda3/lib/python3.12/site-packages (from tensorflow) (3.10.0)\n",
      "Requirement already satisfied: numpy<2.2.0,>=1.26.0 in /Users/shinjoohwan/miniconda3/lib/python3.12/site-packages (from tensorflow) (1.26.4)\n",
      "Requirement already satisfied: h5py>=3.11.0 in /Users/shinjoohwan/miniconda3/lib/python3.12/site-packages (from tensorflow) (3.13.0)\n",
      "Requirement already satisfied: ml-dtypes<1.0.0,>=0.5.1 in /Users/shinjoohwan/miniconda3/lib/python3.12/site-packages (from tensorflow) (0.5.1)\n",
      "Requirement already satisfied: wheel<1.0,>=0.23.0 in /Users/shinjoohwan/miniconda3/lib/python3.12/site-packages (from astunparse>=1.6.0->tensorflow) (0.44.0)\n",
      "Requirement already satisfied: rich in /Users/shinjoohwan/miniconda3/lib/python3.12/site-packages (from keras>=3.5.0->tensorflow) (14.0.0)\n",
      "Requirement already satisfied: namex in /Users/shinjoohwan/miniconda3/lib/python3.12/site-packages (from keras>=3.5.0->tensorflow) (0.1.0)\n",
      "Requirement already satisfied: optree in /Users/shinjoohwan/miniconda3/lib/python3.12/site-packages (from keras>=3.5.0->tensorflow) (0.16.0)\n",
      "Requirement already satisfied: charset-normalizer<4,>=2 in /Users/shinjoohwan/miniconda3/lib/python3.12/site-packages (from requests<3,>=2.21.0->tensorflow) (3.3.2)\n",
      "Requirement already satisfied: idna<4,>=2.5 in /Users/shinjoohwan/miniconda3/lib/python3.12/site-packages (from requests<3,>=2.21.0->tensorflow) (3.7)\n",
      "Requirement already satisfied: urllib3<3,>=1.21.1 in /Users/shinjoohwan/miniconda3/lib/python3.12/site-packages (from requests<3,>=2.21.0->tensorflow) (2.2.3)\n",
      "Requirement already satisfied: certifi>=2017.4.17 in /Users/shinjoohwan/miniconda3/lib/python3.12/site-packages (from requests<3,>=2.21.0->tensorflow) (2025.4.26)\n",
      "Requirement already satisfied: markdown>=2.6.8 in /Users/shinjoohwan/miniconda3/lib/python3.12/site-packages (from tensorboard~=2.19.0->tensorflow) (3.8)\n",
      "Requirement already satisfied: tensorboard-data-server<0.8.0,>=0.7.0 in /Users/shinjoohwan/miniconda3/lib/python3.12/site-packages (from tensorboard~=2.19.0->tensorflow) (0.7.2)\n",
      "Requirement already satisfied: werkzeug>=1.0.1 in /Users/shinjoohwan/miniconda3/lib/python3.12/site-packages (from tensorboard~=2.19.0->tensorflow) (3.1.3)\n",
      "Requirement already satisfied: MarkupSafe>=2.1.1 in /Users/shinjoohwan/miniconda3/lib/python3.12/site-packages (from werkzeug>=1.0.1->tensorboard~=2.19.0->tensorflow) (3.0.2)\n",
      "Requirement already satisfied: markdown-it-py>=2.2.0 in /Users/shinjoohwan/miniconda3/lib/python3.12/site-packages (from rich->keras>=3.5.0->tensorflow) (3.0.0)\n",
      "Requirement already satisfied: pygments<3.0.0,>=2.13.0 in /Users/shinjoohwan/miniconda3/lib/python3.12/site-packages (from rich->keras>=3.5.0->tensorflow) (2.19.1)\n",
      "Requirement already satisfied: mdurl~=0.1 in /Users/shinjoohwan/miniconda3/lib/python3.12/site-packages (from markdown-it-py>=2.2.0->rich->keras>=3.5.0->tensorflow) (0.1.2)\n"
     ]
    }
   ],
   "source": [
    "!pip install tensorflow"
   ]
  },
  {
   "cell_type": "code",
   "execution_count": 67,
   "id": "e98212f4-3234-430c-a415-ab8eee7f5027",
   "metadata": {},
   "outputs": [],
   "source": [
    "import tensorflow as tf\n",
    "from tensorflow.keras.preprocessing.text import Tokenizer\n",
    "from tensorflow.keras.preprocessing.sequence import pad_sequences"
   ]
  },
  {
   "cell_type": "code",
   "execution_count": 68,
   "id": "a6c62687-2aab-4ad8-a13e-b61f13a21ca9",
   "metadata": {},
   "outputs": [],
   "source": [
    "# Tokenizer 구현: 단어 사전 만들기\n",
    "tokenizer = Tokenizer()\n",
    "tokenizer.fit_on_texts(x_train)"
   ]
  },
  {
   "cell_type": "code",
   "execution_count": 69,
   "id": "99910734-017c-4efd-86f1-2d1e954fac6c",
   "metadata": {
    "scrolled": true
   },
   "outputs": [
    {
     "name": "stdout",
     "output_type": "stream",
     "text": [
      "{'우리': 1, '너무': 2, '것': 3, '잘': 4, '더': 5, '같습니다': 6, '같아요': 7, '좋은': 8, '대한': 9, '수': 10, '좀': 11, '감사합니다': 12, '어떤': 13, '조금': 14, '회사의': 15, '있는': 16, '많이': 17, '회사': 18, '항상': 19, '부분이': 20, '재밌게': 21, '재미있게': 22, '방송': 23, '하는': 24, '프로그램': 25, '정말': 26, '도움이': 27, '고객의': 28, '새로운': 29, '좋겠습니다': 30, '사내': 31, '있었습니다': 32, '방송은': 33, '보고': 34, '응원합니다': 35, '통해': 36, '가장': 37, '쇼핑': 38, '앞으로도': 39, '있습니다': 40, '보는': 41, '어떻게': 42, '보았습니다': 43, '기대됩니다': 44, '차별화된': 45, '다소': 46, '금일': 47, '회사가': 48, '기업이미지': 49, '시간': 50, '아쉬웠습니다': 51, '화이팅': 52, '다양한': 53, '좋을': 54, '합니다': 55, '유익한': 56, '없는': 57, '기획': 58, '많은': 59, '한': 60, '방송이': 61, '서비스': 62, '됩니다': 63, '저도': 64, '케어하여': 65, '되고': 66, '신선한': 67, '전혀': 68, '있어': 69, '잘봤습니다': 70, '최근': 71, '계속': 72, '있었으면': 73, '이미지': 74, '기업의': 75, '참': 76, '있네요': 77, '봤습니다': 78, '아쉽습니다': 79, '있을': 80, '하고': 81, '있는지': 82, '같네요': 83, '함께': 84, '재미있고': 85, '제': 86, '픽은': 87, '마음을': 88, '서비스에': 89, '내용이': 90, '이번': 91, '입니다': 92, '업무를': 93, '모습을': 94, '할': 95, '고객에게': 96, '상품을': 97, '회사화이팅': 98, '파이팅입니다': 99, '느낌이': 100, '시간이': 101, '거': 102, '아쉽네요': 103, '고객을': 104, '부족한': 105, '자막이': 106, '되는': 107, '코로나로': 108, '것이': 109, '역시': 110, '짧게': 111, '있어서': 112, '픽': 113, '구체적으로': 114, '있음': 115, '신입사원': 116, '마케팅': 117, '점점': 118, '내용도': 119, '않아요': 120, '설명이': 121, '매출이': 122, '꼼꼼히': 123, '업무처리해야겠다고': 124, '생각되었습니다': 125, '매장에서': 126, '적용할': 127, '부분들에': 128, '대해서도': 129, '유쾌하게': 130, '풀어내어': 131, '이래저래': 132, '들이': 133, '말이': 134, '저희': 135, '진행이': 136, '내용은': 137, '기억에': 138, '보이는': 139, '갑니다': 140, '외부': 141, '주셨으면': 142, '홈쇼핑': 143, '쇼핑에': 144, '근무': 145, '일을': 146, '하는지': 147, '알게되었습니다': 148, '코로나': 149, '인해': 150, '있는만큼': 151, '분야의': 152, '니즈를': 153, '가볍게': 154, '재미를': 155, '되었지만': 156, '제고활동과': 157, '이태원': 158, '클라쓰로': 159, '소신과': 160, '이야기를': 161, '없어': 162, '약간': 163, '듯': 164, '같이': 165, '바라볼': 166, '필요가': 167, '아무래도': 168, '이해가': 169, '짧고': 170, '미숙한': 171, '이슈를': 172, '가': 173, '쇼핑의': 174, '멘트가': 175, '직원들이': 176, '모르는': 177, '재미가': 178, '지점': 179, '있어요': 180, '모습이': 181, '위로가': 182, '힘이': 183, '모든': 184, '최선을': 185, '다하는': 186, '회사에': 187, '더욱': 188, '생각이': 189, '들었습니다': 190, '업무': 191, '보여주어': 192, '아쉬워요': 193, '고객': 194, '때': 195, '맞춤형': 196, '즐겁고': 197, '유익하게': 198, '생각합니다': 199, '고객중심': 200, '생기는': 201, '방송이네요': 202, '글씨를': 203, '같아서': 204, '산만한': 205, '듭니다': 206, '간략한': 207, '설명': 208, '방송에': 209, '맞지': 210, '않는': 211, '불편했습니다': 212, '다시': 213, '한번': 214, '계기가': 215, '경우': 216, '소개': 217, '같아': 218, '시장을': 219, '정보': 220, '내용': 221, '무슨': 222, '파악이': 223, '알': 224, '부정적인': 225, '보기': 226, '나오는': 227, '시간이었습니다': 228, '같은데': 229, '에서': 230, '셀프개통이': 231, '눈에': 232, '나왔으면': 233, '좋겠어요': 234, '되어': 235, '돈쭐': 236, '스토리가': 237, '어울리는': 238, '소리지르는': 239, '장면은': 240, '매우': 241, '중': 242, '아쉬움이': 243, '광고': 244, '좋네요': 245, '서비스와': 246, '같은': 247, '데이터를': 248, '데이터': 249, '활용이': 250, '온라인': 251, '가지': 252, '사례에': 253, '판매': 254, '와닿지': 255, '볼': 256, '좋아요': 257, '확인하기': 258, '자막': 259, '화이팅입니다': 260, '영업의': 261, '무릅을': 262, '방송의': 263, '포인트': 264, '위한': 265, '회사그룹': 266, '부탁드립니다': 267, '실제': 268, '추가되면': 269, '모르겠네요': 270, '모두': 271, '좋았습니다': 272, '가는': 273, '줄': 274, '등의': 275, '좋겠네요': 276, '않아': 277, '셀프개통': 278, '내': 279, '발전해': 280, '보니': 281, '없어서': 282, '좋았을': 283, '현실에서': 284, '어려운': 285, '따듯한': 286, '현장에': 287, '전체적으로': 288, '아침부터': 289, '수도': 290, '않은': 291, '통해서': 292, '뭔지': 293, '소식을': 294, '염려가': 295, '어떠한': 296, '쉽지': 297, '직접': 298, '입사': 299, '개월': 300, '갓': 301, '지난': 302, '신입사원으로써': 303, '공감되는': 304, '있고': 305, '완전': 306, '판매를': 307, '위해서': 308, '꾸준히': 309, '챙겨보고': 310, '매': 311, '방송마다': 312, '아이디어가': 313, '도출되는': 314, '아직은': 315, '미숙해보이네요': 316, '어색한': 317, '들려요': 318, '회사직원분들과': 319, '호흡도': 320, '좋았고': 321, '상당히': 322, '매끄로워': 323, '내내': 324, '즐거웠습니다': 325, '직원분들도': 326, '꿀리는거': 327, '없이': 328, '능숙해': 329, '지셨네요': 330, '분량이': 331, '치우쳐': 332, '앞부분의': 333, '안남는': 334, '입장에서': 335, '생각하면': 336, '트렌드가': 337, '송씨가': 338, '출근하자마자': 339, '안마의자': 340, '앉아서': 341, '쉬는게': 342, '부럽기도': 343, '했네요쇼호스트분들의': 344, '진행솜씨또한': 345, '감탄하고': 346, '다음은': 347, '어디': 348, '탐방': 349, '예정인가요': 350, '우리회사와': 351, '소비자를': 352, '연결하는': 353, '내용을': 354, '보강해': 355, '시청을': 356, '하지않아': 357, '대해': 358, '몰랐으나': 359, '금번': 360, '예능인의': 361, '체험으로': 362, '전반적으로': 363, '업무가': 364, '돌아가고': 365, '간접적으로': 366, '또다시': 367, '확산으로': 368, '산업체': 369, '전분야에': 370, '영향이': 371, '쇼핑이': 372, '최고로': 373, '거듭나길': 374, '바라겠습니다': 375, '화에': 376, '이어': 377, '화': 378, '다음화': 379, '정확히': 380, '파악하면': 381, '트랜드를': 382, '발굴할수': 383, '있다고확신합니다': 384, '방향성으로': 385, '발전되어': 386, '갈것이다라고': 387, '비교하는': 388, '좀더': 389, '좋지': 390, '않을까': 391, '생각해': 392, '게임의': 393, '방식으로': 394, '다뤄졌던': 395, '형식이': 396, '주는데는': 397, '아쉬운': 398, '추진하는': 399, '대내외': 400, '트렌드인': 401, '쇼핑콘셉트를': 402, '활용해': 403, '소개하는': 404, '방송으로': 405, '찜': 406, '기업': 407, '트렌드': 408, '장바구니의': 409, '자존감마스크': 410, '인질극유의': 411, '눈물좋은': 412, '성공전략으로': 413, '티르티르가': 414, '방송되었는데': 415, '참신했네요': 416, '흥미로운': 417, '장면들이': 418, '국내': 419, '제품': 420, '첫': 421, '출시라는': 422, '기념비적인': 423, '업적을': 424, '회상하는': 425, '도입부가': 426, '인상깊었습니다': 427, '또한': 428, '현장의': 429, '딱딱하지': 430, '않고': 431, '위트있게': 432, '구성하여': 433, '보는데': 434, '부담이': 435, '분': 436, '순삭되었네요': 437, '다음화가': 438, '훈훈한': 439, '결말이네요': 440, '즐겁게': 441, '정확하게': 442, '인물을': 443, '찾는지': 444, '컨셉': 445, '혼돈이': 446, '느껴': 447, '집니다': 448, '솔루션처럼': 449, '솔루션인데성과로': 450, '이어지려면더욱': 451, '홍보가': 452, '필요할': 453, '한데요': 454, '이점에': 455, '보완도': 456, '방송되기엔': 457, '편성이': 458, '짦아': 459, '위험요소측면에서도': 460, '기술분야라': 461, '쉽고': 462, '집중이': 463, '되도록': 464, '방송시간을': 465, '구성했으면': 466, '좋겟습니다': 467, '무엇을': 468, '말': 469, '중심을': 470, '잃게': 471, '된': 472, '정돈이': 473, '필요해': 474, '보입니다': 475, '봄과': 476, '찾아온': 477, '오늘은프로그램': 478, '첫방': 479, '축하드립니다': 480, '관련': 481, '핫': 482, '장바구니담기로': 483, '소개해주셔서': 484, '아주': 485, '신선합니다': 486, '담다': 487, '기가지니': 488, '음성합성영상인데요': 489, '볼때마다': 490, '눈물이': 491, '납니다': 492, '전해주는': 493, '찡한': 494, '감동따뜻한': 495, '기술의': 496, '사례입니다': 497, '트렌드라기': 498, '보다는': 499, '절반이상을': 500, '차지해': 501, '건승을': 502, '바랍니다': 503, '어렵네요': 504, '간단하고': 505, '쉽게': 506, '나누어서뉴스': 507, '구성되었으면': 508, '아마': 509, '훨씬': 510, '많았을': 511, '부족했던': 512, '실적향상을위해': 513, '노력하는': 514, '갈수록': 515, '다음회는': 516, '어떨지': 517, '늘': 518, '참신한': 519, '실패했을때': 520, '포기하는게': 521, '아니고': 522, '일어서는': 523, '좋았습니다지금': 524, '힘들어': 525, '회사인에게': 526, '될거': 527, '업무에서': 528, '맡은바': 529, '업무에': 530, '서': 531, '좋습니다': 532, '재치있고': 533, '특색에대해서는': 534, '알게': 535, '기본적으로': 536, '숲의': 537, '관점으로': 538, '완벽했을': 539, '있다는': 540, '다른': 541, '영업점의': 542, '모습도': 543, '싶은데': 544, '적은': 545, '보여주면': 546, '인터뷰를': 547, '회사에게': 548, '원하는': 549, '요구사항도': 550, '나오도록': 551, '반영해주셨으면': 552, '해요': 553, '판매한다는게': 554, '제시되어야': 555, '한다고': 556, '자부심이': 557, '다음화도': 558, '자막의': 559, '줄였으면': 560, '많은것': 561, '조금은': 562, '사용법에': 563, '요약': 564, '및': 565, '사용체험이': 566, '있다면': 567, '좋겠음': 568, '인용이': 569, '보기에': 570, '사내방송을': 571, '업무처리': 572, '방식을': 573, '검토해보는': 574, '되었네요': 575, '사용자': 576, '인터뷰의': 577, '한업체의': 578, '사장님만': 579, '여러번': 580, '오래': 581, '나오는데': 582, '사례와': 583, '경험을': 584, '소개해주면': 585, '반응을': 586, '실감나게': 587, '느낄': 588, '기록하고': 589, '기억해주고': 590, '맞추어야': 591, '짧아서': 592, '인지': 593, '구성이': 594, '보완되면': 595, '내편들어': 596, '주는': 597, '점장님': 598, '멋있습니다': 599, '물론': 600, '실수는': 601, '잘못된': 602, '거지만': 603, '그러니까': 604, '실수죠': 605, '지점일': 606, '처음하는': 607, '직원들에게': 608, '에피소드를': 609, '표현한': 610, '재미있습니다': 611, '단일': 612, '솔루션만': 613, '봤으면': 614, '다음에도': 615, '부탁해요': 616, '응원하겠습니다': 617, '길어요': 618, '의도가': 619, '무엇인지': 620, '알아볼': 621, '방송이에요': 622, '민원': 623, '케어해서': 624, '단골고객으로': 625, '돌리고': 626, '세일즈': 627, '유치까지': 628, '이루어낸점이': 629, '인상적입니다민원고객을': 630, '친구들까지': 631, '소개시켜주는': 632, '확실한': 633, '민원처리입니다': 634, '덕후가': 635, '생겼으면': 636, '바램': 637, '내용인지': 638, '안됩니다': 639, '정리가': 640, '필요해보여요': 641, '의도를': 642, '알아차릴': 643, '어쩌다': 644, '첫출근': 645, '자체가': 646, '재미있는거': 647, '몰랐던': 648, '환경이나': 649, '기회고': 650, '송님도': 651, '유쾌해서': 652, '기다리는': 653, '코느중': 654, '하나에요': 655, '편도': 656, '봤어요': 657, '장면들은': 658, '아침에': 659, '불편하네요': 660, '따라가는': 661, '것도': 662, '중요하지만': 663, '문제와': 664, '부분도': 665, '개선에': 666, '도움을': 667, '주었으면': 668, '광고가': 669, '섭외된': 670, '모델이랑': 671, '찰떡이네요': 672, '목소리가': 673, '어울려요': 674, '초코파이': 675, '김씨': 676, '재밌네요': 677, '실제로': 678, '있을수있는': 679, '내용이네요고객': 680, '니즈가': 681, '잘소통되었네요': 682, '참고자료등은': 683, '편인데': 684, '아나운서의': 685, '말들은': 686, '제고활동으로': 687, '여러방안으로': 688, '시도되고': 689, '있는데트렌드를': 690, '반영하여': 691, '회사그룹만의': 692, '공략방안이': 693, '무엇일까': 694, '고민하게': 695, '후반부에서는집중도가떨어졌습니다타프로그램처럼마무리를하는방식도좋지않나생각해봅니다': 696, '주제에': 697, '내용인': 698, '유행어가': 699, '등장하면': 700, '자막으로': 701, '간단하게': 702, '주석을': 703, '달아서': 704, '알려': 705, '로밍이용이': 706, '없을': 707, '로밍에그로': 708, '찾아낸': 709, '대단하네요': 710, '제가': 711, '고객센터': 712, '전화상': 713, '유치하는': 714, '부서에서': 715, '근무하다보니': 716, '들어옵니다': 717, '개통시': 718, '출동비': 719, '불만이': 720, '많은데': 721, '셀프개통을': 722, '적극': 723, '활용해야겠어요': 724, '선도기업': 725, '그룹의': 726, '핵심가치를': 727, '실천하는': 728, '우리화화사가': 729, '굿굿': 730, '들의': 731, '빨라서': 732, '이해하기': 733, '어려워요': 734, '자막도': 735, '시청각': 736, '자료가': 737, '부족해요': 738, '방송보면서': 739, '하루시작하는게': 740, '즐겁습니다': 741, '영상': 742, '개인': 743, '개발에': 744, '될것': 745, '갑자기': 746, '끝나버리는': 747, '듯하': 748, '마무리가': 749, '당황스럽네요': 750, '트랜드가': 751, '픽으로': 752, '와': 753, '닿습니다': 754, '그런점에서': 755, '고객과의': 756, '관계에': 757, '되여야': 758, '그리고': 759, '두분': 760, '의': 761, '케미가': 762, '아침방송인데': 763, '불편합니다': 764, '마스크인질극': 765, '사회조직에': 766, '긍정적인': 767, '영향을': 768, '미치는': 769, '사회적': 770, '책임이': 771, '경영': 772, '활동에': 773, '전략': 774, '하나로': 775, '각광받고': 776, '따뜻한': 777, '기술기업': 778, '담는': 779, '슬로건에': 780, '부합한': 781, '내용이라고': 782, '양가': 783, '부모님들': 784, '대구분이': 785, '계셔서': 786, '저렇게': 787, '결혼식을': 788, '했다고': 789, '코로나와': 790, '노력': 791, '고객인식': 792, '등이': 793, '일목요연하게': 794, '보여줘서': 795, '좋았어요': 796, '지루해요': 797, '프로그램를': 798, '다시한번': 799, '확인한': 800, '되었습니다': 801, '짧은시간이지만': 802, '성과에': 803, '이야기가': 804, '나왔음': 805, '일관성이': 806, '없어요': 807, '시절이': 808, '생각나는': 809, '친근감이': 810, '드네요': 811, '수고하셨어요': 812, '멋지게': 813, '만든': 814, '같요': 815, '짱입니다': 816, '간편납부가': 817, '와닿는': 818, '컨텐츠였어요': 819, '예시는': 820, '오히려': 821, '브리핑이나': 822, '아님': 823, '끝나고': 824, '나서': 825, '오늘': 826, '전달한': 827, '콘텐츠에': 828, '정리를': 829, '해주시면': 830, '딱': 831, '들어와서': 832, '발전을': 833, '기원합니다': 834, '설명을': 835, '줄이고': 836, '기존': 837, '업계에서': 838, '사오는': 839, '현황': 840, '등': 841, '것인지도': 842, '사람들에게': 843, '것이라는걸': 844, '보여줄': 845, '있으면': 846, '컨텐츠가': 847, '저의': 848, '쇼핑싹쓰리': 849, '마음껏': 850, '여행도': 851, '못다니고': 852, '그나마': 853, '마음의': 854, '위안을': 855, '삼을': 856, '있는건': 857, '이제': 858, '인터넷만': 859, '뭐든': 860, '수가': 861, '감사한': 862, '마음입니다': 863, '싹쓰리요기술': 864, '발달이': 865, '구매를': 866, '편해지게': 867, '만드네요': 868, '섭외를': 869, '모델이에요': 870, '사례': 871, '또는': 872, '깊은': 873, '필요': 874, '때문에': 875, '좋아하는': 876, '헬스에': 877, '갈수': 878, '없네요': 879, '회부터': 880, '시작인가봐요': 881, '흥미진진해집니다': 882, '과연': 883, '위기극복을': 884, '해나갈지': 885, '기대되어요': 886, '두근두근': 887, '영업이': 888, '판다는게': 889, '해야': 890, '것을': 891, '좋은내용': 892, '컨설턴트롤러코스터': 893, '하루였네요': 894, '공감가는': 895, '많고': 896, '재밌어요': 897, '대면': 898, '매장과': 899, '차별성이': 900, '않았습니다': 901, '프로그램의': 902, '편성': 903, '때문인지': 904, '사례가': 905, '구체적이지': 906, '않았던것': 907, '맡은': 908, '역할들을': 909, '기회였습니다': 910, '파이팅': 911, '경쟁력이네요': 912, '다음이': 913, '기대가': 914, '되며': 915, '유익합니다': 916, '솔루션이': 917, '나열식으로': 918, '진행되다보니': 919, '차이점을': 920, '어려웠던': 921, '소리인지': 922, '부가설명이': 923, '달아주세요': 924, '인식': 925, '제고를': 926, '위해': 927, '우리모두': 928, '감사하게': 929, '보고있습니다': 930, '주제로': 931, '더해주는': 932, '매번': 933, '기대를': 934, '충족시켜주네요': 935, '형식의': 936, '신선하네요': 937, '해서': 938, '소식': 939, '전해주시길': 940, '기대합니다': 941, '좌충우돌문제가': 942, '많아보이는': 943, '네인것': 944, '기본은': 945, '고객중심이고': 946, '거기에': 947, '주인정신으로': 948, '임한다면': 949, '나은': 950, '네로': 951, '발전하리라': 952, '생각됩니다': 953, '네의': 954, '성장하는': 955, '모습': 956, '기대하겠습니다': 957, '네': 958, '연기가': 959, '어색해요': 960, '고객과': 961, '소통하는': 962, '보여주었네요': 963, '방송녹화방송의': 964, '소리가': 965, '들리지가': 966, '않아서': 967, '영상만을': 968, '시청한': 969, '방송이었는데요트렌드': 970, '장바구니에서': 971, '자존감': 972, '픽을': 973, '선택하고': 974, '싶네요강자에게': 975, '부당함으로': 976, '꿇치': 977, '안치만내사람회사을를': 978, '위해서라면': 979, '천번이라도': 980, '꿇을수': 981, '사람이': 982, '진짜': 983, '아닐까요': 984, '힘': 985, '시도에': 986, '기대감이': 987, '김씨도': 988, '전세계가': 989, '코로아': 990, '시대를': 991, '맞아': 992, '뉴노멀시대에서의': 993, '한발': 994, '앞서': 995, '파악하라는': 996, '제목으로': 997, '진행되었는데요티핑': 998, '바로': 999, '그': 1000, '순간과': 1001, '뷰': 1002, '방송에서': 1003, '뉴노멀시대를': 1004, '대비한': 1005, '정책등을': 1006, '살펴볼수가': 1007, '좋았던것': 1008, '수고': 1009, '하셨습니다감사합니다': 1010, '슬기로운': 1011, '활동': 1012, '인상적인': 1013, '많네요': 1014, '이런': 1015, '관한': 1016, '앞의': 1017, '비에': 1018, '적었던': 1019, '아닌가': 1020, '생각되네요': 1021, '다양한솔루션이소개가되었는데어떤차이점이있는지이해하기가어려웠습니다': 1022, '서비스실수는': 1023, '실수중': 1024, '하나인데': 1025, '그렇다고': 1026, '퇴사를': 1027, '간단한': 1028, '이해하는데': 1029, '되지': 1030, '않았을까': 1031, '싶네요': 1032, '다': 1033, '잼있고': 1034, '남아서': 1035, '뭘': 1036, '찜해야': 1037, '할지': 1038, '라이브': 1039, '합동응원': 1040, '청춘해': 1041, '싹쓰리': 1042, '등등': 1043, '넘': 1044, '잼나요': 1045, '결혼': 1046, '좋았지만': 1047, '김씨가': 1048, '출연한': 1049, '전통시장홍보가': 1050, '인상적이었습니다': 1051, '급감한': 1052, '소상공인을': 1053, '돕는': 1054, '취지가': 1055, '보고싶지': 1056, '공감이': 1057, '안되는': 1058, '방송이었어요': 1059, '방영해': 1060, '우연찮게': 1061, '보게': 1062, '됐습니다': 1063, '모르고': 1064, '보았습니다앞으로도': 1065, '기대되는': 1066, '다음': 1067, '회차에는': 1068, '에피소드가': 1069, '있을지': 1070, '궁금하네요': 1071, '타사': 1072, '같군요': 1073, '발전입니다': 1074, '잘보았습니다': 1075, '수고많으셨습니다': 1076, '아쉬웠던': 1077, '사례나': 1078, '번': 1079, '실패': 1080, '후': 1081, '개선했던': 1082, '사항': 1083, '들어있으면': 1084, '어떨까': 1085, '싶습니다': 1086, '미화된': 1087, '홍보에요': 1088, '본부별': 1089, '소개를': 1090, '부분에서': 1091, '본부인지에': 1092, '제대로': 1093, '보이지가': 1094, '가독성이': 1095, '떨어지는': 1096, '부분입니다': 1097, '있는지를': 1098, '좋겠다는': 1099, '들었다': 1100, '바뀌었네요재미있게': 1101, '봅니다': 1102, '하기': 1103, '어렵습니다': 1104, '별로에요': 1105, '편의성': 1106, '향상': 1107, '기대': 1108, '기승전결이': 1109, '뚜렷했으면': 1110, '폰트가': 1111, '상황마다': 1112, '바뀌는데': 1113, '통일성이': 1114, '없어보이는': 1115, '니즈에': 1116, '맞춘': 1117, '코로나의': 1118, '영향으로': 1119, '침체된': 1120, '소비문화의': 1121, '실제와': 1122, '같았으면': 1123, '하네요': 1124, '서비스로': 1125, '나갔으면': 1126, '이달의': 1127, '재미': 1128, '싹쓰리입니다': 1129, '요즘': 1130, '온라인에': 1131, '재밌는': 1132, '영상과': 1133, '사진이': 1134, '많아서': 1135, '읽다보면': 1136, '모릅니다': 1137, '편을': 1138, '신분을': 1139, '감추고': 1140, '각': 1141, '지점을': 1142, '방문하여': 1143, '상담을': 1144, '받았던': 1145, '기억이': 1146, '났습니다현장': 1147, '컨설턴트의': 1148, '애로사항과': 1149, '활동사항을': 1150, '장난스럽게': 1151, '느껴지는': 1152, '면이': 1153, '캠패인': 1154, '이후의': 1155, '매출증대는': 1156, '이어지는지': 1157, '괜찮네요': 1158, '좋지도': 1159, '않네요란': 1160, '생각을': 1161, '잠시': 1162, '잊고': 1163, '유투브에': 1164, '올려도': 1165, '콘텐츠일': 1166, '시장에서의': 1167, '객관적인': 1168, '경쟁력': 1169, '수준을': 1170, '타사대비': 1171, '유사서비스': 1172, '대비': 1173, '해외동향': 1174, '정보가': 1175, '같다는': 1176, '의견': 1177, '드립니다': 1178, '자주': 1179, '이용해야겠네요': 1180, '정량적': 1181, '지표가': 1182, '기업이미지가': 1183, '더더욱': 1184, '크게': 1185, '부각되어가는': 1186, '변화에': 1187, '노력이': 1188, '필요한것': 1189, '상황에도': 1190, '갖은분들이': 1191, '많다는걸': 1192, '세삼': 1193, '느꼈습니다': 1194, '대박': 1195, '놀랐습니다': 1196, '흥미롭게': 1197, '기획하고': 1198, '제작하신거': 1199, '사업을': 1200, '우회하여': 1201, '의미를': 1202, '만드는': 1203, '것은': 1204, '메시지를': 1205, '전달하기': 1206, '어려울': 1207, '화이팅하세요': 1208, '멋진': 1209, '분들입니다': 1210, '전기': 1211, '통신비': 1212, '절감': 1213, '무료컨설팅을': 1214, '통한': 1215, '활성화': 1216, '방안보기': 1217, '서비스가': 1218, '나가': 1219, '고객들에게': 1220, '편리함으로': 1221, '다가갔으면': 1222, '가진': 1223, '데이터의': 1224, '강점이': 1225, '인터뷰로만': 1226, '처리되어': 1227, '신뢰성이': 1228, '낮아': 1229, '점이': 1230, '있다': 1231, '정신없는': 1232, '화면전개': 1233, '불편해요': 1234, '진행방식이': 1235, '미숙한건지': 1236, '대본이': 1237, '산만한건지': 1238, '정돈될': 1239, '보이네요': 1240, '딱딱해서': 1241, '별로였음': 1242, '거칠었던': 1243, '같습니다있을': 1244, '내용이지만': 1245, '월요일': 1246, '싸우는': 1247, '목소리가방송을': 1248, '전파되어': 1249, '한편으론': 1250, '빠른': 1251, '전개와': 1252, '발화에': 1253, '정확한': 1254, '흐름이': 1255, '이상': 1256, '일어나지': 1257, '일들인': 1258, '보완이': 1259, '필요한': 1260, '성급한': 1261, '결론으로': 1262, '비춰지는': 1263, '듯한': 1264, '남습니다': 1265, '방송드라마를': 1266, '보게되다니': 1267, '신기하고': 1268, '새롭습니다': 1269, '싹쓰리요갓뚜기': 1270, '오동통면': 1271, '먹어보고이제': 1272, '너구리는': 1273, '뒷전으로저의': 1274, '라면': 1275, '됐어요맛있는거': 1276, '먹고좋은일도': 1277, '하고석조': 1278, '주제가': 1279, '주제를초반에말해주던지아니면상단에알려주던지하면좋을것같습니다그래야방송을중간에보는사람들도이해가되지않을까싶습니다': 1280, '사내방송': 1281, '특성상': 1282, '이슈화': 1283, '되거나': 1284, '언급이': 1285, '자주되는': 1286, '키워드를': 1287, '중심으로': 1288, '뉴스를': 1289, '구성하는': 1290, '있으나': 1291, '전문용어나': 1292, '네이밍이': 1293, '빈번하게': 1294, '노출이': 1295, '주의가': 1296, '필요해보입니다': 1297, '적용해야': 1298, '방법이': 1299, '여러': 1300, '지점의': 1301, '모아서': 1302, '전달하는': 1303, '코너에서': 1304, '짧은시간에': 1305, '전달하려다': 1306, '전달하고자': 1307, '사항이': 1308, '의문이': 1309, '드는': 1310, '비유': 1311, '프로': 1312, '지점에서': 1313, '타': 1314, '상품들을': 1315, '컬래버': 1316, '진열할': 1317, '때에': 1318, '본질과': 1319, '연관없는': 1320, '상품인': 1321, '전문성이나': 1322, '측면의': 1323, '악영향은': 1324, '없는지': 1325, '활용하여': 1326, '이러한': 1327, '얼마나': 1328, '늘었고': 1329, '되었다라고하는': 1330, '중요한게': 1331, '빠져있어': 1332, '되어가네요': 1333, '이미': 1334, '적극활용되는': 1335, '최고입니다': 1336, '이익이나': 1337, '이점이': 1338, '있었는지': 1339, '수치화가': 1340, '신뢰가': 1341, '부족합니다': 1342, '진행으로': 1343, '지루함을': 1344, '느꼈어요': 1345, '상품과': 1346, '콜라보': 1347, '되는지': 1348, '이해하기가': 1349, '이': 1350, '방송을': 1351, '해당': 1352, '문제를': 1353, '여기는': 1354, '있을까': 1355, '예능대세': 1356, '배우송씨가': 1357, '신입사원이': 1358, '고객발': 1359, '자기혁신에': 1360, '힘쓰고': 1361, '임직원의': 1362, '고군분투': 1363, '방문하는': 1364, '스토리로': 1365, '오늘은': 1366, '체험하고': 1367, '어려움도': 1368, '확인해보는': 1369, '좌충우돌': 1370, '회사그룹탐방기로': 1371, '디지털홈쇼핑': 1372, '선두주자': 1373, '쇼핑을': 1374, '찾은': 1375, '좌층우돌': 1376, '방송이었네요': 1377, '차별화': 1378, '점을': 1379, '명확히': 1380, '다루어졌으면': 1381, '같았습니다': 1382, '재미는': 1383, '있는데': 1384, '짧은게': 1385, '다음편이': 1386, '왔다갔다': 1387, '앵글에': 1388, '빨리': 1389, '지나가서': 1390, '알아보기': 1391, '힘들어요': 1392, '반영': 1393, '최근에': 1394, '위주의': 1395, '콘텐츠들이': 1396, '집중해서': 1397, '경향이': 1398, '생각보다': 1399, '감사드립니다': 1400, '화면이': 1401, '작아': 1402, '현실고증': 1403, '되어있네요': 1404, '매니저의': 1405, '리액션에': 1406, '빵터지고': 1407, '해도': 1408, '옆에': 1409, '동료가': 1410, '제일': 1411, '큰': 1412, '오늘도': 1413, '프로그램을': 1414, '배워': 1415, '가네요': 1416, '길': 1417, '와닿네요': 1418}\n"
     ]
    }
   ],
   "source": [
    "# 단어에 대한 숫자 매핑\n",
    "print(tokenizer.word_index)"
   ]
  },
  {
   "cell_type": "code",
   "execution_count": 70,
   "id": "6b86f98f-d9a3-474c-8eb0-a8f4eaf3ff1c",
   "metadata": {
    "scrolled": true
   },
   "outputs": [
    {
     "name": "stdout",
     "output_type": "stream",
     "text": [
      "{1: '우리', 2: '너무', 3: '것', 4: '잘', 5: '더', 6: '같습니다', 7: '같아요', 8: '좋은', 9: '대한', 10: '수', 11: '좀', 12: '감사합니다', 13: '어떤', 14: '조금', 15: '회사의', 16: '있는', 17: '많이', 18: '회사', 19: '항상', 20: '부분이', 21: '재밌게', 22: '재미있게', 23: '방송', 24: '하는', 25: '프로그램', 26: '정말', 27: '도움이', 28: '고객의', 29: '새로운', 30: '좋겠습니다', 31: '사내', 32: '있었습니다', 33: '방송은', 34: '보고', 35: '응원합니다', 36: '통해', 37: '가장', 38: '쇼핑', 39: '앞으로도', 40: '있습니다', 41: '보는', 42: '어떻게', 43: '보았습니다', 44: '기대됩니다', 45: '차별화된', 46: '다소', 47: '금일', 48: '회사가', 49: '기업이미지', 50: '시간', 51: '아쉬웠습니다', 52: '화이팅', 53: '다양한', 54: '좋을', 55: '합니다', 56: '유익한', 57: '없는', 58: '기획', 59: '많은', 60: '한', 61: '방송이', 62: '서비스', 63: '됩니다', 64: '저도', 65: '케어하여', 66: '되고', 67: '신선한', 68: '전혀', 69: '있어', 70: '잘봤습니다', 71: '최근', 72: '계속', 73: '있었으면', 74: '이미지', 75: '기업의', 76: '참', 77: '있네요', 78: '봤습니다', 79: '아쉽습니다', 80: '있을', 81: '하고', 82: '있는지', 83: '같네요', 84: '함께', 85: '재미있고', 86: '제', 87: '픽은', 88: '마음을', 89: '서비스에', 90: '내용이', 91: '이번', 92: '입니다', 93: '업무를', 94: '모습을', 95: '할', 96: '고객에게', 97: '상품을', 98: '회사화이팅', 99: '파이팅입니다', 100: '느낌이', 101: '시간이', 102: '거', 103: '아쉽네요', 104: '고객을', 105: '부족한', 106: '자막이', 107: '되는', 108: '코로나로', 109: '것이', 110: '역시', 111: '짧게', 112: '있어서', 113: '픽', 114: '구체적으로', 115: '있음', 116: '신입사원', 117: '마케팅', 118: '점점', 119: '내용도', 120: '않아요', 121: '설명이', 122: '매출이', 123: '꼼꼼히', 124: '업무처리해야겠다고', 125: '생각되었습니다', 126: '매장에서', 127: '적용할', 128: '부분들에', 129: '대해서도', 130: '유쾌하게', 131: '풀어내어', 132: '이래저래', 133: '들이', 134: '말이', 135: '저희', 136: '진행이', 137: '내용은', 138: '기억에', 139: '보이는', 140: '갑니다', 141: '외부', 142: '주셨으면', 143: '홈쇼핑', 144: '쇼핑에', 145: '근무', 146: '일을', 147: '하는지', 148: '알게되었습니다', 149: '코로나', 150: '인해', 151: '있는만큼', 152: '분야의', 153: '니즈를', 154: '가볍게', 155: '재미를', 156: '되었지만', 157: '제고활동과', 158: '이태원', 159: '클라쓰로', 160: '소신과', 161: '이야기를', 162: '없어', 163: '약간', 164: '듯', 165: '같이', 166: '바라볼', 167: '필요가', 168: '아무래도', 169: '이해가', 170: '짧고', 171: '미숙한', 172: '이슈를', 173: '가', 174: '쇼핑의', 175: '멘트가', 176: '직원들이', 177: '모르는', 178: '재미가', 179: '지점', 180: '있어요', 181: '모습이', 182: '위로가', 183: '힘이', 184: '모든', 185: '최선을', 186: '다하는', 187: '회사에', 188: '더욱', 189: '생각이', 190: '들었습니다', 191: '업무', 192: '보여주어', 193: '아쉬워요', 194: '고객', 195: '때', 196: '맞춤형', 197: '즐겁고', 198: '유익하게', 199: '생각합니다', 200: '고객중심', 201: '생기는', 202: '방송이네요', 203: '글씨를', 204: '같아서', 205: '산만한', 206: '듭니다', 207: '간략한', 208: '설명', 209: '방송에', 210: '맞지', 211: '않는', 212: '불편했습니다', 213: '다시', 214: '한번', 215: '계기가', 216: '경우', 217: '소개', 218: '같아', 219: '시장을', 220: '정보', 221: '내용', 222: '무슨', 223: '파악이', 224: '알', 225: '부정적인', 226: '보기', 227: '나오는', 228: '시간이었습니다', 229: '같은데', 230: '에서', 231: '셀프개통이', 232: '눈에', 233: '나왔으면', 234: '좋겠어요', 235: '되어', 236: '돈쭐', 237: '스토리가', 238: '어울리는', 239: '소리지르는', 240: '장면은', 241: '매우', 242: '중', 243: '아쉬움이', 244: '광고', 245: '좋네요', 246: '서비스와', 247: '같은', 248: '데이터를', 249: '데이터', 250: '활용이', 251: '온라인', 252: '가지', 253: '사례에', 254: '판매', 255: '와닿지', 256: '볼', 257: '좋아요', 258: '확인하기', 259: '자막', 260: '화이팅입니다', 261: '영업의', 262: '무릅을', 263: '방송의', 264: '포인트', 265: '위한', 266: '회사그룹', 267: '부탁드립니다', 268: '실제', 269: '추가되면', 270: '모르겠네요', 271: '모두', 272: '좋았습니다', 273: '가는', 274: '줄', 275: '등의', 276: '좋겠네요', 277: '않아', 278: '셀프개통', 279: '내', 280: '발전해', 281: '보니', 282: '없어서', 283: '좋았을', 284: '현실에서', 285: '어려운', 286: '따듯한', 287: '현장에', 288: '전체적으로', 289: '아침부터', 290: '수도', 291: '않은', 292: '통해서', 293: '뭔지', 294: '소식을', 295: '염려가', 296: '어떠한', 297: '쉽지', 298: '직접', 299: '입사', 300: '개월', 301: '갓', 302: '지난', 303: '신입사원으로써', 304: '공감되는', 305: '있고', 306: '완전', 307: '판매를', 308: '위해서', 309: '꾸준히', 310: '챙겨보고', 311: '매', 312: '방송마다', 313: '아이디어가', 314: '도출되는', 315: '아직은', 316: '미숙해보이네요', 317: '어색한', 318: '들려요', 319: '회사직원분들과', 320: '호흡도', 321: '좋았고', 322: '상당히', 323: '매끄로워', 324: '내내', 325: '즐거웠습니다', 326: '직원분들도', 327: '꿀리는거', 328: '없이', 329: '능숙해', 330: '지셨네요', 331: '분량이', 332: '치우쳐', 333: '앞부분의', 334: '안남는', 335: '입장에서', 336: '생각하면', 337: '트렌드가', 338: '송씨가', 339: '출근하자마자', 340: '안마의자', 341: '앉아서', 342: '쉬는게', 343: '부럽기도', 344: '했네요쇼호스트분들의', 345: '진행솜씨또한', 346: '감탄하고', 347: '다음은', 348: '어디', 349: '탐방', 350: '예정인가요', 351: '우리회사와', 352: '소비자를', 353: '연결하는', 354: '내용을', 355: '보강해', 356: '시청을', 357: '하지않아', 358: '대해', 359: '몰랐으나', 360: '금번', 361: '예능인의', 362: '체험으로', 363: '전반적으로', 364: '업무가', 365: '돌아가고', 366: '간접적으로', 367: '또다시', 368: '확산으로', 369: '산업체', 370: '전분야에', 371: '영향이', 372: '쇼핑이', 373: '최고로', 374: '거듭나길', 375: '바라겠습니다', 376: '화에', 377: '이어', 378: '화', 379: '다음화', 380: '정확히', 381: '파악하면', 382: '트랜드를', 383: '발굴할수', 384: '있다고확신합니다', 385: '방향성으로', 386: '발전되어', 387: '갈것이다라고', 388: '비교하는', 389: '좀더', 390: '좋지', 391: '않을까', 392: '생각해', 393: '게임의', 394: '방식으로', 395: '다뤄졌던', 396: '형식이', 397: '주는데는', 398: '아쉬운', 399: '추진하는', 400: '대내외', 401: '트렌드인', 402: '쇼핑콘셉트를', 403: '활용해', 404: '소개하는', 405: '방송으로', 406: '찜', 407: '기업', 408: '트렌드', 409: '장바구니의', 410: '자존감마스크', 411: '인질극유의', 412: '눈물좋은', 413: '성공전략으로', 414: '티르티르가', 415: '방송되었는데', 416: '참신했네요', 417: '흥미로운', 418: '장면들이', 419: '국내', 420: '제품', 421: '첫', 422: '출시라는', 423: '기념비적인', 424: '업적을', 425: '회상하는', 426: '도입부가', 427: '인상깊었습니다', 428: '또한', 429: '현장의', 430: '딱딱하지', 431: '않고', 432: '위트있게', 433: '구성하여', 434: '보는데', 435: '부담이', 436: '분', 437: '순삭되었네요', 438: '다음화가', 439: '훈훈한', 440: '결말이네요', 441: '즐겁게', 442: '정확하게', 443: '인물을', 444: '찾는지', 445: '컨셉', 446: '혼돈이', 447: '느껴', 448: '집니다', 449: '솔루션처럼', 450: '솔루션인데성과로', 451: '이어지려면더욱', 452: '홍보가', 453: '필요할', 454: '한데요', 455: '이점에', 456: '보완도', 457: '방송되기엔', 458: '편성이', 459: '짦아', 460: '위험요소측면에서도', 461: '기술분야라', 462: '쉽고', 463: '집중이', 464: '되도록', 465: '방송시간을', 466: '구성했으면', 467: '좋겟습니다', 468: '무엇을', 469: '말', 470: '중심을', 471: '잃게', 472: '된', 473: '정돈이', 474: '필요해', 475: '보입니다', 476: '봄과', 477: '찾아온', 478: '오늘은프로그램', 479: '첫방', 480: '축하드립니다', 481: '관련', 482: '핫', 483: '장바구니담기로', 484: '소개해주셔서', 485: '아주', 486: '신선합니다', 487: '담다', 488: '기가지니', 489: '음성합성영상인데요', 490: '볼때마다', 491: '눈물이', 492: '납니다', 493: '전해주는', 494: '찡한', 495: '감동따뜻한', 496: '기술의', 497: '사례입니다', 498: '트렌드라기', 499: '보다는', 500: '절반이상을', 501: '차지해', 502: '건승을', 503: '바랍니다', 504: '어렵네요', 505: '간단하고', 506: '쉽게', 507: '나누어서뉴스', 508: '구성되었으면', 509: '아마', 510: '훨씬', 511: '많았을', 512: '부족했던', 513: '실적향상을위해', 514: '노력하는', 515: '갈수록', 516: '다음회는', 517: '어떨지', 518: '늘', 519: '참신한', 520: '실패했을때', 521: '포기하는게', 522: '아니고', 523: '일어서는', 524: '좋았습니다지금', 525: '힘들어', 526: '회사인에게', 527: '될거', 528: '업무에서', 529: '맡은바', 530: '업무에', 531: '서', 532: '좋습니다', 533: '재치있고', 534: '특색에대해서는', 535: '알게', 536: '기본적으로', 537: '숲의', 538: '관점으로', 539: '완벽했을', 540: '있다는', 541: '다른', 542: '영업점의', 543: '모습도', 544: '싶은데', 545: '적은', 546: '보여주면', 547: '인터뷰를', 548: '회사에게', 549: '원하는', 550: '요구사항도', 551: '나오도록', 552: '반영해주셨으면', 553: '해요', 554: '판매한다는게', 555: '제시되어야', 556: '한다고', 557: '자부심이', 558: '다음화도', 559: '자막의', 560: '줄였으면', 561: '많은것', 562: '조금은', 563: '사용법에', 564: '요약', 565: '및', 566: '사용체험이', 567: '있다면', 568: '좋겠음', 569: '인용이', 570: '보기에', 571: '사내방송을', 572: '업무처리', 573: '방식을', 574: '검토해보는', 575: '되었네요', 576: '사용자', 577: '인터뷰의', 578: '한업체의', 579: '사장님만', 580: '여러번', 581: '오래', 582: '나오는데', 583: '사례와', 584: '경험을', 585: '소개해주면', 586: '반응을', 587: '실감나게', 588: '느낄', 589: '기록하고', 590: '기억해주고', 591: '맞추어야', 592: '짧아서', 593: '인지', 594: '구성이', 595: '보완되면', 596: '내편들어', 597: '주는', 598: '점장님', 599: '멋있습니다', 600: '물론', 601: '실수는', 602: '잘못된', 603: '거지만', 604: '그러니까', 605: '실수죠', 606: '지점일', 607: '처음하는', 608: '직원들에게', 609: '에피소드를', 610: '표현한', 611: '재미있습니다', 612: '단일', 613: '솔루션만', 614: '봤으면', 615: '다음에도', 616: '부탁해요', 617: '응원하겠습니다', 618: '길어요', 619: '의도가', 620: '무엇인지', 621: '알아볼', 622: '방송이에요', 623: '민원', 624: '케어해서', 625: '단골고객으로', 626: '돌리고', 627: '세일즈', 628: '유치까지', 629: '이루어낸점이', 630: '인상적입니다민원고객을', 631: '친구들까지', 632: '소개시켜주는', 633: '확실한', 634: '민원처리입니다', 635: '덕후가', 636: '생겼으면', 637: '바램', 638: '내용인지', 639: '안됩니다', 640: '정리가', 641: '필요해보여요', 642: '의도를', 643: '알아차릴', 644: '어쩌다', 645: '첫출근', 646: '자체가', 647: '재미있는거', 648: '몰랐던', 649: '환경이나', 650: '기회고', 651: '송님도', 652: '유쾌해서', 653: '기다리는', 654: '코느중', 655: '하나에요', 656: '편도', 657: '봤어요', 658: '장면들은', 659: '아침에', 660: '불편하네요', 661: '따라가는', 662: '것도', 663: '중요하지만', 664: '문제와', 665: '부분도', 666: '개선에', 667: '도움을', 668: '주었으면', 669: '광고가', 670: '섭외된', 671: '모델이랑', 672: '찰떡이네요', 673: '목소리가', 674: '어울려요', 675: '초코파이', 676: '김씨', 677: '재밌네요', 678: '실제로', 679: '있을수있는', 680: '내용이네요고객', 681: '니즈가', 682: '잘소통되었네요', 683: '참고자료등은', 684: '편인데', 685: '아나운서의', 686: '말들은', 687: '제고활동으로', 688: '여러방안으로', 689: '시도되고', 690: '있는데트렌드를', 691: '반영하여', 692: '회사그룹만의', 693: '공략방안이', 694: '무엇일까', 695: '고민하게', 696: '후반부에서는집중도가떨어졌습니다타프로그램처럼마무리를하는방식도좋지않나생각해봅니다', 697: '주제에', 698: '내용인', 699: '유행어가', 700: '등장하면', 701: '자막으로', 702: '간단하게', 703: '주석을', 704: '달아서', 705: '알려', 706: '로밍이용이', 707: '없을', 708: '로밍에그로', 709: '찾아낸', 710: '대단하네요', 711: '제가', 712: '고객센터', 713: '전화상', 714: '유치하는', 715: '부서에서', 716: '근무하다보니', 717: '들어옵니다', 718: '개통시', 719: '출동비', 720: '불만이', 721: '많은데', 722: '셀프개통을', 723: '적극', 724: '활용해야겠어요', 725: '선도기업', 726: '그룹의', 727: '핵심가치를', 728: '실천하는', 729: '우리화화사가', 730: '굿굿', 731: '들의', 732: '빨라서', 733: '이해하기', 734: '어려워요', 735: '자막도', 736: '시청각', 737: '자료가', 738: '부족해요', 739: '방송보면서', 740: '하루시작하는게', 741: '즐겁습니다', 742: '영상', 743: '개인', 744: '개발에', 745: '될것', 746: '갑자기', 747: '끝나버리는', 748: '듯하', 749: '마무리가', 750: '당황스럽네요', 751: '트랜드가', 752: '픽으로', 753: '와', 754: '닿습니다', 755: '그런점에서', 756: '고객과의', 757: '관계에', 758: '되여야', 759: '그리고', 760: '두분', 761: '의', 762: '케미가', 763: '아침방송인데', 764: '불편합니다', 765: '마스크인질극', 766: '사회조직에', 767: '긍정적인', 768: '영향을', 769: '미치는', 770: '사회적', 771: '책임이', 772: '경영', 773: '활동에', 774: '전략', 775: '하나로', 776: '각광받고', 777: '따뜻한', 778: '기술기업', 779: '담는', 780: '슬로건에', 781: '부합한', 782: '내용이라고', 783: '양가', 784: '부모님들', 785: '대구분이', 786: '계셔서', 787: '저렇게', 788: '결혼식을', 789: '했다고', 790: '코로나와', 791: '노력', 792: '고객인식', 793: '등이', 794: '일목요연하게', 795: '보여줘서', 796: '좋았어요', 797: '지루해요', 798: '프로그램를', 799: '다시한번', 800: '확인한', 801: '되었습니다', 802: '짧은시간이지만', 803: '성과에', 804: '이야기가', 805: '나왔음', 806: '일관성이', 807: '없어요', 808: '시절이', 809: '생각나는', 810: '친근감이', 811: '드네요', 812: '수고하셨어요', 813: '멋지게', 814: '만든', 815: '같요', 816: '짱입니다', 817: '간편납부가', 818: '와닿는', 819: '컨텐츠였어요', 820: '예시는', 821: '오히려', 822: '브리핑이나', 823: '아님', 824: '끝나고', 825: '나서', 826: '오늘', 827: '전달한', 828: '콘텐츠에', 829: '정리를', 830: '해주시면', 831: '딱', 832: '들어와서', 833: '발전을', 834: '기원합니다', 835: '설명을', 836: '줄이고', 837: '기존', 838: '업계에서', 839: '사오는', 840: '현황', 841: '등', 842: '것인지도', 843: '사람들에게', 844: '것이라는걸', 845: '보여줄', 846: '있으면', 847: '컨텐츠가', 848: '저의', 849: '쇼핑싹쓰리', 850: '마음껏', 851: '여행도', 852: '못다니고', 853: '그나마', 854: '마음의', 855: '위안을', 856: '삼을', 857: '있는건', 858: '이제', 859: '인터넷만', 860: '뭐든', 861: '수가', 862: '감사한', 863: '마음입니다', 864: '싹쓰리요기술', 865: '발달이', 866: '구매를', 867: '편해지게', 868: '만드네요', 869: '섭외를', 870: '모델이에요', 871: '사례', 872: '또는', 873: '깊은', 874: '필요', 875: '때문에', 876: '좋아하는', 877: '헬스에', 878: '갈수', 879: '없네요', 880: '회부터', 881: '시작인가봐요', 882: '흥미진진해집니다', 883: '과연', 884: '위기극복을', 885: '해나갈지', 886: '기대되어요', 887: '두근두근', 888: '영업이', 889: '판다는게', 890: '해야', 891: '것을', 892: '좋은내용', 893: '컨설턴트롤러코스터', 894: '하루였네요', 895: '공감가는', 896: '많고', 897: '재밌어요', 898: '대면', 899: '매장과', 900: '차별성이', 901: '않았습니다', 902: '프로그램의', 903: '편성', 904: '때문인지', 905: '사례가', 906: '구체적이지', 907: '않았던것', 908: '맡은', 909: '역할들을', 910: '기회였습니다', 911: '파이팅', 912: '경쟁력이네요', 913: '다음이', 914: '기대가', 915: '되며', 916: '유익합니다', 917: '솔루션이', 918: '나열식으로', 919: '진행되다보니', 920: '차이점을', 921: '어려웠던', 922: '소리인지', 923: '부가설명이', 924: '달아주세요', 925: '인식', 926: '제고를', 927: '위해', 928: '우리모두', 929: '감사하게', 930: '보고있습니다', 931: '주제로', 932: '더해주는', 933: '매번', 934: '기대를', 935: '충족시켜주네요', 936: '형식의', 937: '신선하네요', 938: '해서', 939: '소식', 940: '전해주시길', 941: '기대합니다', 942: '좌충우돌문제가', 943: '많아보이는', 944: '네인것', 945: '기본은', 946: '고객중심이고', 947: '거기에', 948: '주인정신으로', 949: '임한다면', 950: '나은', 951: '네로', 952: '발전하리라', 953: '생각됩니다', 954: '네의', 955: '성장하는', 956: '모습', 957: '기대하겠습니다', 958: '네', 959: '연기가', 960: '어색해요', 961: '고객과', 962: '소통하는', 963: '보여주었네요', 964: '방송녹화방송의', 965: '소리가', 966: '들리지가', 967: '않아서', 968: '영상만을', 969: '시청한', 970: '방송이었는데요트렌드', 971: '장바구니에서', 972: '자존감', 973: '픽을', 974: '선택하고', 975: '싶네요강자에게', 976: '부당함으로', 977: '꿇치', 978: '안치만내사람회사을를', 979: '위해서라면', 980: '천번이라도', 981: '꿇을수', 982: '사람이', 983: '진짜', 984: '아닐까요', 985: '힘', 986: '시도에', 987: '기대감이', 988: '김씨도', 989: '전세계가', 990: '코로아', 991: '시대를', 992: '맞아', 993: '뉴노멀시대에서의', 994: '한발', 995: '앞서', 996: '파악하라는', 997: '제목으로', 998: '진행되었는데요티핑', 999: '바로', 1000: '그', 1001: '순간과', 1002: '뷰', 1003: '방송에서', 1004: '뉴노멀시대를', 1005: '대비한', 1006: '정책등을', 1007: '살펴볼수가', 1008: '좋았던것', 1009: '수고', 1010: '하셨습니다감사합니다', 1011: '슬기로운', 1012: '활동', 1013: '인상적인', 1014: '많네요', 1015: '이런', 1016: '관한', 1017: '앞의', 1018: '비에', 1019: '적었던', 1020: '아닌가', 1021: '생각되네요', 1022: '다양한솔루션이소개가되었는데어떤차이점이있는지이해하기가어려웠습니다', 1023: '서비스실수는', 1024: '실수중', 1025: '하나인데', 1026: '그렇다고', 1027: '퇴사를', 1028: '간단한', 1029: '이해하는데', 1030: '되지', 1031: '않았을까', 1032: '싶네요', 1033: '다', 1034: '잼있고', 1035: '남아서', 1036: '뭘', 1037: '찜해야', 1038: '할지', 1039: '라이브', 1040: '합동응원', 1041: '청춘해', 1042: '싹쓰리', 1043: '등등', 1044: '넘', 1045: '잼나요', 1046: '결혼', 1047: '좋았지만', 1048: '김씨가', 1049: '출연한', 1050: '전통시장홍보가', 1051: '인상적이었습니다', 1052: '급감한', 1053: '소상공인을', 1054: '돕는', 1055: '취지가', 1056: '보고싶지', 1057: '공감이', 1058: '안되는', 1059: '방송이었어요', 1060: '방영해', 1061: '우연찮게', 1062: '보게', 1063: '됐습니다', 1064: '모르고', 1065: '보았습니다앞으로도', 1066: '기대되는', 1067: '다음', 1068: '회차에는', 1069: '에피소드가', 1070: '있을지', 1071: '궁금하네요', 1072: '타사', 1073: '같군요', 1074: '발전입니다', 1075: '잘보았습니다', 1076: '수고많으셨습니다', 1077: '아쉬웠던', 1078: '사례나', 1079: '번', 1080: '실패', 1081: '후', 1082: '개선했던', 1083: '사항', 1084: '들어있으면', 1085: '어떨까', 1086: '싶습니다', 1087: '미화된', 1088: '홍보에요', 1089: '본부별', 1090: '소개를', 1091: '부분에서', 1092: '본부인지에', 1093: '제대로', 1094: '보이지가', 1095: '가독성이', 1096: '떨어지는', 1097: '부분입니다', 1098: '있는지를', 1099: '좋겠다는', 1100: '들었다', 1101: '바뀌었네요재미있게', 1102: '봅니다', 1103: '하기', 1104: '어렵습니다', 1105: '별로에요', 1106: '편의성', 1107: '향상', 1108: '기대', 1109: '기승전결이', 1110: '뚜렷했으면', 1111: '폰트가', 1112: '상황마다', 1113: '바뀌는데', 1114: '통일성이', 1115: '없어보이는', 1116: '니즈에', 1117: '맞춘', 1118: '코로나의', 1119: '영향으로', 1120: '침체된', 1121: '소비문화의', 1122: '실제와', 1123: '같았으면', 1124: '하네요', 1125: '서비스로', 1126: '나갔으면', 1127: '이달의', 1128: '재미', 1129: '싹쓰리입니다', 1130: '요즘', 1131: '온라인에', 1132: '재밌는', 1133: '영상과', 1134: '사진이', 1135: '많아서', 1136: '읽다보면', 1137: '모릅니다', 1138: '편을', 1139: '신분을', 1140: '감추고', 1141: '각', 1142: '지점을', 1143: '방문하여', 1144: '상담을', 1145: '받았던', 1146: '기억이', 1147: '났습니다현장', 1148: '컨설턴트의', 1149: '애로사항과', 1150: '활동사항을', 1151: '장난스럽게', 1152: '느껴지는', 1153: '면이', 1154: '캠패인', 1155: '이후의', 1156: '매출증대는', 1157: '이어지는지', 1158: '괜찮네요', 1159: '좋지도', 1160: '않네요란', 1161: '생각을', 1162: '잠시', 1163: '잊고', 1164: '유투브에', 1165: '올려도', 1166: '콘텐츠일', 1167: '시장에서의', 1168: '객관적인', 1169: '경쟁력', 1170: '수준을', 1171: '타사대비', 1172: '유사서비스', 1173: '대비', 1174: '해외동향', 1175: '정보가', 1176: '같다는', 1177: '의견', 1178: '드립니다', 1179: '자주', 1180: '이용해야겠네요', 1181: '정량적', 1182: '지표가', 1183: '기업이미지가', 1184: '더더욱', 1185: '크게', 1186: '부각되어가는', 1187: '변화에', 1188: '노력이', 1189: '필요한것', 1190: '상황에도', 1191: '갖은분들이', 1192: '많다는걸', 1193: '세삼', 1194: '느꼈습니다', 1195: '대박', 1196: '놀랐습니다', 1197: '흥미롭게', 1198: '기획하고', 1199: '제작하신거', 1200: '사업을', 1201: '우회하여', 1202: '의미를', 1203: '만드는', 1204: '것은', 1205: '메시지를', 1206: '전달하기', 1207: '어려울', 1208: '화이팅하세요', 1209: '멋진', 1210: '분들입니다', 1211: '전기', 1212: '통신비', 1213: '절감', 1214: '무료컨설팅을', 1215: '통한', 1216: '활성화', 1217: '방안보기', 1218: '서비스가', 1219: '나가', 1220: '고객들에게', 1221: '편리함으로', 1222: '다가갔으면', 1223: '가진', 1224: '데이터의', 1225: '강점이', 1226: '인터뷰로만', 1227: '처리되어', 1228: '신뢰성이', 1229: '낮아', 1230: '점이', 1231: '있다', 1232: '정신없는', 1233: '화면전개', 1234: '불편해요', 1235: '진행방식이', 1236: '미숙한건지', 1237: '대본이', 1238: '산만한건지', 1239: '정돈될', 1240: '보이네요', 1241: '딱딱해서', 1242: '별로였음', 1243: '거칠었던', 1244: '같습니다있을', 1245: '내용이지만', 1246: '월요일', 1247: '싸우는', 1248: '목소리가방송을', 1249: '전파되어', 1250: '한편으론', 1251: '빠른', 1252: '전개와', 1253: '발화에', 1254: '정확한', 1255: '흐름이', 1256: '이상', 1257: '일어나지', 1258: '일들인', 1259: '보완이', 1260: '필요한', 1261: '성급한', 1262: '결론으로', 1263: '비춰지는', 1264: '듯한', 1265: '남습니다', 1266: '방송드라마를', 1267: '보게되다니', 1268: '신기하고', 1269: '새롭습니다', 1270: '싹쓰리요갓뚜기', 1271: '오동통면', 1272: '먹어보고이제', 1273: '너구리는', 1274: '뒷전으로저의', 1275: '라면', 1276: '됐어요맛있는거', 1277: '먹고좋은일도', 1278: '하고석조', 1279: '주제가', 1280: '주제를초반에말해주던지아니면상단에알려주던지하면좋을것같습니다그래야방송을중간에보는사람들도이해가되지않을까싶습니다', 1281: '사내방송', 1282: '특성상', 1283: '이슈화', 1284: '되거나', 1285: '언급이', 1286: '자주되는', 1287: '키워드를', 1288: '중심으로', 1289: '뉴스를', 1290: '구성하는', 1291: '있으나', 1292: '전문용어나', 1293: '네이밍이', 1294: '빈번하게', 1295: '노출이', 1296: '주의가', 1297: '필요해보입니다', 1298: '적용해야', 1299: '방법이', 1300: '여러', 1301: '지점의', 1302: '모아서', 1303: '전달하는', 1304: '코너에서', 1305: '짧은시간에', 1306: '전달하려다', 1307: '전달하고자', 1308: '사항이', 1309: '의문이', 1310: '드는', 1311: '비유', 1312: '프로', 1313: '지점에서', 1314: '타', 1315: '상품들을', 1316: '컬래버', 1317: '진열할', 1318: '때에', 1319: '본질과', 1320: '연관없는', 1321: '상품인', 1322: '전문성이나', 1323: '측면의', 1324: '악영향은', 1325: '없는지', 1326: '활용하여', 1327: '이러한', 1328: '얼마나', 1329: '늘었고', 1330: '되었다라고하는', 1331: '중요한게', 1332: '빠져있어', 1333: '되어가네요', 1334: '이미', 1335: '적극활용되는', 1336: '최고입니다', 1337: '이익이나', 1338: '이점이', 1339: '있었는지', 1340: '수치화가', 1341: '신뢰가', 1342: '부족합니다', 1343: '진행으로', 1344: '지루함을', 1345: '느꼈어요', 1346: '상품과', 1347: '콜라보', 1348: '되는지', 1349: '이해하기가', 1350: '이', 1351: '방송을', 1352: '해당', 1353: '문제를', 1354: '여기는', 1355: '있을까', 1356: '예능대세', 1357: '배우송씨가', 1358: '신입사원이', 1359: '고객발', 1360: '자기혁신에', 1361: '힘쓰고', 1362: '임직원의', 1363: '고군분투', 1364: '방문하는', 1365: '스토리로', 1366: '오늘은', 1367: '체험하고', 1368: '어려움도', 1369: '확인해보는', 1370: '좌충우돌', 1371: '회사그룹탐방기로', 1372: '디지털홈쇼핑', 1373: '선두주자', 1374: '쇼핑을', 1375: '찾은', 1376: '좌층우돌', 1377: '방송이었네요', 1378: '차별화', 1379: '점을', 1380: '명확히', 1381: '다루어졌으면', 1382: '같았습니다', 1383: '재미는', 1384: '있는데', 1385: '짧은게', 1386: '다음편이', 1387: '왔다갔다', 1388: '앵글에', 1389: '빨리', 1390: '지나가서', 1391: '알아보기', 1392: '힘들어요', 1393: '반영', 1394: '최근에', 1395: '위주의', 1396: '콘텐츠들이', 1397: '집중해서', 1398: '경향이', 1399: '생각보다', 1400: '감사드립니다', 1401: '화면이', 1402: '작아', 1403: '현실고증', 1404: '되어있네요', 1405: '매니저의', 1406: '리액션에', 1407: '빵터지고', 1408: '해도', 1409: '옆에', 1410: '동료가', 1411: '제일', 1412: '큰', 1413: '오늘도', 1414: '프로그램을', 1415: '배워', 1416: '가네요', 1417: '길', 1418: '와닿네요'}\n"
     ]
    }
   ],
   "source": [
    "print(tokenizer.index_word)"
   ]
  },
  {
   "cell_type": "code",
   "execution_count": 71,
   "id": "c47a9c75-78a8-4ea3-93e9-a754d75b0c9e",
   "metadata": {
    "scrolled": true
   },
   "outputs": [
    {
     "name": "stdout",
     "output_type": "stream",
     "text": [
      "OrderedDict({'저도': 3, '입사': 1, '개월': 1, '갓': 1, '지난': 1, '신입사원으로써': 1, '많이': 8, '공감되는': 1, '부분이': 7, '있고': 1, '완전': 1, '판매를': 1, '위해서': 1, '꼼꼼히': 2, '케어하여': 3, '업무처리해야겠다고': 2, '생각되었습니다': 2, '매장에서': 2, '적용할': 2, '부분들에': 2, '대해서도': 2, '도움이': 6, '되고': 3, '유쾌하게': 2, '풀어내어': 2, '이래저래': 2, '꾸준히': 1, '챙겨보고': 1, '있습니다': 4, '감사합니다': 10, '매': 1, '방송마다': 1, '신선한': 3, '아이디어가': 1, '도출되는': 1, '것': 33, '같아요': 14, '아직은': 1, '들이': 2, '미숙해보이네요': 1, '어색한': 1, '말이': 2, '들려요': 1, '저희': 2, '우리': 35, '회사직원분들과': 1, '호흡도': 1, '좋았고': 1, '진행이': 2, '상당히': 1, '매끄로워': 1, '보는': 4, '내내': 1, '즐거웠습니다': 1, '직원분들도': 1, '전혀': 3, '꿀리는거': 1, '없이': 1, '너무': 35, '능숙해': 1, '지셨네요': 1, '분량이': 1, '치우쳐': 1, '있어': 3, '앞부분의': 1, '내용은': 2, '기억에': 2, '잘': 28, '안남는': 1, '같습니다': 18, '고객의': 6, '입장에서': 1, '생각하면': 1, '새로운': 6, '트렌드가': 1, '보이는': 2, '재밌게': 7, '잘봤습니다': 3, '송씨가': 1, '출근하자마자': 1, '안마의자': 1, '앉아서': 1, '쉬는게': 1, '부럽기도': 1, '했네요쇼호스트분들의': 1, '진행솜씨또한': 1, '감탄하고': 1, '갑니다': 2, '다음은': 1, '어디': 1, '외부': 2, '탐방': 1, '예정인가요': 1, '우리회사와': 1, '소비자를': 1, '연결하는': 1, '내용을': 1, '좀': 11, '더': 19, '보강해': 1, '주셨으면': 2, '좋겠습니다': 6, '홈쇼핑': 2, '시청을': 1, '하지않아': 1, '쇼핑에': 2, '대해': 1, '몰랐으나': 1, '금번': 1, '예능인의': 1, '근무': 2, '체험으로': 1, '전반적으로': 1, '업무가': 1, '어떻게': 4, '돌아가고': 1, '어떤': 9, '일을': 2, '하는지': 2, '간접적으로': 1, '알게되었습니다': 2, '최근': 3, '또다시': 1, '코로나': 2, '확산으로': 1, '인해': 2, '산업체': 1, '전분야에': 1, '영향이': 1, '있는만큼': 2, '쇼핑이': 1, '분야의': 2, '최고로': 1, '거듭나길': 1, '바라겠습니다': 1, '화에': 1, '이어': 1, '화': 1, '재미있게': 7, '보았습니다': 4, '다음화': 1, '기대됩니다': 4, '니즈를': 2, '정확히': 1, '파악하면': 1, '트랜드를': 1, '발굴할수': 1, '있다고확신합니다': 1, '차별화된': 4, '방향성으로': 1, '계속': 3, '발전되어': 1, '갈것이다라고': 1, '비교하는': 1, '있었으면': 3, '좀더': 1, '좋지': 1, '않을까': 1, '생각해': 1, '게임의': 1, '방식으로': 1, '다소': 4, '가볍게': 2, '다뤄졌던': 1, '형식이': 1, '재미를': 2, '주는데는': 1, '되었지만': 2, '조금': 9, '아쉬운': 1, '있었습니다': 5, '금일': 4, '방송은': 5, '회사가': 4, '추진하는': 1, '기업이미지': 4, '제고활동과': 2, '대내외': 1, '트렌드인': 1, '쇼핑콘셉트를': 1, '활용해': 1, '소개하는': 1, '방송으로': 1, '찜': 1, '회사': 8, '기업': 1, '이미지': 3, '트렌드': 1, '장바구니의': 1, '이태원': 2, '클라쓰로': 2, '소신과': 2, '자존감마스크': 1, '인질극유의': 1, '눈물좋은': 1, '기업의': 3, '성공전략으로': 1, '티르티르가': 1, '방송되었는데': 1, '참': 3, '참신했네요': 1, '흥미로운': 1, '장면들이': 1, '있네요': 3, '국내': 1, '제품': 1, '첫': 1, '출시라는': 1, '기념비적인': 1, '업적을': 1, '회상하는': 1, '도입부가': 1, '인상깊었습니다': 1, '또한': 1, '현장의': 1, '이야기를': 2, '딱딱하지': 1, '않고': 1, '위트있게': 1, '구성하여': 1, '보는데': 1, '부담이': 1, '없어': 2, '분': 1, '순삭되었네요': 1, '다음화가': 1, '훈훈한': 1, '결말이네요': 1, '즐겁게': 1, '봤습니다': 3, '정확하게': 1, '인물을': 1, '찾는지': 1, '컨셉': 1, '혼돈이': 1, '약간': 2, '느껴': 1, '집니다': 1, '솔루션처럼': 1, '좋은': 12, '솔루션인데성과로': 1, '이어지려면더욱': 1, '홍보가': 1, '필요할': 1, '듯': 2, '한데요': 1, '이점에': 1, '대한': 12, '보완도': 1, '같이': 2, '방송되기엔': 1, '시간': 4, '편성이': 1, '짦아': 1, '아쉽습니다': 3, '위험요소측면에서도': 1, '바라볼': 2, '필요가': 2, '있을': 3, '아무래도': 2, '기술분야라': 1, '이해가': 2, '쉽고': 1, '집중이': 1, '되도록': 1, '방송시간을': 1, '짧고': 2, '구성했으면': 1, '좋겟습니다': 1, '무엇을': 1, '말': 1, '하고': 3, '있는지': 3, '중심을': 1, '잃게': 1, '된': 1, '미숙한': 2, '같네요': 3, '정돈이': 1, '필요해': 1, '보입니다': 1, '봄과': 1, '함께': 3, '찾아온': 1, '오늘은프로그램': 1, '첫방': 1, '축하드립니다': 1, '관련': 1, '핫': 1, '이슈를': 2, '장바구니담기로': 1, '소개해주셔서': 1, '아주': 1, '재미있고': 3, '신선합니다': 1, '제': 3, '픽은': 3, '마음을': 3, '담다': 1, '기가지니': 1, '음성합성영상인데요': 1, '볼때마다': 1, '눈물이': 1, '납니다': 1, '가': 2, '전해주는': 1, '찡한': 1, '감동따뜻한': 1, '기술의': 1, '사례입니다': 1, '트렌드라기': 1, '보다는': 1, '서비스에': 3, '내용이': 3, '절반이상을': 1, '차지해': 1, '아쉬웠습니다': 4, '쇼핑의': 2, '건승을': 1, '바랍니다': 1, '멘트가': 2, '어렵네요': 1, '간단하고': 1, '쉽게': 1, '나누어서뉴스': 1, '구성되었으면': 1, '아마': 1, '직원들이': 2, '모르는': 2, '훨씬': 1, '많았을': 1, '이번': 3, '재미가': 2, '부족했던': 1, '실적향상을위해': 1, '노력하는': 1, '지점': 2, '갈수록': 1, '다음회는': 1, '어떨지': 1, '늘': 1, '참신한': 1, '방송': 7, '보고': 5, '있어요': 2, '실패했을때': 1, '포기하는게': 1, '아니고': 1, '일어서는': 1, '모습이': 2, '좋았습니다지금': 1, '힘들어': 1, '하는': 7, '회사인에게': 1, '위로가': 2, '힘이': 2, '될거': 1, '모든': 2, '업무에서': 1, '맡은바': 1, '업무에': 1, '서': 1, '최선을': 2, '다하는': 2, '좋습니다': 1, '화이팅': 4, '입니다': 3, '회사에': 2, '재치있고': 1, '특색에대해서는': 1, '알게': 1, '기본적으로': 1, '업무를': 3, '회사의': 9, '숲의': 1, '관점으로': 1, '수': 12, '더욱': 2, '완벽했을': 1, '있다는': 1, '생각이': 2, '들었습니다': 2, '다른': 1, '영업점의': 1, '업무': 2, '모습도': 1, '싶은데': 1, '적은': 1, '모습을': 3, '보여주어': 2, '아쉬워요': 2, '다양한': 4, '보여주면': 1, '좋을': 4, '고객': 2, '인터뷰를': 1, '할': 3, '때': 2, '회사에게': 1, '원하는': 1, '요구사항도': 1, '나오도록': 1, '반영해주셨으면': 1, '해요': 1, '고객에게': 3, '맞춤형': 2, '상품을': 3, '판매한다는게': 1, '즐겁고': 2, '유익하게': 2, '제시되어야': 1, '한다고': 1, '생각합니다': 2, '항상': 8, '응원합니다': 5, '고객중심': 2, '회사화이팅': 3, '자부심이': 1, '생기는': 2, '방송이네요': 2, '다음화도': 1, '파이팅입니다': 3, '자막의': 1, '글씨를': 2, '줄였으면': 1, '많은것': 1, '같아서': 2, '조금은': 1, '산만한': 2, '느낌이': 3, '듭니다': 2, '사용법에': 1, '간략한': 2, '요약': 1, '설명': 2, '및': 1, '사용체험이': 1, '있다면': 1, '좋겠음': 1, '방송에': 2, '맞지': 2, '않는': 2, '인용이': 1, '보기에': 1, '불편했습니다': 2, '사내방송을': 1, '통해': 5, '업무처리': 1, '방식을': 1, '다시': 2, '한번': 2, '검토해보는': 1, '계기가': 2, '되었네요': 1, '사용자': 1, '인터뷰의': 1, '경우': 2, '한업체의': 1, '사장님만': 1, '여러번': 1, '오래': 1, '나오는데': 1, '사례와': 1, '경험을': 1, '소개해주면': 1, '반응을': 1, '실감나게': 1, '느낄': 1, '기록하고': 1, '기억해주고': 1, '맞추어야': 1, '합니다': 4, '소개': 2, '시간이': 3, '짧아서': 1, '인지': 1, '구성이': 1, '보완되면': 1, '내편들어': 1, '주는': 1, '점장님': 1, '멋있습니다': 1, '물론': 1, '실수는': 1, '잘못된': 1, '거지만': 1, '그러니까': 1, '실수죠': 1, '지점일': 1, '처음하는': 1, '직원들에게': 1, '있는': 9, '에피소드를': 1, '표현한': 1, '거': 3, '재미있습니다': 1, '단일': 1, '솔루션만': 1, '같아': 2, '아쉽네요': 3, '시장을': 2, '봤으면': 1, '프로그램': 7, '유익한': 4, '정보': 2, '다음에도': 1, '부탁해요': 1, '응원하겠습니다': 1, '길어요': 1, '의도가': 1, '무엇인지': 1, '알아볼': 1, '없는': 4, '방송이에요': 1, '민원': 1, '고객을': 3, '케어해서': 1, '단골고객으로': 1, '돌리고': 1, '세일즈': 1, '유치까지': 1, '이루어낸점이': 1, '인상적입니다민원고객을': 1, '친구들까지': 1, '소개시켜주는': 1, '정말': 7, '확실한': 1, '민원처리입니다': 1, '내용': 2, '덕후가': 1, '생겼으면': 1, '바램': 1, '무슨': 2, '내용인지': 1, '파악이': 2, '안됩니다': 1, '정리가': 1, '필요해보여요': 1, '기획': 4, '의도를': 1, '알아차릴': 1, '어쩌다': 1, '첫출근': 1, '자체가': 1, '재미있는거': 1, '몰랐던': 1, '환경이나': 1, '알': 2, '기회고': 1, '송님도': 1, '유쾌해서': 1, '기다리는': 1, '코느중': 1, '하나에요': 1, '편도': 1, '봤어요': 1, '부정적인': 2, '장면들은': 1, '아침에': 1, '보기': 2, '불편하네요': 1, '따라가는': 1, '것도': 1, '중요하지만': 1, '문제와': 1, '부족한': 3, '부분도': 1, '개선에': 1, '도움을': 1, '주었으면': 1, '광고가': 1, '섭외된': 1, '모델이랑': 1, '찰떡이네요': 1, '목소리가': 1, '어울려요': 1, '초코파이': 1, '김씨': 1, '재밌네요': 1, '실제로': 1, '있을수있는': 1, '내용이네요고객': 1, '니즈가': 1, '잘소통되었네요': 1, '참고자료등은': 1, '자막이': 3, '나오는': 2, '편인데': 1, '아나운서의': 1, '말들은': 1, '제고활동으로': 1, '여러방안으로': 1, '시도되고': 1, '있는데트렌드를': 1, '반영하여': 1, '회사그룹만의': 1, '공략방안이': 1, '무엇일까': 1, '고민하게': 1, '되는': 3, '시간이었습니다': 2, '후반부에서는집중도가떨어졌습니다타프로그램처럼마무리를하는방식도좋지않나생각해봅니다': 1, '주제에': 1, '내용인': 1, '유행어가': 1, '등장하면': 1, '자막으로': 1, '간단하게': 1, '주석을': 1, '달아서': 1, '알려': 1, '코로나로': 3, '로밍이용이': 1, '없을': 1, '같은데': 2, '로밍에그로': 1, '찾아낸': 1, '것이': 3, '대단하네요': 1, '제가': 1, '고객센터': 1, '에서': 2, '전화상': 1, '유치하는': 1, '부서에서': 1, '근무하다보니': 1, '셀프개통이': 2, '가장': 5, '눈에': 2, '들어옵니다': 1, '개통시': 1, '출동비': 1, '불만이': 1, '많은데': 1, '셀프개통을': 1, '적극': 1, '활용해야겠어요': 1, '역시': 3, '선도기업': 1, '그룹의': 1, '핵심가치를': 1, '실천하는': 1, '우리화화사가': 1, '굿굿': 1, '들의': 1, '빨라서': 1, '이해하기': 1, '어려워요': 1, '자막도': 1, '나왔으면': 2, '좋겠어요': 2, '시청각': 1, '자료가': 1, '부족해요': 1, '사내': 6, '방송보면서': 1, '하루시작하는게': 1, '즐겁습니다': 1, '영상': 1, '개인': 1, '개발에': 1, '많은': 4, '될것': 1, '짧게': 3, '되어': 2, '갑자기': 1, '끝나버리는': 1, '듯하': 1, '마무리가': 1, '당황스럽네요': 1, '돈쭐': 2, '트랜드가': 1, '픽으로': 1, '와': 1, '닿습니다': 1, '그런점에서': 1, '고객과의': 1, '관계에': 1, '있어서': 3, '스토리가': 2, '되여야': 1, '그리고': 1, '두분': 1, '의': 1, '케미가': 1, '어울리는': 2, '아침방송인데': 1, '소리지르는': 2, '장면은': 2, '불편합니다': 1, '마스크인질극': 1, '픽': 3, '사회조직에': 1, '긍정적인': 1, '영향을': 1, '미치는': 1, '사회적': 1, '책임이': 1, '경영': 1, '활동에': 1, '매우': 2, '전략': 1, '중': 2, '하나로': 1, '각광받고': 1, '따뜻한': 1, '기술기업': 1, '담는': 1, '슬로건에': 1, '부합한': 1, '내용이라고': 1, '양가': 1, '부모님들': 1, '대구분이': 1, '계셔서': 1, '저렇게': 1, '결혼식을': 1, '했다고': 1, '코로나와': 1, '노력': 1, '고객인식': 1, '등이': 1, '일목요연하게': 1, '보여줘서': 1, '좋았어요': 1, '지루해요': 1, '프로그램를': 1, '다시한번': 1, '확인한': 1, '되었습니다': 1, '짧은시간이지만': 1, '성과에': 1, '이야기가': 1, '구체적으로': 3, '나왔음': 1, '아쉬움이': 2, '있음': 3, '일관성이': 1, '없어요': 1, '신입사원': 3, '시절이': 1, '생각나는': 1, '친근감이': 1, '드네요': 1, '수고하셨어요': 1, '광고': 2, '멋지게': 1, '만든': 1, '같요': 1, '짱입니다': 1, '간편납부가': 1, '좋네요': 2, '와닿는': 1, '컨텐츠였어요': 1, '서비스와': 2, '같은': 2, '예시는': 1, '오히려': 1, '브리핑이나': 1, '아님': 1, '끝나고': 1, '나서': 1, '오늘': 1, '전달한': 1, '콘텐츠에': 1, '정리를': 1, '해주시면': 1, '한': 4, '딱': 1, '들어와서': 1, '발전을': 1, '기원합니다': 1, '설명을': 1, '줄이고': 1, '기존': 1, '마케팅': 3, '업계에서': 1, '데이터를': 2, '사오는': 1, '현황': 1, '등': 1, '데이터': 2, '활용이': 2, '것인지도': 1, '사람들에게': 1, '것이라는걸': 1, '보여줄': 1, '있으면': 1, '컨텐츠가': 1, '저의': 1, '쇼핑싹쓰리': 1, '마음껏': 1, '여행도': 1, '못다니고': 1, '그나마': 1, '마음의': 1, '위안을': 1, '삼을': 1, '있는건': 1, '쇼핑': 5, '이제': 1, '인터넷만': 1, '뭐든': 1, '수가': 1, '감사한': 1, '마음입니다': 1, '싹쓰리요기술': 1, '발달이': 1, '온라인': 2, '구매를': 1, '점점': 3, '편해지게': 1, '만드네요': 1, '섭외를': 1, '모델이에요': 1, '사례': 1, '또는': 1, '가지': 2, '사례에': 2, '깊은': 1, '필요': 1, '때문에': 1, '좋아하는': 1, '헬스에': 1, '갈수': 1, '없네요': 1, '회부터': 1, '시작인가봐요': 1, '흥미진진해집니다': 1, '과연': 1, '위기극복을': 1, '해나갈지': 1, '기대되어요': 1, '두근두근': 1, '영업이': 1, '판다는게': 1, '판매': 2, '해야': 1, '것을': 1, '좋은내용': 1, '컨설턴트롤러코스터': 1, '하루였네요': 1, '공감가는': 1, '내용도': 3, '많고': 1, '재밌어요': 1, '대면': 1, '매장과': 1, '차별성이': 1, '와닿지': 2, '않았습니다': 1, '앞으로도': 5, '프로그램의': 1, '편성': 1, '때문인지': 1, '사례가': 1, '구체적이지': 1, '않았던것': 1, '맡은': 1, '역할들을': 1, '볼': 2, '기회였습니다': 1, '파이팅': 1, '경쟁력이네요': 1, '좋아요': 2, '다음이': 1, '기대가': 1, '되며': 1, '유익합니다': 1, '솔루션이': 1, '나열식으로': 1, '진행되다보니': 1, '차이점을': 1, '확인하기': 2, '어려웠던': 1, '소리인지': 1, '않아요': 3, '부가설명이': 1, '자막': 2, '달아주세요': 1, '인식': 1, '제고를': 1, '위해': 1, '우리모두': 1, '화이팅입니다': 2, '감사하게': 1, '보고있습니다': 1, '주제로': 1, '더해주는': 1, '매번': 1, '기대를': 1, '충족시켜주네요': 1, '형식의': 1, '방송이': 4, '신선하네요': 1, '해서': 1, '소식': 1, '전해주시길': 1, '기대합니다': 1, '좌충우돌문제가': 1, '많아보이는': 1, '네인것': 1, '영업의': 2, '기본은': 1, '고객중심이고': 1, '거기에': 1, '주인정신으로': 1, '임한다면': 1, '나은': 1, '네로': 1, '발전하리라': 1, '생각됩니다': 1, '네의': 1, '성장하는': 1, '모습': 1, '기대하겠습니다': 1, '네': 1, '연기가': 1, '어색해요': 1, '고객과': 1, '소통하는': 1, '보여주었네요': 1, '방송녹화방송의': 1, '소리가': 1, '들리지가': 1, '않아서': 1, '영상만을': 1, '시청한': 1, '방송이었는데요트렌드': 1, '장바구니에서': 1, '자존감': 1, '픽을': 1, '선택하고': 1, '싶네요강자에게': 1, '부당함으로': 1, '무릅을': 2, '꿇치': 1, '안치만내사람회사을를': 1, '위해서라면': 1, '천번이라도': 1, '꿇을수': 1, '사람이': 1, '진짜': 1, '아닐까요': 1, '힘': 1, '방송의': 2, '시도에': 1, '기대감이': 1, '김씨도': 1, '전세계가': 1, '코로아': 1, '시대를': 1, '맞아': 1, '뉴노멀시대에서의': 1, '한발': 1, '앞서': 1, '파악하라는': 1, '제목으로': 1, '진행되었는데요티핑': 1, '포인트': 2, '바로': 1, '그': 1, '순간과': 1, '뷰': 1, '방송에서': 1, '뉴노멀시대를': 1, '대비한': 1, '위한': 2, '정책등을': 1, '살펴볼수가': 1, '좋았던것': 1, '수고': 1, '하셨습니다감사합니다': 1, '슬기로운': 1, '회사그룹': 2, '활동': 1, '인상적인': 1, '많네요': 1, '이런': 1, '부탁드립니다': 2, '실제': 2, '관한': 1, '앞의': 1, '비에': 1, '적었던': 1, '아닌가': 1, '생각되네요': 1, '다양한솔루션이소개가되었는데어떤차이점이있는지이해하기가어려웠습니다': 1, '서비스실수는': 1, '실수중': 1, '하나인데': 1, '그렇다고': 1, '퇴사를': 1, '간단한': 1, '설명이': 3, '추가되면': 2, '이해하는데': 1, '되지': 1, '않았을까': 1, '싶네요': 1, '다': 1, '잼있고': 1, '남아서': 1, '뭘': 1, '찜해야': 1, '할지': 1, '모르겠네요': 2, '라이브': 1, '합동응원': 1, '청춘해': 1, '싹쓰리': 1, '등등': 1, '모두': 2, '넘': 1, '잼나요': 1, '결혼': 1, '좋았지만': 1, '김씨가': 1, '출연한': 1, '전통시장홍보가': 1, '인상적이었습니다': 1, '매출이': 3, '급감한': 1, '소상공인을': 1, '돕는': 1, '취지가': 1, '좋았습니다': 2, '보고싶지': 1, '공감이': 1, '안되는': 1, '방송이었어요': 1, '방영해': 1, '우연찮게': 1, '보게': 1, '됐습니다': 1, '가는': 2, '줄': 2, '모르고': 1, '보았습니다앞으로도': 1, '기대되는': 1, '다음': 1, '회차에는': 1, '에피소드가': 1, '있을지': 1, '궁금하네요': 1, '타사': 1, '서비스': 4, '같군요': 1, '발전입니다': 1, '잘보았습니다': 1, '수고많으셨습니다': 1, '아쉬웠던': 1, '사례나': 1, '번': 1, '실패': 1, '후': 1, '개선했던': 1, '사항': 1, '등의': 2, '들어있으면': 1, '어떨까': 1, '싶습니다': 1, '미화된': 1, '홍보에요': 1, '좋겠네요': 2, '본부별': 1, '소개를': 1, '부분에서': 1, '본부인지에': 1, '제대로': 1, '보이지가': 1, '않아': 2, '가독성이': 1, '떨어지는': 1, '부분입니다': 1, '있는지를': 1, '좋겠다는': 1, '들었다': 1, '바뀌었네요재미있게': 1, '봅니다': 1, '셀프개통': 2, '하기': 1, '어렵습니다': 1, '별로에요': 1, '편의성': 1, '향상': 1, '기대': 1, '됩니다': 4, '기승전결이': 1, '뚜렷했으면': 1, '내': 2, '폰트가': 1, '상황마다': 1, '바뀌는데': 1, '통일성이': 1, '없어보이는': 1, '니즈에': 1, '맞춘': 1, '코로나의': 1, '영향으로': 1, '침체된': 1, '소비문화의': 1, '실제와': 1, '같았으면': 1, '하네요': 1, '서비스로': 1, '발전해': 2, '나갔으면': 1, '이달의': 1, '재미': 1, '싹쓰리입니다': 1, '요즘': 1, '온라인에': 1, '재밌는': 1, '영상과': 1, '사진이': 1, '많아서': 1, '읽다보면': 1, '모릅니다': 1, '편을': 1, '보니': 2, '신분을': 1, '감추고': 1, '각': 1, '지점을': 1, '방문하여': 1, '상담을': 1, '받았던': 1, '기억이': 1, '났습니다현장': 1, '컨설턴트의': 1, '애로사항과': 1, '활동사항을': 1, '장난스럽게': 1, '느껴지는': 1, '면이': 1, '캠패인': 1, '이후의': 1, '매출증대는': 1, '이어지는지': 1, '없어서': 2, '괜찮네요': 1, '좋지도': 1, '않네요란': 1, '생각을': 1, '잠시': 1, '잊고': 1, '유투브에': 1, '올려도': 1, '콘텐츠일': 1, '시장에서의': 1, '객관적인': 1, '경쟁력': 1, '수준을': 1, '타사대비': 1, '유사서비스': 1, '대비': 1, '해외동향': 1, '정보가': 1, '좋았을': 2, '같다는': 1, '의견': 1, '드립니다': 1, '자주': 1, '이용해야겠네요': 1, '정량적': 1, '지표가': 1, '기업이미지가': 1, '더더욱': 1, '크게': 1, '부각되어가는': 1, '현실에서': 2, '변화에': 1, '노력이': 1, '필요한것': 1, '어려운': 2, '상황에도': 1, '따듯한': 2, '갖은분들이': 1, '많다는걸': 1, '세삼': 1, '느꼈습니다': 1, '대박': 1, '놀랐습니다': 1, '흥미롭게': 1, '기획하고': 1, '제작하신거': 1, '사업을': 1, '우회하여': 1, '의미를': 1, '만드는': 1, '것은': 1, '현장에': 2, '메시지를': 1, '전달하기': 1, '어려울': 1, '화이팅하세요': 1, '멋진': 1, '분들입니다': 1, '전기': 1, '통신비': 1, '절감': 1, '무료컨설팅을': 1, '통한': 1, '활성화': 1, '방안보기': 1, '서비스가': 1, '나가': 1, '고객들에게': 1, '편리함으로': 1, '다가갔으면': 1, '가진': 1, '데이터의': 1, '강점이': 1, '인터뷰로만': 1, '처리되어': 1, '신뢰성이': 1, '낮아': 1, '점이': 1, '있다': 1, '정신없는': 1, '화면전개': 1, '불편해요': 1, '진행방식이': 1, '미숙한건지': 1, '대본이': 1, '산만한건지': 1, '전체적으로': 2, '정돈될': 1, '보이네요': 1, '딱딱해서': 1, '별로였음': 1, '아침부터': 2, '거칠었던': 1, '같습니다있을': 1, '수도': 2, '내용이지만': 1, '월요일': 1, '싸우는': 1, '목소리가방송을': 1, '전파되어': 1, '한편으론': 1, '빠른': 1, '전개와': 1, '발화에': 1, '정확한': 1, '흐름이': 1, '이상': 1, '일어나지': 1, '않은': 2, '일들인': 1, '보완이': 1, '필요한': 1, '성급한': 1, '결론으로': 1, '비춰지는': 1, '듯한': 1, '남습니다': 1, '방송드라마를': 1, '통해서': 2, '보게되다니': 1, '신기하고': 1, '새롭습니다': 1, '싹쓰리요갓뚜기': 1, '오동통면': 1, '먹어보고이제': 1, '너구리는': 1, '뒷전으로저의': 1, '라면': 1, '됐어요맛있는거': 1, '먹고좋은일도': 1, '하고석조': 1, '주제가': 1, '뭔지': 2, '주제를초반에말해주던지아니면상단에알려주던지하면좋을것같습니다그래야방송을중간에보는사람들도이해가되지않을까싶습니다': 1, '사내방송': 1, '특성상': 1, '이슈화': 1, '되거나': 1, '언급이': 1, '자주되는': 1, '키워드를': 1, '중심으로': 1, '뉴스를': 1, '구성하는': 1, '있으나': 1, '전문용어나': 1, '네이밍이': 1, '빈번하게': 1, '노출이': 1, '주의가': 1, '필요해보입니다': 1, '적용해야': 1, '방법이': 1, '여러': 1, '지점의': 1, '소식을': 2, '모아서': 1, '전달하는': 1, '코너에서': 1, '짧은시간에': 1, '전달하려다': 1, '전달하고자': 1, '사항이': 1, '의문이': 1, '드는': 1, '비유': 1, '프로': 1, '지점에서': 1, '타': 1, '상품들을': 1, '컬래버': 1, '진열할': 1, '때에': 1, '본질과': 1, '연관없는': 1, '상품인': 1, '전문성이나': 1, '측면의': 1, '악영향은': 1, '없는지': 1, '염려가': 2, '활용하여': 1, '이러한': 1, '얼마나': 1, '늘었고': 1, '되었다라고하는': 1, '중요한게': 1, '빠져있어': 1, '되어가네요': 1, '이미': 1, '적극활용되는': 1, '최고입니다': 1, '어떠한': 2, '이익이나': 1, '이점이': 1, '있었는지': 1, '수치화가': 1, '신뢰가': 1, '부족합니다': 1, '진행으로': 1, '지루함을': 1, '느꼈어요': 1, '상품과': 1, '콜라보': 1, '되는지': 1, '이해하기가': 1, '쉽지': 2, '이': 1, '방송을': 1, '해당': 1, '문제를': 1, '여기는': 1, '있을까': 1, '예능대세': 1, '배우송씨가': 1, '신입사원이': 1, '고객발': 1, '자기혁신에': 1, '힘쓰고': 1, '임직원의': 1, '고군분투': 1, '직접': 2, '방문하는': 1, '스토리로': 1, '오늘은': 1, '체험하고': 1, '어려움도': 1, '확인해보는': 1, '좌충우돌': 1, '회사그룹탐방기로': 1, '디지털홈쇼핑': 1, '선두주자': 1, '쇼핑을': 1, '찾은': 1, '좌층우돌': 1, '방송이었네요': 1, '차별화': 1, '점을': 1, '명확히': 1, '다루어졌으면': 1, '같았습니다': 1, '재미는': 1, '있는데': 1, '짧은게': 1, '다음편이': 1, '왔다갔다': 1, '앵글에': 1, '빨리': 1, '지나가서': 1, '알아보기': 1, '힘들어요': 1, '반영': 1, '최근에': 1, '위주의': 1, '콘텐츠들이': 1, '집중해서': 1, '경향이': 1, '생각보다': 1, '감사드립니다': 1, '화면이': 1, '작아': 1, '현실고증': 1, '되어있네요': 1, '매니저의': 1, '리액션에': 1, '빵터지고': 1, '해도': 1, '옆에': 1, '동료가': 1, '제일': 1, '큰': 1, '오늘도': 1, '프로그램을': 1, '배워': 1, '가네요': 1, '길': 1, '와닿네요': 1})\n"
     ]
    }
   ],
   "source": [
    "# 단어별 빈도 수 확인\n",
    "print(tokenizer.word_counts)"
   ]
  },
  {
   "cell_type": "code",
   "execution_count": 72,
   "id": "23a8501f-4db1-42a6-9d52-1eb8b5b12f1e",
   "metadata": {},
   "outputs": [
    {
     "name": "stdout",
     "output_type": "stream",
     "text": [
      "1418\n"
     ]
    }
   ],
   "source": [
    "# 총 단어 개수: 1418\n",
    "max_words = len(tokenizer.index_word)\n",
    "print(max_words)"
   ]
  },
  {
   "cell_type": "markdown",
   "id": "b242dfae-5bc5-4e68-b8b7-dd7885b0e5af",
   "metadata": {},
   "source": [
    "### 10. texts_to_sequences: 문장을 숫자로 나열"
   ]
  },
  {
   "cell_type": "code",
   "execution_count": 74,
   "id": "030a048a-5bd8-4747-bc31-dc9c11c5b852",
   "metadata": {},
   "outputs": [],
   "source": [
    "# 문장을 숫자로 나열\n",
    "x_train_seq = tokenizer.texts_to_sequences(x_train)\n",
    "x_test_seq = tokenizer.texts_to_sequences(x_test)"
   ]
  },
  {
   "cell_type": "code",
   "execution_count": 75,
   "id": "b7bf74a5-0340-4a77-a35e-cfe19c9c69cd",
   "metadata": {},
   "outputs": [
    {
     "name": "stdout",
     "output_type": "stream",
     "text": [
      "199 50\n"
     ]
    }
   ],
   "source": [
    "print(len(x_train_seq), len(x_test_seq))"
   ]
  },
  {
   "cell_type": "code",
   "execution_count": 76,
   "id": "c2a5355c-fe50-4554-87c0-53352a01ee7b",
   "metadata": {},
   "outputs": [
    {
     "name": "stdout",
     "output_type": "stream",
     "text": [
      "['매 방송마다 신선한 아이디어가 많이 도출되는 것 같아요' '아직은 들이 미숙해보이네요 어색한 말이 많이 들려요']\n",
      "[[311, 312, 67, 313, 17, 314, 3, 7], [315, 133, 316, 317, 134, 17, 318]]\n"
     ]
    }
   ],
   "source": [
    "print(x_train[1:3])\n",
    "print(x_train_seq[1:3])"
   ]
  },
  {
   "cell_type": "markdown",
   "id": "d3921dc5-c9ce-4f85-8460-8f9996604e6a",
   "metadata": {},
   "source": [
    "### 11. Padding Sequence"
   ]
  },
  {
   "cell_type": "code",
   "execution_count": 87,
   "id": "6af13a30-e12c-455d-afe7-9a9aa970748b",
   "metadata": {},
   "outputs": [
    {
     "data": {
      "text/plain": [
       "36"
      ]
     },
     "execution_count": 87,
     "metadata": {},
     "output_type": "execute_result"
    }
   ],
   "source": [
    "# 문장의 최대 길이 파악\n",
    "max(len(line) for line in x_train_seq)"
   ]
  },
  {
   "cell_type": "code",
   "execution_count": 89,
   "id": "8b40746e-0209-4de7-9c22-718c8b786f24",
   "metadata": {},
   "outputs": [],
   "source": [
    "# 모든 문장을 최대 문장 길이 36에 맞춘다\n",
    "x_train_pad = pad_sequences(x_train_seq, maxlen = 36)\n",
    "x_test_pad = pad_sequences(x_test_seq, maxlen = 36)"
   ]
  },
  {
   "cell_type": "code",
   "execution_count": 91,
   "id": "ab95210c-73a0-43cd-9c9a-e21879d5f4c8",
   "metadata": {},
   "outputs": [
    {
     "data": {
      "text/plain": [
       "array([[  0,   0,   0,   0,   0,   0,  64, 299, 300, 301, 302, 303,  17,\n",
       "        304,  20, 305, 306, 307, 308, 123,  65, 124, 125, 126, 127, 128,\n",
       "        129,  27,  66, 130, 131, 132, 309, 310,  40,  12]], dtype=int32)"
      ]
     },
     "execution_count": 91,
     "metadata": {},
     "output_type": "execute_result"
    }
   ],
   "source": [
    "x_train_pad[:1]"
   ]
  },
  {
   "cell_type": "code",
   "execution_count": 93,
   "id": "f318952b-5019-4172-8d18-bedf4b424edc",
   "metadata": {},
   "outputs": [
    {
     "data": {
      "text/plain": [
       "((199, 36), (50, 36))"
      ]
     },
     "execution_count": 93,
     "metadata": {},
     "output_type": "execute_result"
    }
   ],
   "source": [
    "x_train_pad.shape, x_test_pad.shape"
   ]
  },
  {
   "cell_type": "markdown",
   "id": "ea561757-30bc-4d8f-96f5-2e32164fea25",
   "metadata": {},
   "source": [
    "### 12. 모델링"
   ]
  },
  {
   "cell_type": "code",
   "execution_count": 96,
   "id": "95ad584a-bec9-421a-82e1-fde31287fe19",
   "metadata": {},
   "outputs": [],
   "source": [
    "from tensorflow.keras.layers import Dense, Flatten, Conv1D, MaxPool2D\n",
    "from tensorflow.keras.layers import Embedding, Bidirectional, LSTM, SimpleRNN, GRU\n",
    "from tensorflow.keras.models import Sequential\n",
    "from tensorflow.keras.callbacks import EarlyStopping, ModelCheckpoint"
   ]
  },
  {
   "cell_type": "code",
   "execution_count": 98,
   "id": "29c2ee3c-7b8c-44de-b96e-b3833738551d",
   "metadata": {},
   "outputs": [],
   "source": [
    "max_words = 1418 + 1 # 총 단어 개수 + padding 0 번호\n",
    "max_len = 36 # 최대 문장 길이\n",
    "embedding_dim = 32"
   ]
  },
  {
   "cell_type": "code",
   "execution_count": 100,
   "id": "4bfea2dc-5c44-46c1-8a61-b46fc9f85089",
   "metadata": {},
   "outputs": [],
   "source": [
    "# 모델 선언\n",
    "model = Sequential()"
   ]
  },
  {
   "cell_type": "code",
   "execution_count": 102,
   "id": "c7fb5481-aef2-481d-a387-52dfa52c62fa",
   "metadata": {},
   "outputs": [
    {
     "name": "stderr",
     "output_type": "stream",
     "text": [
      "/Users/shinjoohwan/miniconda3/lib/python3.12/site-packages/keras/src/layers/core/embedding.py:97: UserWarning: Argument `input_length` is deprecated. Just remove it.\n",
      "  warnings.warn(\n"
     ]
    }
   ],
   "source": [
    "# 단어를 의미 있는 32차원으로 Vector 변경\n",
    "model.add(Embedding(input_dim = max_words, output_dim = embedding_dim, input_length = max_len))"
   ]
  },
  {
   "cell_type": "code",
   "execution_count": 104,
   "id": "8c0d34ea-826c-4028-9aa8-f626cde89c6d",
   "metadata": {},
   "outputs": [
    {
     "data": {
      "text/html": [
       "<pre style=\"white-space:pre;overflow-x:auto;line-height:normal;font-family:Menlo,'DejaVu Sans Mono',consolas,'Courier New',monospace\"><span style=\"font-weight: bold\">Model: \"sequential\"</span>\n",
       "</pre>\n"
      ],
      "text/plain": [
       "\u001b[1mModel: \"sequential\"\u001b[0m\n"
      ]
     },
     "metadata": {},
     "output_type": "display_data"
    },
    {
     "data": {
      "text/html": [
       "<pre style=\"white-space:pre;overflow-x:auto;line-height:normal;font-family:Menlo,'DejaVu Sans Mono',consolas,'Courier New',monospace\">┏━━━━━━━━━━━━━━━━━━━━━━━━━━━━━━━━━┳━━━━━━━━━━━━━━━━━━━━━━━━┳━━━━━━━━━━━━━━━┓\n",
       "┃<span style=\"font-weight: bold\"> Layer (type)                    </span>┃<span style=\"font-weight: bold\"> Output Shape           </span>┃<span style=\"font-weight: bold\">       Param # </span>┃\n",
       "┡━━━━━━━━━━━━━━━━━━━━━━━━━━━━━━━━━╇━━━━━━━━━━━━━━━━━━━━━━━━╇━━━━━━━━━━━━━━━┩\n",
       "│ embedding (<span style=\"color: #0087ff; text-decoration-color: #0087ff\">Embedding</span>)           │ ?                      │   <span style=\"color: #00af00; text-decoration-color: #00af00\">0</span> (unbuilt) │\n",
       "├─────────────────────────────────┼────────────────────────┼───────────────┤\n",
       "│ lstm (<span style=\"color: #0087ff; text-decoration-color: #0087ff\">LSTM</span>)                     │ ?                      │   <span style=\"color: #00af00; text-decoration-color: #00af00\">0</span> (unbuilt) │\n",
       "├─────────────────────────────────┼────────────────────────┼───────────────┤\n",
       "│ flatten (<span style=\"color: #0087ff; text-decoration-color: #0087ff\">Flatten</span>)               │ ?                      │   <span style=\"color: #00af00; text-decoration-color: #00af00\">0</span> (unbuilt) │\n",
       "├─────────────────────────────────┼────────────────────────┼───────────────┤\n",
       "│ dense (<span style=\"color: #0087ff; text-decoration-color: #0087ff\">Dense</span>)                   │ ?                      │   <span style=\"color: #00af00; text-decoration-color: #00af00\">0</span> (unbuilt) │\n",
       "├─────────────────────────────────┼────────────────────────┼───────────────┤\n",
       "│ dense_1 (<span style=\"color: #0087ff; text-decoration-color: #0087ff\">Dense</span>)                 │ ?                      │   <span style=\"color: #00af00; text-decoration-color: #00af00\">0</span> (unbuilt) │\n",
       "├─────────────────────────────────┼────────────────────────┼───────────────┤\n",
       "│ dense_2 (<span style=\"color: #0087ff; text-decoration-color: #0087ff\">Dense</span>)                 │ ?                      │   <span style=\"color: #00af00; text-decoration-color: #00af00\">0</span> (unbuilt) │\n",
       "└─────────────────────────────────┴────────────────────────┴───────────────┘\n",
       "</pre>\n"
      ],
      "text/plain": [
       "┏━━━━━━━━━━━━━━━━━━━━━━━━━━━━━━━━━┳━━━━━━━━━━━━━━━━━━━━━━━━┳━━━━━━━━━━━━━━━┓\n",
       "┃\u001b[1m \u001b[0m\u001b[1mLayer (type)                   \u001b[0m\u001b[1m \u001b[0m┃\u001b[1m \u001b[0m\u001b[1mOutput Shape          \u001b[0m\u001b[1m \u001b[0m┃\u001b[1m \u001b[0m\u001b[1m      Param #\u001b[0m\u001b[1m \u001b[0m┃\n",
       "┡━━━━━━━━━━━━━━━━━━━━━━━━━━━━━━━━━╇━━━━━━━━━━━━━━━━━━━━━━━━╇━━━━━━━━━━━━━━━┩\n",
       "│ embedding (\u001b[38;5;33mEmbedding\u001b[0m)           │ ?                      │   \u001b[38;5;34m0\u001b[0m (unbuilt) │\n",
       "├─────────────────────────────────┼────────────────────────┼───────────────┤\n",
       "│ lstm (\u001b[38;5;33mLSTM\u001b[0m)                     │ ?                      │   \u001b[38;5;34m0\u001b[0m (unbuilt) │\n",
       "├─────────────────────────────────┼────────────────────────┼───────────────┤\n",
       "│ flatten (\u001b[38;5;33mFlatten\u001b[0m)               │ ?                      │   \u001b[38;5;34m0\u001b[0m (unbuilt) │\n",
       "├─────────────────────────────────┼────────────────────────┼───────────────┤\n",
       "│ dense (\u001b[38;5;33mDense\u001b[0m)                   │ ?                      │   \u001b[38;5;34m0\u001b[0m (unbuilt) │\n",
       "├─────────────────────────────────┼────────────────────────┼───────────────┤\n",
       "│ dense_1 (\u001b[38;5;33mDense\u001b[0m)                 │ ?                      │   \u001b[38;5;34m0\u001b[0m (unbuilt) │\n",
       "├─────────────────────────────────┼────────────────────────┼───────────────┤\n",
       "│ dense_2 (\u001b[38;5;33mDense\u001b[0m)                 │ ?                      │   \u001b[38;5;34m0\u001b[0m (unbuilt) │\n",
       "└─────────────────────────────────┴────────────────────────┴───────────────┘\n"
      ]
     },
     "metadata": {},
     "output_type": "display_data"
    },
    {
     "data": {
      "text/html": [
       "<pre style=\"white-space:pre;overflow-x:auto;line-height:normal;font-family:Menlo,'DejaVu Sans Mono',consolas,'Courier New',monospace\"><span style=\"font-weight: bold\"> Total params: </span><span style=\"color: #00af00; text-decoration-color: #00af00\">0</span> (0.00 B)\n",
       "</pre>\n"
      ],
      "text/plain": [
       "\u001b[1m Total params: \u001b[0m\u001b[38;5;34m0\u001b[0m (0.00 B)\n"
      ]
     },
     "metadata": {},
     "output_type": "display_data"
    },
    {
     "data": {
      "text/html": [
       "<pre style=\"white-space:pre;overflow-x:auto;line-height:normal;font-family:Menlo,'DejaVu Sans Mono',consolas,'Courier New',monospace\"><span style=\"font-weight: bold\"> Trainable params: </span><span style=\"color: #00af00; text-decoration-color: #00af00\">0</span> (0.00 B)\n",
       "</pre>\n"
      ],
      "text/plain": [
       "\u001b[1m Trainable params: \u001b[0m\u001b[38;5;34m0\u001b[0m (0.00 B)\n"
      ]
     },
     "metadata": {},
     "output_type": "display_data"
    },
    {
     "data": {
      "text/html": [
       "<pre style=\"white-space:pre;overflow-x:auto;line-height:normal;font-family:Menlo,'DejaVu Sans Mono',consolas,'Courier New',monospace\"><span style=\"font-weight: bold\"> Non-trainable params: </span><span style=\"color: #00af00; text-decoration-color: #00af00\">0</span> (0.00 B)\n",
       "</pre>\n"
      ],
      "text/plain": [
       "\u001b[1m Non-trainable params: \u001b[0m\u001b[38;5;34m0\u001b[0m (0.00 B)\n"
      ]
     },
     "metadata": {},
     "output_type": "display_data"
    }
   ],
   "source": [
    "model.add(LSTM(16, return_sequences=True))\n",
    "model.add(Flatten())\n",
    "model.add(Dense(128, activation = 'swish'))\n",
    "model.add(Dense(32, activation = 'swish'))\n",
    "model.add(Dense(2, activation = 'softmax'))\n",
    "\n",
    "model.compile(loss = 'sparse_categorical_crossentropy',\n",
    "             optimizer = 'adam',\n",
    "             metrics = ['accuracy'])\n",
    "model.summary()"
   ]
  },
  {
   "cell_type": "code",
   "execution_count": 106,
   "id": "f9b7df6b-3700-4839-8d04-d46111858ad5",
   "metadata": {},
   "outputs": [],
   "source": [
    "# 조기종료 콜백 함수 정의\n",
    "es = EarlyStopping(monitor='val_loss', patience = 10, verbose =1)\n",
    "\n",
    "# 체크포인트 저장\n",
    "checkpoint_path = 'tmp_checkpoint.weights.h5'\n",
    "cp = ModelCheckpoint(checkpoint_path, save_weights_only = True, monitor = 'val_loss',\n",
    "                    verbose = 1, save_best_only = True)"
   ]
  },
  {
   "cell_type": "code",
   "execution_count": 108,
   "id": "f920ca7a-2fb4-409c-9f02-4a749f42e232",
   "metadata": {
    "scrolled": true
   },
   "outputs": [
    {
     "name": "stdout",
     "output_type": "stream",
     "text": [
      "Epoch 1/50\n",
      "\u001b[1m1/1\u001b[0m \u001b[32m━━━━━━━━━━━━━━━━━━━━\u001b[0m\u001b[37m\u001b[0m \u001b[1m0s\u001b[0m 844ms/step - accuracy: 0.5723 - loss: 0.6919\n",
      "Epoch 1: val_loss improved from inf to 0.69299, saving model to tmp_checkpoint.weights.h5\n",
      "\u001b[1m1/1\u001b[0m \u001b[32m━━━━━━━━━━━━━━━━━━━━\u001b[0m\u001b[37m\u001b[0m \u001b[1m1s\u001b[0m 978ms/step - accuracy: 0.5723 - loss: 0.6919 - val_accuracy: 0.5250 - val_loss: 0.6930\n",
      "Epoch 2/50\n",
      "\u001b[1m1/1\u001b[0m \u001b[32m━━━━━━━━━━━━━━━━━━━━\u001b[0m\u001b[37m\u001b[0m \u001b[1m0s\u001b[0m 12ms/step - accuracy: 0.5849 - loss: 0.6892\n",
      "Epoch 2: val_loss did not improve from 0.69299\n",
      "\u001b[1m1/1\u001b[0m \u001b[32m━━━━━━━━━━━━━━━━━━━━\u001b[0m\u001b[37m\u001b[0m \u001b[1m0s\u001b[0m 31ms/step - accuracy: 0.5849 - loss: 0.6892 - val_accuracy: 0.5250 - val_loss: 0.6933\n",
      "Epoch 3/50\n",
      "\u001b[1m1/1\u001b[0m \u001b[32m━━━━━━━━━━━━━━━━━━━━\u001b[0m\u001b[37m\u001b[0m \u001b[1m0s\u001b[0m 14ms/step - accuracy: 0.5912 - loss: 0.6859\n",
      "Epoch 3: val_loss did not improve from 0.69299\n",
      "\u001b[1m1/1\u001b[0m \u001b[32m━━━━━━━━━━━━━━━━━━━━\u001b[0m\u001b[37m\u001b[0m \u001b[1m0s\u001b[0m 34ms/step - accuracy: 0.5912 - loss: 0.6859 - val_accuracy: 0.5250 - val_loss: 0.6944\n",
      "Epoch 4/50\n",
      "\u001b[1m1/1\u001b[0m \u001b[32m━━━━━━━━━━━━━━━━━━━━\u001b[0m\u001b[37m\u001b[0m \u001b[1m0s\u001b[0m 12ms/step - accuracy: 0.5912 - loss: 0.6815\n",
      "Epoch 4: val_loss did not improve from 0.69299\n",
      "\u001b[1m1/1\u001b[0m \u001b[32m━━━━━━━━━━━━━━━━━━━━\u001b[0m\u001b[37m\u001b[0m \u001b[1m0s\u001b[0m 32ms/step - accuracy: 0.5912 - loss: 0.6815 - val_accuracy: 0.5250 - val_loss: 0.6961\n",
      "Epoch 5/50\n",
      "\u001b[1m1/1\u001b[0m \u001b[32m━━━━━━━━━━━━━━━━━━━━\u001b[0m\u001b[37m\u001b[0m \u001b[1m0s\u001b[0m 14ms/step - accuracy: 0.5975 - loss: 0.6758\n",
      "Epoch 5: val_loss did not improve from 0.69299\n",
      "\u001b[1m1/1\u001b[0m \u001b[32m━━━━━━━━━━━━━━━━━━━━\u001b[0m\u001b[37m\u001b[0m \u001b[1m0s\u001b[0m 34ms/step - accuracy: 0.5975 - loss: 0.6758 - val_accuracy: 0.5250 - val_loss: 0.6984\n",
      "Epoch 6/50\n",
      "\u001b[1m1/1\u001b[0m \u001b[32m━━━━━━━━━━━━━━━━━━━━\u001b[0m\u001b[37m\u001b[0m \u001b[1m0s\u001b[0m 15ms/step - accuracy: 0.6038 - loss: 0.6689\n",
      "Epoch 6: val_loss did not improve from 0.69299\n",
      "\u001b[1m1/1\u001b[0m \u001b[32m━━━━━━━━━━━━━━━━━━━━\u001b[0m\u001b[37m\u001b[0m \u001b[1m0s\u001b[0m 39ms/step - accuracy: 0.6038 - loss: 0.6689 - val_accuracy: 0.5250 - val_loss: 0.7013\n",
      "Epoch 7/50\n",
      "\u001b[1m1/1\u001b[0m \u001b[32m━━━━━━━━━━━━━━━━━━━━\u001b[0m\u001b[37m\u001b[0m \u001b[1m0s\u001b[0m 20ms/step - accuracy: 0.6101 - loss: 0.6603\n",
      "Epoch 7: val_loss did not improve from 0.69299\n",
      "\u001b[1m1/1\u001b[0m \u001b[32m━━━━━━━━━━━━━━━━━━━━\u001b[0m\u001b[37m\u001b[0m \u001b[1m0s\u001b[0m 41ms/step - accuracy: 0.6101 - loss: 0.6603 - val_accuracy: 0.5000 - val_loss: 0.7047\n",
      "Epoch 8/50\n",
      "\u001b[1m1/1\u001b[0m \u001b[32m━━━━━━━━━━━━━━━━━━━━\u001b[0m\u001b[37m\u001b[0m \u001b[1m0s\u001b[0m 12ms/step - accuracy: 0.6289 - loss: 0.6502\n",
      "Epoch 8: val_loss did not improve from 0.69299\n",
      "\u001b[1m1/1\u001b[0m \u001b[32m━━━━━━━━━━━━━━━━━━━━\u001b[0m\u001b[37m\u001b[0m \u001b[1m0s\u001b[0m 33ms/step - accuracy: 0.6289 - loss: 0.6502 - val_accuracy: 0.5000 - val_loss: 0.7087\n",
      "Epoch 9/50\n",
      "\u001b[1m1/1\u001b[0m \u001b[32m━━━━━━━━━━━━━━━━━━━━\u001b[0m\u001b[37m\u001b[0m \u001b[1m0s\u001b[0m 15ms/step - accuracy: 0.6541 - loss: 0.6383\n",
      "Epoch 9: val_loss did not improve from 0.69299\n",
      "\u001b[1m1/1\u001b[0m \u001b[32m━━━━━━━━━━━━━━━━━━━━\u001b[0m\u001b[37m\u001b[0m \u001b[1m0s\u001b[0m 33ms/step - accuracy: 0.6541 - loss: 0.6383 - val_accuracy: 0.5000 - val_loss: 0.7134\n",
      "Epoch 10/50\n",
      "\u001b[1m1/1\u001b[0m \u001b[32m━━━━━━━━━━━━━━━━━━━━\u001b[0m\u001b[37m\u001b[0m \u001b[1m0s\u001b[0m 15ms/step - accuracy: 0.6604 - loss: 0.6247\n",
      "Epoch 10: val_loss did not improve from 0.69299\n",
      "\u001b[1m1/1\u001b[0m \u001b[32m━━━━━━━━━━━━━━━━━━━━\u001b[0m\u001b[37m\u001b[0m \u001b[1m0s\u001b[0m 35ms/step - accuracy: 0.6604 - loss: 0.6247 - val_accuracy: 0.5000 - val_loss: 0.7190\n",
      "Epoch 11/50\n",
      "\u001b[1m1/1\u001b[0m \u001b[32m━━━━━━━━━━━━━━━━━━━━\u001b[0m\u001b[37m\u001b[0m \u001b[1m0s\u001b[0m 14ms/step - accuracy: 0.6604 - loss: 0.6091\n",
      "Epoch 11: val_loss did not improve from 0.69299\n",
      "\u001b[1m1/1\u001b[0m \u001b[32m━━━━━━━━━━━━━━━━━━━━\u001b[0m\u001b[37m\u001b[0m \u001b[1m0s\u001b[0m 35ms/step - accuracy: 0.6604 - loss: 0.6091 - val_accuracy: 0.5000 - val_loss: 0.7255\n",
      "Epoch 11: early stopping\n",
      "CPU times: user 1.1 s, sys: 181 ms, total: 1.28 s\n",
      "Wall time: 1.36 s\n"
     ]
    }
   ],
   "source": [
    "%%time\n",
    "history = model.fit(x_train_pad, y_train, epochs = 50, batch_size = 512,\n",
    "                   validation_split = 0.2, verbose = 1, callbacks = [es, cp])"
   ]
  },
  {
   "cell_type": "code",
   "execution_count": 110,
   "id": "7f7b6e4e-f0f0-4619-8f53-42ec76071174",
   "metadata": {},
   "outputs": [
    {
     "data": {
      "image/png": "[encoded data removed]",
      "text/plain": [
       "<Figure size 640x480 with 1 Axes>"
      ]
     },
     "metadata": {},
     "output_type": "display_data"
    }
   ],
   "source": [
    "epochs = range(1, len(history.history['accuracy']) + 1)\n",
    "plt.plot(epochs, history.history['accuracy'])\n",
    "plt.plot(epochs, history.history['val_accuracy'])\n",
    "plt.title('model accuracy')\n",
    "plt.ylabel('loss')\n",
    "plt.xlabel('epoch')\n",
    "plt.legend(['train', 'valid'])\n",
    "plt.show()"
   ]
  },
  {
   "cell_type": "code",
   "execution_count": 112,
   "id": "6a62ab04-3ec1-4c7f-bb71-ea5042175d1a",
   "metadata": {},
   "outputs": [
    {
     "name": "stdout",
     "output_type": "stream",
     "text": [
      "\u001b[1m2/2\u001b[0m \u001b[32m━━━━━━━━━━━━━━━━━━━━\u001b[0m\u001b[37m\u001b[0m \u001b[1m0s\u001b[0m 27ms/step - accuracy: 0.5371 - loss: 0.6811 \n"
     ]
    },
    {
     "data": {
      "text/plain": [
       "[0.681753396987915, 0.5400000214576721]"
      ]
     },
     "execution_count": 112,
     "metadata": {},
     "output_type": "execute_result"
    }
   ],
   "source": [
    "model.evaluate(x_test_pad, y_test)"
   ]
  },
  {
   "cell_type": "markdown",
   "id": "1948244d-6e18-4888-a137-d975d3c894f4",
   "metadata": {},
   "source": [
    "### 예측해보기"
   ]
  },
  {
   "cell_type": "code",
   "execution_count": 115,
   "id": "5ab303db-d740-4737-a127-de8899f46d3e",
   "metadata": {},
   "outputs": [
    {
     "name": "stdout",
     "output_type": "stream",
     "text": [
      "문자열: 관련 내용은 우리 직원과는 거리가 멀었음 특히 사내에 홍보할 내용은 아니라고 봄\n",
      "Sequence: [  0   0   0   0   0   0   0   0   0   0   0   0   0   0   0   0   0   0\n",
      "   0   0   0   0   0   0   0   0   0   0   0   0   0   0 481 137   1 137]\n"
     ]
    }
   ],
   "source": [
    "print(f'문자열: {x_test[0]}')\n",
    "print(f'Sequence: {x_test_pad[0]}')"
   ]
  },
  {
   "cell_type": "code",
   "execution_count": 119,
   "id": "28a3c3ed-a18e-4d38-80e8-6acce192551c",
   "metadata": {},
   "outputs": [
    {
     "name": "stdout",
     "output_type": "stream",
     "text": [
      "\u001b[1m1/1\u001b[0m \u001b[32m━━━━━━━━━━━━━━━━━━━━\u001b[0m\u001b[37m\u001b[0m \u001b[1m0s\u001b[0m 311ms/step\n"
     ]
    }
   ],
   "source": [
    "predict = model.predict(x_test_pad[:1])"
   ]
  },
  {
   "cell_type": "code",
   "execution_count": 120,
   "id": "005a2498-ab67-4194-b2bb-3d682a3a464a",
   "metadata": {},
   "outputs": [
    {
     "name": "stdout",
     "output_type": "stream",
     "text": [
      "True: 부정\n",
      "Predict: 부정\n"
     ]
    }
   ],
   "source": [
    "print(f'True: {class2label[y_test[0]]}')\n",
    "print(f'Predict: {class2label[np.argmax(predict)]}')"
   ]
  },
  {
   "cell_type": "code",
   "execution_count": null,
   "id": "f84b4fdc-37d2-4beb-b3f1-727eb1b3544d",
   "metadata": {},
   "outputs": [],
   "source": []
  },
  {
   "cell_type": "code",
   "execution_count": null,
   "id": "18da661a-d7d6-4bb7-884e-5defe62003ae",
   "metadata": {},
   "outputs": [],
   "source": []
  }
 ],
 "metadata": {
  "kernelspec": {
   "display_name": "Python [conda env:base]",
   "language": "python",
   "name": "conda-base-py"
  },
  "language_info": {
   "codemirror_mode": {
    "name": "ipython",
    "version": 3
   },
   "file_extension": ".py",
   "mimetype": "text/x-python",
   "name": "python",
   "nbconvert_exporter": "python",
   "pygments_lexer": "ipython3",
   "version": "3.12.7"
  }
 },
 "nbformat": 4,
 "nbformat_minor": 5
}
