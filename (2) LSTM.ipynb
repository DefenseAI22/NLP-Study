{
 "cells": [
  {
   "cell_type": "markdown",
   "id": "2f9e1b92-9524-45cf-919f-556fc928c4cb",
   "metadata": {},
   "source": [
    "# 5.  자연어 처리 (5) 언어 모델(LSTM)\n",
    "- 언어 모델\n",
    "    - 이전 단어들로 그 다음에 등장할 단어의 확률을 예측하는 방식으로 학습(이전 state로 미래 state를 예측)\n",
    "    - 다음의 등장할 단어를 잘 예측하는 모델은 그 언어의 특성이 잘 반영된 모델이자, 문맥을 잘 계산하는 좋은 언어 모델"
   ]
  },
  {
   "cell_type": "markdown",
   "id": "f58d4b1a-e95c-4972-bce0-94ea6cbdbb6c",
   "metadata": {},
   "source": [
    "RNN 언어 모델을 이용한 Application\n",
    "- 마지막 출력은 앞선 단어들의 '문맥'을 고려해서 만들어진 최종 출력 벡터: Context 벡터\n",
    "- 출력된 context 벡터 값에 대해 classification layer를 붙이면 문장 분류 모델\n",
    "\n",
    "LSTM: Cell state 이용하여 불필요한 기억을 지우고, 기억해야 할 것들을 기억하도록 함\n",
    "\n",
    "Seq2Seq: 인코더 + 디코더 구성\n",
    "- Encoder layer: RNN 구조를 통해 Context Vector를 획득\n",
    "- Decoder layer: 획득된 Context Vector를 입력으로 받아 다음 출력 예측\n",
    "- 문제점\n",
    "    - 입력 Sequenced의 길이가 매우 긴 경우, 처음에 나온 token에 대한 정보가 희석\n",
    "    - 고정된 context vector 사이즈로 인해 긴 sequence에 대한 정보를 함축하기 어려움"
   ]
  },
  {
   "cell_type": "markdown",
   "id": "59fda355-8f4d-488d-bdf9-7ea813bdaeb9",
   "metadata": {},
   "source": [
    "[자연어 처리 모델링 Flow]\n",
    "1. 전처리: 중복, Null, 한글 이외 숫자, 특수문자 제거 여부\n",
    "2. 한글 KoNLPy의 Mecab, Okt 통한 형태소 분석 및 불용어 처리\n",
    "3. Tokenizer: 단어를 숫자 변경(단어 사전 만들기)\n",
    "4. Vocab 크기 결정(vocab_size): 전체 단어 중 빈도수 2 이하인 단어 제거 결정\n",
    "5. 한 문장의 최대 길이 결정(max_len)\n",
    "6. 패딩(Padding)\n",
    "7. Embedding Output 크기 결정(output_dim)\n",
    "8. RNN, LSTM, GRU 모델 설계 + DNN"
   ]
  },
  {
   "cell_type": "markdown",
   "id": "911d4cca-7615-43da-aef9-60665fd83c41",
   "metadata": {},
   "source": [
    "#### A 방송사 댓글 감성 분류\n",
    "- A 방송사 댓글 데이터를 전처리하고, keras 토크나이저를 활용하여 토큰화하고 일정 크기의 문장으로 맞추기 위해 패딩한다.\n",
    "- Embedding layer를 이용해서 단어를 n차원 밀집벡터를 만들고 train 시에 학습되도록 한다\n",
    "- LSTM 언어 모델과 DNN 합쳐서 감성 분류를 수행한다.\n",
    "\n",
    "[자연어 처리 순서]\n",
    "토크나이저(단어를 숫자 매핑, 단어 사전 만들기) -> 문장을 숫자 나열(texts_to_sequences) -> 문장 길이 맞게 Padding\n",
    "-> Embedding(단어를 의미 있는 밀집 Vector 표현) -> 모델링\n",
    "\n",
    "[실습 처리 순서]\n",
    "1. 라이브러리 임포트\n",
    "2. 파일 읽어오기\n",
    "3. 특수 문자 제거: 한글, 특수문자 제거\n",
    "4. 전처리: Null, 중복 제거\n",
    "5. Label(정답) 분포 확인\n",
    "6. Label 숫자로 인코딩\n",
    "7. X, Y 분리\n",
    "8. train_set와 test_set 분리\n",
    "9. 전체 문장에 대해 Tokenizing\n",
    "10. texts_to_sequences: 문장을 숫자로 나열\n",
    "11. padding sequence\n",
    "12. Modeling: Embedding, LSTM"
   ]
  },
  {
   "cell_type": "markdown",
   "id": "a15d9c03-e835-4989-9562-9406edefcec5",
   "metadata": {},
   "source": [
    "### 1. 라이브러리 import"
   ]
  },
  {
   "cell_type": "code",
   "execution_count": 10,
   "id": "3ba9abae-8474-4608-b162-e836b89ff08f",
   "metadata": {},
   "outputs": [
    {
     "name": "stdout",
     "output_type": "stream",
     "text": [
      "Requirement already satisfied: openpyxl in /Users/shinjoohwan/miniconda3/lib/python3.12/site-packages (3.1.5)\n",
      "Requirement already satisfied: et-xmlfile in /Users/shinjoohwan/miniconda3/lib/python3.12/site-packages (from openpyxl) (2.0.0)\n"
     ]
    }
   ],
   "source": [
    "!pip install openpyxl\n",
    "\n",
    "import numpy as np\n",
    "import pandas as pd"
   ]
  },
  {
   "cell_type": "markdown",
   "id": "7fd0f460-b447-4417-9167-6d7f88993faa",
   "metadata": {},
   "source": [
    "### 2. 파일 읽어오기"
   ]
  },
  {
   "cell_type": "code",
   "execution_count": 13,
   "id": "bb4fd53d-7b4f-4fe0-a534-0383166431b7",
   "metadata": {},
   "outputs": [],
   "source": [
    "final_data = pd.read_excel(\"https://github.com/gzone2000/TEMP_TEST/raw/master/A_comment_train.xlsx\", engine = 'openpyxl' )"
   ]
  },
  {
   "cell_type": "code",
   "execution_count": 15,
   "id": "9467e806-38c5-4482-9c73-3887d33d758a",
   "metadata": {},
   "outputs": [
    {
     "data": {
      "text/html": [
       "<div>\n",
       "<style scoped>\n",
       "    .dataframe tbody tr th:only-of-type {\n",
       "        vertical-align: middle;\n",
       "    }\n",
       "\n",
       "    .dataframe tbody tr th {\n",
       "        vertical-align: top;\n",
       "    }\n",
       "\n",
       "    .dataframe thead th {\n",
       "        text-align: right;\n",
       "    }\n",
       "</style>\n",
       "<table border=\"1\" class=\"dataframe\">\n",
       "  <thead>\n",
       "    <tr style=\"text-align: right;\">\n",
       "      <th></th>\n",
       "      <th>Unnamed: 0</th>\n",
       "      <th>data</th>\n",
       "      <th>label</th>\n",
       "    </tr>\n",
       "  </thead>\n",
       "  <tbody>\n",
       "    <tr>\n",
       "      <th>0</th>\n",
       "      <td>0</td>\n",
       "      <td>재미는 있는데 시간이 짧은게 아쉽네요~</td>\n",
       "      <td>긍정</td>\n",
       "    </tr>\n",
       "    <tr>\n",
       "      <th>1</th>\n",
       "      <td>1</td>\n",
       "      <td>OO 관련 내용은 우리 직원과는 거리가 멀었음, 특히, 사내에 홍보할 내용은 아니라고 봄</td>\n",
       "      <td>부정</td>\n",
       "    </tr>\n",
       "    <tr>\n",
       "      <th>2</th>\n",
       "      <td>2</td>\n",
       "      <td>스토리가 너무 딱딱해서 별로였음</td>\n",
       "      <td>부정</td>\n",
       "    </tr>\n",
       "    <tr>\n",
       "      <th>3</th>\n",
       "      <td>3</td>\n",
       "      <td>프로그램A 화이팅하세요!!</td>\n",
       "      <td>긍정</td>\n",
       "    </tr>\n",
       "    <tr>\n",
       "      <th>4</th>\n",
       "      <td>4</td>\n",
       "      <td>높은 곳에 올라가는 모습이 너무 위험해 보여요.</td>\n",
       "      <td>부정</td>\n",
       "    </tr>\n",
       "  </tbody>\n",
       "</table>\n",
       "</div>"
      ],
      "text/plain": [
       "   Unnamed: 0                                               data label\n",
       "0           0                              재미는 있는데 시간이 짧은게 아쉽네요~    긍정\n",
       "1           1  OO 관련 내용은 우리 직원과는 거리가 멀었음, 특히, 사내에 홍보할 내용은 아니라고 봄    부정\n",
       "2           2                                  스토리가 너무 딱딱해서 별로였음    부정\n",
       "3           3                                     프로그램A 화이팅하세요!!    긍정\n",
       "4           4                         높은 곳에 올라가는 모습이 너무 위험해 보여요.    부정"
      ]
     },
     "execution_count": 15,
     "metadata": {},
     "output_type": "execute_result"
    }
   ],
   "source": [
    "final_data.head()"
   ]
  },
  {
   "cell_type": "code",
   "execution_count": 17,
   "id": "7ed8657e-3e38-4f32-9485-2f246f046d53",
   "metadata": {},
   "outputs": [
    {
     "name": "stdout",
     "output_type": "stream",
     "text": [
      "<class 'pandas.core.frame.DataFrame'>\n",
      "RangeIndex: 251 entries, 0 to 250\n",
      "Data columns (total 3 columns):\n",
      " #   Column      Non-Null Count  Dtype \n",
      "---  ------      --------------  ----- \n",
      " 0   Unnamed: 0  251 non-null    int64 \n",
      " 1   data        251 non-null    object\n",
      " 2   label       251 non-null    object\n",
      "dtypes: int64(1), object(2)\n",
      "memory usage: 6.0+ KB\n"
     ]
    }
   ],
   "source": [
    "final_data.info()"
   ]
  },
  {
   "cell_type": "markdown",
   "id": "ae7879ce-7211-4abf-9b47-19d780301d85",
   "metadata": {},
   "source": [
    "### 3. 특수문자 제거"
   ]
  },
  {
   "cell_type": "code",
   "execution_count": 20,
   "id": "1839d436-2994-4e0a-9fad-9d32a65b48ee",
   "metadata": {},
   "outputs": [
    {
     "data": {
      "text/plain": [
       "array([[0, '재미는 있는데 시간이 짧은게 아쉽네요~', '긍정'],\n",
       "       [1, 'OO 관련 내용은 우리 직원과는 거리가 멀었음, 특히, 사내에 홍보할 내용은 아니라고 봄', '부정'],\n",
       "       [3, '프로그램A 화이팅하세요!!', '긍정'],\n",
       "       [4, '높은 곳에 올라가는 모습이 너무 위험해 보여요.', '부정'],\n",
       "       [5,\n",
       "        '너무 재밌게 잘봤습니다~! ㅋㅋ\\n송OO씨가 출근하자마자 안마의자 앉아서 쉬는게 부럽기도(?) 했네요\\n쇼호스트분들의 진행솜씨또한 감탄하고 갑니다. 다음은 어디 외부 탐방 예정인가요?!',\n",
       "        '긍정'],\n",
       "       [6, '비유가 너무 찰떡이에요! ', '긍정'],\n",
       "       [7, '광고가 섭외된 모델이랑 너무 찰떡이네요. 목소리가 너무 잘 어울려요. ', '긍정'],\n",
       "       [8,\n",
       "        '이달의 픽은 재미 싹쓰리입니다. 요즘 온라인에 재밌는 영상과 사진이 너무 많아서 읽다보면 시간 가는 줄 모릅니다.',\n",
       "        '긍정'],\n",
       "       [11, '내용이 와닿지 않아요. 좀 더 실제와 같았으면 하네요..', '부정'],\n",
       "       [12, '미숙한 진행으로 전체적으로 지루함을 느꼈어요.', '부정']], dtype=object)"
      ]
     },
     "execution_count": 20,
     "metadata": {},
     "output_type": "execute_result"
    }
   ],
   "source": [
    "# data 컬럼의 내용 중에 영문, 특수문자 있는지 확인: 영문과 특수문자 존재 확인\n",
    "# .values: Convert the pandas DataFrame into a 2D Numpy array, dropping its index and columns labels\n",
    "final_data[final_data['data'].str.contains('[^가-힣 ]')].values[:10]"
   ]
  },
  {
   "cell_type": "code",
   "execution_count": 22,
   "id": "abdf7341-cb4f-4d2f-aca8-7ded785f1b7f",
   "metadata": {},
   "outputs": [],
   "source": [
    "# data 컬럼의 내용에서 숫자, 영문자, 공백 등의 글자는 삭제 처리\n",
    "final_data['data'] = final_data['data'].str.replace(r'[^가-힣 ]', '', regex = True)"
   ]
  },
  {
   "cell_type": "code",
   "execution_count": 24,
   "id": "f6bf374b-2df5-4712-8ec2-53effb1be24d",
   "metadata": {},
   "outputs": [
    {
     "data": {
      "text/plain": [
       "0"
      ]
     },
     "execution_count": 24,
     "metadata": {},
     "output_type": "execute_result"
    }
   ],
   "source": [
    "final_data['data'][final_data['data'].str.contains('[^가-힣 ]')].sum()"
   ]
  },
  {
   "cell_type": "markdown",
   "id": "c41f9d1f-5dd1-47b8-8351-3bc238c62215",
   "metadata": {},
   "source": [
    "### 4. 전처리"
   ]
  },
  {
   "cell_type": "code",
   "execution_count": 27,
   "id": "ba5203ec-d3a8-481f-89f2-9c21b1f952ba",
   "metadata": {},
   "outputs": [
    {
     "data": {
      "text/html": [
       "<div>\n",
       "<style scoped>\n",
       "    .dataframe tbody tr th:only-of-type {\n",
       "        vertical-align: middle;\n",
       "    }\n",
       "\n",
       "    .dataframe tbody tr th {\n",
       "        vertical-align: top;\n",
       "    }\n",
       "\n",
       "    .dataframe thead th {\n",
       "        text-align: right;\n",
       "    }\n",
       "</style>\n",
       "<table border=\"1\" class=\"dataframe\">\n",
       "  <thead>\n",
       "    <tr style=\"text-align: right;\">\n",
       "      <th></th>\n",
       "      <th>Unnamed: 0</th>\n",
       "      <th>data</th>\n",
       "      <th>label</th>\n",
       "    </tr>\n",
       "  </thead>\n",
       "  <tbody>\n",
       "    <tr>\n",
       "      <th>246</th>\n",
       "      <td>246</td>\n",
       "      <td>영상서비스로 간편하게 설치좋아요우리 회사화이팅</td>\n",
       "      <td>긍정</td>\n",
       "    </tr>\n",
       "    <tr>\n",
       "      <th>247</th>\n",
       "      <td>247</td>\n",
       "      <td>모든 업무에서 맡은바 업무에 서 최선을 다하는 모습이 좋습니다 화이팅 입니다</td>\n",
       "      <td>긍정</td>\n",
       "    </tr>\n",
       "    <tr>\n",
       "      <th>248</th>\n",
       "      <td>248</td>\n",
       "      <td>사내방송 특성상 최근 이슈화 되거나 언급이 자주되는 키워드를 중심으로 뉴스를 구성하...</td>\n",
       "      <td>부정</td>\n",
       "    </tr>\n",
       "    <tr>\n",
       "      <th>249</th>\n",
       "      <td>249</td>\n",
       "      <td>방송 시간이 너무 길어요</td>\n",
       "      <td>부정</td>\n",
       "    </tr>\n",
       "    <tr>\n",
       "      <th>250</th>\n",
       "      <td>250</td>\n",
       "      <td>처음 들어보는 말들이 많은데 설명이 없어서 힘드네요</td>\n",
       "      <td>부정</td>\n",
       "    </tr>\n",
       "  </tbody>\n",
       "</table>\n",
       "</div>"
      ],
      "text/plain": [
       "     Unnamed: 0                                               data label\n",
       "246         246                          영상서비스로 간편하게 설치좋아요우리 회사화이팅    긍정\n",
       "247         247         모든 업무에서 맡은바 업무에 서 최선을 다하는 모습이 좋습니다 화이팅 입니다    긍정\n",
       "248         248  사내방송 특성상 최근 이슈화 되거나 언급이 자주되는 키워드를 중심으로 뉴스를 구성하...    부정\n",
       "249         249                                      방송 시간이 너무 길어요    부정\n",
       "250         250                      처음 들어보는 말들이 많은데 설명이 없어서 힘드네요     부정"
      ]
     },
     "execution_count": 27,
     "metadata": {},
     "output_type": "execute_result"
    }
   ],
   "source": [
    "final_data.tail()"
   ]
  },
  {
   "cell_type": "code",
   "execution_count": 29,
   "id": "3dde4a58-c021-48e0-8189-a4a73fd9b176",
   "metadata": {},
   "outputs": [],
   "source": [
    "# data 컬럼의 내용을 양끝의 빈공간 삭제\n",
    "final_data['data'] = final_data['data'].str.strip()"
   ]
  },
  {
   "cell_type": "code",
   "execution_count": 31,
   "id": "9878ff1c-a54e-4d3d-82f5-281b6ef67ccf",
   "metadata": {},
   "outputs": [
    {
     "data": {
      "text/html": [
       "<div>\n",
       "<style scoped>\n",
       "    .dataframe tbody tr th:only-of-type {\n",
       "        vertical-align: middle;\n",
       "    }\n",
       "\n",
       "    .dataframe tbody tr th {\n",
       "        vertical-align: top;\n",
       "    }\n",
       "\n",
       "    .dataframe thead th {\n",
       "        text-align: right;\n",
       "    }\n",
       "</style>\n",
       "<table border=\"1\" class=\"dataframe\">\n",
       "  <thead>\n",
       "    <tr style=\"text-align: right;\">\n",
       "      <th></th>\n",
       "      <th>Unnamed: 0</th>\n",
       "      <th>data</th>\n",
       "      <th>label</th>\n",
       "    </tr>\n",
       "  </thead>\n",
       "  <tbody>\n",
       "    <tr>\n",
       "      <th>246</th>\n",
       "      <td>246</td>\n",
       "      <td>영상서비스로 간편하게 설치좋아요우리 회사화이팅</td>\n",
       "      <td>긍정</td>\n",
       "    </tr>\n",
       "    <tr>\n",
       "      <th>247</th>\n",
       "      <td>247</td>\n",
       "      <td>모든 업무에서 맡은바 업무에 서 최선을 다하는 모습이 좋습니다 화이팅 입니다</td>\n",
       "      <td>긍정</td>\n",
       "    </tr>\n",
       "    <tr>\n",
       "      <th>248</th>\n",
       "      <td>248</td>\n",
       "      <td>사내방송 특성상 최근 이슈화 되거나 언급이 자주되는 키워드를 중심으로 뉴스를 구성하...</td>\n",
       "      <td>부정</td>\n",
       "    </tr>\n",
       "    <tr>\n",
       "      <th>249</th>\n",
       "      <td>249</td>\n",
       "      <td>방송 시간이 너무 길어요</td>\n",
       "      <td>부정</td>\n",
       "    </tr>\n",
       "    <tr>\n",
       "      <th>250</th>\n",
       "      <td>250</td>\n",
       "      <td>처음 들어보는 말들이 많은데 설명이 없어서 힘드네요</td>\n",
       "      <td>부정</td>\n",
       "    </tr>\n",
       "  </tbody>\n",
       "</table>\n",
       "</div>"
      ],
      "text/plain": [
       "     Unnamed: 0                                               data label\n",
       "246         246                          영상서비스로 간편하게 설치좋아요우리 회사화이팅    긍정\n",
       "247         247         모든 업무에서 맡은바 업무에 서 최선을 다하는 모습이 좋습니다 화이팅 입니다    긍정\n",
       "248         248  사내방송 특성상 최근 이슈화 되거나 언급이 자주되는 키워드를 중심으로 뉴스를 구성하...    부정\n",
       "249         249                                      방송 시간이 너무 길어요    부정\n",
       "250         250                       처음 들어보는 말들이 많은데 설명이 없어서 힘드네요    부정"
      ]
     },
     "execution_count": 31,
     "metadata": {},
     "output_type": "execute_result"
    }
   ],
   "source": [
    "final_data.tail()"
   ]
  },
  {
   "cell_type": "code",
   "execution_count": 33,
   "id": "b90ac74d-6632-4ad7-b69e-844e0a02ff0d",
   "metadata": {},
   "outputs": [],
   "source": [
    "# 필요없는 'Unnamed: 0' 컬럼 삭제\n",
    "final_data = final_data.drop(['Unnamed: 0'], axis = 1)"
   ]
  },
  {
   "cell_type": "code",
   "execution_count": 35,
   "id": "58b10482-62fb-4dab-addc-bf45e8218564",
   "metadata": {},
   "outputs": [
    {
     "data": {
      "text/html": [
       "<div>\n",
       "<style scoped>\n",
       "    .dataframe tbody tr th:only-of-type {\n",
       "        vertical-align: middle;\n",
       "    }\n",
       "\n",
       "    .dataframe tbody tr th {\n",
       "        vertical-align: top;\n",
       "    }\n",
       "\n",
       "    .dataframe thead th {\n",
       "        text-align: right;\n",
       "    }\n",
       "</style>\n",
       "<table border=\"1\" class=\"dataframe\">\n",
       "  <thead>\n",
       "    <tr style=\"text-align: right;\">\n",
       "      <th></th>\n",
       "      <th>data</th>\n",
       "      <th>label</th>\n",
       "    </tr>\n",
       "  </thead>\n",
       "  <tbody>\n",
       "    <tr>\n",
       "      <th>246</th>\n",
       "      <td>영상서비스로 간편하게 설치좋아요우리 회사화이팅</td>\n",
       "      <td>긍정</td>\n",
       "    </tr>\n",
       "    <tr>\n",
       "      <th>247</th>\n",
       "      <td>모든 업무에서 맡은바 업무에 서 최선을 다하는 모습이 좋습니다 화이팅 입니다</td>\n",
       "      <td>긍정</td>\n",
       "    </tr>\n",
       "    <tr>\n",
       "      <th>248</th>\n",
       "      <td>사내방송 특성상 최근 이슈화 되거나 언급이 자주되는 키워드를 중심으로 뉴스를 구성하...</td>\n",
       "      <td>부정</td>\n",
       "    </tr>\n",
       "    <tr>\n",
       "      <th>249</th>\n",
       "      <td>방송 시간이 너무 길어요</td>\n",
       "      <td>부정</td>\n",
       "    </tr>\n",
       "    <tr>\n",
       "      <th>250</th>\n",
       "      <td>처음 들어보는 말들이 많은데 설명이 없어서 힘드네요</td>\n",
       "      <td>부정</td>\n",
       "    </tr>\n",
       "  </tbody>\n",
       "</table>\n",
       "</div>"
      ],
      "text/plain": [
       "                                                  data label\n",
       "246                          영상서비스로 간편하게 설치좋아요우리 회사화이팅    긍정\n",
       "247         모든 업무에서 맡은바 업무에 서 최선을 다하는 모습이 좋습니다 화이팅 입니다    긍정\n",
       "248  사내방송 특성상 최근 이슈화 되거나 언급이 자주되는 키워드를 중심으로 뉴스를 구성하...    부정\n",
       "249                                      방송 시간이 너무 길어요    부정\n",
       "250                       처음 들어보는 말들이 많은데 설명이 없어서 힘드네요    부정"
      ]
     },
     "execution_count": 35,
     "metadata": {},
     "output_type": "execute_result"
    }
   ],
   "source": [
    "final_data.tail()"
   ]
  },
  {
   "cell_type": "code",
   "execution_count": 37,
   "id": "6d7525a5-0ce2-4fb3-8f2c-dff0033191e1",
   "metadata": {},
   "outputs": [
    {
     "data": {
      "text/plain": [
       "data     0\n",
       "label    0\n",
       "dtype: int64"
      ]
     },
     "execution_count": 37,
     "metadata": {},
     "output_type": "execute_result"
    }
   ],
   "source": [
    "# Null 있는지 확인\n",
    "final_data.isnull().sum()"
   ]
  },
  {
   "cell_type": "code",
   "execution_count": 39,
   "id": "f9068c4a-a53a-44c4-8646-d2e3c7d5b7b4",
   "metadata": {},
   "outputs": [
    {
     "data": {
      "text/plain": [
       "2"
      ]
     },
     "execution_count": 39,
     "metadata": {},
     "output_type": "execute_result"
    }
   ],
   "source": [
    "# 중복 데이터 있는지 확인: 2건 중복 존재 확인\n",
    "final_data['data'].duplicated().sum()"
   ]
  },
  {
   "cell_type": "code",
   "execution_count": 41,
   "id": "fab9bb76-fecd-4fd4-bd08-6533973a2163",
   "metadata": {},
   "outputs": [],
   "source": [
    "# inplace = True parameter: Tells pandas to perform the operation directly on the existing DataFrame rather than creating and returning a modified copy\n",
    "# If inplace = False: Pandas would return a new DataFrame with duplicates removed, leaving the original DataFrame unchanged\n",
    "final_data.drop_duplicates(subset = ['data'], inplace = True)"
   ]
  },
  {
   "cell_type": "code",
   "execution_count": 43,
   "id": "600f2158-f50d-49e4-8df9-6e7c6fd6164b",
   "metadata": {},
   "outputs": [
    {
     "name": "stdout",
     "output_type": "stream",
     "text": [
      "<class 'pandas.core.frame.DataFrame'>\n",
      "Index: 249 entries, 0 to 250\n",
      "Data columns (total 2 columns):\n",
      " #   Column  Non-Null Count  Dtype \n",
      "---  ------  --------------  ----- \n",
      " 0   data    249 non-null    object\n",
      " 1   label   249 non-null    object\n",
      "dtypes: object(2)\n",
      "memory usage: 5.8+ KB\n"
     ]
    }
   ],
   "source": [
    "# 기존 251 -> 이후 249: 2건 중복 삭제 확인\n",
    "final_data.info()"
   ]
  },
  {
   "cell_type": "markdown",
   "id": "f6a08013-1e2a-4df6-ab21-f7d2aad02d36",
   "metadata": {},
   "source": [
    "### 5. Label 분포 확인"
   ]
  },
  {
   "cell_type": "code",
   "execution_count": 46,
   "id": "18c4dc80-3104-4819-b432-893a8289f527",
   "metadata": {},
   "outputs": [],
   "source": [
    "# 한글 그래프 그리기\n",
    "import matplotlib.pyplot as plt"
   ]
  },
  {
   "cell_type": "code",
   "execution_count": 48,
   "id": "c095f300-bb0f-4f42-9fbb-b6da03fddbeb",
   "metadata": {
    "scrolled": true
   },
   "outputs": [
    {
     "data": {
      "text/plain": [
       "<Axes: xlabel='label'>"
      ]
     },
     "execution_count": 48,
     "metadata": {},
     "output_type": "execute_result"
    },
    {
     "name": "stderr",
     "output_type": "stream",
     "text": [
      "/Users/shinjoohwan/miniconda3/lib/python3.12/site-packages/IPython/core/events.py:82: UserWarning: Glyph 48512 (\\N{HANGUL SYLLABLE BU}) missing from font(s) DejaVu Sans.\n",
      "  func(*args, **kwargs)\n",
      "/Users/shinjoohwan/miniconda3/lib/python3.12/site-packages/IPython/core/events.py:82: UserWarning: Glyph 51221 (\\N{HANGUL SYLLABLE JEONG}) missing from font(s) DejaVu Sans.\n",
      "  func(*args, **kwargs)\n",
      "/Users/shinjoohwan/miniconda3/lib/python3.12/site-packages/IPython/core/events.py:82: UserWarning: Glyph 44557 (\\N{HANGUL SYLLABLE GEUNG}) missing from font(s) DejaVu Sans.\n",
      "  func(*args, **kwargs)\n",
      "/Users/shinjoohwan/miniconda3/lib/python3.12/site-packages/IPython/core/pylabtools.py:170: UserWarning: Glyph 48512 (\\N{HANGUL SYLLABLE BU}) missing from font(s) DejaVu Sans.\n",
      "  fig.canvas.print_figure(bytes_io, **kw)\n",
      "/Users/shinjoohwan/miniconda3/lib/python3.12/site-packages/IPython/core/pylabtools.py:170: UserWarning: Glyph 51221 (\\N{HANGUL SYLLABLE JEONG}) missing from font(s) DejaVu Sans.\n",
      "  fig.canvas.print_figure(bytes_io, **kw)\n",
      "/Users/shinjoohwan/miniconda3/lib/python3.12/site-packages/IPython/core/pylabtools.py:170: UserWarning: Glyph 44557 (\\N{HANGUL SYLLABLE GEUNG}) missing from font(s) DejaVu Sans.\n",
      "  fig.canvas.print_figure(bytes_io, **kw)\n"
     ]
    },
    {
     "data": {
      "image/png": "[encoded data removed]",
      "text/plain": [
       "<Figure size 640x480 with 1 Axes>"
      ]
     },
     "metadata": {},
     "output_type": "display_data"
    }
   ],
   "source": [
    "# plot bar 차트 그리기\n",
    "final_data['label'].value_counts().plot(kind = 'bar')"
   ]
  },
  {
   "cell_type": "markdown",
   "id": "daf40a33-f907-43d4-b82b-b03a8e3b91ed",
   "metadata": {},
   "source": [
    "### 6. label 숫자로 인코딩"
   ]
  },
  {
   "cell_type": "code",
   "execution_count": 51,
   "id": "b20d904e-db5f-474c-bfdf-4751c0b11b7b",
   "metadata": {},
   "outputs": [],
   "source": [
    "label2class = {'긍정': 0, '부정': 1}\n",
    "class2label = {0: '긍정', 1: '부정'}\n",
    "final_data['label'] = final_data['label'].map(label2class)"
   ]
  },
  {
   "cell_type": "code",
   "execution_count": 53,
   "id": "c0dfcd6d-77e8-44a3-8a9f-38d24c36ebd5",
   "metadata": {},
   "outputs": [
    {
     "data": {
      "text/html": [
       "<div>\n",
       "<style scoped>\n",
       "    .dataframe tbody tr th:only-of-type {\n",
       "        vertical-align: middle;\n",
       "    }\n",
       "\n",
       "    .dataframe tbody tr th {\n",
       "        vertical-align: top;\n",
       "    }\n",
       "\n",
       "    .dataframe thead th {\n",
       "        text-align: right;\n",
       "    }\n",
       "</style>\n",
       "<table border=\"1\" class=\"dataframe\">\n",
       "  <thead>\n",
       "    <tr style=\"text-align: right;\">\n",
       "      <th></th>\n",
       "      <th>data</th>\n",
       "      <th>label</th>\n",
       "    </tr>\n",
       "  </thead>\n",
       "  <tbody>\n",
       "    <tr>\n",
       "      <th>0</th>\n",
       "      <td>재미는 있는데 시간이 짧은게 아쉽네요</td>\n",
       "      <td>0</td>\n",
       "    </tr>\n",
       "    <tr>\n",
       "      <th>1</th>\n",
       "      <td>관련 내용은 우리 직원과는 거리가 멀었음 특히 사내에 홍보할 내용은 아니라고 봄</td>\n",
       "      <td>1</td>\n",
       "    </tr>\n",
       "    <tr>\n",
       "      <th>2</th>\n",
       "      <td>스토리가 너무 딱딱해서 별로였음</td>\n",
       "      <td>1</td>\n",
       "    </tr>\n",
       "    <tr>\n",
       "      <th>3</th>\n",
       "      <td>프로그램 화이팅하세요</td>\n",
       "      <td>0</td>\n",
       "    </tr>\n",
       "    <tr>\n",
       "      <th>4</th>\n",
       "      <td>높은 곳에 올라가는 모습이 너무 위험해 보여요</td>\n",
       "      <td>1</td>\n",
       "    </tr>\n",
       "  </tbody>\n",
       "</table>\n",
       "</div>"
      ],
      "text/plain": [
       "                                           data  label\n",
       "0                          재미는 있는데 시간이 짧은게 아쉽네요      0\n",
       "1  관련 내용은 우리 직원과는 거리가 멀었음 특히 사내에 홍보할 내용은 아니라고 봄      1\n",
       "2                             스토리가 너무 딱딱해서 별로였음      1\n",
       "3                                   프로그램 화이팅하세요      0\n",
       "4                     높은 곳에 올라가는 모습이 너무 위험해 보여요      1"
      ]
     },
     "execution_count": 53,
     "metadata": {},
     "output_type": "execute_result"
    }
   ],
   "source": [
    "final_data.head()"
   ]
  },
  {
   "cell_type": "code",
   "execution_count": 55,
   "id": "353ece0b-fd7f-44cc-bc59-7dfd48fd94c9",
   "metadata": {},
   "outputs": [],
   "source": [
    "# DataFrame 저장\n",
    "# index = False: Tells pandas not to write the DataFrame's row labels (the index) into the CSV file\n",
    "# By default, pandas includes the index as the first column in the output.\n",
    "# Setting index = False prevents that extra column from appearing\n",
    "final_data.to_csv('A_comment.csv', index = False)"
   ]
  },
  {
   "cell_type": "markdown",
   "id": "0cd55bbb-c6f8-4c76-9ba6-9b8b503bf5a6",
   "metadata": {},
   "source": [
    "### 7. X, Y 분리"
   ]
  },
  {
   "cell_type": "code",
   "execution_count": 58,
   "id": "f525b59a-985b-4197-9fa7-d3c4c6601d62",
   "metadata": {},
   "outputs": [],
   "source": [
    "# X, Y 분리\n",
    "features = final_data['data'].values\n",
    "labels = final_data['label'].values"
   ]
  },
  {
   "cell_type": "code",
   "execution_count": 60,
   "id": "6452da14-53fe-4608-869b-a4f315a7dba0",
   "metadata": {},
   "outputs": [
    {
     "data": {
      "text/plain": [
       "((249,), (249,))"
      ]
     },
     "execution_count": 60,
     "metadata": {},
     "output_type": "execute_result"
    }
   ],
   "source": [
    "features.shape, labels.shape"
   ]
  },
  {
   "cell_type": "code",
   "execution_count": 62,
   "id": "ec6375d8-77ab-4d79-98df-7f5f9e0e8340",
   "metadata": {},
   "outputs": [
    {
     "data": {
      "text/plain": [
       "array(['재미는 있는데 시간이 짧은게 아쉽네요',\n",
       "       '관련 내용은 우리 직원과는 거리가 멀었음 특히 사내에 홍보할 내용은 아니라고 봄',\n",
       "       '스토리가 너무 딱딱해서 별로였음'], dtype=object)"
      ]
     },
     "execution_count": 62,
     "metadata": {},
     "output_type": "execute_result"
    }
   ],
   "source": [
    "features[:3]"
   ]
  },
  {
   "cell_type": "code",
   "execution_count": 64,
   "id": "277bf323-0d79-43e0-8a1c-702e2f8a0ad2",
   "metadata": {},
   "outputs": [
    {
     "name": "stdout",
     "output_type": "stream",
     "text": [
      "이벤트 문자열 최대 길이 : 160\n",
      "이벤트 문자열 평균 길이 : 43.91967871485944\n"
     ]
    }
   ],
   "source": [
    "print('이벤트 문자열 최대 길이 : {}'.format(max(len(l) for l in features)))\n",
    "print('이벤트 문자열 평균 길이 : {}'.format(sum(map(len, features))/len(features)))"
   ]
  },
  {
   "cell_type": "code",
   "execution_count": 66,
   "id": "888cae75-50b4-4589-981a-c08f1b8e89ff",
   "metadata": {},
   "outputs": [
    {
     "data": {
      "image/png": "[encoded data removed]",
      "text/plain": [
       "<Figure size 640x480 with 1 Axes>"
      ]
     },
     "metadata": {},
     "output_type": "display_data"
    }
   ],
   "source": [
    "plt.hist([len(s) for s in features], bins = 50)\n",
    "plt.xlabel('length of samples')\n",
    "plt.ylabel('number of samples')\n",
    "plt.show()"
   ]
  },
  {
   "cell_type": "markdown",
   "id": "a9068a63-ece5-4e9e-be73-0ad2e92ca8b1",
   "metadata": {},
   "source": [
    "### 8. train set와 test set 분리"
   ]
  },
  {
   "cell_type": "code",
   "execution_count": 69,
   "id": "7b329dd7-65bb-4140-860d-5a9a0a4fd996",
   "metadata": {},
   "outputs": [
    {
     "data": {
      "text/plain": [
       "((199,), (50,))"
      ]
     },
     "execution_count": 69,
     "metadata": {},
     "output_type": "execute_result"
    }
   ],
   "source": [
    "from sklearn.model_selection import train_test_split\n",
    "\n",
    "# stratify: Ensures that the proportion of each class label in the training and test sets matches the proportion in the original dataset\n",
    "x_train, x_test, y_train, y_test = train_test_split(features, labels, test_size = 0.2, stratify = labels, random_state = 41)\n",
    "x_train.shape, x_test.shape"
   ]
  },
  {
   "cell_type": "code",
   "execution_count": 71,
   "id": "904efbd7-92fc-4404-a83c-a0d19c5dfd8f",
   "metadata": {},
   "outputs": [
    {
     "data": {
      "text/plain": [
       "(array(['저도 입사 개월 갓 지난 신입사원으로써 많이 공감되는 부분이 있고 완전 판매를 위해서 꼼꼼히 케어하여 업무처리해야겠다고 생각되었습니다 매장에서 적용할 부분들에 대해서도 도움이 되고 유쾌하게 풀어내어 이래저래 꾸준히 챙겨보고 있습니다 감사합니다',\n",
       "        '매 방송마다 신선한 아이디어가 많이 도출되는 것 같아요'], dtype=object),\n",
       " array([0, 0]))"
      ]
     },
     "execution_count": 71,
     "metadata": {},
     "output_type": "execute_result"
    }
   ],
   "source": [
    "# 샘플 확인, 0: 긍정, 1: 부정\n",
    "x_train[:2], y_train[:2]"
   ]
  },
  {
   "cell_type": "markdown",
   "id": "22e51243-20c1-4153-80bb-77f87d4133b5",
   "metadata": {},
   "source": [
    "### 9. 전체 문장에 대해 Tokenizing\n",
    "- 컴퓨터가 이해하기 위해 모든 단어를 숫자로 변환해야 함"
   ]
  },
  {
   "cell_type": "code",
   "execution_count": 74,
   "id": "0ea1dee6-cf26-41dd-8c91-aec330af2a86",
   "metadata": {
    "scrolled": true
   },
   "outputs": [
    {
     "name": "stdout",
     "output_type": "stream",
     "text": [
      "Requirement already satisfied: tensorflow in /Users/shinjoohwan/miniconda3/lib/python3.12/site-packages (2.19.0)\n",
      "Requirement already satisfied: absl-py>=1.0.0 in /Users/shinjoohwan/miniconda3/lib/python3.12/site-packages (from tensorflow) (2.3.0)\n",
      "Requirement already satisfied: astunparse>=1.6.0 in /Users/shinjoohwan/miniconda3/lib/python3.12/site-packages (from tensorflow) (1.6.3)\n",
      "Requirement already satisfied: flatbuffers>=24.3.25 in /Users/shinjoohwan/miniconda3/lib/python3.12/site-packages (from tensorflow) (25.2.10)\n",
      "Requirement already satisfied: gast!=0.5.0,!=0.5.1,!=0.5.2,>=0.2.1 in /Users/shinjoohwan/miniconda3/lib/python3.12/site-packages (from tensorflow) (0.6.0)\n",
      "Requirement already satisfied: google-pasta>=0.1.1 in /Users/shinjoohwan/miniconda3/lib/python3.12/site-packages (from tensorflow) (0.2.0)\n",
      "Requirement already satisfied: libclang>=13.0.0 in /Users/shinjoohwan/miniconda3/lib/python3.12/site-packages (from tensorflow) (18.1.1)\n",
      "Requirement already satisfied: opt-einsum>=2.3.2 in /Users/shinjoohwan/miniconda3/lib/python3.12/site-packages (from tensorflow) (3.4.0)\n",
      "Requirement already satisfied: packaging in /Users/shinjoohwan/miniconda3/lib/python3.12/site-packages (from tensorflow) (24.1)\n",
      "Requirement already satisfied: protobuf!=4.21.0,!=4.21.1,!=4.21.2,!=4.21.3,!=4.21.4,!=4.21.5,<6.0.0dev,>=3.20.3 in /Users/shinjoohwan/miniconda3/lib/python3.12/site-packages (from tensorflow) (5.29.5)\n",
      "Requirement already satisfied: requests<3,>=2.21.0 in /Users/shinjoohwan/miniconda3/lib/python3.12/site-packages (from tensorflow) (2.32.3)\n",
      "Requirement already satisfied: setuptools in /Users/shinjoohwan/miniconda3/lib/python3.12/site-packages (from tensorflow) (75.1.0)\n",
      "Requirement already satisfied: six>=1.12.0 in /Users/shinjoohwan/miniconda3/lib/python3.12/site-packages (from tensorflow) (1.17.0)\n",
      "Requirement already satisfied: termcolor>=1.1.0 in /Users/shinjoohwan/miniconda3/lib/python3.12/site-packages (from tensorflow) (3.1.0)\n",
      "Requirement already satisfied: typing-extensions>=3.6.6 in /Users/shinjoohwan/miniconda3/lib/python3.12/site-packages (from tensorflow) (4.12.2)\n",
      "Requirement already satisfied: wrapt>=1.11.0 in /Users/shinjoohwan/miniconda3/lib/python3.12/site-packages (from tensorflow) (1.17.2)\n",
      "Requirement already satisfied: grpcio<2.0,>=1.24.3 in /Users/shinjoohwan/miniconda3/lib/python3.12/site-packages (from tensorflow) (1.71.0)\n",
      "Requirement already satisfied: tensorboard~=2.19.0 in /Users/shinjoohwan/miniconda3/lib/python3.12/site-packages (from tensorflow) (2.19.0)\n",
      "Requirement already satisfied: keras>=3.5.0 in /Users/shinjoohwan/miniconda3/lib/python3.12/site-packages (from tensorflow) (3.10.0)\n",
      "Requirement already satisfied: numpy<2.2.0,>=1.26.0 in /Users/shinjoohwan/miniconda3/lib/python3.12/site-packages (from tensorflow) (1.26.4)\n",
      "Requirement already satisfied: h5py>=3.11.0 in /Users/shinjoohwan/miniconda3/lib/python3.12/site-packages (from tensorflow) (3.13.0)\n",
      "Requirement already satisfied: ml-dtypes<1.0.0,>=0.5.1 in /Users/shinjoohwan/miniconda3/lib/python3.12/site-packages (from tensorflow) (0.5.1)\n",
      "Requirement already satisfied: wheel<1.0,>=0.23.0 in /Users/shinjoohwan/miniconda3/lib/python3.12/site-packages (from astunparse>=1.6.0->tensorflow) (0.44.0)\n",
      "Requirement already satisfied: rich in /Users/shinjoohwan/miniconda3/lib/python3.12/site-packages (from keras>=3.5.0->tensorflow) (14.0.0)\n",
      "Requirement already satisfied: namex in /Users/shinjoohwan/miniconda3/lib/python3.12/site-packages (from keras>=3.5.0->tensorflow) (0.1.0)\n",
      "Requirement already satisfied: optree in /Users/shinjoohwan/miniconda3/lib/python3.12/site-packages (from keras>=3.5.0->tensorflow) (0.16.0)\n",
      "Requirement already satisfied: charset-normalizer<4,>=2 in /Users/shinjoohwan/miniconda3/lib/python3.12/site-packages (from requests<3,>=2.21.0->tensorflow) (3.3.2)\n",
      "Requirement already satisfied: idna<4,>=2.5 in /Users/shinjoohwan/miniconda3/lib/python3.12/site-packages (from requests<3,>=2.21.0->tensorflow) (3.7)\n",
      "Requirement already satisfied: urllib3<3,>=1.21.1 in /Users/shinjoohwan/miniconda3/lib/python3.12/site-packages (from requests<3,>=2.21.0->tensorflow) (2.2.3)\n",
      "Requirement already satisfied: certifi>=2017.4.17 in /Users/shinjoohwan/miniconda3/lib/python3.12/site-packages (from requests<3,>=2.21.0->tensorflow) (2025.4.26)\n",
      "Requirement already satisfied: markdown>=2.6.8 in /Users/shinjoohwan/miniconda3/lib/python3.12/site-packages (from tensorboard~=2.19.0->tensorflow) (3.8)\n",
      "Requirement already satisfied: tensorboard-data-server<0.8.0,>=0.7.0 in /Users/shinjoohwan/miniconda3/lib/python3.12/site-packages (from tensorboard~=2.19.0->tensorflow) (0.7.2)\n",
      "Requirement already satisfied: werkzeug>=1.0.1 in /Users/shinjoohwan/miniconda3/lib/python3.12/site-packages (from tensorboard~=2.19.0->tensorflow) (3.1.3)\n",
      "Requirement already satisfied: MarkupSafe>=2.1.1 in /Users/shinjoohwan/miniconda3/lib/python3.12/site-packages (from werkzeug>=1.0.1->tensorboard~=2.19.0->tensorflow) (3.0.2)\n",
      "Requirement already satisfied: markdown-it-py>=2.2.0 in /Users/shinjoohwan/miniconda3/lib/python3.12/site-packages (from rich->keras>=3.5.0->tensorflow) (3.0.0)\n",
      "Requirement already satisfied: pygments<3.0.0,>=2.13.0 in /Users/shinjoohwan/miniconda3/lib/python3.12/site-packages (from rich->keras>=3.5.0->tensorflow) (2.19.1)\n",
      "Requirement already satisfied: mdurl~=0.1 in /Users/shinjoohwan/miniconda3/lib/python3.12/site-packages (from markdown-it-py>=2.2.0->rich->keras>=3.5.0->tensorflow) (0.1.2)\n"
     ]
    }
   ],
   "source": [
    "!pip install tensorflow"
   ]
  },
  {
   "cell_type": "code",
   "execution_count": 76,
   "id": "6e470eb1-c21d-498b-af0c-29578d0ef735",
   "metadata": {},
   "outputs": [],
   "source": [
    "import tensorflow as tf\n",
    "from tensorflow.keras.preprocessing.text import Tokenizer\n",
    "from tensorflow.keras.preprocessing.sequence import pad_sequences"
   ]
  },
  {
   "cell_type": "code",
   "execution_count": 78,
   "id": "e893161f-4bea-4be7-9e7b-e483fc9ae85e",
   "metadata": {},
   "outputs": [],
   "source": [
    "# Tokenizer 구현: 단어 사전 만들기\n",
    "tokenizer = Tokenizer()\n",
    "tokenizer.fit_on_texts(x_train)"
   ]
  },
  {
   "cell_type": "code",
   "execution_count": 80,
   "id": "1825736f-e6dd-49f6-bf25-594107caef36",
   "metadata": {},
   "outputs": [
    {
     "name": "stdout",
     "output_type": "stream",
     "text": [
      "{'우리': 1, '너무': 2, '것': 3, '잘': 4, '더': 5, '같습니다': 6, '같아요': 7, '좋은': 8, '대한': 9, '수': 10, '좀': 11, '감사합니다': 12, '어떤': 13, '조금': 14, '회사의': 15, '있는': 16, '많이': 17, '회사': 18, '항상': 19, '부분이': 20, '재밌게': 21, '재미있게': 22, '방송': 23, '하는': 24, '프로그램': 25, '정말': 26, '도움이': 27, '고객의': 28, '새로운': 29, '좋겠습니다': 30, '사내': 31, '있었습니다': 32, '방송은': 33, '보고': 34, '응원합니다': 35, '통해': 36, '가장': 37, '쇼핑': 38, '앞으로도': 39, '있습니다': 40, '보는': 41, '어떻게': 42, '보았습니다': 43, '기대됩니다': 44, '차별화된': 45, '다소': 46, '금일': 47, '회사가': 48, '기업이미지': 49, '시간': 50, '아쉬웠습니다': 51, '화이팅': 52, '다양한': 53, '좋을': 54, '합니다': 55, '유익한': 56, '없는': 57, '기획': 58, '많은': 59, '한': 60, '방송이': 61, '서비스': 62, '됩니다': 63, '저도': 64, '케어하여': 65, '되고': 66, '신선한': 67, '전혀': 68, '있어': 69, '잘봤습니다': 70, '최근': 71, '계속': 72, '있었으면': 73, '이미지': 74, '기업의': 75, '참': 76, '있네요': 77, '봤습니다': 78, '아쉽습니다': 79, '있을': 80, '하고': 81, '있는지': 82, '같네요': 83, '함께': 84, '재미있고': 85, '제': 86, '픽은': 87, '마음을': 88, '서비스에': 89, '내용이': 90, '이번': 91, '입니다': 92, '업무를': 93, '모습을': 94, '할': 95, '고객에게': 96, '상품을': 97, '회사화이팅': 98, '파이팅입니다': 99, '느낌이': 100, '시간이': 101, '거': 102, '아쉽네요': 103, '고객을': 104, '부족한': 105, '자막이': 106, '되는': 107, '코로나로': 108, '것이': 109, '역시': 110, '짧게': 111, '있어서': 112, '픽': 113, '구체적으로': 114, '있음': 115, '신입사원': 116, '마케팅': 117, '점점': 118, '내용도': 119, '않아요': 120, '설명이': 121, '매출이': 122, '꼼꼼히': 123, '업무처리해야겠다고': 124, '생각되었습니다': 125, '매장에서': 126, '적용할': 127, '부분들에': 128, '대해서도': 129, '유쾌하게': 130, '풀어내어': 131, '이래저래': 132, '들이': 133, '말이': 134, '저희': 135, '진행이': 136, '내용은': 137, '기억에': 138, '보이는': 139, '갑니다': 140, '외부': 141, '주셨으면': 142, '홈쇼핑': 143, '쇼핑에': 144, '근무': 145, '일을': 146, '하는지': 147, '알게되었습니다': 148, '코로나': 149, '인해': 150, '있는만큼': 151, '분야의': 152, '니즈를': 153, '가볍게': 154, '재미를': 155, '되었지만': 156, '제고활동과': 157, '이태원': 158, '클라쓰로': 159, '소신과': 160, '이야기를': 161, '없어': 162, '약간': 163, '듯': 164, '같이': 165, '바라볼': 166, '필요가': 167, '아무래도': 168, '이해가': 169, '짧고': 170, '미숙한': 171, '이슈를': 172, '가': 173, '쇼핑의': 174, '멘트가': 175, '직원들이': 176, '모르는': 177, '재미가': 178, '지점': 179, '있어요': 180, '모습이': 181, '위로가': 182, '힘이': 183, '모든': 184, '최선을': 185, '다하는': 186, '회사에': 187, '더욱': 188, '생각이': 189, '들었습니다': 190, '업무': 191, '보여주어': 192, '아쉬워요': 193, '고객': 194, '때': 195, '맞춤형': 196, '즐겁고': 197, '유익하게': 198, '생각합니다': 199, '고객중심': 200, '생기는': 201, '방송이네요': 202, '글씨를': 203, '같아서': 204, '산만한': 205, '듭니다': 206, '간략한': 207, '설명': 208, '방송에': 209, '맞지': 210, '않는': 211, '불편했습니다': 212, '다시': 213, '한번': 214, '계기가': 215, '경우': 216, '소개': 217, '같아': 218, '시장을': 219, '정보': 220, '내용': 221, '무슨': 222, '파악이': 223, '알': 224, '부정적인': 225, '보기': 226, '나오는': 227, '시간이었습니다': 228, '같은데': 229, '에서': 230, '셀프개통이': 231, '눈에': 232, '나왔으면': 233, '좋겠어요': 234, '되어': 235, '돈쭐': 236, '스토리가': 237, '어울리는': 238, '소리지르는': 239, '장면은': 240, '매우': 241, '중': 242, '아쉬움이': 243, '광고': 244, '좋네요': 245, '서비스와': 246, '같은': 247, '데이터를': 248, '데이터': 249, '활용이': 250, '온라인': 251, '가지': 252, '사례에': 253, '판매': 254, '와닿지': 255, '볼': 256, '좋아요': 257, '확인하기': 258, '자막': 259, '화이팅입니다': 260, '영업의': 261, '무릅을': 262, '방송의': 263, '포인트': 264, '위한': 265, '회사그룹': 266, '부탁드립니다': 267, '실제': 268, '추가되면': 269, '모르겠네요': 270, '모두': 271, '좋았습니다': 272, '가는': 273, '줄': 274, '등의': 275, '좋겠네요': 276, '않아': 277, '셀프개통': 278, '내': 279, '발전해': 280, '보니': 281, '없어서': 282, '좋았을': 283, '현실에서': 284, '어려운': 285, '따듯한': 286, '현장에': 287, '전체적으로': 288, '아침부터': 289, '수도': 290, '않은': 291, '통해서': 292, '뭔지': 293, '소식을': 294, '염려가': 295, '어떠한': 296, '쉽지': 297, '직접': 298, '입사': 299, '개월': 300, '갓': 301, '지난': 302, '신입사원으로써': 303, '공감되는': 304, '있고': 305, '완전': 306, '판매를': 307, '위해서': 308, '꾸준히': 309, '챙겨보고': 310, '매': 311, '방송마다': 312, '아이디어가': 313, '도출되는': 314, '아직은': 315, '미숙해보이네요': 316, '어색한': 317, '들려요': 318, '회사직원분들과': 319, '호흡도': 320, '좋았고': 321, '상당히': 322, '매끄로워': 323, '내내': 324, '즐거웠습니다': 325, '직원분들도': 326, '꿀리는거': 327, '없이': 328, '능숙해': 329, '지셨네요': 330, '분량이': 331, '치우쳐': 332, '앞부분의': 333, '안남는': 334, '입장에서': 335, '생각하면': 336, '트렌드가': 337, '송씨가': 338, '출근하자마자': 339, '안마의자': 340, '앉아서': 341, '쉬는게': 342, '부럽기도': 343, '했네요쇼호스트분들의': 344, '진행솜씨또한': 345, '감탄하고': 346, '다음은': 347, '어디': 348, '탐방': 349, '예정인가요': 350, '우리회사와': 351, '소비자를': 352, '연결하는': 353, '내용을': 354, '보강해': 355, '시청을': 356, '하지않아': 357, '대해': 358, '몰랐으나': 359, '금번': 360, '예능인의': 361, '체험으로': 362, '전반적으로': 363, '업무가': 364, '돌아가고': 365, '간접적으로': 366, '또다시': 367, '확산으로': 368, '산업체': 369, '전분야에': 370, '영향이': 371, '쇼핑이': 372, '최고로': 373, '거듭나길': 374, '바라겠습니다': 375, '화에': 376, '이어': 377, '화': 378, '다음화': 379, '정확히': 380, '파악하면': 381, '트랜드를': 382, '발굴할수': 383, '있다고확신합니다': 384, '방향성으로': 385, '발전되어': 386, '갈것이다라고': 387, '비교하는': 388, '좀더': 389, '좋지': 390, '않을까': 391, '생각해': 392, '게임의': 393, '방식으로': 394, '다뤄졌던': 395, '형식이': 396, '주는데는': 397, '아쉬운': 398, '추진하는': 399, '대내외': 400, '트렌드인': 401, '쇼핑콘셉트를': 402, '활용해': 403, '소개하는': 404, '방송으로': 405, '찜': 406, '기업': 407, '트렌드': 408, '장바구니의': 409, '자존감마스크': 410, '인질극유의': 411, '눈물좋은': 412, '성공전략으로': 413, '티르티르가': 414, '방송되었는데': 415, '참신했네요': 416, '흥미로운': 417, '장면들이': 418, '국내': 419, '제품': 420, '첫': 421, '출시라는': 422, '기념비적인': 423, '업적을': 424, '회상하는': 425, '도입부가': 426, '인상깊었습니다': 427, '또한': 428, '현장의': 429, '딱딱하지': 430, '않고': 431, '위트있게': 432, '구성하여': 433, '보는데': 434, '부담이': 435, '분': 436, '순삭되었네요': 437, '다음화가': 438, '훈훈한': 439, '결말이네요': 440, '즐겁게': 441, '정확하게': 442, '인물을': 443, '찾는지': 444, '컨셉': 445, '혼돈이': 446, '느껴': 447, '집니다': 448, '솔루션처럼': 449, '솔루션인데성과로': 450, '이어지려면더욱': 451, '홍보가': 452, '필요할': 453, '한데요': 454, '이점에': 455, '보완도': 456, '방송되기엔': 457, '편성이': 458, '짦아': 459, '위험요소측면에서도': 460, '기술분야라': 461, '쉽고': 462, '집중이': 463, '되도록': 464, '방송시간을': 465, '구성했으면': 466, '좋겟습니다': 467, '무엇을': 468, '말': 469, '중심을': 470, '잃게': 471, '된': 472, '정돈이': 473, '필요해': 474, '보입니다': 475, '봄과': 476, '찾아온': 477, '오늘은프로그램': 478, '첫방': 479, '축하드립니다': 480, '관련': 481, '핫': 482, '장바구니담기로': 483, '소개해주셔서': 484, '아주': 485, '신선합니다': 486, '담다': 487, '기가지니': 488, '음성합성영상인데요': 489, '볼때마다': 490, '눈물이': 491, '납니다': 492, '전해주는': 493, '찡한': 494, '감동따뜻한': 495, '기술의': 496, '사례입니다': 497, '트렌드라기': 498, '보다는': 499, '절반이상을': 500, '차지해': 501, '건승을': 502, '바랍니다': 503, '어렵네요': 504, '간단하고': 505, '쉽게': 506, '나누어서뉴스': 507, '구성되었으면': 508, '아마': 509, '훨씬': 510, '많았을': 511, '부족했던': 512, '실적향상을위해': 513, '노력하는': 514, '갈수록': 515, '다음회는': 516, '어떨지': 517, '늘': 518, '참신한': 519, '실패했을때': 520, '포기하는게': 521, '아니고': 522, '일어서는': 523, '좋았습니다지금': 524, '힘들어': 525, '회사인에게': 526, '될거': 527, '업무에서': 528, '맡은바': 529, '업무에': 530, '서': 531, '좋습니다': 532, '재치있고': 533, '특색에대해서는': 534, '알게': 535, '기본적으로': 536, '숲의': 537, '관점으로': 538, '완벽했을': 539, '있다는': 540, '다른': 541, '영업점의': 542, '모습도': 543, '싶은데': 544, '적은': 545, '보여주면': 546, '인터뷰를': 547, '회사에게': 548, '원하는': 549, '요구사항도': 550, '나오도록': 551, '반영해주셨으면': 552, '해요': 553, '판매한다는게': 554, '제시되어야': 555, '한다고': 556, '자부심이': 557, '다음화도': 558, '자막의': 559, '줄였으면': 560, '많은것': 561, '조금은': 562, '사용법에': 563, '요약': 564, '및': 565, '사용체험이': 566, '있다면': 567, '좋겠음': 568, '인용이': 569, '보기에': 570, '사내방송을': 571, '업무처리': 572, '방식을': 573, '검토해보는': 574, '되었네요': 575, '사용자': 576, '인터뷰의': 577, '한업체의': 578, '사장님만': 579, '여러번': 580, '오래': 581, '나오는데': 582, '사례와': 583, '경험을': 584, '소개해주면': 585, '반응을': 586, '실감나게': 587, '느낄': 588, '기록하고': 589, '기억해주고': 590, '맞추어야': 591, '짧아서': 592, '인지': 593, '구성이': 594, '보완되면': 595, '내편들어': 596, '주는': 597, '점장님': 598, '멋있습니다': 599, '물론': 600, '실수는': 601, '잘못된': 602, '거지만': 603, '그러니까': 604, '실수죠': 605, '지점일': 606, '처음하는': 607, '직원들에게': 608, '에피소드를': 609, '표현한': 610, '재미있습니다': 611, '단일': 612, '솔루션만': 613, '봤으면': 614, '다음에도': 615, '부탁해요': 616, '응원하겠습니다': 617, '길어요': 618, '의도가': 619, '무엇인지': 620, '알아볼': 621, '방송이에요': 622, '민원': 623, '케어해서': 624, '단골고객으로': 625, '돌리고': 626, '세일즈': 627, '유치까지': 628, '이루어낸점이': 629, '인상적입니다민원고객을': 630, '친구들까지': 631, '소개시켜주는': 632, '확실한': 633, '민원처리입니다': 634, '덕후가': 635, '생겼으면': 636, '바램': 637, '내용인지': 638, '안됩니다': 639, '정리가': 640, '필요해보여요': 641, '의도를': 642, '알아차릴': 643, '어쩌다': 644, '첫출근': 645, '자체가': 646, '재미있는거': 647, '몰랐던': 648, '환경이나': 649, '기회고': 650, '송님도': 651, '유쾌해서': 652, '기다리는': 653, '코느중': 654, '하나에요': 655, '편도': 656, '봤어요': 657, '장면들은': 658, '아침에': 659, '불편하네요': 660, '따라가는': 661, '것도': 662, '중요하지만': 663, '문제와': 664, '부분도': 665, '개선에': 666, '도움을': 667, '주었으면': 668, '광고가': 669, '섭외된': 670, '모델이랑': 671, '찰떡이네요': 672, '목소리가': 673, '어울려요': 674, '초코파이': 675, '김씨': 676, '재밌네요': 677, '실제로': 678, '있을수있는': 679, '내용이네요고객': 680, '니즈가': 681, '잘소통되었네요': 682, '참고자료등은': 683, '편인데': 684, '아나운서의': 685, '말들은': 686, '제고활동으로': 687, '여러방안으로': 688, '시도되고': 689, '있는데트렌드를': 690, '반영하여': 691, '회사그룹만의': 692, '공략방안이': 693, '무엇일까': 694, '고민하게': 695, '후반부에서는집중도가떨어졌습니다타프로그램처럼마무리를하는방식도좋지않나생각해봅니다': 696, '주제에': 697, '내용인': 698, '유행어가': 699, '등장하면': 700, '자막으로': 701, '간단하게': 702, '주석을': 703, '달아서': 704, '알려': 705, '로밍이용이': 706, '없을': 707, '로밍에그로': 708, '찾아낸': 709, '대단하네요': 710, '제가': 711, '고객센터': 712, '전화상': 713, '유치하는': 714, '부서에서': 715, '근무하다보니': 716, '들어옵니다': 717, '개통시': 718, '출동비': 719, '불만이': 720, '많은데': 721, '셀프개통을': 722, '적극': 723, '활용해야겠어요': 724, '선도기업': 725, '그룹의': 726, '핵심가치를': 727, '실천하는': 728, '우리화화사가': 729, '굿굿': 730, '들의': 731, '빨라서': 732, '이해하기': 733, '어려워요': 734, '자막도': 735, '시청각': 736, '자료가': 737, '부족해요': 738, '방송보면서': 739, '하루시작하는게': 740, '즐겁습니다': 741, '영상': 742, '개인': 743, '개발에': 744, '될것': 745, '갑자기': 746, '끝나버리는': 747, '듯하': 748, '마무리가': 749, '당황스럽네요': 750, '트랜드가': 751, '픽으로': 752, '와': 753, '닿습니다': 754, '그런점에서': 755, '고객과의': 756, '관계에': 757, '되여야': 758, '그리고': 759, '두분': 760, '의': 761, '케미가': 762, '아침방송인데': 763, '불편합니다': 764, '마스크인질극': 765, '사회조직에': 766, '긍정적인': 767, '영향을': 768, '미치는': 769, '사회적': 770, '책임이': 771, '경영': 772, '활동에': 773, '전략': 774, '하나로': 775, '각광받고': 776, '따뜻한': 777, '기술기업': 778, '담는': 779, '슬로건에': 780, '부합한': 781, '내용이라고': 782, '양가': 783, '부모님들': 784, '대구분이': 785, '계셔서': 786, '저렇게': 787, '결혼식을': 788, '했다고': 789, '코로나와': 790, '노력': 791, '고객인식': 792, '등이': 793, '일목요연하게': 794, '보여줘서': 795, '좋았어요': 796, '지루해요': 797, '프로그램를': 798, '다시한번': 799, '확인한': 800, '되었습니다': 801, '짧은시간이지만': 802, '성과에': 803, '이야기가': 804, '나왔음': 805, '일관성이': 806, '없어요': 807, '시절이': 808, '생각나는': 809, '친근감이': 810, '드네요': 811, '수고하셨어요': 812, '멋지게': 813, '만든': 814, '같요': 815, '짱입니다': 816, '간편납부가': 817, '와닿는': 818, '컨텐츠였어요': 819, '예시는': 820, '오히려': 821, '브리핑이나': 822, '아님': 823, '끝나고': 824, '나서': 825, '오늘': 826, '전달한': 827, '콘텐츠에': 828, '정리를': 829, '해주시면': 830, '딱': 831, '들어와서': 832, '발전을': 833, '기원합니다': 834, '설명을': 835, '줄이고': 836, '기존': 837, '업계에서': 838, '사오는': 839, '현황': 840, '등': 841, '것인지도': 842, '사람들에게': 843, '것이라는걸': 844, '보여줄': 845, '있으면': 846, '컨텐츠가': 847, '저의': 848, '쇼핑싹쓰리': 849, '마음껏': 850, '여행도': 851, '못다니고': 852, '그나마': 853, '마음의': 854, '위안을': 855, '삼을': 856, '있는건': 857, '이제': 858, '인터넷만': 859, '뭐든': 860, '수가': 861, '감사한': 862, '마음입니다': 863, '싹쓰리요기술': 864, '발달이': 865, '구매를': 866, '편해지게': 867, '만드네요': 868, '섭외를': 869, '모델이에요': 870, '사례': 871, '또는': 872, '깊은': 873, '필요': 874, '때문에': 875, '좋아하는': 876, '헬스에': 877, '갈수': 878, '없네요': 879, '회부터': 880, '시작인가봐요': 881, '흥미진진해집니다': 882, '과연': 883, '위기극복을': 884, '해나갈지': 885, '기대되어요': 886, '두근두근': 887, '영업이': 888, '판다는게': 889, '해야': 890, '것을': 891, '좋은내용': 892, '컨설턴트롤러코스터': 893, '하루였네요': 894, '공감가는': 895, '많고': 896, '재밌어요': 897, '대면': 898, '매장과': 899, '차별성이': 900, '않았습니다': 901, '프로그램의': 902, '편성': 903, '때문인지': 904, '사례가': 905, '구체적이지': 906, '않았던것': 907, '맡은': 908, '역할들을': 909, '기회였습니다': 910, '파이팅': 911, '경쟁력이네요': 912, '다음이': 913, '기대가': 914, '되며': 915, '유익합니다': 916, '솔루션이': 917, '나열식으로': 918, '진행되다보니': 919, '차이점을': 920, '어려웠던': 921, '소리인지': 922, '부가설명이': 923, '달아주세요': 924, '인식': 925, '제고를': 926, '위해': 927, '우리모두': 928, '감사하게': 929, '보고있습니다': 930, '주제로': 931, '더해주는': 932, '매번': 933, '기대를': 934, '충족시켜주네요': 935, '형식의': 936, '신선하네요': 937, '해서': 938, '소식': 939, '전해주시길': 940, '기대합니다': 941, '좌충우돌문제가': 942, '많아보이는': 943, '네인것': 944, '기본은': 945, '고객중심이고': 946, '거기에': 947, '주인정신으로': 948, '임한다면': 949, '나은': 950, '네로': 951, '발전하리라': 952, '생각됩니다': 953, '네의': 954, '성장하는': 955, '모습': 956, '기대하겠습니다': 957, '네': 958, '연기가': 959, '어색해요': 960, '고객과': 961, '소통하는': 962, '보여주었네요': 963, '방송녹화방송의': 964, '소리가': 965, '들리지가': 966, '않아서': 967, '영상만을': 968, '시청한': 969, '방송이었는데요트렌드': 970, '장바구니에서': 971, '자존감': 972, '픽을': 973, '선택하고': 974, '싶네요강자에게': 975, '부당함으로': 976, '꿇치': 977, '안치만내사람회사을를': 978, '위해서라면': 979, '천번이라도': 980, '꿇을수': 981, '사람이': 982, '진짜': 983, '아닐까요': 984, '힘': 985, '시도에': 986, '기대감이': 987, '김씨도': 988, '전세계가': 989, '코로아': 990, '시대를': 991, '맞아': 992, '뉴노멀시대에서의': 993, '한발': 994, '앞서': 995, '파악하라는': 996, '제목으로': 997, '진행되었는데요티핑': 998, '바로': 999, '그': 1000, '순간과': 1001, '뷰': 1002, '방송에서': 1003, '뉴노멀시대를': 1004, '대비한': 1005, '정책등을': 1006, '살펴볼수가': 1007, '좋았던것': 1008, '수고': 1009, '하셨습니다감사합니다': 1010, '슬기로운': 1011, '활동': 1012, '인상적인': 1013, '많네요': 1014, '이런': 1015, '관한': 1016, '앞의': 1017, '비에': 1018, '적었던': 1019, '아닌가': 1020, '생각되네요': 1021, '다양한솔루션이소개가되었는데어떤차이점이있는지이해하기가어려웠습니다': 1022, '서비스실수는': 1023, '실수중': 1024, '하나인데': 1025, '그렇다고': 1026, '퇴사를': 1027, '간단한': 1028, '이해하는데': 1029, '되지': 1030, '않았을까': 1031, '싶네요': 1032, '다': 1033, '잼있고': 1034, '남아서': 1035, '뭘': 1036, '찜해야': 1037, '할지': 1038, '라이브': 1039, '합동응원': 1040, '청춘해': 1041, '싹쓰리': 1042, '등등': 1043, '넘': 1044, '잼나요': 1045, '결혼': 1046, '좋았지만': 1047, '김씨가': 1048, '출연한': 1049, '전통시장홍보가': 1050, '인상적이었습니다': 1051, '급감한': 1052, '소상공인을': 1053, '돕는': 1054, '취지가': 1055, '보고싶지': 1056, '공감이': 1057, '안되는': 1058, '방송이었어요': 1059, '방영해': 1060, '우연찮게': 1061, '보게': 1062, '됐습니다': 1063, '모르고': 1064, '보았습니다앞으로도': 1065, '기대되는': 1066, '다음': 1067, '회차에는': 1068, '에피소드가': 1069, '있을지': 1070, '궁금하네요': 1071, '타사': 1072, '같군요': 1073, '발전입니다': 1074, '잘보았습니다': 1075, '수고많으셨습니다': 1076, '아쉬웠던': 1077, '사례나': 1078, '번': 1079, '실패': 1080, '후': 1081, '개선했던': 1082, '사항': 1083, '들어있으면': 1084, '어떨까': 1085, '싶습니다': 1086, '미화된': 1087, '홍보에요': 1088, '본부별': 1089, '소개를': 1090, '부분에서': 1091, '본부인지에': 1092, '제대로': 1093, '보이지가': 1094, '가독성이': 1095, '떨어지는': 1096, '부분입니다': 1097, '있는지를': 1098, '좋겠다는': 1099, '들었다': 1100, '바뀌었네요재미있게': 1101, '봅니다': 1102, '하기': 1103, '어렵습니다': 1104, '별로에요': 1105, '편의성': 1106, '향상': 1107, '기대': 1108, '기승전결이': 1109, '뚜렷했으면': 1110, '폰트가': 1111, '상황마다': 1112, '바뀌는데': 1113, '통일성이': 1114, '없어보이는': 1115, '니즈에': 1116, '맞춘': 1117, '코로나의': 1118, '영향으로': 1119, '침체된': 1120, '소비문화의': 1121, '실제와': 1122, '같았으면': 1123, '하네요': 1124, '서비스로': 1125, '나갔으면': 1126, '이달의': 1127, '재미': 1128, '싹쓰리입니다': 1129, '요즘': 1130, '온라인에': 1131, '재밌는': 1132, '영상과': 1133, '사진이': 1134, '많아서': 1135, '읽다보면': 1136, '모릅니다': 1137, '편을': 1138, '신분을': 1139, '감추고': 1140, '각': 1141, '지점을': 1142, '방문하여': 1143, '상담을': 1144, '받았던': 1145, '기억이': 1146, '났습니다현장': 1147, '컨설턴트의': 1148, '애로사항과': 1149, '활동사항을': 1150, '장난스럽게': 1151, '느껴지는': 1152, '면이': 1153, '캠패인': 1154, '이후의': 1155, '매출증대는': 1156, '이어지는지': 1157, '괜찮네요': 1158, '좋지도': 1159, '않네요란': 1160, '생각을': 1161, '잠시': 1162, '잊고': 1163, '유투브에': 1164, '올려도': 1165, '콘텐츠일': 1166, '시장에서의': 1167, '객관적인': 1168, '경쟁력': 1169, '수준을': 1170, '타사대비': 1171, '유사서비스': 1172, '대비': 1173, '해외동향': 1174, '정보가': 1175, '같다는': 1176, '의견': 1177, '드립니다': 1178, '자주': 1179, '이용해야겠네요': 1180, '정량적': 1181, '지표가': 1182, '기업이미지가': 1183, '더더욱': 1184, '크게': 1185, '부각되어가는': 1186, '변화에': 1187, '노력이': 1188, '필요한것': 1189, '상황에도': 1190, '갖은분들이': 1191, '많다는걸': 1192, '세삼': 1193, '느꼈습니다': 1194, '대박': 1195, '놀랐습니다': 1196, '흥미롭게': 1197, '기획하고': 1198, '제작하신거': 1199, '사업을': 1200, '우회하여': 1201, '의미를': 1202, '만드는': 1203, '것은': 1204, '메시지를': 1205, '전달하기': 1206, '어려울': 1207, '화이팅하세요': 1208, '멋진': 1209, '분들입니다': 1210, '전기': 1211, '통신비': 1212, '절감': 1213, '무료컨설팅을': 1214, '통한': 1215, '활성화': 1216, '방안보기': 1217, '서비스가': 1218, '나가': 1219, '고객들에게': 1220, '편리함으로': 1221, '다가갔으면': 1222, '가진': 1223, '데이터의': 1224, '강점이': 1225, '인터뷰로만': 1226, '처리되어': 1227, '신뢰성이': 1228, '낮아': 1229, '점이': 1230, '있다': 1231, '정신없는': 1232, '화면전개': 1233, '불편해요': 1234, '진행방식이': 1235, '미숙한건지': 1236, '대본이': 1237, '산만한건지': 1238, '정돈될': 1239, '보이네요': 1240, '딱딱해서': 1241, '별로였음': 1242, '거칠었던': 1243, '같습니다있을': 1244, '내용이지만': 1245, '월요일': 1246, '싸우는': 1247, '목소리가방송을': 1248, '전파되어': 1249, '한편으론': 1250, '빠른': 1251, '전개와': 1252, '발화에': 1253, '정확한': 1254, '흐름이': 1255, '이상': 1256, '일어나지': 1257, '일들인': 1258, '보완이': 1259, '필요한': 1260, '성급한': 1261, '결론으로': 1262, '비춰지는': 1263, '듯한': 1264, '남습니다': 1265, '방송드라마를': 1266, '보게되다니': 1267, '신기하고': 1268, '새롭습니다': 1269, '싹쓰리요갓뚜기': 1270, '오동통면': 1271, '먹어보고이제': 1272, '너구리는': 1273, '뒷전으로저의': 1274, '라면': 1275, '됐어요맛있는거': 1276, '먹고좋은일도': 1277, '하고석조': 1278, '주제가': 1279, '주제를초반에말해주던지아니면상단에알려주던지하면좋을것같습니다그래야방송을중간에보는사람들도이해가되지않을까싶습니다': 1280, '사내방송': 1281, '특성상': 1282, '이슈화': 1283, '되거나': 1284, '언급이': 1285, '자주되는': 1286, '키워드를': 1287, '중심으로': 1288, '뉴스를': 1289, '구성하는': 1290, '있으나': 1291, '전문용어나': 1292, '네이밍이': 1293, '빈번하게': 1294, '노출이': 1295, '주의가': 1296, '필요해보입니다': 1297, '적용해야': 1298, '방법이': 1299, '여러': 1300, '지점의': 1301, '모아서': 1302, '전달하는': 1303, '코너에서': 1304, '짧은시간에': 1305, '전달하려다': 1306, '전달하고자': 1307, '사항이': 1308, '의문이': 1309, '드는': 1310, '비유': 1311, '프로': 1312, '지점에서': 1313, '타': 1314, '상품들을': 1315, '컬래버': 1316, '진열할': 1317, '때에': 1318, '본질과': 1319, '연관없는': 1320, '상품인': 1321, '전문성이나': 1322, '측면의': 1323, '악영향은': 1324, '없는지': 1325, '활용하여': 1326, '이러한': 1327, '얼마나': 1328, '늘었고': 1329, '되었다라고하는': 1330, '중요한게': 1331, '빠져있어': 1332, '되어가네요': 1333, '이미': 1334, '적극활용되는': 1335, '최고입니다': 1336, '이익이나': 1337, '이점이': 1338, '있었는지': 1339, '수치화가': 1340, '신뢰가': 1341, '부족합니다': 1342, '진행으로': 1343, '지루함을': 1344, '느꼈어요': 1345, '상품과': 1346, '콜라보': 1347, '되는지': 1348, '이해하기가': 1349, '이': 1350, '방송을': 1351, '해당': 1352, '문제를': 1353, '여기는': 1354, '있을까': 1355, '예능대세': 1356, '배우송씨가': 1357, '신입사원이': 1358, '고객발': 1359, '자기혁신에': 1360, '힘쓰고': 1361, '임직원의': 1362, '고군분투': 1363, '방문하는': 1364, '스토리로': 1365, '오늘은': 1366, '체험하고': 1367, '어려움도': 1368, '확인해보는': 1369, '좌충우돌': 1370, '회사그룹탐방기로': 1371, '디지털홈쇼핑': 1372, '선두주자': 1373, '쇼핑을': 1374, '찾은': 1375, '좌층우돌': 1376, '방송이었네요': 1377, '차별화': 1378, '점을': 1379, '명확히': 1380, '다루어졌으면': 1381, '같았습니다': 1382, '재미는': 1383, '있는데': 1384, '짧은게': 1385, '다음편이': 1386, '왔다갔다': 1387, '앵글에': 1388, '빨리': 1389, '지나가서': 1390, '알아보기': 1391, '힘들어요': 1392, '반영': 1393, '최근에': 1394, '위주의': 1395, '콘텐츠들이': 1396, '집중해서': 1397, '경향이': 1398, '생각보다': 1399, '감사드립니다': 1400, '화면이': 1401, '작아': 1402, '현실고증': 1403, '되어있네요': 1404, '매니저의': 1405, '리액션에': 1406, '빵터지고': 1407, '해도': 1408, '옆에': 1409, '동료가': 1410, '제일': 1411, '큰': 1412, '오늘도': 1413, '프로그램을': 1414, '배워': 1415, '가네요': 1416, '길': 1417, '와닿네요': 1418}\n"
     ]
    }
   ],
   "source": [
    "# 단어에 대한 숫자 매핑\n",
    "print(tokenizer.word_index)"
   ]
  },
  {
   "cell_type": "code",
   "execution_count": 82,
   "id": "3f019cfe-f841-4728-9fc8-4355b0e1f2bb",
   "metadata": {},
   "outputs": [
    {
     "name": "stdout",
     "output_type": "stream",
     "text": [
      "{1: '우리', 2: '너무', 3: '것', 4: '잘', 5: '더', 6: '같습니다', 7: '같아요', 8: '좋은', 9: '대한', 10: '수', 11: '좀', 12: '감사합니다', 13: '어떤', 14: '조금', 15: '회사의', 16: '있는', 17: '많이', 18: '회사', 19: '항상', 20: '부분이', 21: '재밌게', 22: '재미있게', 23: '방송', 24: '하는', 25: '프로그램', 26: '정말', 27: '도움이', 28: '고객의', 29: '새로운', 30: '좋겠습니다', 31: '사내', 32: '있었습니다', 33: '방송은', 34: '보고', 35: '응원합니다', 36: '통해', 37: '가장', 38: '쇼핑', 39: '앞으로도', 40: '있습니다', 41: '보는', 42: '어떻게', 43: '보았습니다', 44: '기대됩니다', 45: '차별화된', 46: '다소', 47: '금일', 48: '회사가', 49: '기업이미지', 50: '시간', 51: '아쉬웠습니다', 52: '화이팅', 53: '다양한', 54: '좋을', 55: '합니다', 56: '유익한', 57: '없는', 58: '기획', 59: '많은', 60: '한', 61: '방송이', 62: '서비스', 63: '됩니다', 64: '저도', 65: '케어하여', 66: '되고', 67: '신선한', 68: '전혀', 69: '있어', 70: '잘봤습니다', 71: '최근', 72: '계속', 73: '있었으면', 74: '이미지', 75: '기업의', 76: '참', 77: '있네요', 78: '봤습니다', 79: '아쉽습니다', 80: '있을', 81: '하고', 82: '있는지', 83: '같네요', 84: '함께', 85: '재미있고', 86: '제', 87: '픽은', 88: '마음을', 89: '서비스에', 90: '내용이', 91: '이번', 92: '입니다', 93: '업무를', 94: '모습을', 95: '할', 96: '고객에게', 97: '상품을', 98: '회사화이팅', 99: '파이팅입니다', 100: '느낌이', 101: '시간이', 102: '거', 103: '아쉽네요', 104: '고객을', 105: '부족한', 106: '자막이', 107: '되는', 108: '코로나로', 109: '것이', 110: '역시', 111: '짧게', 112: '있어서', 113: '픽', 114: '구체적으로', 115: '있음', 116: '신입사원', 117: '마케팅', 118: '점점', 119: '내용도', 120: '않아요', 121: '설명이', 122: '매출이', 123: '꼼꼼히', 124: '업무처리해야겠다고', 125: '생각되었습니다', 126: '매장에서', 127: '적용할', 128: '부분들에', 129: '대해서도', 130: '유쾌하게', 131: '풀어내어', 132: '이래저래', 133: '들이', 134: '말이', 135: '저희', 136: '진행이', 137: '내용은', 138: '기억에', 139: '보이는', 140: '갑니다', 141: '외부', 142: '주셨으면', 143: '홈쇼핑', 144: '쇼핑에', 145: '근무', 146: '일을', 147: '하는지', 148: '알게되었습니다', 149: '코로나', 150: '인해', 151: '있는만큼', 152: '분야의', 153: '니즈를', 154: '가볍게', 155: '재미를', 156: '되었지만', 157: '제고활동과', 158: '이태원', 159: '클라쓰로', 160: '소신과', 161: '이야기를', 162: '없어', 163: '약간', 164: '듯', 165: '같이', 166: '바라볼', 167: '필요가', 168: '아무래도', 169: '이해가', 170: '짧고', 171: '미숙한', 172: '이슈를', 173: '가', 174: '쇼핑의', 175: '멘트가', 176: '직원들이', 177: '모르는', 178: '재미가', 179: '지점', 180: '있어요', 181: '모습이', 182: '위로가', 183: '힘이', 184: '모든', 185: '최선을', 186: '다하는', 187: '회사에', 188: '더욱', 189: '생각이', 190: '들었습니다', 191: '업무', 192: '보여주어', 193: '아쉬워요', 194: '고객', 195: '때', 196: '맞춤형', 197: '즐겁고', 198: '유익하게', 199: '생각합니다', 200: '고객중심', 201: '생기는', 202: '방송이네요', 203: '글씨를', 204: '같아서', 205: '산만한', 206: '듭니다', 207: '간략한', 208: '설명', 209: '방송에', 210: '맞지', 211: '않는', 212: '불편했습니다', 213: '다시', 214: '한번', 215: '계기가', 216: '경우', 217: '소개', 218: '같아', 219: '시장을', 220: '정보', 221: '내용', 222: '무슨', 223: '파악이', 224: '알', 225: '부정적인', 226: '보기', 227: '나오는', 228: '시간이었습니다', 229: '같은데', 230: '에서', 231: '셀프개통이', 232: '눈에', 233: '나왔으면', 234: '좋겠어요', 235: '되어', 236: '돈쭐', 237: '스토리가', 238: '어울리는', 239: '소리지르는', 240: '장면은', 241: '매우', 242: '중', 243: '아쉬움이', 244: '광고', 245: '좋네요', 246: '서비스와', 247: '같은', 248: '데이터를', 249: '데이터', 250: '활용이', 251: '온라인', 252: '가지', 253: '사례에', 254: '판매', 255: '와닿지', 256: '볼', 257: '좋아요', 258: '확인하기', 259: '자막', 260: '화이팅입니다', 261: '영업의', 262: '무릅을', 263: '방송의', 264: '포인트', 265: '위한', 266: '회사그룹', 267: '부탁드립니다', 268: '실제', 269: '추가되면', 270: '모르겠네요', 271: '모두', 272: '좋았습니다', 273: '가는', 274: '줄', 275: '등의', 276: '좋겠네요', 277: '않아', 278: '셀프개통', 279: '내', 280: '발전해', 281: '보니', 282: '없어서', 283: '좋았을', 284: '현실에서', 285: '어려운', 286: '따듯한', 287: '현장에', 288: '전체적으로', 289: '아침부터', 290: '수도', 291: '않은', 292: '통해서', 293: '뭔지', 294: '소식을', 295: '염려가', 296: '어떠한', 297: '쉽지', 298: '직접', 299: '입사', 300: '개월', 301: '갓', 302: '지난', 303: '신입사원으로써', 304: '공감되는', 305: '있고', 306: '완전', 307: '판매를', 308: '위해서', 309: '꾸준히', 310: '챙겨보고', 311: '매', 312: '방송마다', 313: '아이디어가', 314: '도출되는', 315: '아직은', 316: '미숙해보이네요', 317: '어색한', 318: '들려요', 319: '회사직원분들과', 320: '호흡도', 321: '좋았고', 322: '상당히', 323: '매끄로워', 324: '내내', 325: '즐거웠습니다', 326: '직원분들도', 327: '꿀리는거', 328: '없이', 329: '능숙해', 330: '지셨네요', 331: '분량이', 332: '치우쳐', 333: '앞부분의', 334: '안남는', 335: '입장에서', 336: '생각하면', 337: '트렌드가', 338: '송씨가', 339: '출근하자마자', 340: '안마의자', 341: '앉아서', 342: '쉬는게', 343: '부럽기도', 344: '했네요쇼호스트분들의', 345: '진행솜씨또한', 346: '감탄하고', 347: '다음은', 348: '어디', 349: '탐방', 350: '예정인가요', 351: '우리회사와', 352: '소비자를', 353: '연결하는', 354: '내용을', 355: '보강해', 356: '시청을', 357: '하지않아', 358: '대해', 359: '몰랐으나', 360: '금번', 361: '예능인의', 362: '체험으로', 363: '전반적으로', 364: '업무가', 365: '돌아가고', 366: '간접적으로', 367: '또다시', 368: '확산으로', 369: '산업체', 370: '전분야에', 371: '영향이', 372: '쇼핑이', 373: '최고로', 374: '거듭나길', 375: '바라겠습니다', 376: '화에', 377: '이어', 378: '화', 379: '다음화', 380: '정확히', 381: '파악하면', 382: '트랜드를', 383: '발굴할수', 384: '있다고확신합니다', 385: '방향성으로', 386: '발전되어', 387: '갈것이다라고', 388: '비교하는', 389: '좀더', 390: '좋지', 391: '않을까', 392: '생각해', 393: '게임의', 394: '방식으로', 395: '다뤄졌던', 396: '형식이', 397: '주는데는', 398: '아쉬운', 399: '추진하는', 400: '대내외', 401: '트렌드인', 402: '쇼핑콘셉트를', 403: '활용해', 404: '소개하는', 405: '방송으로', 406: '찜', 407: '기업', 408: '트렌드', 409: '장바구니의', 410: '자존감마스크', 411: '인질극유의', 412: '눈물좋은', 413: '성공전략으로', 414: '티르티르가', 415: '방송되었는데', 416: '참신했네요', 417: '흥미로운', 418: '장면들이', 419: '국내', 420: '제품', 421: '첫', 422: '출시라는', 423: '기념비적인', 424: '업적을', 425: '회상하는', 426: '도입부가', 427: '인상깊었습니다', 428: '또한', 429: '현장의', 430: '딱딱하지', 431: '않고', 432: '위트있게', 433: '구성하여', 434: '보는데', 435: '부담이', 436: '분', 437: '순삭되었네요', 438: '다음화가', 439: '훈훈한', 440: '결말이네요', 441: '즐겁게', 442: '정확하게', 443: '인물을', 444: '찾는지', 445: '컨셉', 446: '혼돈이', 447: '느껴', 448: '집니다', 449: '솔루션처럼', 450: '솔루션인데성과로', 451: '이어지려면더욱', 452: '홍보가', 453: '필요할', 454: '한데요', 455: '이점에', 456: '보완도', 457: '방송되기엔', 458: '편성이', 459: '짦아', 460: '위험요소측면에서도', 461: '기술분야라', 462: '쉽고', 463: '집중이', 464: '되도록', 465: '방송시간을', 466: '구성했으면', 467: '좋겟습니다', 468: '무엇을', 469: '말', 470: '중심을', 471: '잃게', 472: '된', 473: '정돈이', 474: '필요해', 475: '보입니다', 476: '봄과', 477: '찾아온', 478: '오늘은프로그램', 479: '첫방', 480: '축하드립니다', 481: '관련', 482: '핫', 483: '장바구니담기로', 484: '소개해주셔서', 485: '아주', 486: '신선합니다', 487: '담다', 488: '기가지니', 489: '음성합성영상인데요', 490: '볼때마다', 491: '눈물이', 492: '납니다', 493: '전해주는', 494: '찡한', 495: '감동따뜻한', 496: '기술의', 497: '사례입니다', 498: '트렌드라기', 499: '보다는', 500: '절반이상을', 501: '차지해', 502: '건승을', 503: '바랍니다', 504: '어렵네요', 505: '간단하고', 506: '쉽게', 507: '나누어서뉴스', 508: '구성되었으면', 509: '아마', 510: '훨씬', 511: '많았을', 512: '부족했던', 513: '실적향상을위해', 514: '노력하는', 515: '갈수록', 516: '다음회는', 517: '어떨지', 518: '늘', 519: '참신한', 520: '실패했을때', 521: '포기하는게', 522: '아니고', 523: '일어서는', 524: '좋았습니다지금', 525: '힘들어', 526: '회사인에게', 527: '될거', 528: '업무에서', 529: '맡은바', 530: '업무에', 531: '서', 532: '좋습니다', 533: '재치있고', 534: '특색에대해서는', 535: '알게', 536: '기본적으로', 537: '숲의', 538: '관점으로', 539: '완벽했을', 540: '있다는', 541: '다른', 542: '영업점의', 543: '모습도', 544: '싶은데', 545: '적은', 546: '보여주면', 547: '인터뷰를', 548: '회사에게', 549: '원하는', 550: '요구사항도', 551: '나오도록', 552: '반영해주셨으면', 553: '해요', 554: '판매한다는게', 555: '제시되어야', 556: '한다고', 557: '자부심이', 558: '다음화도', 559: '자막의', 560: '줄였으면', 561: '많은것', 562: '조금은', 563: '사용법에', 564: '요약', 565: '및', 566: '사용체험이', 567: '있다면', 568: '좋겠음', 569: '인용이', 570: '보기에', 571: '사내방송을', 572: '업무처리', 573: '방식을', 574: '검토해보는', 575: '되었네요', 576: '사용자', 577: '인터뷰의', 578: '한업체의', 579: '사장님만', 580: '여러번', 581: '오래', 582: '나오는데', 583: '사례와', 584: '경험을', 585: '소개해주면', 586: '반응을', 587: '실감나게', 588: '느낄', 589: '기록하고', 590: '기억해주고', 591: '맞추어야', 592: '짧아서', 593: '인지', 594: '구성이', 595: '보완되면', 596: '내편들어', 597: '주는', 598: '점장님', 599: '멋있습니다', 600: '물론', 601: '실수는', 602: '잘못된', 603: '거지만', 604: '그러니까', 605: '실수죠', 606: '지점일', 607: '처음하는', 608: '직원들에게', 609: '에피소드를', 610: '표현한', 611: '재미있습니다', 612: '단일', 613: '솔루션만', 614: '봤으면', 615: '다음에도', 616: '부탁해요', 617: '응원하겠습니다', 618: '길어요', 619: '의도가', 620: '무엇인지', 621: '알아볼', 622: '방송이에요', 623: '민원', 624: '케어해서', 625: '단골고객으로', 626: '돌리고', 627: '세일즈', 628: '유치까지', 629: '이루어낸점이', 630: '인상적입니다민원고객을', 631: '친구들까지', 632: '소개시켜주는', 633: '확실한', 634: '민원처리입니다', 635: '덕후가', 636: '생겼으면', 637: '바램', 638: '내용인지', 639: '안됩니다', 640: '정리가', 641: '필요해보여요', 642: '의도를', 643: '알아차릴', 644: '어쩌다', 645: '첫출근', 646: '자체가', 647: '재미있는거', 648: '몰랐던', 649: '환경이나', 650: '기회고', 651: '송님도', 652: '유쾌해서', 653: '기다리는', 654: '코느중', 655: '하나에요', 656: '편도', 657: '봤어요', 658: '장면들은', 659: '아침에', 660: '불편하네요', 661: '따라가는', 662: '것도', 663: '중요하지만', 664: '문제와', 665: '부분도', 666: '개선에', 667: '도움을', 668: '주었으면', 669: '광고가', 670: '섭외된', 671: '모델이랑', 672: '찰떡이네요', 673: '목소리가', 674: '어울려요', 675: '초코파이', 676: '김씨', 677: '재밌네요', 678: '실제로', 679: '있을수있는', 680: '내용이네요고객', 681: '니즈가', 682: '잘소통되었네요', 683: '참고자료등은', 684: '편인데', 685: '아나운서의', 686: '말들은', 687: '제고활동으로', 688: '여러방안으로', 689: '시도되고', 690: '있는데트렌드를', 691: '반영하여', 692: '회사그룹만의', 693: '공략방안이', 694: '무엇일까', 695: '고민하게', 696: '후반부에서는집중도가떨어졌습니다타프로그램처럼마무리를하는방식도좋지않나생각해봅니다', 697: '주제에', 698: '내용인', 699: '유행어가', 700: '등장하면', 701: '자막으로', 702: '간단하게', 703: '주석을', 704: '달아서', 705: '알려', 706: '로밍이용이', 707: '없을', 708: '로밍에그로', 709: '찾아낸', 710: '대단하네요', 711: '제가', 712: '고객센터', 713: '전화상', 714: '유치하는', 715: '부서에서', 716: '근무하다보니', 717: '들어옵니다', 718: '개통시', 719: '출동비', 720: '불만이', 721: '많은데', 722: '셀프개통을', 723: '적극', 724: '활용해야겠어요', 725: '선도기업', 726: '그룹의', 727: '핵심가치를', 728: '실천하는', 729: '우리화화사가', 730: '굿굿', 731: '들의', 732: '빨라서', 733: '이해하기', 734: '어려워요', 735: '자막도', 736: '시청각', 737: '자료가', 738: '부족해요', 739: '방송보면서', 740: '하루시작하는게', 741: '즐겁습니다', 742: '영상', 743: '개인', 744: '개발에', 745: '될것', 746: '갑자기', 747: '끝나버리는', 748: '듯하', 749: '마무리가', 750: '당황스럽네요', 751: '트랜드가', 752: '픽으로', 753: '와', 754: '닿습니다', 755: '그런점에서', 756: '고객과의', 757: '관계에', 758: '되여야', 759: '그리고', 760: '두분', 761: '의', 762: '케미가', 763: '아침방송인데', 764: '불편합니다', 765: '마스크인질극', 766: '사회조직에', 767: '긍정적인', 768: '영향을', 769: '미치는', 770: '사회적', 771: '책임이', 772: '경영', 773: '활동에', 774: '전략', 775: '하나로', 776: '각광받고', 777: '따뜻한', 778: '기술기업', 779: '담는', 780: '슬로건에', 781: '부합한', 782: '내용이라고', 783: '양가', 784: '부모님들', 785: '대구분이', 786: '계셔서', 787: '저렇게', 788: '결혼식을', 789: '했다고', 790: '코로나와', 791: '노력', 792: '고객인식', 793: '등이', 794: '일목요연하게', 795: '보여줘서', 796: '좋았어요', 797: '지루해요', 798: '프로그램를', 799: '다시한번', 800: '확인한', 801: '되었습니다', 802: '짧은시간이지만', 803: '성과에', 804: '이야기가', 805: '나왔음', 806: '일관성이', 807: '없어요', 808: '시절이', 809: '생각나는', 810: '친근감이', 811: '드네요', 812: '수고하셨어요', 813: '멋지게', 814: '만든', 815: '같요', 816: '짱입니다', 817: '간편납부가', 818: '와닿는', 819: '컨텐츠였어요', 820: '예시는', 821: '오히려', 822: '브리핑이나', 823: '아님', 824: '끝나고', 825: '나서', 826: '오늘', 827: '전달한', 828: '콘텐츠에', 829: '정리를', 830: '해주시면', 831: '딱', 832: '들어와서', 833: '발전을', 834: '기원합니다', 835: '설명을', 836: '줄이고', 837: '기존', 838: '업계에서', 839: '사오는', 840: '현황', 841: '등', 842: '것인지도', 843: '사람들에게', 844: '것이라는걸', 845: '보여줄', 846: '있으면', 847: '컨텐츠가', 848: '저의', 849: '쇼핑싹쓰리', 850: '마음껏', 851: '여행도', 852: '못다니고', 853: '그나마', 854: '마음의', 855: '위안을', 856: '삼을', 857: '있는건', 858: '이제', 859: '인터넷만', 860: '뭐든', 861: '수가', 862: '감사한', 863: '마음입니다', 864: '싹쓰리요기술', 865: '발달이', 866: '구매를', 867: '편해지게', 868: '만드네요', 869: '섭외를', 870: '모델이에요', 871: '사례', 872: '또는', 873: '깊은', 874: '필요', 875: '때문에', 876: '좋아하는', 877: '헬스에', 878: '갈수', 879: '없네요', 880: '회부터', 881: '시작인가봐요', 882: '흥미진진해집니다', 883: '과연', 884: '위기극복을', 885: '해나갈지', 886: '기대되어요', 887: '두근두근', 888: '영업이', 889: '판다는게', 890: '해야', 891: '것을', 892: '좋은내용', 893: '컨설턴트롤러코스터', 894: '하루였네요', 895: '공감가는', 896: '많고', 897: '재밌어요', 898: '대면', 899: '매장과', 900: '차별성이', 901: '않았습니다', 902: '프로그램의', 903: '편성', 904: '때문인지', 905: '사례가', 906: '구체적이지', 907: '않았던것', 908: '맡은', 909: '역할들을', 910: '기회였습니다', 911: '파이팅', 912: '경쟁력이네요', 913: '다음이', 914: '기대가', 915: '되며', 916: '유익합니다', 917: '솔루션이', 918: '나열식으로', 919: '진행되다보니', 920: '차이점을', 921: '어려웠던', 922: '소리인지', 923: '부가설명이', 924: '달아주세요', 925: '인식', 926: '제고를', 927: '위해', 928: '우리모두', 929: '감사하게', 930: '보고있습니다', 931: '주제로', 932: '더해주는', 933: '매번', 934: '기대를', 935: '충족시켜주네요', 936: '형식의', 937: '신선하네요', 938: '해서', 939: '소식', 940: '전해주시길', 941: '기대합니다', 942: '좌충우돌문제가', 943: '많아보이는', 944: '네인것', 945: '기본은', 946: '고객중심이고', 947: '거기에', 948: '주인정신으로', 949: '임한다면', 950: '나은', 951: '네로', 952: '발전하리라', 953: '생각됩니다', 954: '네의', 955: '성장하는', 956: '모습', 957: '기대하겠습니다', 958: '네', 959: '연기가', 960: '어색해요', 961: '고객과', 962: '소통하는', 963: '보여주었네요', 964: '방송녹화방송의', 965: '소리가', 966: '들리지가', 967: '않아서', 968: '영상만을', 969: '시청한', 970: '방송이었는데요트렌드', 971: '장바구니에서', 972: '자존감', 973: '픽을', 974: '선택하고', 975: '싶네요강자에게', 976: '부당함으로', 977: '꿇치', 978: '안치만내사람회사을를', 979: '위해서라면', 980: '천번이라도', 981: '꿇을수', 982: '사람이', 983: '진짜', 984: '아닐까요', 985: '힘', 986: '시도에', 987: '기대감이', 988: '김씨도', 989: '전세계가', 990: '코로아', 991: '시대를', 992: '맞아', 993: '뉴노멀시대에서의', 994: '한발', 995: '앞서', 996: '파악하라는', 997: '제목으로', 998: '진행되었는데요티핑', 999: '바로', 1000: '그', 1001: '순간과', 1002: '뷰', 1003: '방송에서', 1004: '뉴노멀시대를', 1005: '대비한', 1006: '정책등을', 1007: '살펴볼수가', 1008: '좋았던것', 1009: '수고', 1010: '하셨습니다감사합니다', 1011: '슬기로운', 1012: '활동', 1013: '인상적인', 1014: '많네요', 1015: '이런', 1016: '관한', 1017: '앞의', 1018: '비에', 1019: '적었던', 1020: '아닌가', 1021: '생각되네요', 1022: '다양한솔루션이소개가되었는데어떤차이점이있는지이해하기가어려웠습니다', 1023: '서비스실수는', 1024: '실수중', 1025: '하나인데', 1026: '그렇다고', 1027: '퇴사를', 1028: '간단한', 1029: '이해하는데', 1030: '되지', 1031: '않았을까', 1032: '싶네요', 1033: '다', 1034: '잼있고', 1035: '남아서', 1036: '뭘', 1037: '찜해야', 1038: '할지', 1039: '라이브', 1040: '합동응원', 1041: '청춘해', 1042: '싹쓰리', 1043: '등등', 1044: '넘', 1045: '잼나요', 1046: '결혼', 1047: '좋았지만', 1048: '김씨가', 1049: '출연한', 1050: '전통시장홍보가', 1051: '인상적이었습니다', 1052: '급감한', 1053: '소상공인을', 1054: '돕는', 1055: '취지가', 1056: '보고싶지', 1057: '공감이', 1058: '안되는', 1059: '방송이었어요', 1060: '방영해', 1061: '우연찮게', 1062: '보게', 1063: '됐습니다', 1064: '모르고', 1065: '보았습니다앞으로도', 1066: '기대되는', 1067: '다음', 1068: '회차에는', 1069: '에피소드가', 1070: '있을지', 1071: '궁금하네요', 1072: '타사', 1073: '같군요', 1074: '발전입니다', 1075: '잘보았습니다', 1076: '수고많으셨습니다', 1077: '아쉬웠던', 1078: '사례나', 1079: '번', 1080: '실패', 1081: '후', 1082: '개선했던', 1083: '사항', 1084: '들어있으면', 1085: '어떨까', 1086: '싶습니다', 1087: '미화된', 1088: '홍보에요', 1089: '본부별', 1090: '소개를', 1091: '부분에서', 1092: '본부인지에', 1093: '제대로', 1094: '보이지가', 1095: '가독성이', 1096: '떨어지는', 1097: '부분입니다', 1098: '있는지를', 1099: '좋겠다는', 1100: '들었다', 1101: '바뀌었네요재미있게', 1102: '봅니다', 1103: '하기', 1104: '어렵습니다', 1105: '별로에요', 1106: '편의성', 1107: '향상', 1108: '기대', 1109: '기승전결이', 1110: '뚜렷했으면', 1111: '폰트가', 1112: '상황마다', 1113: '바뀌는데', 1114: '통일성이', 1115: '없어보이는', 1116: '니즈에', 1117: '맞춘', 1118: '코로나의', 1119: '영향으로', 1120: '침체된', 1121: '소비문화의', 1122: '실제와', 1123: '같았으면', 1124: '하네요', 1125: '서비스로', 1126: '나갔으면', 1127: '이달의', 1128: '재미', 1129: '싹쓰리입니다', 1130: '요즘', 1131: '온라인에', 1132: '재밌는', 1133: '영상과', 1134: '사진이', 1135: '많아서', 1136: '읽다보면', 1137: '모릅니다', 1138: '편을', 1139: '신분을', 1140: '감추고', 1141: '각', 1142: '지점을', 1143: '방문하여', 1144: '상담을', 1145: '받았던', 1146: '기억이', 1147: '났습니다현장', 1148: '컨설턴트의', 1149: '애로사항과', 1150: '활동사항을', 1151: '장난스럽게', 1152: '느껴지는', 1153: '면이', 1154: '캠패인', 1155: '이후의', 1156: '매출증대는', 1157: '이어지는지', 1158: '괜찮네요', 1159: '좋지도', 1160: '않네요란', 1161: '생각을', 1162: '잠시', 1163: '잊고', 1164: '유투브에', 1165: '올려도', 1166: '콘텐츠일', 1167: '시장에서의', 1168: '객관적인', 1169: '경쟁력', 1170: '수준을', 1171: '타사대비', 1172: '유사서비스', 1173: '대비', 1174: '해외동향', 1175: '정보가', 1176: '같다는', 1177: '의견', 1178: '드립니다', 1179: '자주', 1180: '이용해야겠네요', 1181: '정량적', 1182: '지표가', 1183: '기업이미지가', 1184: '더더욱', 1185: '크게', 1186: '부각되어가는', 1187: '변화에', 1188: '노력이', 1189: '필요한것', 1190: '상황에도', 1191: '갖은분들이', 1192: '많다는걸', 1193: '세삼', 1194: '느꼈습니다', 1195: '대박', 1196: '놀랐습니다', 1197: '흥미롭게', 1198: '기획하고', 1199: '제작하신거', 1200: '사업을', 1201: '우회하여', 1202: '의미를', 1203: '만드는', 1204: '것은', 1205: '메시지를', 1206: '전달하기', 1207: '어려울', 1208: '화이팅하세요', 1209: '멋진', 1210: '분들입니다', 1211: '전기', 1212: '통신비', 1213: '절감', 1214: '무료컨설팅을', 1215: '통한', 1216: '활성화', 1217: '방안보기', 1218: '서비스가', 1219: '나가', 1220: '고객들에게', 1221: '편리함으로', 1222: '다가갔으면', 1223: '가진', 1224: '데이터의', 1225: '강점이', 1226: '인터뷰로만', 1227: '처리되어', 1228: '신뢰성이', 1229: '낮아', 1230: '점이', 1231: '있다', 1232: '정신없는', 1233: '화면전개', 1234: '불편해요', 1235: '진행방식이', 1236: '미숙한건지', 1237: '대본이', 1238: '산만한건지', 1239: '정돈될', 1240: '보이네요', 1241: '딱딱해서', 1242: '별로였음', 1243: '거칠었던', 1244: '같습니다있을', 1245: '내용이지만', 1246: '월요일', 1247: '싸우는', 1248: '목소리가방송을', 1249: '전파되어', 1250: '한편으론', 1251: '빠른', 1252: '전개와', 1253: '발화에', 1254: '정확한', 1255: '흐름이', 1256: '이상', 1257: '일어나지', 1258: '일들인', 1259: '보완이', 1260: '필요한', 1261: '성급한', 1262: '결론으로', 1263: '비춰지는', 1264: '듯한', 1265: '남습니다', 1266: '방송드라마를', 1267: '보게되다니', 1268: '신기하고', 1269: '새롭습니다', 1270: '싹쓰리요갓뚜기', 1271: '오동통면', 1272: '먹어보고이제', 1273: '너구리는', 1274: '뒷전으로저의', 1275: '라면', 1276: '됐어요맛있는거', 1277: '먹고좋은일도', 1278: '하고석조', 1279: '주제가', 1280: '주제를초반에말해주던지아니면상단에알려주던지하면좋을것같습니다그래야방송을중간에보는사람들도이해가되지않을까싶습니다', 1281: '사내방송', 1282: '특성상', 1283: '이슈화', 1284: '되거나', 1285: '언급이', 1286: '자주되는', 1287: '키워드를', 1288: '중심으로', 1289: '뉴스를', 1290: '구성하는', 1291: '있으나', 1292: '전문용어나', 1293: '네이밍이', 1294: '빈번하게', 1295: '노출이', 1296: '주의가', 1297: '필요해보입니다', 1298: '적용해야', 1299: '방법이', 1300: '여러', 1301: '지점의', 1302: '모아서', 1303: '전달하는', 1304: '코너에서', 1305: '짧은시간에', 1306: '전달하려다', 1307: '전달하고자', 1308: '사항이', 1309: '의문이', 1310: '드는', 1311: '비유', 1312: '프로', 1313: '지점에서', 1314: '타', 1315: '상품들을', 1316: '컬래버', 1317: '진열할', 1318: '때에', 1319: '본질과', 1320: '연관없는', 1321: '상품인', 1322: '전문성이나', 1323: '측면의', 1324: '악영향은', 1325: '없는지', 1326: '활용하여', 1327: '이러한', 1328: '얼마나', 1329: '늘었고', 1330: '되었다라고하는', 1331: '중요한게', 1332: '빠져있어', 1333: '되어가네요', 1334: '이미', 1335: '적극활용되는', 1336: '최고입니다', 1337: '이익이나', 1338: '이점이', 1339: '있었는지', 1340: '수치화가', 1341: '신뢰가', 1342: '부족합니다', 1343: '진행으로', 1344: '지루함을', 1345: '느꼈어요', 1346: '상품과', 1347: '콜라보', 1348: '되는지', 1349: '이해하기가', 1350: '이', 1351: '방송을', 1352: '해당', 1353: '문제를', 1354: '여기는', 1355: '있을까', 1356: '예능대세', 1357: '배우송씨가', 1358: '신입사원이', 1359: '고객발', 1360: '자기혁신에', 1361: '힘쓰고', 1362: '임직원의', 1363: '고군분투', 1364: '방문하는', 1365: '스토리로', 1366: '오늘은', 1367: '체험하고', 1368: '어려움도', 1369: '확인해보는', 1370: '좌충우돌', 1371: '회사그룹탐방기로', 1372: '디지털홈쇼핑', 1373: '선두주자', 1374: '쇼핑을', 1375: '찾은', 1376: '좌층우돌', 1377: '방송이었네요', 1378: '차별화', 1379: '점을', 1380: '명확히', 1381: '다루어졌으면', 1382: '같았습니다', 1383: '재미는', 1384: '있는데', 1385: '짧은게', 1386: '다음편이', 1387: '왔다갔다', 1388: '앵글에', 1389: '빨리', 1390: '지나가서', 1391: '알아보기', 1392: '힘들어요', 1393: '반영', 1394: '최근에', 1395: '위주의', 1396: '콘텐츠들이', 1397: '집중해서', 1398: '경향이', 1399: '생각보다', 1400: '감사드립니다', 1401: '화면이', 1402: '작아', 1403: '현실고증', 1404: '되어있네요', 1405: '매니저의', 1406: '리액션에', 1407: '빵터지고', 1408: '해도', 1409: '옆에', 1410: '동료가', 1411: '제일', 1412: '큰', 1413: '오늘도', 1414: '프로그램을', 1415: '배워', 1416: '가네요', 1417: '길', 1418: '와닿네요'}\n"
     ]
    }
   ],
   "source": [
    "print(tokenizer.index_word)"
   ]
  },
  {
   "cell_type": "code",
   "execution_count": 84,
   "id": "a80ea9b8-f15d-4e33-9a66-42835c2c6ada",
   "metadata": {},
   "outputs": [
    {
     "name": "stdout",
     "output_type": "stream",
     "text": [
      "OrderedDict({'저도': 3, '입사': 1, '개월': 1, '갓': 1, '지난': 1, '신입사원으로써': 1, '많이': 8, '공감되는': 1, '부분이': 7, '있고': 1, '완전': 1, '판매를': 1, '위해서': 1, '꼼꼼히': 2, '케어하여': 3, '업무처리해야겠다고': 2, '생각되었습니다': 2, '매장에서': 2, '적용할': 2, '부분들에': 2, '대해서도': 2, '도움이': 6, '되고': 3, '유쾌하게': 2, '풀어내어': 2, '이래저래': 2, '꾸준히': 1, '챙겨보고': 1, '있습니다': 4, '감사합니다': 10, '매': 1, '방송마다': 1, '신선한': 3, '아이디어가': 1, '도출되는': 1, '것': 33, '같아요': 14, '아직은': 1, '들이': 2, '미숙해보이네요': 1, '어색한': 1, '말이': 2, '들려요': 1, '저희': 2, '우리': 35, '회사직원분들과': 1, '호흡도': 1, '좋았고': 1, '진행이': 2, '상당히': 1, '매끄로워': 1, '보는': 4, '내내': 1, '즐거웠습니다': 1, '직원분들도': 1, '전혀': 3, '꿀리는거': 1, '없이': 1, '너무': 35, '능숙해': 1, '지셨네요': 1, '분량이': 1, '치우쳐': 1, '있어': 3, '앞부분의': 1, '내용은': 2, '기억에': 2, '잘': 28, '안남는': 1, '같습니다': 18, '고객의': 6, '입장에서': 1, '생각하면': 1, '새로운': 6, '트렌드가': 1, '보이는': 2, '재밌게': 7, '잘봤습니다': 3, '송씨가': 1, '출근하자마자': 1, '안마의자': 1, '앉아서': 1, '쉬는게': 1, '부럽기도': 1, '했네요쇼호스트분들의': 1, '진행솜씨또한': 1, '감탄하고': 1, '갑니다': 2, '다음은': 1, '어디': 1, '외부': 2, '탐방': 1, '예정인가요': 1, '우리회사와': 1, '소비자를': 1, '연결하는': 1, '내용을': 1, '좀': 11, '더': 19, '보강해': 1, '주셨으면': 2, '좋겠습니다': 6, '홈쇼핑': 2, '시청을': 1, '하지않아': 1, '쇼핑에': 2, '대해': 1, '몰랐으나': 1, '금번': 1, '예능인의': 1, '근무': 2, '체험으로': 1, '전반적으로': 1, '업무가': 1, '어떻게': 4, '돌아가고': 1, '어떤': 9, '일을': 2, '하는지': 2, '간접적으로': 1, '알게되었습니다': 2, '최근': 3, '또다시': 1, '코로나': 2, '확산으로': 1, '인해': 2, '산업체': 1, '전분야에': 1, '영향이': 1, '있는만큼': 2, '쇼핑이': 1, '분야의': 2, '최고로': 1, '거듭나길': 1, '바라겠습니다': 1, '화에': 1, '이어': 1, '화': 1, '재미있게': 7, '보았습니다': 4, '다음화': 1, '기대됩니다': 4, '니즈를': 2, '정확히': 1, '파악하면': 1, '트랜드를': 1, '발굴할수': 1, '있다고확신합니다': 1, '차별화된': 4, '방향성으로': 1, '계속': 3, '발전되어': 1, '갈것이다라고': 1, '비교하는': 1, '있었으면': 3, '좀더': 1, '좋지': 1, '않을까': 1, '생각해': 1, '게임의': 1, '방식으로': 1, '다소': 4, '가볍게': 2, '다뤄졌던': 1, '형식이': 1, '재미를': 2, '주는데는': 1, '되었지만': 2, '조금': 9, '아쉬운': 1, '있었습니다': 5, '금일': 4, '방송은': 5, '회사가': 4, '추진하는': 1, '기업이미지': 4, '제고활동과': 2, '대내외': 1, '트렌드인': 1, '쇼핑콘셉트를': 1, '활용해': 1, '소개하는': 1, '방송으로': 1, '찜': 1, '회사': 8, '기업': 1, '이미지': 3, '트렌드': 1, '장바구니의': 1, '이태원': 2, '클라쓰로': 2, '소신과': 2, '자존감마스크': 1, '인질극유의': 1, '눈물좋은': 1, '기업의': 3, '성공전략으로': 1, '티르티르가': 1, '방송되었는데': 1, '참': 3, '참신했네요': 1, '흥미로운': 1, '장면들이': 1, '있네요': 3, '국내': 1, '제품': 1, '첫': 1, '출시라는': 1, '기념비적인': 1, '업적을': 1, '회상하는': 1, '도입부가': 1, '인상깊었습니다': 1, '또한': 1, '현장의': 1, '이야기를': 2, '딱딱하지': 1, '않고': 1, '위트있게': 1, '구성하여': 1, '보는데': 1, '부담이': 1, '없어': 2, '분': 1, '순삭되었네요': 1, '다음화가': 1, '훈훈한': 1, '결말이네요': 1, '즐겁게': 1, '봤습니다': 3, '정확하게': 1, '인물을': 1, '찾는지': 1, '컨셉': 1, '혼돈이': 1, '약간': 2, '느껴': 1, '집니다': 1, '솔루션처럼': 1, '좋은': 12, '솔루션인데성과로': 1, '이어지려면더욱': 1, '홍보가': 1, '필요할': 1, '듯': 2, '한데요': 1, '이점에': 1, '대한': 12, '보완도': 1, '같이': 2, '방송되기엔': 1, '시간': 4, '편성이': 1, '짦아': 1, '아쉽습니다': 3, '위험요소측면에서도': 1, '바라볼': 2, '필요가': 2, '있을': 3, '아무래도': 2, '기술분야라': 1, '이해가': 2, '쉽고': 1, '집중이': 1, '되도록': 1, '방송시간을': 1, '짧고': 2, '구성했으면': 1, '좋겟습니다': 1, '무엇을': 1, '말': 1, '하고': 3, '있는지': 3, '중심을': 1, '잃게': 1, '된': 1, '미숙한': 2, '같네요': 3, '정돈이': 1, '필요해': 1, '보입니다': 1, '봄과': 1, '함께': 3, '찾아온': 1, '오늘은프로그램': 1, '첫방': 1, '축하드립니다': 1, '관련': 1, '핫': 1, '이슈를': 2, '장바구니담기로': 1, '소개해주셔서': 1, '아주': 1, '재미있고': 3, '신선합니다': 1, '제': 3, '픽은': 3, '마음을': 3, '담다': 1, '기가지니': 1, '음성합성영상인데요': 1, '볼때마다': 1, '눈물이': 1, '납니다': 1, '가': 2, '전해주는': 1, '찡한': 1, '감동따뜻한': 1, '기술의': 1, '사례입니다': 1, '트렌드라기': 1, '보다는': 1, '서비스에': 3, '내용이': 3, '절반이상을': 1, '차지해': 1, '아쉬웠습니다': 4, '쇼핑의': 2, '건승을': 1, '바랍니다': 1, '멘트가': 2, '어렵네요': 1, '간단하고': 1, '쉽게': 1, '나누어서뉴스': 1, '구성되었으면': 1, '아마': 1, '직원들이': 2, '모르는': 2, '훨씬': 1, '많았을': 1, '이번': 3, '재미가': 2, '부족했던': 1, '실적향상을위해': 1, '노력하는': 1, '지점': 2, '갈수록': 1, '다음회는': 1, '어떨지': 1, '늘': 1, '참신한': 1, '방송': 7, '보고': 5, '있어요': 2, '실패했을때': 1, '포기하는게': 1, '아니고': 1, '일어서는': 1, '모습이': 2, '좋았습니다지금': 1, '힘들어': 1, '하는': 7, '회사인에게': 1, '위로가': 2, '힘이': 2, '될거': 1, '모든': 2, '업무에서': 1, '맡은바': 1, '업무에': 1, '서': 1, '최선을': 2, '다하는': 2, '좋습니다': 1, '화이팅': 4, '입니다': 3, '회사에': 2, '재치있고': 1, '특색에대해서는': 1, '알게': 1, '기본적으로': 1, '업무를': 3, '회사의': 9, '숲의': 1, '관점으로': 1, '수': 12, '더욱': 2, '완벽했을': 1, '있다는': 1, '생각이': 2, '들었습니다': 2, '다른': 1, '영업점의': 1, '업무': 2, '모습도': 1, '싶은데': 1, '적은': 1, '모습을': 3, '보여주어': 2, '아쉬워요': 2, '다양한': 4, '보여주면': 1, '좋을': 4, '고객': 2, '인터뷰를': 1, '할': 3, '때': 2, '회사에게': 1, '원하는': 1, '요구사항도': 1, '나오도록': 1, '반영해주셨으면': 1, '해요': 1, '고객에게': 3, '맞춤형': 2, '상품을': 3, '판매한다는게': 1, '즐겁고': 2, '유익하게': 2, '제시되어야': 1, '한다고': 1, '생각합니다': 2, '항상': 8, '응원합니다': 5, '고객중심': 2, '회사화이팅': 3, '자부심이': 1, '생기는': 2, '방송이네요': 2, '다음화도': 1, '파이팅입니다': 3, '자막의': 1, '글씨를': 2, '줄였으면': 1, '많은것': 1, '같아서': 2, '조금은': 1, '산만한': 2, '느낌이': 3, '듭니다': 2, '사용법에': 1, '간략한': 2, '요약': 1, '설명': 2, '및': 1, '사용체험이': 1, '있다면': 1, '좋겠음': 1, '방송에': 2, '맞지': 2, '않는': 2, '인용이': 1, '보기에': 1, '불편했습니다': 2, '사내방송을': 1, '통해': 5, '업무처리': 1, '방식을': 1, '다시': 2, '한번': 2, '검토해보는': 1, '계기가': 2, '되었네요': 1, '사용자': 1, '인터뷰의': 1, '경우': 2, '한업체의': 1, '사장님만': 1, '여러번': 1, '오래': 1, '나오는데': 1, '사례와': 1, '경험을': 1, '소개해주면': 1, '반응을': 1, '실감나게': 1, '느낄': 1, '기록하고': 1, '기억해주고': 1, '맞추어야': 1, '합니다': 4, '소개': 2, '시간이': 3, '짧아서': 1, '인지': 1, '구성이': 1, '보완되면': 1, '내편들어': 1, '주는': 1, '점장님': 1, '멋있습니다': 1, '물론': 1, '실수는': 1, '잘못된': 1, '거지만': 1, '그러니까': 1, '실수죠': 1, '지점일': 1, '처음하는': 1, '직원들에게': 1, '있는': 9, '에피소드를': 1, '표현한': 1, '거': 3, '재미있습니다': 1, '단일': 1, '솔루션만': 1, '같아': 2, '아쉽네요': 3, '시장을': 2, '봤으면': 1, '프로그램': 7, '유익한': 4, '정보': 2, '다음에도': 1, '부탁해요': 1, '응원하겠습니다': 1, '길어요': 1, '의도가': 1, '무엇인지': 1, '알아볼': 1, '없는': 4, '방송이에요': 1, '민원': 1, '고객을': 3, '케어해서': 1, '단골고객으로': 1, '돌리고': 1, '세일즈': 1, '유치까지': 1, '이루어낸점이': 1, '인상적입니다민원고객을': 1, '친구들까지': 1, '소개시켜주는': 1, '정말': 7, '확실한': 1, '민원처리입니다': 1, '내용': 2, '덕후가': 1, '생겼으면': 1, '바램': 1, '무슨': 2, '내용인지': 1, '파악이': 2, '안됩니다': 1, '정리가': 1, '필요해보여요': 1, '기획': 4, '의도를': 1, '알아차릴': 1, '어쩌다': 1, '첫출근': 1, '자체가': 1, '재미있는거': 1, '몰랐던': 1, '환경이나': 1, '알': 2, '기회고': 1, '송님도': 1, '유쾌해서': 1, '기다리는': 1, '코느중': 1, '하나에요': 1, '편도': 1, '봤어요': 1, '부정적인': 2, '장면들은': 1, '아침에': 1, '보기': 2, '불편하네요': 1, '따라가는': 1, '것도': 1, '중요하지만': 1, '문제와': 1, '부족한': 3, '부분도': 1, '개선에': 1, '도움을': 1, '주었으면': 1, '광고가': 1, '섭외된': 1, '모델이랑': 1, '찰떡이네요': 1, '목소리가': 1, '어울려요': 1, '초코파이': 1, '김씨': 1, '재밌네요': 1, '실제로': 1, '있을수있는': 1, '내용이네요고객': 1, '니즈가': 1, '잘소통되었네요': 1, '참고자료등은': 1, '자막이': 3, '나오는': 2, '편인데': 1, '아나운서의': 1, '말들은': 1, '제고활동으로': 1, '여러방안으로': 1, '시도되고': 1, '있는데트렌드를': 1, '반영하여': 1, '회사그룹만의': 1, '공략방안이': 1, '무엇일까': 1, '고민하게': 1, '되는': 3, '시간이었습니다': 2, '후반부에서는집중도가떨어졌습니다타프로그램처럼마무리를하는방식도좋지않나생각해봅니다': 1, '주제에': 1, '내용인': 1, '유행어가': 1, '등장하면': 1, '자막으로': 1, '간단하게': 1, '주석을': 1, '달아서': 1, '알려': 1, '코로나로': 3, '로밍이용이': 1, '없을': 1, '같은데': 2, '로밍에그로': 1, '찾아낸': 1, '것이': 3, '대단하네요': 1, '제가': 1, '고객센터': 1, '에서': 2, '전화상': 1, '유치하는': 1, '부서에서': 1, '근무하다보니': 1, '셀프개통이': 2, '가장': 5, '눈에': 2, '들어옵니다': 1, '개통시': 1, '출동비': 1, '불만이': 1, '많은데': 1, '셀프개통을': 1, '적극': 1, '활용해야겠어요': 1, '역시': 3, '선도기업': 1, '그룹의': 1, '핵심가치를': 1, '실천하는': 1, '우리화화사가': 1, '굿굿': 1, '들의': 1, '빨라서': 1, '이해하기': 1, '어려워요': 1, '자막도': 1, '나왔으면': 2, '좋겠어요': 2, '시청각': 1, '자료가': 1, '부족해요': 1, '사내': 6, '방송보면서': 1, '하루시작하는게': 1, '즐겁습니다': 1, '영상': 1, '개인': 1, '개발에': 1, '많은': 4, '될것': 1, '짧게': 3, '되어': 2, '갑자기': 1, '끝나버리는': 1, '듯하': 1, '마무리가': 1, '당황스럽네요': 1, '돈쭐': 2, '트랜드가': 1, '픽으로': 1, '와': 1, '닿습니다': 1, '그런점에서': 1, '고객과의': 1, '관계에': 1, '있어서': 3, '스토리가': 2, '되여야': 1, '그리고': 1, '두분': 1, '의': 1, '케미가': 1, '어울리는': 2, '아침방송인데': 1, '소리지르는': 2, '장면은': 2, '불편합니다': 1, '마스크인질극': 1, '픽': 3, '사회조직에': 1, '긍정적인': 1, '영향을': 1, '미치는': 1, '사회적': 1, '책임이': 1, '경영': 1, '활동에': 1, '매우': 2, '전략': 1, '중': 2, '하나로': 1, '각광받고': 1, '따뜻한': 1, '기술기업': 1, '담는': 1, '슬로건에': 1, '부합한': 1, '내용이라고': 1, '양가': 1, '부모님들': 1, '대구분이': 1, '계셔서': 1, '저렇게': 1, '결혼식을': 1, '했다고': 1, '코로나와': 1, '노력': 1, '고객인식': 1, '등이': 1, '일목요연하게': 1, '보여줘서': 1, '좋았어요': 1, '지루해요': 1, '프로그램를': 1, '다시한번': 1, '확인한': 1, '되었습니다': 1, '짧은시간이지만': 1, '성과에': 1, '이야기가': 1, '구체적으로': 3, '나왔음': 1, '아쉬움이': 2, '있음': 3, '일관성이': 1, '없어요': 1, '신입사원': 3, '시절이': 1, '생각나는': 1, '친근감이': 1, '드네요': 1, '수고하셨어요': 1, '광고': 2, '멋지게': 1, '만든': 1, '같요': 1, '짱입니다': 1, '간편납부가': 1, '좋네요': 2, '와닿는': 1, '컨텐츠였어요': 1, '서비스와': 2, '같은': 2, '예시는': 1, '오히려': 1, '브리핑이나': 1, '아님': 1, '끝나고': 1, '나서': 1, '오늘': 1, '전달한': 1, '콘텐츠에': 1, '정리를': 1, '해주시면': 1, '한': 4, '딱': 1, '들어와서': 1, '발전을': 1, '기원합니다': 1, '설명을': 1, '줄이고': 1, '기존': 1, '마케팅': 3, '업계에서': 1, '데이터를': 2, '사오는': 1, '현황': 1, '등': 1, '데이터': 2, '활용이': 2, '것인지도': 1, '사람들에게': 1, '것이라는걸': 1, '보여줄': 1, '있으면': 1, '컨텐츠가': 1, '저의': 1, '쇼핑싹쓰리': 1, '마음껏': 1, '여행도': 1, '못다니고': 1, '그나마': 1, '마음의': 1, '위안을': 1, '삼을': 1, '있는건': 1, '쇼핑': 5, '이제': 1, '인터넷만': 1, '뭐든': 1, '수가': 1, '감사한': 1, '마음입니다': 1, '싹쓰리요기술': 1, '발달이': 1, '온라인': 2, '구매를': 1, '점점': 3, '편해지게': 1, '만드네요': 1, '섭외를': 1, '모델이에요': 1, '사례': 1, '또는': 1, '가지': 2, '사례에': 2, '깊은': 1, '필요': 1, '때문에': 1, '좋아하는': 1, '헬스에': 1, '갈수': 1, '없네요': 1, '회부터': 1, '시작인가봐요': 1, '흥미진진해집니다': 1, '과연': 1, '위기극복을': 1, '해나갈지': 1, '기대되어요': 1, '두근두근': 1, '영업이': 1, '판다는게': 1, '판매': 2, '해야': 1, '것을': 1, '좋은내용': 1, '컨설턴트롤러코스터': 1, '하루였네요': 1, '공감가는': 1, '내용도': 3, '많고': 1, '재밌어요': 1, '대면': 1, '매장과': 1, '차별성이': 1, '와닿지': 2, '않았습니다': 1, '앞으로도': 5, '프로그램의': 1, '편성': 1, '때문인지': 1, '사례가': 1, '구체적이지': 1, '않았던것': 1, '맡은': 1, '역할들을': 1, '볼': 2, '기회였습니다': 1, '파이팅': 1, '경쟁력이네요': 1, '좋아요': 2, '다음이': 1, '기대가': 1, '되며': 1, '유익합니다': 1, '솔루션이': 1, '나열식으로': 1, '진행되다보니': 1, '차이점을': 1, '확인하기': 2, '어려웠던': 1, '소리인지': 1, '않아요': 3, '부가설명이': 1, '자막': 2, '달아주세요': 1, '인식': 1, '제고를': 1, '위해': 1, '우리모두': 1, '화이팅입니다': 2, '감사하게': 1, '보고있습니다': 1, '주제로': 1, '더해주는': 1, '매번': 1, '기대를': 1, '충족시켜주네요': 1, '형식의': 1, '방송이': 4, '신선하네요': 1, '해서': 1, '소식': 1, '전해주시길': 1, '기대합니다': 1, '좌충우돌문제가': 1, '많아보이는': 1, '네인것': 1, '영업의': 2, '기본은': 1, '고객중심이고': 1, '거기에': 1, '주인정신으로': 1, '임한다면': 1, '나은': 1, '네로': 1, '발전하리라': 1, '생각됩니다': 1, '네의': 1, '성장하는': 1, '모습': 1, '기대하겠습니다': 1, '네': 1, '연기가': 1, '어색해요': 1, '고객과': 1, '소통하는': 1, '보여주었네요': 1, '방송녹화방송의': 1, '소리가': 1, '들리지가': 1, '않아서': 1, '영상만을': 1, '시청한': 1, '방송이었는데요트렌드': 1, '장바구니에서': 1, '자존감': 1, '픽을': 1, '선택하고': 1, '싶네요강자에게': 1, '부당함으로': 1, '무릅을': 2, '꿇치': 1, '안치만내사람회사을를': 1, '위해서라면': 1, '천번이라도': 1, '꿇을수': 1, '사람이': 1, '진짜': 1, '아닐까요': 1, '힘': 1, '방송의': 2, '시도에': 1, '기대감이': 1, '김씨도': 1, '전세계가': 1, '코로아': 1, '시대를': 1, '맞아': 1, '뉴노멀시대에서의': 1, '한발': 1, '앞서': 1, '파악하라는': 1, '제목으로': 1, '진행되었는데요티핑': 1, '포인트': 2, '바로': 1, '그': 1, '순간과': 1, '뷰': 1, '방송에서': 1, '뉴노멀시대를': 1, '대비한': 1, '위한': 2, '정책등을': 1, '살펴볼수가': 1, '좋았던것': 1, '수고': 1, '하셨습니다감사합니다': 1, '슬기로운': 1, '회사그룹': 2, '활동': 1, '인상적인': 1, '많네요': 1, '이런': 1, '부탁드립니다': 2, '실제': 2, '관한': 1, '앞의': 1, '비에': 1, '적었던': 1, '아닌가': 1, '생각되네요': 1, '다양한솔루션이소개가되었는데어떤차이점이있는지이해하기가어려웠습니다': 1, '서비스실수는': 1, '실수중': 1, '하나인데': 1, '그렇다고': 1, '퇴사를': 1, '간단한': 1, '설명이': 3, '추가되면': 2, '이해하는데': 1, '되지': 1, '않았을까': 1, '싶네요': 1, '다': 1, '잼있고': 1, '남아서': 1, '뭘': 1, '찜해야': 1, '할지': 1, '모르겠네요': 2, '라이브': 1, '합동응원': 1, '청춘해': 1, '싹쓰리': 1, '등등': 1, '모두': 2, '넘': 1, '잼나요': 1, '결혼': 1, '좋았지만': 1, '김씨가': 1, '출연한': 1, '전통시장홍보가': 1, '인상적이었습니다': 1, '매출이': 3, '급감한': 1, '소상공인을': 1, '돕는': 1, '취지가': 1, '좋았습니다': 2, '보고싶지': 1, '공감이': 1, '안되는': 1, '방송이었어요': 1, '방영해': 1, '우연찮게': 1, '보게': 1, '됐습니다': 1, '가는': 2, '줄': 2, '모르고': 1, '보았습니다앞으로도': 1, '기대되는': 1, '다음': 1, '회차에는': 1, '에피소드가': 1, '있을지': 1, '궁금하네요': 1, '타사': 1, '서비스': 4, '같군요': 1, '발전입니다': 1, '잘보았습니다': 1, '수고많으셨습니다': 1, '아쉬웠던': 1, '사례나': 1, '번': 1, '실패': 1, '후': 1, '개선했던': 1, '사항': 1, '등의': 2, '들어있으면': 1, '어떨까': 1, '싶습니다': 1, '미화된': 1, '홍보에요': 1, '좋겠네요': 2, '본부별': 1, '소개를': 1, '부분에서': 1, '본부인지에': 1, '제대로': 1, '보이지가': 1, '않아': 2, '가독성이': 1, '떨어지는': 1, '부분입니다': 1, '있는지를': 1, '좋겠다는': 1, '들었다': 1, '바뀌었네요재미있게': 1, '봅니다': 1, '셀프개통': 2, '하기': 1, '어렵습니다': 1, '별로에요': 1, '편의성': 1, '향상': 1, '기대': 1, '됩니다': 4, '기승전결이': 1, '뚜렷했으면': 1, '내': 2, '폰트가': 1, '상황마다': 1, '바뀌는데': 1, '통일성이': 1, '없어보이는': 1, '니즈에': 1, '맞춘': 1, '코로나의': 1, '영향으로': 1, '침체된': 1, '소비문화의': 1, '실제와': 1, '같았으면': 1, '하네요': 1, '서비스로': 1, '발전해': 2, '나갔으면': 1, '이달의': 1, '재미': 1, '싹쓰리입니다': 1, '요즘': 1, '온라인에': 1, '재밌는': 1, '영상과': 1, '사진이': 1, '많아서': 1, '읽다보면': 1, '모릅니다': 1, '편을': 1, '보니': 2, '신분을': 1, '감추고': 1, '각': 1, '지점을': 1, '방문하여': 1, '상담을': 1, '받았던': 1, '기억이': 1, '났습니다현장': 1, '컨설턴트의': 1, '애로사항과': 1, '활동사항을': 1, '장난스럽게': 1, '느껴지는': 1, '면이': 1, '캠패인': 1, '이후의': 1, '매출증대는': 1, '이어지는지': 1, '없어서': 2, '괜찮네요': 1, '좋지도': 1, '않네요란': 1, '생각을': 1, '잠시': 1, '잊고': 1, '유투브에': 1, '올려도': 1, '콘텐츠일': 1, '시장에서의': 1, '객관적인': 1, '경쟁력': 1, '수준을': 1, '타사대비': 1, '유사서비스': 1, '대비': 1, '해외동향': 1, '정보가': 1, '좋았을': 2, '같다는': 1, '의견': 1, '드립니다': 1, '자주': 1, '이용해야겠네요': 1, '정량적': 1, '지표가': 1, '기업이미지가': 1, '더더욱': 1, '크게': 1, '부각되어가는': 1, '현실에서': 2, '변화에': 1, '노력이': 1, '필요한것': 1, '어려운': 2, '상황에도': 1, '따듯한': 2, '갖은분들이': 1, '많다는걸': 1, '세삼': 1, '느꼈습니다': 1, '대박': 1, '놀랐습니다': 1, '흥미롭게': 1, '기획하고': 1, '제작하신거': 1, '사업을': 1, '우회하여': 1, '의미를': 1, '만드는': 1, '것은': 1, '현장에': 2, '메시지를': 1, '전달하기': 1, '어려울': 1, '화이팅하세요': 1, '멋진': 1, '분들입니다': 1, '전기': 1, '통신비': 1, '절감': 1, '무료컨설팅을': 1, '통한': 1, '활성화': 1, '방안보기': 1, '서비스가': 1, '나가': 1, '고객들에게': 1, '편리함으로': 1, '다가갔으면': 1, '가진': 1, '데이터의': 1, '강점이': 1, '인터뷰로만': 1, '처리되어': 1, '신뢰성이': 1, '낮아': 1, '점이': 1, '있다': 1, '정신없는': 1, '화면전개': 1, '불편해요': 1, '진행방식이': 1, '미숙한건지': 1, '대본이': 1, '산만한건지': 1, '전체적으로': 2, '정돈될': 1, '보이네요': 1, '딱딱해서': 1, '별로였음': 1, '아침부터': 2, '거칠었던': 1, '같습니다있을': 1, '수도': 2, '내용이지만': 1, '월요일': 1, '싸우는': 1, '목소리가방송을': 1, '전파되어': 1, '한편으론': 1, '빠른': 1, '전개와': 1, '발화에': 1, '정확한': 1, '흐름이': 1, '이상': 1, '일어나지': 1, '않은': 2, '일들인': 1, '보완이': 1, '필요한': 1, '성급한': 1, '결론으로': 1, '비춰지는': 1, '듯한': 1, '남습니다': 1, '방송드라마를': 1, '통해서': 2, '보게되다니': 1, '신기하고': 1, '새롭습니다': 1, '싹쓰리요갓뚜기': 1, '오동통면': 1, '먹어보고이제': 1, '너구리는': 1, '뒷전으로저의': 1, '라면': 1, '됐어요맛있는거': 1, '먹고좋은일도': 1, '하고석조': 1, '주제가': 1, '뭔지': 2, '주제를초반에말해주던지아니면상단에알려주던지하면좋을것같습니다그래야방송을중간에보는사람들도이해가되지않을까싶습니다': 1, '사내방송': 1, '특성상': 1, '이슈화': 1, '되거나': 1, '언급이': 1, '자주되는': 1, '키워드를': 1, '중심으로': 1, '뉴스를': 1, '구성하는': 1, '있으나': 1, '전문용어나': 1, '네이밍이': 1, '빈번하게': 1, '노출이': 1, '주의가': 1, '필요해보입니다': 1, '적용해야': 1, '방법이': 1, '여러': 1, '지점의': 1, '소식을': 2, '모아서': 1, '전달하는': 1, '코너에서': 1, '짧은시간에': 1, '전달하려다': 1, '전달하고자': 1, '사항이': 1, '의문이': 1, '드는': 1, '비유': 1, '프로': 1, '지점에서': 1, '타': 1, '상품들을': 1, '컬래버': 1, '진열할': 1, '때에': 1, '본질과': 1, '연관없는': 1, '상품인': 1, '전문성이나': 1, '측면의': 1, '악영향은': 1, '없는지': 1, '염려가': 2, '활용하여': 1, '이러한': 1, '얼마나': 1, '늘었고': 1, '되었다라고하는': 1, '중요한게': 1, '빠져있어': 1, '되어가네요': 1, '이미': 1, '적극활용되는': 1, '최고입니다': 1, '어떠한': 2, '이익이나': 1, '이점이': 1, '있었는지': 1, '수치화가': 1, '신뢰가': 1, '부족합니다': 1, '진행으로': 1, '지루함을': 1, '느꼈어요': 1, '상품과': 1, '콜라보': 1, '되는지': 1, '이해하기가': 1, '쉽지': 2, '이': 1, '방송을': 1, '해당': 1, '문제를': 1, '여기는': 1, '있을까': 1, '예능대세': 1, '배우송씨가': 1, '신입사원이': 1, '고객발': 1, '자기혁신에': 1, '힘쓰고': 1, '임직원의': 1, '고군분투': 1, '직접': 2, '방문하는': 1, '스토리로': 1, '오늘은': 1, '체험하고': 1, '어려움도': 1, '확인해보는': 1, '좌충우돌': 1, '회사그룹탐방기로': 1, '디지털홈쇼핑': 1, '선두주자': 1, '쇼핑을': 1, '찾은': 1, '좌층우돌': 1, '방송이었네요': 1, '차별화': 1, '점을': 1, '명확히': 1, '다루어졌으면': 1, '같았습니다': 1, '재미는': 1, '있는데': 1, '짧은게': 1, '다음편이': 1, '왔다갔다': 1, '앵글에': 1, '빨리': 1, '지나가서': 1, '알아보기': 1, '힘들어요': 1, '반영': 1, '최근에': 1, '위주의': 1, '콘텐츠들이': 1, '집중해서': 1, '경향이': 1, '생각보다': 1, '감사드립니다': 1, '화면이': 1, '작아': 1, '현실고증': 1, '되어있네요': 1, '매니저의': 1, '리액션에': 1, '빵터지고': 1, '해도': 1, '옆에': 1, '동료가': 1, '제일': 1, '큰': 1, '오늘도': 1, '프로그램을': 1, '배워': 1, '가네요': 1, '길': 1, '와닿네요': 1})\n"
     ]
    }
   ],
   "source": [
    "# 단어별 빈도 수 확인\n",
    "print(tokenizer.word_counts)"
   ]
  },
  {
   "cell_type": "code",
   "execution_count": 86,
   "id": "30ebadff-51c6-4fba-82b5-325b58dbb7f7",
   "metadata": {},
   "outputs": [
    {
     "name": "stdout",
     "output_type": "stream",
     "text": [
      "1418\n"
     ]
    }
   ],
   "source": [
    "# 총 단어 개수: 1418\n",
    "max_words = len(tokenizer.index_word)\n",
    "print(max_words)"
   ]
  },
  {
   "cell_type": "markdown",
   "id": "9a31ea07-b91d-48b7-ba00-ede94b1c235e",
   "metadata": {},
   "source": [
    "### 10. texts_to_sequences: 문장을 숫자로 나열"
   ]
  },
  {
   "cell_type": "code",
   "execution_count": 89,
   "id": "815973aa-b7db-477d-aa69-4ba932ec60cf",
   "metadata": {},
   "outputs": [],
   "source": [
    "# 문장을 숫자로 나열\n",
    "x_train_seq = tokenizer.texts_to_sequences(x_train)\n",
    "x_test_seq = tokenizer.texts_to_sequences(x_test)"
   ]
  },
  {
   "cell_type": "code",
   "execution_count": 91,
   "id": "0128f4dc-9a7a-49f6-8c43-8448bb2ed68a",
   "metadata": {},
   "outputs": [
    {
     "name": "stdout",
     "output_type": "stream",
     "text": [
      "199 50\n"
     ]
    }
   ],
   "source": [
    "print(len(x_train_seq), len(x_test_seq))"
   ]
  },
  {
   "cell_type": "code",
   "execution_count": 93,
   "id": "b595c41c-0dbc-4a82-818e-69f04eb2d9cd",
   "metadata": {},
   "outputs": [
    {
     "name": "stdout",
     "output_type": "stream",
     "text": [
      "['매 방송마다 신선한 아이디어가 많이 도출되는 것 같아요' '아직은 들이 미숙해보이네요 어색한 말이 많이 들려요']\n",
      "[[311, 312, 67, 313, 17, 314, 3, 7], [315, 133, 316, 317, 134, 17, 318]]\n"
     ]
    }
   ],
   "source": [
    "print(x_train[1:3])\n",
    "print(x_train_seq[1:3])"
   ]
  },
  {
   "cell_type": "markdown",
   "id": "c7f103a8-8b60-423e-8b55-c05a737a1705",
   "metadata": {},
   "source": [
    "### 11. Padding Sequence"
   ]
  },
  {
   "cell_type": "code",
   "execution_count": 96,
   "id": "8ded02b2-8063-41d4-a761-d63df6fe6552",
   "metadata": {},
   "outputs": [
    {
     "data": {
      "text/plain": [
       "36"
      ]
     },
     "execution_count": 96,
     "metadata": {},
     "output_type": "execute_result"
    }
   ],
   "source": [
    "# 문장의 최대 길이 파악\n",
    "max(len(line) for line in x_train_seq)"
   ]
  },
  {
   "cell_type": "code",
   "execution_count": 98,
   "id": "4adc52e6-044c-47b2-b0bb-178fd2c42f9c",
   "metadata": {},
   "outputs": [],
   "source": [
    "# 모든 문장을 최대 문장 길이 36에 맞춘다\n",
    "x_train_pad = pad_sequences(x_train_seq, maxlen = 36)\n",
    "x_test_pad = pad_sequences(x_test_seq, maxlen = 36)"
   ]
  },
  {
   "cell_type": "code",
   "execution_count": 100,
   "id": "c52525b5-7363-407b-8241-59d16e2a6a92",
   "metadata": {},
   "outputs": [
    {
     "data": {
      "text/plain": [
       "array([[  0,   0,   0,   0,   0,   0,  64, 299, 300, 301, 302, 303,  17,\n",
       "        304,  20, 305, 306, 307, 308, 123,  65, 124, 125, 126, 127, 128,\n",
       "        129,  27,  66, 130, 131, 132, 309, 310,  40,  12]], dtype=int32)"
      ]
     },
     "execution_count": 100,
     "metadata": {},
     "output_type": "execute_result"
    }
   ],
   "source": [
    "x_train_pad[:1]"
   ]
  },
  {
   "cell_type": "code",
   "execution_count": 102,
   "id": "da821aea-d110-4443-b860-5659c284015c",
   "metadata": {},
   "outputs": [
    {
     "data": {
      "text/plain": [
       "((199, 36), (50, 36))"
      ]
     },
     "execution_count": 102,
     "metadata": {},
     "output_type": "execute_result"
    }
   ],
   "source": [
    "x_train_pad.shape, x_test_pad.shape"
   ]
  },
  {
   "cell_type": "markdown",
   "id": "1ce09715-4b38-4197-9b3b-b55f28e1bdb7",
   "metadata": {},
   "source": [
    "### 12. 모델링"
   ]
  },
  {
   "cell_type": "code",
   "execution_count": 105,
   "id": "835e6663-f16f-4fee-8656-1c310544b295",
   "metadata": {},
   "outputs": [],
   "source": [
    "from tensorflow.keras.layers import Dense, Flatten, Conv1D, MaxPool2D\n",
    "from tensorflow.keras.layers import Embedding, Bidirectional, LSTM, SimpleRNN, GRU\n",
    "from tensorflow.keras.models import Sequential\n",
    "from tensorflow.keras.callbacks import EarlyStopping, ModelCheckpoint"
   ]
  },
  {
   "cell_type": "code",
   "execution_count": 107,
   "id": "c8e2eb7d-67f9-45db-8d18-a6275bbafe76",
   "metadata": {},
   "outputs": [],
   "source": [
    "max_words = 1418 + 1 # 총 단어 개수 + padding 0 번호\n",
    "max_len = 36 # 최대 문장 길이\n",
    "embedding_dim = 32"
   ]
  },
  {
   "cell_type": "code",
   "execution_count": 109,
   "id": "f7058545-6640-4e15-9d76-98f54b518379",
   "metadata": {},
   "outputs": [],
   "source": [
    "# 모델 선언\n",
    "model = Sequential()"
   ]
  },
  {
   "cell_type": "code",
   "execution_count": 111,
   "id": "c79a10ee-030c-4b30-b173-da7a71432e40",
   "metadata": {},
   "outputs": [
    {
     "name": "stderr",
     "output_type": "stream",
     "text": [
      "/Users/shinjoohwan/miniconda3/lib/python3.12/site-packages/keras/src/layers/core/embedding.py:97: UserWarning: Argument `input_length` is deprecated. Just remove it.\n",
      "  warnings.warn(\n"
     ]
    }
   ],
   "source": [
    "# 단어를 의미 있는 32차원으로 Vector 변경\n",
    "model.add(Embedding(input_dim = max_words, output_dim = embedding_dim, input_length = max_len))"
   ]
  },
  {
   "cell_type": "code",
   "execution_count": 113,
   "id": "c1780748-97bb-4b1d-9aac-afeae53bf5f6",
   "metadata": {},
   "outputs": [
    {
     "data": {
      "text/html": [
       "<pre style=\"white-space:pre;overflow-x:auto;line-height:normal;font-family:Menlo,'DejaVu Sans Mono',consolas,'Courier New',monospace\"><span style=\"font-weight: bold\">Model: \"sequential\"</span>\n",
       "</pre>\n"
      ],
      "text/plain": [
       "\u001b[1mModel: \"sequential\"\u001b[0m\n"
      ]
     },
     "metadata": {},
     "output_type": "display_data"
    },
    {
     "data": {
      "text/html": [
       "<pre style=\"white-space:pre;overflow-x:auto;line-height:normal;font-family:Menlo,'DejaVu Sans Mono',consolas,'Courier New',monospace\">┏━━━━━━━━━━━━━━━━━━━━━━━━━━━━━━━━━┳━━━━━━━━━━━━━━━━━━━━━━━━┳━━━━━━━━━━━━━━━┓\n",
       "┃<span style=\"font-weight: bold\"> Layer (type)                    </span>┃<span style=\"font-weight: bold\"> Output Shape           </span>┃<span style=\"font-weight: bold\">       Param # </span>┃\n",
       "┡━━━━━━━━━━━━━━━━━━━━━━━━━━━━━━━━━╇━━━━━━━━━━━━━━━━━━━━━━━━╇━━━━━━━━━━━━━━━┩\n",
       "│ embedding (<span style=\"color: #0087ff; text-decoration-color: #0087ff\">Embedding</span>)           │ ?                      │   <span style=\"color: #00af00; text-decoration-color: #00af00\">0</span> (unbuilt) │\n",
       "├─────────────────────────────────┼────────────────────────┼───────────────┤\n",
       "│ lstm (<span style=\"color: #0087ff; text-decoration-color: #0087ff\">LSTM</span>)                     │ ?                      │   <span style=\"color: #00af00; text-decoration-color: #00af00\">0</span> (unbuilt) │\n",
       "├─────────────────────────────────┼────────────────────────┼───────────────┤\n",
       "│ flatten (<span style=\"color: #0087ff; text-decoration-color: #0087ff\">Flatten</span>)               │ ?                      │   <span style=\"color: #00af00; text-decoration-color: #00af00\">0</span> (unbuilt) │\n",
       "├─────────────────────────────────┼────────────────────────┼───────────────┤\n",
       "│ dense (<span style=\"color: #0087ff; text-decoration-color: #0087ff\">Dense</span>)                   │ ?                      │   <span style=\"color: #00af00; text-decoration-color: #00af00\">0</span> (unbuilt) │\n",
       "├─────────────────────────────────┼────────────────────────┼───────────────┤\n",
       "│ dense_1 (<span style=\"color: #0087ff; text-decoration-color: #0087ff\">Dense</span>)                 │ ?                      │   <span style=\"color: #00af00; text-decoration-color: #00af00\">0</span> (unbuilt) │\n",
       "├─────────────────────────────────┼────────────────────────┼───────────────┤\n",
       "│ dense_2 (<span style=\"color: #0087ff; text-decoration-color: #0087ff\">Dense</span>)                 │ ?                      │   <span style=\"color: #00af00; text-decoration-color: #00af00\">0</span> (unbuilt) │\n",
       "└─────────────────────────────────┴────────────────────────┴───────────────┘\n",
       "</pre>\n"
      ],
      "text/plain": [
       "┏━━━━━━━━━━━━━━━━━━━━━━━━━━━━━━━━━┳━━━━━━━━━━━━━━━━━━━━━━━━┳━━━━━━━━━━━━━━━┓\n",
       "┃\u001b[1m \u001b[0m\u001b[1mLayer (type)                   \u001b[0m\u001b[1m \u001b[0m┃\u001b[1m \u001b[0m\u001b[1mOutput Shape          \u001b[0m\u001b[1m \u001b[0m┃\u001b[1m \u001b[0m\u001b[1m      Param #\u001b[0m\u001b[1m \u001b[0m┃\n",
       "┡━━━━━━━━━━━━━━━━━━━━━━━━━━━━━━━━━╇━━━━━━━━━━━━━━━━━━━━━━━━╇━━━━━━━━━━━━━━━┩\n",
       "│ embedding (\u001b[38;5;33mEmbedding\u001b[0m)           │ ?                      │   \u001b[38;5;34m0\u001b[0m (unbuilt) │\n",
       "├─────────────────────────────────┼────────────────────────┼───────────────┤\n",
       "│ lstm (\u001b[38;5;33mLSTM\u001b[0m)                     │ ?                      │   \u001b[38;5;34m0\u001b[0m (unbuilt) │\n",
       "├─────────────────────────────────┼────────────────────────┼───────────────┤\n",
       "│ flatten (\u001b[38;5;33mFlatten\u001b[0m)               │ ?                      │   \u001b[38;5;34m0\u001b[0m (unbuilt) │\n",
       "├─────────────────────────────────┼────────────────────────┼───────────────┤\n",
       "│ dense (\u001b[38;5;33mDense\u001b[0m)                   │ ?                      │   \u001b[38;5;34m0\u001b[0m (unbuilt) │\n",
       "├─────────────────────────────────┼────────────────────────┼───────────────┤\n",
       "│ dense_1 (\u001b[38;5;33mDense\u001b[0m)                 │ ?                      │   \u001b[38;5;34m0\u001b[0m (unbuilt) │\n",
       "├─────────────────────────────────┼────────────────────────┼───────────────┤\n",
       "│ dense_2 (\u001b[38;5;33mDense\u001b[0m)                 │ ?                      │   \u001b[38;5;34m0\u001b[0m (unbuilt) │\n",
       "└─────────────────────────────────┴────────────────────────┴───────────────┘\n"
      ]
     },
     "metadata": {},
     "output_type": "display_data"
    },
    {
     "data": {
      "text/html": [
       "<pre style=\"white-space:pre;overflow-x:auto;line-height:normal;font-family:Menlo,'DejaVu Sans Mono',consolas,'Courier New',monospace\"><span style=\"font-weight: bold\"> Total params: </span><span style=\"color: #00af00; text-decoration-color: #00af00\">0</span> (0.00 B)\n",
       "</pre>\n"
      ],
      "text/plain": [
       "\u001b[1m Total params: \u001b[0m\u001b[38;5;34m0\u001b[0m (0.00 B)\n"
      ]
     },
     "metadata": {},
     "output_type": "display_data"
    },
    {
     "data": {
      "text/html": [
       "<pre style=\"white-space:pre;overflow-x:auto;line-height:normal;font-family:Menlo,'DejaVu Sans Mono',consolas,'Courier New',monospace\"><span style=\"font-weight: bold\"> Trainable params: </span><span style=\"color: #00af00; text-decoration-color: #00af00\">0</span> (0.00 B)\n",
       "</pre>\n"
      ],
      "text/plain": [
       "\u001b[1m Trainable params: \u001b[0m\u001b[38;5;34m0\u001b[0m (0.00 B)\n"
      ]
     },
     "metadata": {},
     "output_type": "display_data"
    },
    {
     "data": {
      "text/html": [
       "<pre style=\"white-space:pre;overflow-x:auto;line-height:normal;font-family:Menlo,'DejaVu Sans Mono',consolas,'Courier New',monospace\"><span style=\"font-weight: bold\"> Non-trainable params: </span><span style=\"color: #00af00; text-decoration-color: #00af00\">0</span> (0.00 B)\n",
       "</pre>\n"
      ],
      "text/plain": [
       "\u001b[1m Non-trainable params: \u001b[0m\u001b[38;5;34m0\u001b[0m (0.00 B)\n"
      ]
     },
     "metadata": {},
     "output_type": "display_data"
    }
   ],
   "source": [
    "model.add(LSTM(16, return_sequences=True))\n",
    "model.add(Flatten())\n",
    "model.add(Dense(128, activation = 'swish'))\n",
    "model.add(Dense(32, activation = 'swish'))\n",
    "model.add(Dense(2, activation = 'softmax'))\n",
    "\n",
    "model.compile(loss = 'sparse_categorical_crossentropy',\n",
    "             optimizer = 'adam',\n",
    "             metrics = ['accuracy'])\n",
    "model.summary()"
   ]
  },
  {
   "cell_type": "code",
   "execution_count": 115,
   "id": "b7ac7650-bd38-41fb-940e-034f16a49a8a",
   "metadata": {},
   "outputs": [],
   "source": [
    "# 조기종료 콜백 함수 정의\n",
    "es = EarlyStopping(monitor='val_loss', patience = 10, verbose =1)\n",
    "\n",
    "# 체크포인트 저장\n",
    "checkpoint_path = 'tmp_checkpoint.weights.h5'\n",
    "cp = ModelCheckpoint(checkpoint_path, save_weights_only = True, monitor = 'val_loss',\n",
    "                    verbose = 1, save_best_only = True)"
   ]
  },
  {
   "cell_type": "code",
   "execution_count": 117,
   "id": "9b825cc5-f308-416d-b808-1b1b544a4526",
   "metadata": {
    "scrolled": true
   },
   "outputs": [
    {
     "name": "stdout",
     "output_type": "stream",
     "text": [
      "Epoch 1/50\n",
      "\u001b[1m1/1\u001b[0m \u001b[32m━━━━━━━━━━━━━━━━━━━━\u001b[0m\u001b[37m\u001b[0m \u001b[1m0s\u001b[0m 611ms/step - accuracy: 0.4654 - loss: 0.6933\n",
      "Epoch 1: val_loss improved from inf to 0.69276, saving model to tmp_checkpoint.weights.h5\n",
      "\u001b[1m1/1\u001b[0m \u001b[32m━━━━━━━━━━━━━━━━━━━━\u001b[0m\u001b[37m\u001b[0m \u001b[1m1s\u001b[0m 729ms/step - accuracy: 0.4654 - loss: 0.6933 - val_accuracy: 0.4750 - val_loss: 0.6928\n",
      "Epoch 2/50\n",
      "\u001b[1m1/1\u001b[0m \u001b[32m━━━━━━━━━━━━━━━━━━━━\u001b[0m\u001b[37m\u001b[0m \u001b[1m0s\u001b[0m 12ms/step - accuracy: 0.5912 - loss: 0.6916\n",
      "Epoch 2: val_loss did not improve from 0.69276\n",
      "\u001b[1m1/1\u001b[0m \u001b[32m━━━━━━━━━━━━━━━━━━━━\u001b[0m\u001b[37m\u001b[0m \u001b[1m0s\u001b[0m 31ms/step - accuracy: 0.5912 - loss: 0.6916 - val_accuracy: 0.5250 - val_loss: 0.6931\n",
      "Epoch 3/50\n",
      "\u001b[1m1/1\u001b[0m \u001b[32m━━━━━━━━━━━━━━━━━━━━\u001b[0m\u001b[37m\u001b[0m \u001b[1m0s\u001b[0m 11ms/step - accuracy: 0.6226 - loss: 0.6896\n",
      "Epoch 3: val_loss did not improve from 0.69276\n",
      "\u001b[1m1/1\u001b[0m \u001b[32m━━━━━━━━━━━━━━━━━━━━\u001b[0m\u001b[37m\u001b[0m \u001b[1m0s\u001b[0m 30ms/step - accuracy: 0.6226 - loss: 0.6896 - val_accuracy: 0.5000 - val_loss: 0.6931\n",
      "Epoch 4/50\n",
      "\u001b[1m1/1\u001b[0m \u001b[32m━━━━━━━━━━━━━━━━━━━━\u001b[0m\u001b[37m\u001b[0m \u001b[1m0s\u001b[0m 13ms/step - accuracy: 0.6604 - loss: 0.6870\n",
      "Epoch 4: val_loss did not improve from 0.69276\n",
      "\u001b[1m1/1\u001b[0m \u001b[32m━━━━━━━━━━━━━━━━━━━━\u001b[0m\u001b[37m\u001b[0m \u001b[1m0s\u001b[0m 30ms/step - accuracy: 0.6604 - loss: 0.6870 - val_accuracy: 0.4750 - val_loss: 0.6929\n",
      "Epoch 5/50\n",
      "\u001b[1m1/1\u001b[0m \u001b[32m━━━━━━━━━━━━━━━━━━━━\u001b[0m\u001b[37m\u001b[0m \u001b[1m0s\u001b[0m 13ms/step - accuracy: 0.6855 - loss: 0.6835\n",
      "Epoch 5: val_loss improved from 0.69276 to 0.69223, saving model to tmp_checkpoint.weights.h5\n",
      "\u001b[1m1/1\u001b[0m \u001b[32m━━━━━━━━━━━━━━━━━━━━\u001b[0m\u001b[37m\u001b[0m \u001b[1m0s\u001b[0m 41ms/step - accuracy: 0.6855 - loss: 0.6835 - val_accuracy: 0.5250 - val_loss: 0.6922\n",
      "Epoch 6/50\n",
      "\u001b[1m1/1\u001b[0m \u001b[32m━━━━━━━━━━━━━━━━━━━━\u001b[0m\u001b[37m\u001b[0m \u001b[1m0s\u001b[0m 12ms/step - accuracy: 0.6792 - loss: 0.6789\n",
      "Epoch 6: val_loss improved from 0.69223 to 0.69119, saving model to tmp_checkpoint.weights.h5\n",
      "\u001b[1m1/1\u001b[0m \u001b[32m━━━━━━━━━━━━━━━━━━━━\u001b[0m\u001b[37m\u001b[0m \u001b[1m0s\u001b[0m 38ms/step - accuracy: 0.6792 - loss: 0.6789 - val_accuracy: 0.5750 - val_loss: 0.6912\n",
      "Epoch 7/50\n",
      "\u001b[1m1/1\u001b[0m \u001b[32m━━━━━━━━━━━━━━━━━━━━\u001b[0m\u001b[37m\u001b[0m \u001b[1m0s\u001b[0m 12ms/step - accuracy: 0.6918 - loss: 0.6731\n",
      "Epoch 7: val_loss improved from 0.69119 to 0.68988, saving model to tmp_checkpoint.weights.h5\n",
      "\u001b[1m1/1\u001b[0m \u001b[32m━━━━━━━━━━━━━━━━━━━━\u001b[0m\u001b[37m\u001b[0m \u001b[1m0s\u001b[0m 39ms/step - accuracy: 0.6918 - loss: 0.6731 - val_accuracy: 0.5750 - val_loss: 0.6899\n",
      "Epoch 8/50\n",
      "\u001b[1m1/1\u001b[0m \u001b[32m━━━━━━━━━━━━━━━━━━━━\u001b[0m\u001b[37m\u001b[0m \u001b[1m0s\u001b[0m 11ms/step - accuracy: 0.6981 - loss: 0.6657\n",
      "Epoch 8: val_loss improved from 0.68988 to 0.68852, saving model to tmp_checkpoint.weights.h5\n",
      "\u001b[1m1/1\u001b[0m \u001b[32m━━━━━━━━━━━━━━━━━━━━\u001b[0m\u001b[37m\u001b[0m \u001b[1m0s\u001b[0m 41ms/step - accuracy: 0.6981 - loss: 0.6657 - val_accuracy: 0.5500 - val_loss: 0.6885\n",
      "Epoch 9/50\n",
      "\u001b[1m1/1\u001b[0m \u001b[32m━━━━━━━━━━━━━━━━━━━━\u001b[0m\u001b[37m\u001b[0m \u001b[1m0s\u001b[0m 12ms/step - accuracy: 0.7044 - loss: 0.6566\n",
      "Epoch 9: val_loss improved from 0.68852 to 0.68745, saving model to tmp_checkpoint.weights.h5\n",
      "\u001b[1m1/1\u001b[0m \u001b[32m━━━━━━━━━━━━━━━━━━━━\u001b[0m\u001b[37m\u001b[0m \u001b[1m0s\u001b[0m 38ms/step - accuracy: 0.7044 - loss: 0.6566 - val_accuracy: 0.5500 - val_loss: 0.6874\n",
      "Epoch 10/50\n",
      "\u001b[1m1/1\u001b[0m \u001b[32m━━━━━━━━━━━━━━━━━━━━\u001b[0m\u001b[37m\u001b[0m \u001b[1m0s\u001b[0m 12ms/step - accuracy: 0.7044 - loss: 0.6458\n",
      "Epoch 10: val_loss improved from 0.68745 to 0.68701, saving model to tmp_checkpoint.weights.h5\n",
      "\u001b[1m1/1\u001b[0m \u001b[32m━━━━━━━━━━━━━━━━━━━━\u001b[0m\u001b[37m\u001b[0m \u001b[1m0s\u001b[0m 42ms/step - accuracy: 0.7044 - loss: 0.6458 - val_accuracy: 0.5500 - val_loss: 0.6870\n",
      "Epoch 11/50\n",
      "\u001b[1m1/1\u001b[0m \u001b[32m━━━━━━━━━━━━━━━━━━━━\u001b[0m\u001b[37m\u001b[0m \u001b[1m0s\u001b[0m 17ms/step - accuracy: 0.7296 - loss: 0.6328\n",
      "Epoch 11: val_loss did not improve from 0.68701\n",
      "\u001b[1m1/1\u001b[0m \u001b[32m━━━━━━━━━━━━━━━━━━━━\u001b[0m\u001b[37m\u001b[0m \u001b[1m0s\u001b[0m 36ms/step - accuracy: 0.7296 - loss: 0.6328 - val_accuracy: 0.5750 - val_loss: 0.6875\n",
      "Epoch 12/50\n",
      "\u001b[1m1/1\u001b[0m \u001b[32m━━━━━━━━━━━━━━━━━━━━\u001b[0m\u001b[37m\u001b[0m \u001b[1m0s\u001b[0m 15ms/step - accuracy: 0.7358 - loss: 0.6175\n",
      "Epoch 12: val_loss did not improve from 0.68701\n",
      "\u001b[1m1/1\u001b[0m \u001b[32m━━━━━━━━━━━━━━━━━━━━\u001b[0m\u001b[37m\u001b[0m \u001b[1m0s\u001b[0m 32ms/step - accuracy: 0.7358 - loss: 0.6175 - val_accuracy: 0.5750 - val_loss: 0.6892\n",
      "Epoch 13/50\n",
      "\u001b[1m1/1\u001b[0m \u001b[32m━━━━━━━━━━━━━━━━━━━━\u001b[0m\u001b[37m\u001b[0m \u001b[1m0s\u001b[0m 12ms/step - accuracy: 0.7610 - loss: 0.5998\n",
      "Epoch 13: val_loss did not improve from 0.68701\n",
      "\u001b[1m1/1\u001b[0m \u001b[32m━━━━━━━━━━━━━━━━━━━━\u001b[0m\u001b[37m\u001b[0m \u001b[1m0s\u001b[0m 29ms/step - accuracy: 0.7610 - loss: 0.5998 - val_accuracy: 0.5750 - val_loss: 0.6919\n",
      "Epoch 14/50\n",
      "\u001b[1m1/1\u001b[0m \u001b[32m━━━━━━━━━━━━━━━━━━━━\u001b[0m\u001b[37m\u001b[0m \u001b[1m0s\u001b[0m 11ms/step - accuracy: 0.7925 - loss: 0.5797\n",
      "Epoch 14: val_loss did not improve from 0.68701\n",
      "\u001b[1m1/1\u001b[0m \u001b[32m━━━━━━━━━━━━━━━━━━━━\u001b[0m\u001b[37m\u001b[0m \u001b[1m0s\u001b[0m 28ms/step - accuracy: 0.7925 - loss: 0.5797 - val_accuracy: 0.5750 - val_loss: 0.6946\n",
      "Epoch 15/50\n",
      "\u001b[1m1/1\u001b[0m \u001b[32m━━━━━━━━━━━━━━━━━━━━\u001b[0m\u001b[37m\u001b[0m \u001b[1m0s\u001b[0m 11ms/step - accuracy: 0.8176 - loss: 0.5571\n",
      "Epoch 15: val_loss did not improve from 0.68701\n",
      "\u001b[1m1/1\u001b[0m \u001b[32m━━━━━━━━━━━━━━━━━━━━\u001b[0m\u001b[37m\u001b[0m \u001b[1m0s\u001b[0m 28ms/step - accuracy: 0.8176 - loss: 0.5571 - val_accuracy: 0.5750 - val_loss: 0.6961\n",
      "Epoch 16/50\n",
      "\u001b[1m1/1\u001b[0m \u001b[32m━━━━━━━━━━━━━━━━━━━━\u001b[0m\u001b[37m\u001b[0m \u001b[1m0s\u001b[0m 11ms/step - accuracy: 0.8302 - loss: 0.5317\n",
      "Epoch 16: val_loss did not improve from 0.68701\n",
      "\u001b[1m1/1\u001b[0m \u001b[32m━━━━━━━━━━━━━━━━━━━━\u001b[0m\u001b[37m\u001b[0m \u001b[1m0s\u001b[0m 28ms/step - accuracy: 0.8302 - loss: 0.5317 - val_accuracy: 0.5750 - val_loss: 0.6965\n",
      "Epoch 17/50\n",
      "\u001b[1m1/1\u001b[0m \u001b[32m━━━━━━━━━━━━━━━━━━━━\u001b[0m\u001b[37m\u001b[0m \u001b[1m0s\u001b[0m 11ms/step - accuracy: 0.8365 - loss: 0.5037\n",
      "Epoch 17: val_loss did not improve from 0.68701\n",
      "\u001b[1m1/1\u001b[0m \u001b[32m━━━━━━━━━━━━━━━━━━━━\u001b[0m\u001b[37m\u001b[0m \u001b[1m0s\u001b[0m 28ms/step - accuracy: 0.8365 - loss: 0.5037 - val_accuracy: 0.5750 - val_loss: 0.6981\n",
      "Epoch 18/50\n",
      "\u001b[1m1/1\u001b[0m \u001b[32m━━━━━━━━━━━━━━━━━━━━\u001b[0m\u001b[37m\u001b[0m \u001b[1m0s\u001b[0m 12ms/step - accuracy: 0.8491 - loss: 0.4727\n",
      "Epoch 18: val_loss did not improve from 0.68701\n",
      "\u001b[1m1/1\u001b[0m \u001b[32m━━━━━━━━━━━━━━━━━━━━\u001b[0m\u001b[37m\u001b[0m \u001b[1m0s\u001b[0m 30ms/step - accuracy: 0.8491 - loss: 0.4727 - val_accuracy: 0.5750 - val_loss: 0.7024\n",
      "Epoch 19/50\n",
      "\u001b[1m1/1\u001b[0m \u001b[32m━━━━━━━━━━━━━━━━━━━━\u001b[0m\u001b[37m\u001b[0m \u001b[1m0s\u001b[0m 12ms/step - accuracy: 0.8616 - loss: 0.4384\n",
      "Epoch 19: val_loss did not improve from 0.68701\n",
      "\u001b[1m1/1\u001b[0m \u001b[32m━━━━━━━━━━━━━━━━━━━━\u001b[0m\u001b[37m\u001b[0m \u001b[1m0s\u001b[0m 30ms/step - accuracy: 0.8616 - loss: 0.4384 - val_accuracy: 0.6250 - val_loss: 0.7086\n",
      "Epoch 20/50\n",
      "\u001b[1m1/1\u001b[0m \u001b[32m━━━━━━━━━━━━━━━━━━━━\u001b[0m\u001b[37m\u001b[0m \u001b[1m0s\u001b[0m 12ms/step - accuracy: 0.8931 - loss: 0.4013\n",
      "Epoch 20: val_loss did not improve from 0.68701\n",
      "\u001b[1m1/1\u001b[0m \u001b[32m━━━━━━━━━━━━━━━━━━━━\u001b[0m\u001b[37m\u001b[0m \u001b[1m0s\u001b[0m 29ms/step - accuracy: 0.8931 - loss: 0.4013 - val_accuracy: 0.6250 - val_loss: 0.7117\n",
      "Epoch 20: early stopping\n",
      "CPU times: user 1.37 s, sys: 179 ms, total: 1.55 s\n",
      "Wall time: 1.42 s\n"
     ]
    }
   ],
   "source": [
    "%%time\n",
    "history = model.fit(x_train_pad, y_train, epochs = 50, batch_size = 512,\n",
    "                   validation_split = 0.2, verbose = 1, callbacks = [es, cp])"
   ]
  },
  {
   "cell_type": "code",
   "execution_count": 119,
   "id": "74a564d2-3ea0-4a32-8d0c-d03a7201a557",
   "metadata": {},
   "outputs": [
    {
     "data": {
      "image/png": "[encoded data removed]",
      "text/plain": [
       "<Figure size 640x480 with 1 Axes>"
      ]
     },
     "metadata": {},
     "output_type": "display_data"
    }
   ],
   "source": [
    "epochs = range(1, len(history.history['accuracy']) + 1)\n",
    "plt.plot(epochs, history.history['accuracy'])\n",
    "plt.plot(epochs, history.history['val_accuracy'])\n",
    "plt.title('model accuracy')\n",
    "plt.ylabel('loss')\n",
    "plt.xlabel('epoch')\n",
    "plt.legend(['train', 'valid'])\n",
    "plt.show()"
   ]
  },
  {
   "cell_type": "code",
   "execution_count": 121,
   "id": "3f258ad8-d2c5-4dd3-8c4b-b228c84a7fc5",
   "metadata": {},
   "outputs": [
    {
     "name": "stdout",
     "output_type": "stream",
     "text": [
      "\u001b[1m2/2\u001b[0m \u001b[32m━━━━━━━━━━━━━━━━━━━━\u001b[0m\u001b[37m\u001b[0m \u001b[1m0s\u001b[0m 8ms/step - accuracy: 0.6112 - loss: 0.6461\n"
     ]
    },
    {
     "data": {
      "text/plain": [
       "[0.6379194855690002, 0.6200000047683716]"
      ]
     },
     "execution_count": 121,
     "metadata": {},
     "output_type": "execute_result"
    }
   ],
   "source": [
    "model.evaluate(x_test_pad, y_test)"
   ]
  },
  {
   "cell_type": "markdown",
   "id": "25f4de13-7ea6-442d-82a8-9842f1f15195",
   "metadata": {},
   "source": [
    "### 예측해보기"
   ]
  },
  {
   "cell_type": "code",
   "execution_count": 126,
   "id": "36a2dbae-554a-4ee5-a8f8-f66acf1aeb27",
   "metadata": {},
   "outputs": [
    {
     "name": "stdout",
     "output_type": "stream",
     "text": [
      "문자열: 관련 내용은 우리 직원과는 거리가 멀었음 특히 사내에 홍보할 내용은 아니라고 봄\n",
      "Sequence: [  0   0   0   0   0   0   0   0   0   0   0   0   0   0   0   0   0   0\n",
      "   0   0   0   0   0   0   0   0   0   0   0   0   0   0 481 137   1 137]\n"
     ]
    }
   ],
   "source": [
    "print(f'문자열: {x_test[0]}')\n",
    "print(f'Sequence: {x_test_pad[0]}')"
   ]
  },
  {
   "cell_type": "code",
   "execution_count": 128,
   "id": "29e3eb5b-a111-46fe-a8ff-9a072e418a31",
   "metadata": {},
   "outputs": [
    {
     "name": "stdout",
     "output_type": "stream",
     "text": [
      "\u001b[1m1/1\u001b[0m \u001b[32m━━━━━━━━━━━━━━━━━━━━\u001b[0m\u001b[37m\u001b[0m \u001b[1m0s\u001b[0m 67ms/step\n"
     ]
    }
   ],
   "source": [
    "predict = model.predict(x_test_pad[:1])"
   ]
  },
  {
   "cell_type": "code",
   "execution_count": 130,
   "id": "11a70d55-c2f9-4f1e-84e8-c9a82541fce2",
   "metadata": {},
   "outputs": [
    {
     "name": "stdout",
     "output_type": "stream",
     "text": [
      "True: 부정\n",
      "Predict: 부정\n"
     ]
    }
   ],
   "source": [
    "print(f'True: {class2label[y_test[0]]}')\n",
    "print(f'Predict: {class2label[np.argmax(predict)]}')"
   ]
  },
  {
   "cell_type": "code",
   "execution_count": null,
   "id": "d73fdcbb-c45a-440e-8eaa-10699d327210",
   "metadata": {},
   "outputs": [],
   "source": []
  }
 ],
 "metadata": {
  "kernelspec": {
   "display_name": "Python [conda env:base]",
   "language": "python",
   "name": "conda-base-py"
  },
  "language_info": {
   "codemirror_mode": {
    "name": "ipython",
    "version": 3
   },
   "file_extension": ".py",
   "mimetype": "text/x-python",
   "name": "python",
   "nbconvert_exporter": "python",
   "pygments_lexer": "ipython3",
   "version": "3.12.7"
  }
 },
 "nbformat": 4,
 "nbformat_minor": 5
}
